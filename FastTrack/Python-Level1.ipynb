{
 "cells": [
  {
   "cell_type": "markdown",
   "id": "f0b74cbf",
   "metadata": {},
   "source": [
    "### Print() Method"
   ]
  },
  {
   "cell_type": "code",
   "execution_count": 2,
   "id": "620e7549",
   "metadata": {},
   "outputs": [
    {
     "name": "stdout",
     "output_type": "stream",
     "text": [
      "Hello World\n",
      "Python Session\n",
      "July Class\n"
     ]
    }
   ],
   "source": [
    "#syntax = shift +tab\n",
    "print(\"Hello World\")\n",
    "print('Python Session')\n",
    "print(\"\"\"July Class\"\"\")"
   ]
  },
  {
   "cell_type": "code",
   "execution_count": 5,
   "id": "8957d9ab",
   "metadata": {},
   "outputs": [
    {
     "name": "stdout",
     "output_type": "stream",
     "text": [
      "10\n",
      "Helo\n",
      "10.9\n",
      "True False\n",
      "(10+2j)\n",
      "[1, 20, 30]\n",
      "('a', 'b', 'c', 'd')\n",
      "{'d', 'a', 'b', 'c'}\n",
      "{'name': 'AKR', 'Session': 'Python'}\n"
     ]
    }
   ],
   "source": [
    "print(10)\n",
    "print(\"Helo\")\n",
    "print(10.90)\n",
    "print(True,False)\n",
    "print(10+2j)\n",
    "print([1,20,30])\n",
    "print((\"a\",\"b\",\"c\",\"d\"))\n",
    "print({\"a\",\"b\",\"c\",\"d\",\"a\",\"b\"})\n",
    "print({\"name\":\"AKR\",\"Session\":\"Python\"})"
   ]
  },
  {
   "cell_type": "code",
   "execution_count": 6,
   "id": "c018c075",
   "metadata": {},
   "outputs": [
    {
     "name": "stdout",
     "output_type": "stream",
     "text": [
      "10 True Hello\n"
     ]
    }
   ],
   "source": [
    "a = 10\n",
    "b = True\n",
    "c = \"Hello\"\n",
    "print(a,b,c)"
   ]
  },
  {
   "cell_type": "code",
   "execution_count": 7,
   "id": "cee63cc3",
   "metadata": {},
   "outputs": [
    {
     "name": "stdout",
     "output_type": "stream",
     "text": [
      "10->True->Hello\n"
     ]
    }
   ],
   "source": [
    "print(a,b,c, sep=\"->\")"
   ]
  },
  {
   "cell_type": "code",
   "execution_count": 8,
   "id": "4efd5cca",
   "metadata": {},
   "outputs": [
    {
     "name": "stdout",
     "output_type": "stream",
     "text": [
      "10TrueHello\n"
     ]
    }
   ],
   "source": [
    "print(a,b,c, sep=\"\")"
   ]
  },
  {
   "cell_type": "code",
   "execution_count": 9,
   "id": "04c15b1e",
   "metadata": {},
   "outputs": [
    {
     "name": "stdout",
     "output_type": "stream",
     "text": [
      "10\n",
      "True\n",
      "Hello\n"
     ]
    }
   ],
   "source": [
    "print(a,b,c, sep=\"\\n\")"
   ]
  },
  {
   "cell_type": "markdown",
   "id": "de3515ab",
   "metadata": {},
   "source": [
    "###  comments\n"
   ]
  },
  {
   "cell_type": "code",
   "execution_count": 10,
   "id": "9176f33c",
   "metadata": {},
   "outputs": [],
   "source": [
    "# - # single \n",
    "# - ''' ''' - mutliple line comment"
   ]
  },
  {
   "cell_type": "code",
   "execution_count": 12,
   "id": "d6decbfb",
   "metadata": {},
   "outputs": [
    {
     "data": {
      "text/plain": [
       "'\\nskhkls\\nsjbknks\\nsnjknls\\nsjksnlks2987921\\n2802u10sn\\n'"
      ]
     },
     "execution_count": 12,
     "metadata": {},
     "output_type": "execute_result"
    }
   ],
   "source": [
    "# print(\"Helloo\")\n",
    "# print(\"PythonSEssion\")\n",
    "\n",
    "#cnt+/ = to \n",
    "# snllsmlsm sjlsn sklslns \n",
    "\n",
    "'''\n",
    "skhkls\n",
    "sjbknks\n",
    "snjknls\n",
    "sjksnlks2987921\n",
    "2802u10sn\n",
    "'''"
   ]
  },
  {
   "cell_type": "markdown",
   "id": "33952ac8",
   "metadata": {},
   "source": [
    "#### Variables "
   ]
  },
  {
   "cell_type": "code",
   "execution_count": 14,
   "id": "460107d3",
   "metadata": {},
   "outputs": [
    {
     "name": "stdout",
     "output_type": "stream",
     "text": [
      "Python session\n",
      "<class 'str'>\n"
     ]
    }
   ],
   "source": [
    "# <variable_name > = <value>\n",
    "\n",
    "name = \"Python session\"\n",
    "\n",
    "print(name)\n",
    "print(type(name))"
   ]
  },
  {
   "cell_type": "code",
   "execution_count": 15,
   "id": "2a938cd8",
   "metadata": {},
   "outputs": [
    {
     "name": "stdout",
     "output_type": "stream",
     "text": [
      "10 <class 'int'>\n"
     ]
    }
   ],
   "source": [
    "name = 10\n",
    "print(name, type(name))"
   ]
  },
  {
   "cell_type": "code",
   "execution_count": 16,
   "id": "d41531ca",
   "metadata": {},
   "outputs": [
    {
     "name": "stdout",
     "output_type": "stream",
     "text": [
      "10.1 <class 'float'>\n"
     ]
    }
   ],
   "source": [
    "name = 10.1\n",
    "print(name, type(name))"
   ]
  },
  {
   "cell_type": "code",
   "execution_count": 17,
   "id": "5ee7bb47",
   "metadata": {},
   "outputs": [
    {
     "name": "stdout",
     "output_type": "stream",
     "text": [
      "True <class 'bool'>\n"
     ]
    }
   ],
   "source": [
    "name = True\n",
    "print(name, type(name))"
   ]
  },
  {
   "cell_type": "code",
   "execution_count": 18,
   "id": "dc2d76cf",
   "metadata": {},
   "outputs": [
    {
     "name": "stdout",
     "output_type": "stream",
     "text": [
      "(1+2j) <class 'complex'>\n"
     ]
    }
   ],
   "source": [
    "name = 1+2j\n",
    "print(name, type(name))"
   ]
  },
  {
   "cell_type": "code",
   "execution_count": 19,
   "id": "c9bbf74a",
   "metadata": {},
   "outputs": [
    {
     "name": "stdout",
     "output_type": "stream",
     "text": [
      "[10] <class 'list'>\n"
     ]
    }
   ],
   "source": [
    "name = [10]\n",
    "print(name, type(name))"
   ]
  },
  {
   "cell_type": "code",
   "execution_count": 24,
   "id": "fddd6e41",
   "metadata": {},
   "outputs": [
    {
     "name": "stdout",
     "output_type": "stream",
     "text": [
      "(10,) <class 'tuple'>\n"
     ]
    }
   ],
   "source": [
    "name = (10,)\n",
    "print(name, type(name))"
   ]
  },
  {
   "cell_type": "code",
   "execution_count": 22,
   "id": "34ceac53",
   "metadata": {},
   "outputs": [
    {
     "name": "stdout",
     "output_type": "stream",
     "text": [
      "{10} <class 'set'>\n"
     ]
    }
   ],
   "source": [
    "name = {10}\n",
    "print(name, type(name))"
   ]
  },
  {
   "cell_type": "code",
   "execution_count": 25,
   "id": "bb171ffe",
   "metadata": {},
   "outputs": [
    {
     "name": "stdout",
     "output_type": "stream",
     "text": [
      "{10: 10} <class 'dict'>\n"
     ]
    }
   ],
   "source": [
    "name = {10:10}\n",
    "print(name, type(name))"
   ]
  },
  {
   "cell_type": "code",
   "execution_count": 27,
   "id": "725396a0",
   "metadata": {},
   "outputs": [
    {
     "name": "stdout",
     "output_type": "stream",
     "text": [
      "['False', 'None', 'True', 'and', 'as', 'assert', 'async', 'await', 'break', 'class', 'continue', 'def', 'del', 'elif', 'else', 'except', 'finally', 'for', 'from', 'global', 'if', 'import', 'in', 'is', 'lambda', 'nonlocal', 'not', 'or', 'pass', 'raise', 'return', 'try', 'while', 'with', 'yield']\n",
      "35\n"
     ]
    }
   ],
   "source": [
    "import keyword\n",
    "\n",
    "print(keyword.kwlist)\n",
    "print(len(keyword.kwlist))"
   ]
  },
  {
   "cell_type": "code",
   "execution_count": 28,
   "id": "c783b386",
   "metadata": {},
   "outputs": [
    {
     "ename": "SyntaxError",
     "evalue": "invalid syntax (<ipython-input-28-0b707fe051e9>, line 1)",
     "output_type": "error",
     "traceback": [
      "\u001b[1;36m  File \u001b[1;32m\"<ipython-input-28-0b707fe051e9>\"\u001b[1;36m, line \u001b[1;32m1\u001b[0m\n\u001b[1;33m    while =10\u001b[0m\n\u001b[1;37m          ^\u001b[0m\n\u001b[1;31mSyntaxError\u001b[0m\u001b[1;31m:\u001b[0m invalid syntax\n"
     ]
    }
   ],
   "source": [
    "while =10"
   ]
  },
  {
   "cell_type": "code",
   "execution_count": 29,
   "id": "4a1550fc",
   "metadata": {},
   "outputs": [
    {
     "name": "stdout",
     "output_type": "stream",
     "text": [
      "10\n"
     ]
    }
   ],
   "source": [
    "while_ =10\n",
    "print(while_)"
   ]
  },
  {
   "cell_type": "code",
   "execution_count": 31,
   "id": "86d897c3",
   "metadata": {},
   "outputs": [
    {
     "name": "stdout",
     "output_type": "stream",
     "text": [
      "1012 <class 'int'>\n"
     ]
    }
   ],
   "source": [
    "_ = 1012\n",
    "print(_,type(_))"
   ]
  },
  {
   "cell_type": "code",
   "execution_count": 32,
   "id": "5a53e3ed",
   "metadata": {},
   "outputs": [
    {
     "ename": "SyntaxError",
     "evalue": "invalid decimal literal (<ipython-input-32-5a7761a113e7>, line 1)",
     "output_type": "error",
     "traceback": [
      "\u001b[1;36m  File \u001b[1;32m\"<ipython-input-32-5a7761a113e7>\"\u001b[1;36m, line \u001b[1;32m1\u001b[0m\n\u001b[1;33m    98_age = 10\u001b[0m\n\u001b[1;37m      ^\u001b[0m\n\u001b[1;31mSyntaxError\u001b[0m\u001b[1;31m:\u001b[0m invalid decimal literal\n"
     ]
    }
   ],
   "source": [
    "98_age = 10\n"
   ]
  },
  {
   "cell_type": "code",
   "execution_count": 34,
   "id": "c1b6bcee",
   "metadata": {},
   "outputs": [
    {
     "name": "stdout",
     "output_type": "stream",
     "text": [
      "20\n"
     ]
    }
   ],
   "source": [
    "age_98 = 20\n",
    "print(age_98)"
   ]
  },
  {
   "cell_type": "code",
   "execution_count": 35,
   "id": "06f9f551",
   "metadata": {},
   "outputs": [
    {
     "name": "stdout",
     "output_type": "stream",
     "text": [
      "140707264342416 140707264342480\n"
     ]
    }
   ],
   "source": [
    "age = 20\n",
    "AGE = 22\n",
    "print(id(age), id(AGE))"
   ]
  },
  {
   "cell_type": "code",
   "execution_count": 39,
   "id": "7854b79f",
   "metadata": {},
   "outputs": [
    {
     "name": "stdout",
     "output_type": "stream",
     "text": [
      "10 10 10\n"
     ]
    }
   ],
   "source": [
    "a=10\n",
    "b=20\n",
    "c=30\n",
    "\n",
    "c=d=e=10 #assign single mutliple variable\n",
    "print(c,d,e)"
   ]
  },
  {
   "cell_type": "code",
   "execution_count": 41,
   "id": "c71ae923",
   "metadata": {},
   "outputs": [
    {
     "name": "stdout",
     "output_type": "stream",
     "text": [
      "10 12 11\n"
     ]
    }
   ],
   "source": [
    "a,b, c = 10,11,12 ##assign mutliple to  mutliple variable\n",
    "print(a,c,b)\n"
   ]
  },
  {
   "cell_type": "code",
   "execution_count": 42,
   "id": "d4745277",
   "metadata": {},
   "outputs": [
    {
     "name": "stdout",
     "output_type": "stream",
     "text": [
      "Tom Hanks <class 'str'> 2272173768112\n"
     ]
    }
   ],
   "source": [
    "movie_actor = \"Tom Hanks\"\n",
    "print(movie_actor , type(movie_actor) , id(movie_actor))"
   ]
  },
  {
   "cell_type": "code",
   "execution_count": null,
   "id": "7d173704",
   "metadata": {},
   "outputs": [],
   "source": []
  },
  {
   "cell_type": "code",
   "execution_count": 44,
   "id": "27d7abe7",
   "metadata": {},
   "outputs": [
    {
     "name": "stdout",
     "output_type": "stream",
     "text": [
      "Hi Welcome July Python\n"
     ]
    }
   ],
   "source": [
    "def printName():\n",
    "    print(\"Hi Welcome July Python\")\n",
    "\n",
    "printName()"
   ]
  },
  {
   "cell_type": "code",
   "execution_count": 48,
   "id": "c8c5f101",
   "metadata": {},
   "outputs": [
    {
     "name": "stdout",
     "output_type": "stream",
     "text": [
      "Hi Welcome July Python\n",
      "CHARLIE\n"
     ]
    }
   ],
   "source": [
    "def printName():\n",
    "    print(\"Hi Welcome July Python\")\n",
    "    return \"CHARLIE\"\n",
    "\n",
    "print(printName())"
   ]
  },
  {
   "cell_type": "code",
   "execution_count": 52,
   "id": "e64e31af",
   "metadata": {},
   "outputs": [
    {
     "name": "stdout",
     "output_type": "stream",
     "text": [
      "Hi Welcome July Python\n",
      "CHARLIE\n"
     ]
    }
   ],
   "source": [
    "def printName():\n",
    "    print(\"Hi Welcome July Python\")\n",
    "    return \"CHARLIE\"\n",
    "\n",
    "a = printName()\n",
    "print(a)"
   ]
  },
  {
   "cell_type": "code",
   "execution_count": 43,
   "id": "a93284c7",
   "metadata": {},
   "outputs": [
    {
     "name": "stdout",
     "output_type": "stream",
     "text": [
      "Hello\n",
      "None\n"
     ]
    }
   ],
   "source": [
    "print(print(\"Hello\"))"
   ]
  },
  {
   "cell_type": "code",
   "execution_count": 53,
   "id": "177aafc1",
   "metadata": {},
   "outputs": [
    {
     "name": "stdout",
     "output_type": "stream",
     "text": [
      "\n",
      "\n",
      "10\n"
     ]
    }
   ],
   "source": [
    "a=10\n",
    "print() #empty = line\n",
    "print()\n",
    "print(a)"
   ]
  },
  {
   "cell_type": "code",
   "execution_count": 54,
   "id": "5c49e17d",
   "metadata": {},
   "outputs": [
    {
     "name": "stdout",
     "output_type": "stream",
     "text": [
      "\n",
      "None\n",
      "None\n"
     ]
    }
   ],
   "source": [
    "print(print(print()))"
   ]
  },
  {
   "cell_type": "markdown",
   "id": "4d2ff0cc",
   "metadata": {},
   "source": [
    "### Data types"
   ]
  },
  {
   "cell_type": "code",
   "execution_count": 57,
   "id": "bf73514d",
   "metadata": {},
   "outputs": [
    {
     "name": "stdout",
     "output_type": "stream",
     "text": [
      "10 <class 'int'>\n"
     ]
    }
   ],
   "source": [
    "int_var = 10\n",
    "print(int_var,type(int_var))"
   ]
  },
  {
   "cell_type": "code",
   "execution_count": 58,
   "id": "022769b1",
   "metadata": {},
   "outputs": [
    {
     "name": "stdout",
     "output_type": "stream",
     "text": [
      "0b1010\n"
     ]
    }
   ],
   "source": [
    "print(bin(10))"
   ]
  },
  {
   "cell_type": "code",
   "execution_count": 59,
   "id": "b620cceb",
   "metadata": {},
   "outputs": [
    {
     "name": "stdout",
     "output_type": "stream",
     "text": [
      "0o12\n"
     ]
    }
   ],
   "source": [
    "print(oct(10))"
   ]
  },
  {
   "cell_type": "code",
   "execution_count": 60,
   "id": "4ba41538",
   "metadata": {},
   "outputs": [
    {
     "name": "stdout",
     "output_type": "stream",
     "text": [
      "0xf\n"
     ]
    }
   ],
   "source": [
    "print(hex(15))"
   ]
  },
  {
   "cell_type": "code",
   "execution_count": 61,
   "id": "90800f60",
   "metadata": {},
   "outputs": [
    {
     "name": "stdout",
     "output_type": "stream",
     "text": [
      "22\n"
     ]
    }
   ],
   "source": [
    "print(0xF+0B0111)"
   ]
  },
  {
   "cell_type": "code",
   "execution_count": 63,
   "id": "8afcd1e9",
   "metadata": {},
   "outputs": [
    {
     "name": "stdout",
     "output_type": "stream",
     "text": [
      "1.0\n",
      "<class 'float'>\n"
     ]
    }
   ],
   "source": [
    "float_var =1.0\n",
    "\n",
    "print(float_var)\n",
    "print(type(float_var))"
   ]
  },
  {
   "cell_type": "code",
   "execution_count": 65,
   "id": "007a95fe",
   "metadata": {},
   "outputs": [
    {
     "name": "stdout",
     "output_type": "stream",
     "text": [
      "3.4e-05\n"
     ]
    }
   ],
   "source": [
    "float_var = 3.4e-5\n",
    "print(float_var)"
   ]
  },
  {
   "cell_type": "code",
   "execution_count": 67,
   "id": "abdf4455",
   "metadata": {},
   "outputs": [
    {
     "ename": "ZeroDivisionError",
     "evalue": "float division by zero",
     "output_type": "error",
     "traceback": [
      "\u001b[1;31m---------------------------------------------------------------------------\u001b[0m",
      "\u001b[1;31mZeroDivisionError\u001b[0m                         Traceback (most recent call last)",
      "\u001b[1;32m<ipython-input-67-f2a3eee605dc>\u001b[0m in \u001b[0;36m<module>\u001b[1;34m\u001b[0m\n\u001b[1;32m----> 1\u001b[1;33m \u001b[0mprint\u001b[0m\u001b[1;33m(\u001b[0m\u001b[1;36m10\u001b[0m\u001b[1;33m/\u001b[0m\u001b[1;36m0.0\u001b[0m\u001b[1;33m)\u001b[0m\u001b[1;33m\u001b[0m\u001b[1;33m\u001b[0m\u001b[0m\n\u001b[0m",
      "\u001b[1;31mZeroDivisionError\u001b[0m: float division by zero"
     ]
    }
   ],
   "source": [
    "print(10/0.0)"
   ]
  },
  {
   "cell_type": "code",
   "execution_count": 75,
   "id": "a0a768f4",
   "metadata": {},
   "outputs": [],
   "source": [
    "# x+iy\n",
    "#  x is integer y is imag \n",
    "\n",
    "com_var = 2+3j"
   ]
  },
  {
   "cell_type": "code",
   "execution_count": 76,
   "id": "e80eb21a",
   "metadata": {},
   "outputs": [
    {
     "name": "stdout",
     "output_type": "stream",
     "text": [
      "(2+3j) <class 'complex'>\n"
     ]
    }
   ],
   "source": [
    "print(com_var,type(com_var))"
   ]
  },
  {
   "cell_type": "code",
   "execution_count": 77,
   "id": "f9a4e2dd",
   "metadata": {},
   "outputs": [
    {
     "name": "stdout",
     "output_type": "stream",
     "text": [
      "['__abs__', '__add__', '__bool__', '__class__', '__delattr__', '__dir__', '__divmod__', '__doc__', '__eq__', '__float__', '__floordiv__', '__format__', '__ge__', '__getattribute__', '__getnewargs__', '__gt__', '__hash__', '__init__', '__init_subclass__', '__int__', '__le__', '__lt__', '__mod__', '__mul__', '__ne__', '__neg__', '__new__', '__pos__', '__pow__', '__radd__', '__rdivmod__', '__reduce__', '__reduce_ex__', '__repr__', '__rfloordiv__', '__rmod__', '__rmul__', '__rpow__', '__rsub__', '__rtruediv__', '__setattr__', '__sizeof__', '__str__', '__sub__', '__subclasshook__', '__truediv__', 'conjugate', 'imag', 'real']\n"
     ]
    }
   ],
   "source": [
    "print(dir(com_var))"
   ]
  },
  {
   "cell_type": "code",
   "execution_count": 78,
   "id": "1c248672",
   "metadata": {},
   "outputs": [
    {
     "data": {
      "text/plain": [
       "2.0"
      ]
     },
     "execution_count": 78,
     "metadata": {},
     "output_type": "execute_result"
    }
   ],
   "source": [
    "com_var.real"
   ]
  },
  {
   "cell_type": "code",
   "execution_count": 80,
   "id": "30964807",
   "metadata": {},
   "outputs": [
    {
     "data": {
      "text/plain": [
       "3.0"
      ]
     },
     "execution_count": 80,
     "metadata": {},
     "output_type": "execute_result"
    }
   ],
   "source": [
    "com_var.imag"
   ]
  },
  {
   "cell_type": "code",
   "execution_count": 83,
   "id": "122ecd8b",
   "metadata": {},
   "outputs": [
    {
     "data": {
      "text/plain": [
       "(2+3j)"
      ]
     },
     "execution_count": 83,
     "metadata": {},
     "output_type": "execute_result"
    }
   ],
   "source": [
    "com_var.conjugate().conjugate()"
   ]
  },
  {
   "cell_type": "code",
   "execution_count": 87,
   "id": "a8d9613b",
   "metadata": {},
   "outputs": [
    {
     "name": "stdout",
     "output_type": "stream",
     "text": [
      "10\n",
      "<class 'str'>\n"
     ]
    }
   ],
   "source": [
    "str_a = \"10\"\n",
    "\n",
    "print(int(str_a))\n",
    "\n",
    "a = 10\n",
    "print(type(str(a)))"
   ]
  },
  {
   "cell_type": "markdown",
   "id": "e635f435",
   "metadata": {},
   "source": [
    "### conversions\n"
   ]
  },
  {
   "cell_type": "code",
   "execution_count": null,
   "id": "b8ed1d83",
   "metadata": {},
   "outputs": [],
   "source": [
    "#int - str"
   ]
  },
  {
   "cell_type": "code",
   "execution_count": 1,
   "id": "06cd68b6",
   "metadata": {},
   "outputs": [
    {
     "name": "stdout",
     "output_type": "stream",
     "text": [
      "100101 <class 'str'>\n"
     ]
    }
   ],
   "source": [
    "a = 100101 \n",
    "s = str(a)\n",
    "print(s,type(s))"
   ]
  },
  {
   "cell_type": "code",
   "execution_count": 2,
   "id": "3513bbef",
   "metadata": {},
   "outputs": [
    {
     "data": {
      "text/plain": [
       "3"
      ]
     },
     "execution_count": 2,
     "metadata": {},
     "output_type": "execute_result"
    }
   ],
   "source": [
    "s.count(\"0\")"
   ]
  },
  {
   "cell_type": "code",
   "execution_count": null,
   "id": "030ad93e",
   "metadata": {},
   "outputs": [],
   "source": [
    "#float - str"
   ]
  },
  {
   "cell_type": "code",
   "execution_count": 3,
   "id": "526571af",
   "metadata": {},
   "outputs": [
    {
     "name": "stdout",
     "output_type": "stream",
     "text": [
      "10.189289829 <class 'str'>\n"
     ]
    }
   ],
   "source": [
    "f = 10.189289829\n",
    "\n",
    "s = str(f)\n",
    "\n",
    "print(s,type(s))"
   ]
  },
  {
   "cell_type": "code",
   "execution_count": null,
   "id": "516b32ef",
   "metadata": {},
   "outputs": [],
   "source": []
  },
  {
   "cell_type": "code",
   "execution_count": null,
   "id": "69c241d0",
   "metadata": {},
   "outputs": [],
   "source": [
    "#complex - str "
   ]
  },
  {
   "cell_type": "code",
   "execution_count": 4,
   "id": "c7885e38",
   "metadata": {},
   "outputs": [
    {
     "name": "stdout",
     "output_type": "stream",
     "text": [
      "(1+2j) <class 'str'>\n"
     ]
    }
   ],
   "source": [
    "c = 1+2j\n",
    "\n",
    "s = str(c)\n",
    "print(s,type(s))"
   ]
  },
  {
   "cell_type": "code",
   "execution_count": null,
   "id": "6953b26c",
   "metadata": {},
   "outputs": [],
   "source": [
    "#boolean - str"
   ]
  },
  {
   "cell_type": "code",
   "execution_count": 6,
   "id": "90aa6b66",
   "metadata": {},
   "outputs": [
    {
     "name": "stdout",
     "output_type": "stream",
     "text": [
      "True <class 'str'>\n",
      "u\n"
     ]
    }
   ],
   "source": [
    "b = True\n",
    "\n",
    "s = str(b)\n",
    "print(s,type(s))\n",
    "\n",
    "print(s[2])"
   ]
  },
  {
   "cell_type": "code",
   "execution_count": 7,
   "id": "ef54062b",
   "metadata": {},
   "outputs": [
    {
     "name": "stdout",
     "output_type": "stream",
     "text": [
      "10\n"
     ]
    }
   ],
   "source": [
    "#int - float \n",
    "\n",
    "i = 10\n",
    "\n",
    "f = float(i)\n",
    "print(i)"
   ]
  },
  {
   "cell_type": "code",
   "execution_count": 8,
   "id": "971d9b00",
   "metadata": {},
   "outputs": [
    {
     "name": "stdout",
     "output_type": "stream",
     "text": [
      "10\n"
     ]
    }
   ],
   "source": [
    "f = 10.2\n",
    "\n",
    "i = int(f)\n",
    "\n",
    "print(i)"
   ]
  },
  {
   "cell_type": "code",
   "execution_count": 9,
   "id": "19dd5f27",
   "metadata": {},
   "outputs": [
    {
     "name": "stdout",
     "output_type": "stream",
     "text": [
      "110182892 <class 'int'>\n"
     ]
    }
   ],
   "source": [
    "#str - int\n",
    "\n",
    "s = \"110182892\"\n",
    "\n",
    "i = int(s)\n",
    "\n",
    "print(i , type(i))"
   ]
  },
  {
   "cell_type": "code",
   "execution_count": 11,
   "id": "8edb0fa4",
   "metadata": {},
   "outputs": [
    {
     "name": "stdout",
     "output_type": "stream",
     "text": [
      "10.2920802\n"
     ]
    }
   ],
   "source": [
    "#str - float\n",
    "\n",
    "s = \"10.2920802\"\n",
    "\n",
    "f = float(s)\n",
    "\n",
    "print(f)"
   ]
  },
  {
   "cell_type": "code",
   "execution_count": 12,
   "id": "73672a54",
   "metadata": {},
   "outputs": [
    {
     "name": "stdout",
     "output_type": "stream",
     "text": [
      "(10, 20, 30, 40)\n"
     ]
    }
   ],
   "source": [
    "lst = [10,20,30,40,50,40,10]\n",
    "\n",
    "tup = tuple(lst)\n",
    "\n",
    "print(tup)"
   ]
  },
  {
   "cell_type": "code",
   "execution_count": 13,
   "id": "28fbfb2c",
   "metadata": {},
   "outputs": [
    {
     "name": "stdout",
     "output_type": "stream",
     "text": [
      "{40, 10, 20, 30}\n"
     ]
    }
   ],
   "source": [
    "st = set(lst)\n",
    "print(st)"
   ]
  },
  {
   "cell_type": "code",
   "execution_count": 16,
   "id": "78365e6d",
   "metadata": {},
   "outputs": [
    {
     "name": "stdout",
     "output_type": "stream",
     "text": [
      "['__add__', '__class__', '__class_getitem__', '__contains__', '__delattr__', '__dir__', '__doc__', '__eq__', '__format__', '__ge__', '__getattribute__', '__getitem__', '__getnewargs__', '__gt__', '__hash__', '__init__', '__init_subclass__', '__iter__', '__le__', '__len__', '__lt__', '__mul__', '__ne__', '__new__', '__reduce__', '__reduce_ex__', '__repr__', '__rmul__', '__setattr__', '__sizeof__', '__str__', '__subclasshook__', 'count', 'index']\n"
     ]
    }
   ],
   "source": [
    "#built -in\n",
    "\n",
    "# type()\n",
    "# id()\n",
    "# dir()\n",
    "# len()\n",
    "# chr()\n",
    "# ord()\n",
    "# max()\n",
    "# min()\n",
    "# abs()\n",
    "# sum()\n",
    "\n",
    "print(dir(tup))"
   ]
  },
  {
   "cell_type": "code",
   "execution_count": 17,
   "id": "9638f938",
   "metadata": {},
   "outputs": [
    {
     "name": "stdout",
     "output_type": "stream",
     "text": [
      "20\n",
      "5\n",
      "220\n",
      "413\n"
     ]
    }
   ],
   "source": [
    "a,b=10,20\n",
    "list_var = [10,20,40,5,28,90,220] #list , iterable(which has location)\n",
    "print(max(a,b))\n",
    "print(min(list_var))\n",
    "print(max(list_var))\n",
    "print(sum(list_var))"
   ]
  },
  {
   "cell_type": "code",
   "execution_count": 19,
   "id": "d35ae81f",
   "metadata": {},
   "outputs": [
    {
     "data": {
      "text/plain": [
       "2"
      ]
     },
     "execution_count": 19,
     "metadata": {},
     "output_type": "execute_result"
    }
   ],
   "source": [
    "a = 1.6782\n",
    "\n",
    "round(a)"
   ]
  },
  {
   "cell_type": "code",
   "execution_count": 20,
   "id": "6e693764",
   "metadata": {},
   "outputs": [
    {
     "data": {
      "text/plain": [
       "17822"
      ]
     },
     "execution_count": 20,
     "metadata": {},
     "output_type": "execute_result"
    }
   ],
   "source": [
    "abs(-17822)"
   ]
  },
  {
   "cell_type": "code",
   "execution_count": 21,
   "id": "ccb2c04f",
   "metadata": {},
   "outputs": [
    {
     "data": {
      "text/plain": [
       "256"
      ]
     },
     "execution_count": 21,
     "metadata": {},
     "output_type": "execute_result"
    }
   ],
   "source": [
    "pow(2,8)"
   ]
  },
  {
   "cell_type": "code",
   "execution_count": 22,
   "id": "d656524d",
   "metadata": {},
   "outputs": [
    {
     "name": "stdout",
     "output_type": "stream",
     "text": [
      "256\n"
     ]
    }
   ],
   "source": [
    "print(2**8)"
   ]
  },
  {
   "cell_type": "code",
   "execution_count": 23,
   "id": "d1128baa",
   "metadata": {},
   "outputs": [
    {
     "name": "stdout",
     "output_type": "stream",
     "text": [
      "Sum =  60\n",
      "Length is  3\n",
      "20.0\n"
     ]
    }
   ],
   "source": [
    "arr = [10,20 ,30]\n",
    "print(\"Sum = \" , sum(arr))\n",
    "print(\"Length is \" , len(arr))\n",
    "avg = sum(arr)/len(arr)\n",
    "print(avg)"
   ]
  },
  {
   "cell_type": "code",
   "execution_count": 25,
   "id": "000abd15",
   "metadata": {},
   "outputs": [],
   "source": [
    "sample = open(\"demo.txt\",mode =\"a\")\n",
    "print(\"Hello Geeks for Geeks\", file = sample )"
   ]
  },
  {
   "cell_type": "markdown",
   "id": "e0566ffa",
   "metadata": {},
   "source": [
    "### input()"
   ]
  },
  {
   "cell_type": "code",
   "execution_count": 32,
   "id": "40de392e",
   "metadata": {},
   "outputs": [
    {
     "name": "stdout",
     "output_type": "stream",
     "text": [
      "Enter the username: 10+2j\n",
      "10+2j\n",
      "<class 'str'>\n"
     ]
    }
   ],
   "source": [
    "name = input(\"Enter the username: \")\n",
    "\n",
    "print(name)\n",
    "print(type(name))"
   ]
  },
  {
   "cell_type": "code",
   "execution_count": 33,
   "id": "3cd45f94",
   "metadata": {},
   "outputs": [
    {
     "name": "stdout",
     "output_type": "stream",
     "text": [
      "10\n",
      "10 <class 'str'>\n",
      "10 <class 'int'>\n"
     ]
    }
   ],
   "source": [
    "num = input()\n",
    "\n",
    "print(num,type(num))\n",
    "\n",
    "\n",
    "num = int(num)\n",
    "\n",
    "print(num,type(num))"
   ]
  },
  {
   "cell_type": "code",
   "execution_count": 34,
   "id": "23911bc1",
   "metadata": {},
   "outputs": [
    {
     "name": "stdout",
     "output_type": "stream",
     "text": [
      "10.1782\n",
      "10.1782 <class 'str'>\n",
      "10.1782 <class 'float'>\n"
     ]
    }
   ],
   "source": [
    "num = input()\n",
    "\n",
    "print(num,type(num))\n",
    "\n",
    "\n",
    "num = float(num)\n",
    "\n",
    "print(num,type(num))"
   ]
  },
  {
   "cell_type": "code",
   "execution_count": 35,
   "id": "f9bbb5bb",
   "metadata": {},
   "outputs": [
    {
     "name": "stdout",
     "output_type": "stream",
     "text": [
      "10\n",
      "10 <class 'int'>\n"
     ]
    }
   ],
   "source": [
    "\n",
    "num = int(input())\n",
    "\n",
    "print(num, type(num))"
   ]
  },
  {
   "cell_type": "code",
   "execution_count": 37,
   "id": "a62e3065",
   "metadata": {},
   "outputs": [
    {
     "name": "stdout",
     "output_type": "stream",
     "text": [
      "hkhskks\n"
     ]
    },
    {
     "ename": "ValueError",
     "evalue": "could not convert string to float: 'hkhskks'",
     "output_type": "error",
     "traceback": [
      "\u001b[1;31m---------------------------------------------------------------------------\u001b[0m",
      "\u001b[1;31mValueError\u001b[0m                                Traceback (most recent call last)",
      "Input \u001b[1;32mIn [37]\u001b[0m, in \u001b[0;36m<cell line: 1>\u001b[1;34m()\u001b[0m\n\u001b[1;32m----> 1\u001b[0m num \u001b[38;5;241m=\u001b[39m \u001b[38;5;28;43mfloat\u001b[39;49m\u001b[43m(\u001b[49m\u001b[38;5;28;43minput\u001b[39;49m\u001b[43m(\u001b[49m\u001b[43m)\u001b[49m\u001b[43m)\u001b[49m\n\u001b[0;32m      3\u001b[0m \u001b[38;5;28mprint\u001b[39m(num, \u001b[38;5;28mtype\u001b[39m(num))\n",
      "\u001b[1;31mValueError\u001b[0m: could not convert string to float: 'hkhskks'"
     ]
    }
   ],
   "source": [
    "\n",
    "num = float(input())\n",
    "\n",
    "print(num, type(num))"
   ]
  },
  {
   "cell_type": "code",
   "execution_count": 39,
   "id": "caed8ee0",
   "metadata": {},
   "outputs": [
    {
     "name": "stdout",
     "output_type": "stream",
     "text": [
      "False\n",
      "True <class 'bool'>\n"
     ]
    }
   ],
   "source": [
    "\n",
    "num = bool(input())\n",
    "\n",
    "print(num, type(num))"
   ]
  },
  {
   "cell_type": "code",
   "execution_count": 40,
   "id": "0d01a7c5",
   "metadata": {},
   "outputs": [
    {
     "name": "stdout",
     "output_type": "stream",
     "text": [
      "10+2j\n",
      "(10+2j) <class 'complex'>\n"
     ]
    }
   ],
   "source": [
    "\n",
    "num = complex(input())\n",
    "\n",
    "print(num, type(num))"
   ]
  },
  {
   "cell_type": "markdown",
   "id": "92a9a3d2",
   "metadata": {},
   "source": [
    "### Sequence \n",
    "\n",
    "- list\n",
    "- tuple\n",
    "- set "
   ]
  },
  {
   "cell_type": "code",
   "execution_count": 41,
   "id": "f4c72c0b",
   "metadata": {},
   "outputs": [
    {
     "name": "stdout",
     "output_type": "stream",
     "text": [
      "['f1', 'f2', 'f3', 'f4', 'f5', 'f6', 'f7', 'f8', 'f9', 'f10']\n"
     ]
    }
   ],
   "source": [
    "#list \n",
    "\n",
    "friends = [\"f1\",\"f2\",\"f3\",\"f4\",\"f5\",\"f6\",\"f7\",\"f8\",\"f9\",\"f10\"]\n",
    "\n",
    "print(friends)"
   ]
  },
  {
   "cell_type": "code",
   "execution_count": 42,
   "id": "a76e1799",
   "metadata": {},
   "outputs": [
    {
     "name": "stdout",
     "output_type": "stream",
     "text": [
      "10\n"
     ]
    }
   ],
   "source": [
    "print(len(friends)) #0-9"
   ]
  },
  {
   "cell_type": "code",
   "execution_count": 43,
   "id": "b3e05e8d",
   "metadata": {},
   "outputs": [
    {
     "name": "stdout",
     "output_type": "stream",
     "text": [
      "f1\n"
     ]
    }
   ],
   "source": [
    "print(friends[0])"
   ]
  },
  {
   "cell_type": "code",
   "execution_count": 44,
   "id": "2437bb87",
   "metadata": {},
   "outputs": [
    {
     "name": "stdout",
     "output_type": "stream",
     "text": [
      "f10\n"
     ]
    }
   ],
   "source": [
    "print(friends[-1])"
   ]
  },
  {
   "cell_type": "code",
   "execution_count": 47,
   "id": "6da8ee4e",
   "metadata": {},
   "outputs": [
    {
     "ename": "IndexError",
     "evalue": "list index out of range",
     "output_type": "error",
     "traceback": [
      "\u001b[1;31m---------------------------------------------------------------------------\u001b[0m",
      "\u001b[1;31mIndexError\u001b[0m                                Traceback (most recent call last)",
      "Input \u001b[1;32mIn [47]\u001b[0m, in \u001b[0;36m<cell line: 1>\u001b[1;34m()\u001b[0m\n\u001b[1;32m----> 1\u001b[0m \u001b[38;5;28mprint\u001b[39m(\u001b[43mfriends\u001b[49m\u001b[43m[\u001b[49m\u001b[38;5;241;43m-\u001b[39;49m\u001b[38;5;241;43m11\u001b[39;49m\u001b[43m]\u001b[49m)\n",
      "\u001b[1;31mIndexError\u001b[0m: list index out of range"
     ]
    }
   ],
   "source": [
    "print(friends[-11])"
   ]
  },
  {
   "cell_type": "code",
   "execution_count": 48,
   "id": "54adbb4d",
   "metadata": {},
   "outputs": [
    {
     "name": "stdout",
     "output_type": "stream",
     "text": [
      "['f1', 'f2', 'Marry', 'f4', 'f5', 'f6', 'f7', 'f8', 'f9', 'f10']\n"
     ]
    }
   ],
   "source": [
    "friends[2] = \"Marry\"\n",
    "\n",
    "print(friends)"
   ]
  },
  {
   "cell_type": "code",
   "execution_count": 49,
   "id": "3ba0ade2",
   "metadata": {},
   "outputs": [
    {
     "ename": "IndexError",
     "evalue": "list assignment index out of range",
     "output_type": "error",
     "traceback": [
      "\u001b[1;31m---------------------------------------------------------------------------\u001b[0m",
      "\u001b[1;31mIndexError\u001b[0m                                Traceback (most recent call last)",
      "Input \u001b[1;32mIn [49]\u001b[0m, in \u001b[0;36m<cell line: 1>\u001b[1;34m()\u001b[0m\n\u001b[1;32m----> 1\u001b[0m friends[\u001b[38;5;241m12\u001b[39m] \u001b[38;5;241m=\u001b[39m \u001b[38;5;124m\"\u001b[39m\u001b[38;5;124mMarry\u001b[39m\u001b[38;5;124m\"\u001b[39m\n\u001b[0;32m      3\u001b[0m \u001b[38;5;28mprint\u001b[39m(friends)\n",
      "\u001b[1;31mIndexError\u001b[0m: list assignment index out of range"
     ]
    }
   ],
   "source": [
    "friends[12] = \"Marry\"\n",
    "\n",
    "print(friends)"
   ]
  },
  {
   "cell_type": "code",
   "execution_count": 50,
   "id": "605c6416",
   "metadata": {},
   "outputs": [
    {
     "name": "stdout",
     "output_type": "stream",
     "text": [
      "('py', 'java', 'scala', 'ruby') <class 'tuple'> 1854427661712 4\n"
     ]
    }
   ],
   "source": [
    "#tuple\n",
    "\n",
    "courses = (\"py\",\"java\",\"scala\",\"ruby\")\n",
    "\n",
    "print(courses , type(courses), id(courses),len(courses))"
   ]
  },
  {
   "cell_type": "code",
   "execution_count": 53,
   "id": "c2f5f9c2",
   "metadata": {},
   "outputs": [
    {
     "ename": "IndexError",
     "evalue": "tuple index out of range",
     "output_type": "error",
     "traceback": [
      "\u001b[1;31m---------------------------------------------------------------------------\u001b[0m",
      "\u001b[1;31mIndexError\u001b[0m                                Traceback (most recent call last)",
      "Input \u001b[1;32mIn [53]\u001b[0m, in \u001b[0;36m<cell line: 1>\u001b[1;34m()\u001b[0m\n\u001b[1;32m----> 1\u001b[0m \u001b[43mcourses\u001b[49m\u001b[43m[\u001b[49m\u001b[38;5;241;43m-\u001b[39;49m\u001b[38;5;241;43m11\u001b[39;49m\u001b[43m]\u001b[49m\n",
      "\u001b[1;31mIndexError\u001b[0m: tuple index out of range"
     ]
    }
   ],
   "source": [
    "courses[-11]"
   ]
  },
  {
   "cell_type": "code",
   "execution_count": 54,
   "id": "3eb9bb9b",
   "metadata": {},
   "outputs": [
    {
     "ename": "TypeError",
     "evalue": "'tuple' object does not support item assignment",
     "output_type": "error",
     "traceback": [
      "\u001b[1;31m---------------------------------------------------------------------------\u001b[0m",
      "\u001b[1;31mTypeError\u001b[0m                                 Traceback (most recent call last)",
      "Input \u001b[1;32mIn [54]\u001b[0m, in \u001b[0;36m<cell line: 1>\u001b[1;34m()\u001b[0m\n\u001b[1;32m----> 1\u001b[0m courses[\u001b[38;5;241m0\u001b[39m] \u001b[38;5;241m=\u001b[39m\u001b[38;5;124m\"\u001b[39m\u001b[38;5;124mpython\u001b[39m\u001b[38;5;124m\"\u001b[39m\n",
      "\u001b[1;31mTypeError\u001b[0m: 'tuple' object does not support item assignment"
     ]
    }
   ],
   "source": [
    "courses[0] =\"python\""
   ]
  },
  {
   "cell_type": "code",
   "execution_count": 55,
   "id": "effeaa70",
   "metadata": {},
   "outputs": [
    {
     "name": "stdout",
     "output_type": "stream",
     "text": [
      "['__add__', '__class__', '__class_getitem__', '__contains__', '__delattr__', '__dir__', '__doc__', '__eq__', '__format__', '__ge__', '__getattribute__', '__getitem__', '__getnewargs__', '__gt__', '__hash__', '__init__', '__init_subclass__', '__iter__', '__le__', '__len__', '__lt__', '__mul__', '__ne__', '__new__', '__reduce__', '__reduce_ex__', '__repr__', '__rmul__', '__setattr__', '__sizeof__', '__str__', '__subclasshook__', 'count', 'index']\n"
     ]
    }
   ],
   "source": [
    "print(dir(courses))"
   ]
  },
  {
   "cell_type": "code",
   "execution_count": 60,
   "id": "c2cc3040",
   "metadata": {},
   "outputs": [
    {
     "data": {
      "text/plain": [
       "1"
      ]
     },
     "execution_count": 60,
     "metadata": {},
     "output_type": "execute_result"
    }
   ],
   "source": [
    "courses.count(\"ruby\")"
   ]
  },
  {
   "cell_type": "code",
   "execution_count": 63,
   "id": "fa604755",
   "metadata": {},
   "outputs": [
    {
     "data": {
      "text/plain": [
       "[1, 2, 3, 4, 5, 6, 7, 8, 9]"
      ]
     },
     "execution_count": 63,
     "metadata": {},
     "output_type": "execute_result"
    }
   ],
   "source": [
    "#range()\n",
    "\n",
    "# start = 0\n",
    "# step =1\n",
    "# stop = len\n",
    "\n",
    "list(range(1,10,1)) #stop is exclusive"
   ]
  },
  {
   "cell_type": "code",
   "execution_count": 64,
   "id": "c90ed65d",
   "metadata": {},
   "outputs": [
    {
     "data": {
      "text/plain": [
       "[0, 1, 2, 3, 4, 5, 6, 7, 8, 9]"
      ]
     },
     "execution_count": 64,
     "metadata": {},
     "output_type": "execute_result"
    }
   ],
   "source": [
    "list(range(10))"
   ]
  },
  {
   "cell_type": "code",
   "execution_count": 65,
   "id": "297242a8",
   "metadata": {},
   "outputs": [
    {
     "data": {
      "text/plain": [
       "[1, 4, 7]"
      ]
     },
     "execution_count": 65,
     "metadata": {},
     "output_type": "execute_result"
    }
   ],
   "source": [
    "list(range(1,10,3))"
   ]
  },
  {
   "cell_type": "code",
   "execution_count": 67,
   "id": "86478860",
   "metadata": {},
   "outputs": [
    {
     "data": {
      "text/plain": [
       "[]"
      ]
     },
     "execution_count": 67,
     "metadata": {},
     "output_type": "execute_result"
    }
   ],
   "source": [
    "list(range(-1,10,-1))"
   ]
  },
  {
   "cell_type": "code",
   "execution_count": 69,
   "id": "26f2164c",
   "metadata": {},
   "outputs": [
    {
     "data": {
      "text/plain": [
       "[1, 3, 5, 7, 9, 11, 13, 15, 17, 19]"
      ]
     },
     "execution_count": 69,
     "metadata": {},
     "output_type": "execute_result"
    }
   ],
   "source": [
    "list(range(1,20,2))"
   ]
  },
  {
   "cell_type": "code",
   "execution_count": 70,
   "id": "248b8787",
   "metadata": {},
   "outputs": [
    {
     "name": "stdout",
     "output_type": "stream",
     "text": [
      "[0, 0, 0, 0, 0, 0, 0, 0, 0, 0]\n"
     ]
    }
   ],
   "source": [
    "\n",
    "l=[0]*10\n",
    "print(l)"
   ]
  },
  {
   "cell_type": "code",
   "execution_count": 71,
   "id": "7608c1f0",
   "metadata": {},
   "outputs": [
    {
     "ename": "IndexError",
     "evalue": "list assignment index out of range",
     "output_type": "error",
     "traceback": [
      "\u001b[1;31m---------------------------------------------------------------------------\u001b[0m",
      "\u001b[1;31mIndexError\u001b[0m                                Traceback (most recent call last)",
      "Input \u001b[1;32mIn [71]\u001b[0m, in \u001b[0;36m<cell line: 4>\u001b[1;34m()\u001b[0m\n\u001b[0;32m      1\u001b[0m l\u001b[38;5;241m=\u001b[39m[]\n\u001b[1;32m----> 4\u001b[0m l[\u001b[38;5;241m0\u001b[39m] \u001b[38;5;241m=\u001b[39m \u001b[38;5;241m10\u001b[39m\n\u001b[0;32m      6\u001b[0m \u001b[38;5;28mprint\u001b[39m(l)\n",
      "\u001b[1;31mIndexError\u001b[0m: list assignment index out of range"
     ]
    }
   ],
   "source": [
    "\n",
    "l=[]\n",
    "\n",
    "\n",
    "l[0] = 10\n",
    "\n",
    "print(l)"
   ]
  },
  {
   "cell_type": "code",
   "execution_count": 72,
   "id": "08deb452",
   "metadata": {},
   "outputs": [
    {
     "name": "stdout",
     "output_type": "stream",
     "text": [
      "[]\n",
      "[11.1, 34.21, 81.2]\n"
     ]
    }
   ],
   "source": [
    "a = [1,23,3]\n",
    "b=[10.1,11.21,78.2]\n",
    "\n",
    "c=[]\n",
    "print(c)\n",
    "\n",
    "c.append(a[0]+b[0]) #0\n",
    "c.append(a[1]+b[1]) #1\n",
    "c.append(a[2]+b[2]) #2\n",
    "print(c)"
   ]
  },
  {
   "cell_type": "code",
   "execution_count": 77,
   "id": "e22792ed",
   "metadata": {},
   "outputs": [
    {
     "name": "stdout",
     "output_type": "stream",
     "text": [
      "{'a', 'b', 'c', 'd'}\n"
     ]
    }
   ],
   "source": [
    "# set()\n",
    "\n",
    "s = {\"a\",\"b\",\"c\",\"d\",\"a\"}\n",
    "print(s)"
   ]
  },
  {
   "cell_type": "code",
   "execution_count": 75,
   "id": "2e618428",
   "metadata": {},
   "outputs": [
    {
     "name": "stdout",
     "output_type": "stream",
     "text": [
      "{'O', 'U', 'K', 'J', 'R', 'M', 'A', 'N', 'I', 'L'}\n"
     ]
    }
   ],
   "source": [
    "\n",
    "s=\"ANILKRAJAMONIKUMAR\"\n",
    "print(set(s))"
   ]
  },
  {
   "cell_type": "code",
   "execution_count": 78,
   "id": "790b41e3",
   "metadata": {},
   "outputs": [
    {
     "ename": "TypeError",
     "evalue": "'set' object is not subscriptable",
     "output_type": "error",
     "traceback": [
      "\u001b[1;31m---------------------------------------------------------------------------\u001b[0m",
      "\u001b[1;31mTypeError\u001b[0m                                 Traceback (most recent call last)",
      "Input \u001b[1;32mIn [78]\u001b[0m, in \u001b[0;36m<cell line: 1>\u001b[1;34m()\u001b[0m\n\u001b[1;32m----> 1\u001b[0m \u001b[43ms\u001b[49m\u001b[43m[\u001b[49m\u001b[38;5;241;43m0\u001b[39;49m\u001b[43m]\u001b[49m\n",
      "\u001b[1;31mTypeError\u001b[0m: 'set' object is not subscriptable"
     ]
    }
   ],
   "source": [
    "s[0]"
   ]
  },
  {
   "cell_type": "code",
   "execution_count": 79,
   "id": "df4c5a9f",
   "metadata": {},
   "outputs": [],
   "source": [
    "# {key:value}\n",
    "\n",
    "student = {\n",
    "        \"name\" : \"Marry\",\n",
    "        \"course\" :\"python\",\n",
    "        \"fee\":1000\n",
    "}"
   ]
  },
  {
   "cell_type": "code",
   "execution_count": 80,
   "id": "8188cb17",
   "metadata": {},
   "outputs": [
    {
     "name": "stdout",
     "output_type": "stream",
     "text": [
      "{'name': 'Marry', 'course': 'python', 'fee': 1000}\n"
     ]
    }
   ],
   "source": [
    "print(student)"
   ]
  },
  {
   "cell_type": "code",
   "execution_count": 81,
   "id": "a98b472f",
   "metadata": {},
   "outputs": [
    {
     "ename": "TypeError",
     "evalue": "unhashable type: 'list'",
     "output_type": "error",
     "traceback": [
      "\u001b[1;31m---------------------------------------------------------------------------\u001b[0m",
      "\u001b[1;31mTypeError\u001b[0m                                 Traceback (most recent call last)",
      "Input \u001b[1;32mIn [81]\u001b[0m, in \u001b[0;36m<cell line: 4>\u001b[1;34m()\u001b[0m\n\u001b[0;32m      1\u001b[0m \u001b[38;5;66;03m# {key:value}\u001b[39;00m\n\u001b[1;32m----> 3\u001b[0m student \u001b[38;5;241m=\u001b[39m {\n\u001b[0;32m      4\u001b[0m         [\u001b[38;5;124m\"\u001b[39m\u001b[38;5;124mname\u001b[39m\u001b[38;5;124m\"\u001b[39m] : \u001b[38;5;124m\"\u001b[39m\u001b[38;5;124mMarry\u001b[39m\u001b[38;5;124m\"\u001b[39m,\n\u001b[0;32m      5\u001b[0m         \u001b[38;5;124m\"\u001b[39m\u001b[38;5;124mcourse\u001b[39m\u001b[38;5;124m\"\u001b[39m :\u001b[38;5;124m\"\u001b[39m\u001b[38;5;124mpython\u001b[39m\u001b[38;5;124m\"\u001b[39m,\n\u001b[0;32m      6\u001b[0m         \u001b[38;5;124m\"\u001b[39m\u001b[38;5;124mfee\u001b[39m\u001b[38;5;124m\"\u001b[39m:\u001b[38;5;241m1000\u001b[39m\n\u001b[0;32m      7\u001b[0m }\n",
      "\u001b[1;31mTypeError\u001b[0m: unhashable type: 'list'"
     ]
    }
   ],
   "source": [
    "# {key:value}\n",
    "\n",
    "# keys should immutables data types \n",
    "# tuple\n",
    "# str\n",
    "#  int , float , complex , boolean\n",
    "\n",
    "student = {\n",
    "        [\"name\"] : \"Marry\",\n",
    "        \"course\" :\"python\",\n",
    "        \"fee\":1000\n",
    "}"
   ]
  },
  {
   "cell_type": "code",
   "execution_count": 85,
   "id": "b5b1e85c",
   "metadata": {},
   "outputs": [],
   "source": [
    "student = {\n",
    "        (\"name\") : \"Marry\",\n",
    "        \"course\" :\"python\",\n",
    "        \"fee\":1000,\n",
    "        10:10,\n",
    "        True:\"Boolen\",\n",
    "        10+2j : \"complex\"\n",
    "}"
   ]
  },
  {
   "cell_type": "code",
   "execution_count": 88,
   "id": "b0be6af4",
   "metadata": {},
   "outputs": [
    {
     "data": {
      "text/plain": [
       "'Boolen'"
      ]
     },
     "execution_count": 88,
     "metadata": {},
     "output_type": "execute_result"
    }
   ],
   "source": [
    "student[True]"
   ]
  },
  {
   "cell_type": "code",
   "execution_count": 89,
   "id": "fa347954",
   "metadata": {},
   "outputs": [
    {
     "data": {
      "text/plain": [
       "10"
      ]
     },
     "execution_count": 89,
     "metadata": {},
     "output_type": "execute_result"
    }
   ],
   "source": [
    "student[10]"
   ]
  },
  {
   "cell_type": "code",
   "execution_count": 91,
   "id": "66a32d77",
   "metadata": {},
   "outputs": [
    {
     "data": {
      "text/plain": [
       "'Marry'"
      ]
     },
     "execution_count": 91,
     "metadata": {},
     "output_type": "execute_result"
    }
   ],
   "source": [
    "student[(\"name\")]"
   ]
  },
  {
   "cell_type": "code",
   "execution_count": 92,
   "id": "4cd86157",
   "metadata": {},
   "outputs": [
    {
     "data": {
      "text/plain": [
       "1000"
      ]
     },
     "execution_count": 92,
     "metadata": {},
     "output_type": "execute_result"
    }
   ],
   "source": [
    "student[\"fee\"]"
   ]
  },
  {
   "cell_type": "code",
   "execution_count": 93,
   "id": "75954bba",
   "metadata": {},
   "outputs": [
    {
     "ename": "KeyError",
     "evalue": "'fee1'",
     "output_type": "error",
     "traceback": [
      "\u001b[1;31m---------------------------------------------------------------------------\u001b[0m",
      "\u001b[1;31mKeyError\u001b[0m                                  Traceback (most recent call last)",
      "Input \u001b[1;32mIn [93]\u001b[0m, in \u001b[0;36m<cell line: 1>\u001b[1;34m()\u001b[0m\n\u001b[1;32m----> 1\u001b[0m \u001b[43mstudent\u001b[49m\u001b[43m[\u001b[49m\u001b[38;5;124;43m\"\u001b[39;49m\u001b[38;5;124;43mfee1\u001b[39;49m\u001b[38;5;124;43m\"\u001b[39;49m\u001b[43m]\u001b[49m\n",
      "\u001b[1;31mKeyError\u001b[0m: 'fee1'"
     ]
    }
   ],
   "source": [
    "student[\"fee1\"]"
   ]
  },
  {
   "cell_type": "code",
   "execution_count": 94,
   "id": "28a1b504",
   "metadata": {},
   "outputs": [
    {
     "data": {
      "text/plain": [
       "1000"
      ]
     },
     "execution_count": 94,
     "metadata": {},
     "output_type": "execute_result"
    }
   ],
   "source": [
    "student.get(\"fee\")"
   ]
  },
  {
   "cell_type": "code",
   "execution_count": 96,
   "id": "c5eace66",
   "metadata": {},
   "outputs": [
    {
     "data": {
      "text/plain": [
       "'Key is not there'"
      ]
     },
     "execution_count": 96,
     "metadata": {},
     "output_type": "execute_result"
    }
   ],
   "source": [
    "student.get(\"fee2\",\"Key is not there\")"
   ]
  },
  {
   "cell_type": "markdown",
   "id": "89350590",
   "metadata": {},
   "source": [
    "#### Sequence Data Type Methods\n"
   ]
  },
  {
   "cell_type": "markdown",
   "id": "2e4dabd5",
   "metadata": {},
   "source": [
    "##### LIST"
   ]
  },
  {
   "cell_type": "code",
   "execution_count": 1,
   "id": "2b255201",
   "metadata": {},
   "outputs": [
    {
     "name": "stdout",
     "output_type": "stream",
     "text": [
      "['__add__', '__class__', '__contains__', '__delattr__', '__delitem__', '__dir__', '__doc__', '__eq__', '__format__', '__ge__', '__getattribute__', '__getitem__', '__gt__', '__hash__', '__iadd__', '__imul__', '__init__', '__init_subclass__', '__iter__', '__le__', '__len__', '__lt__', '__mul__', '__ne__', '__new__', '__reduce__', '__reduce_ex__', '__repr__', '__reversed__', '__rmul__', '__setattr__', '__setitem__', '__sizeof__', '__str__', '__subclasshook__', 'append', 'clear', 'copy', 'count', 'extend', 'index', 'insert', 'pop', 'remove', 'reverse', 'sort']\n"
     ]
    }
   ],
   "source": [
    "print(dir([]))"
   ]
  },
  {
   "cell_type": "code",
   "execution_count": 2,
   "id": "8233cb8c",
   "metadata": {},
   "outputs": [],
   "source": [
    "companies_stock = [(\"TCS\",3052),(\"infosys\",1320),(\"Accen\",4321),(\"wipro\",498)]"
   ]
  },
  {
   "cell_type": "code",
   "execution_count": 3,
   "id": "f6874b7a",
   "metadata": {},
   "outputs": [
    {
     "name": "stdout",
     "output_type": "stream",
     "text": [
      "4\n"
     ]
    }
   ],
   "source": [
    "print(len(companies_stock))"
   ]
  },
  {
   "cell_type": "code",
   "execution_count": 4,
   "id": "04cbe997",
   "metadata": {},
   "outputs": [
    {
     "name": "stdout",
     "output_type": "stream",
     "text": [
      "('TCS', 3052)\n"
     ]
    }
   ],
   "source": [
    "print(companies_stock[0])"
   ]
  },
  {
   "cell_type": "code",
   "execution_count": 5,
   "id": "f8cd3e5d",
   "metadata": {},
   "outputs": [
    {
     "name": "stdout",
     "output_type": "stream",
     "text": [
      "('wipro', 498)\n"
     ]
    }
   ],
   "source": [
    "print(companies_stock[-1])"
   ]
  },
  {
   "cell_type": "code",
   "execution_count": 6,
   "id": "8bd6e819",
   "metadata": {},
   "outputs": [
    {
     "name": "stdout",
     "output_type": "stream",
     "text": [
      "TCS <class 'str'>\n"
     ]
    }
   ],
   "source": [
    "print(companies_stock[0][0],type(companies_stock[0][0]))"
   ]
  },
  {
   "cell_type": "code",
   "execution_count": 8,
   "id": "029848c4",
   "metadata": {},
   "outputs": [
    {
     "name": "stdout",
     "output_type": "stream",
     "text": [
      "[('TCS', 3052), ('infosys', 1320), ('Accen', 4321), ('wipro', 498), ('Google', 686)]\n"
     ]
    }
   ],
   "source": [
    "#append()\n",
    "companies_stock.append((\"Google\",686))\n",
    "print(companies_stock)"
   ]
  },
  {
   "cell_type": "code",
   "execution_count": 9,
   "id": "1d42da83",
   "metadata": {},
   "outputs": [
    {
     "ename": "TypeError",
     "evalue": "append() takes exactly one argument (2 given)",
     "output_type": "error",
     "traceback": [
      "\u001b[1;31m---------------------------------------------------------------------------\u001b[0m",
      "\u001b[1;31mTypeError\u001b[0m                                 Traceback (most recent call last)",
      "\u001b[1;32m<ipython-input-9-943a79aa0d96>\u001b[0m in \u001b[0;36m<module>\u001b[1;34m\u001b[0m\n\u001b[1;32m----> 1\u001b[1;33m \u001b[0mcompanies_stock\u001b[0m\u001b[1;33m.\u001b[0m\u001b[0mappend\u001b[0m\u001b[1;33m(\u001b[0m\u001b[1;34m\"Google\"\u001b[0m\u001b[1;33m,\u001b[0m\u001b[1;36m686\u001b[0m\u001b[1;33m)\u001b[0m\u001b[1;33m\u001b[0m\u001b[1;33m\u001b[0m\u001b[0m\n\u001b[0m\u001b[0;32m      2\u001b[0m \u001b[0mprint\u001b[0m\u001b[1;33m(\u001b[0m\u001b[0mcompanies_stock\u001b[0m\u001b[1;33m)\u001b[0m\u001b[1;33m\u001b[0m\u001b[1;33m\u001b[0m\u001b[0m\n",
      "\u001b[1;31mTypeError\u001b[0m: append() takes exactly one argument (2 given)"
     ]
    }
   ],
   "source": [
    "companies_stock.append(\"Google\",686)\n",
    "print(companies_stock)"
   ]
  },
  {
   "cell_type": "code",
   "execution_count": 10,
   "id": "7f809068",
   "metadata": {},
   "outputs": [
    {
     "name": "stdout",
     "output_type": "stream",
     "text": [
      "[1, 3, 2, 'a', 'b', 'c']\n"
     ]
    }
   ],
   "source": [
    "#extend()\n",
    "\n",
    "print([1,3,2]+[\"a\",\"b\",\"c\"])"
   ]
  },
  {
   "cell_type": "code",
   "execution_count": 11,
   "id": "6f9ee6a8",
   "metadata": {},
   "outputs": [
    {
     "data": {
      "text/plain": [
       "[('TCS', 3052),\n",
       " ('infosys', 1320),\n",
       " ('Accen', 4321),\n",
       " ('wipro', 498),\n",
       " ('Google', 686)]"
      ]
     },
     "execution_count": 11,
     "metadata": {},
     "output_type": "execute_result"
    }
   ],
   "source": [
    "companies_stock"
   ]
  },
  {
   "cell_type": "code",
   "execution_count": 12,
   "id": "f2044144",
   "metadata": {},
   "outputs": [
    {
     "data": {
      "text/plain": [
       "[('TCS', 3052),\n",
       " ('infosys', 1320),\n",
       " ('Accen', 4321),\n",
       " ('wipro', 498),\n",
       " ('Google', 686),\n",
       " ('Netflix', 298),\n",
       " ('Ola', 278)]"
      ]
     },
     "execution_count": 12,
     "metadata": {},
     "output_type": "execute_result"
    }
   ],
   "source": [
    "companies_stock.extend([(\"Netflix\",298),(\"Ola\",278)])\n",
    "companies_stock"
   ]
  },
  {
   "cell_type": "code",
   "execution_count": 18,
   "id": "8871c788",
   "metadata": {},
   "outputs": [
    {
     "data": {
      "text/plain": [
       "[('TCS', 3052),\n",
       " ('infosys', 1320),\n",
       " ('Accen', 4321),\n",
       " ('wipro', 498),\n",
       " ('Google', 686),\n",
       " ('Netflix', 298),\n",
       " ('Ola', 278),\n",
       " ('Netflix', 298),\n",
       " ('Ola', 278)]"
      ]
     },
     "execution_count": 18,
     "metadata": {},
     "output_type": "execute_result"
    }
   ],
   "source": [
    "companies_stock.extend(([(\"Netflix\",298),(\"Ola\",278)]))\n",
    "companies_stock"
   ]
  },
  {
   "cell_type": "code",
   "execution_count": 19,
   "id": "4863ee63",
   "metadata": {},
   "outputs": [
    {
     "data": {
      "text/plain": [
       "[('TCS', 3052),\n",
       " ('infosys', 1320),\n",
       " ('Accen', 4321),\n",
       " ('wipro', 498),\n",
       " ('Google', 686),\n",
       " ('Amazon', 2782),\n",
       " ('Netflix', 298),\n",
       " ('Ola', 278),\n",
       " ('Netflix', 298),\n",
       " ('Ola', 278)]"
      ]
     },
     "execution_count": 19,
     "metadata": {},
     "output_type": "execute_result"
    }
   ],
   "source": [
    "#insert(loc,data)\n",
    "\n",
    "companies_stock.insert(5,(\"Amazon\",2782))\n",
    "companies_stock"
   ]
  },
  {
   "cell_type": "code",
   "execution_count": 20,
   "id": "ad188e1b",
   "metadata": {},
   "outputs": [
    {
     "data": {
      "text/plain": [
       "['ABC',\n",
       " ('TCS', 3052),\n",
       " ('infosys', 1320),\n",
       " ('Accen', 4321),\n",
       " ('wipro', 498),\n",
       " ('Google', 686),\n",
       " ('Amazon', 2782),\n",
       " ('Netflix', 298),\n",
       " ('Ola', 278),\n",
       " ('Netflix', 298),\n",
       " ('Ola', 278)]"
      ]
     },
     "execution_count": 20,
     "metadata": {},
     "output_type": "execute_result"
    }
   ],
   "source": [
    "companies_stock.insert(0,\"ABC\")\n",
    "companies_stock"
   ]
  },
  {
   "cell_type": "code",
   "execution_count": 21,
   "id": "84b7eb9a",
   "metadata": {},
   "outputs": [
    {
     "data": {
      "text/plain": [
       "['ABC',\n",
       " ('TCS', 3052),\n",
       " ('infosys', 1320),\n",
       " ('Accen', 4321),\n",
       " ('wipro', 498),\n",
       " ('Google', 686),\n",
       " ('Amazon', 2782),\n",
       " ('Netflix', 298),\n",
       " ('Ola', 278),\n",
       " ('Netflix', 298),\n",
       " ('Ola', 278),\n",
       " 'XYZ']"
      ]
     },
     "execution_count": 21,
     "metadata": {},
     "output_type": "execute_result"
    }
   ],
   "source": [
    "companies_stock.insert(15,\"XYZ\")\n",
    "companies_stock"
   ]
  },
  {
   "cell_type": "code",
   "execution_count": 22,
   "id": "46d068e6",
   "metadata": {},
   "outputs": [
    {
     "name": "stdout",
     "output_type": "stream",
     "text": [
      "9\n",
      "8\n",
      "5\n"
     ]
    }
   ],
   "source": [
    "#index()\n",
    "\n",
    "\n",
    "It_companies = [\"Google\",\"Microsoft\",\"Amazon\",\"Netflix\",\"Ola\",\"TCS\",\"Infosys\",\"TCS\",\"Accenture\"]\n",
    "\n",
    "print(len(It_companies))\n",
    "\n",
    "print(It_companies.index(\"Accenture\"))\n",
    "\n",
    "\n",
    "\n",
    "        \n",
    "print(It_companies.index(\"TCS\"))"
   ]
  },
  {
   "cell_type": "code",
   "execution_count": 23,
   "id": "e69363f5",
   "metadata": {},
   "outputs": [
    {
     "name": "stdout",
     "output_type": "stream",
     "text": [
      "3135116323008 3135116321600\n"
     ]
    }
   ],
   "source": [
    "#copy()\n",
    "\n",
    "Dup_companies = It_companies.copy() #Deep copy\n",
    "\n",
    "print(id(Dup_companies),id(It_companies))"
   ]
  },
  {
   "cell_type": "code",
   "execution_count": 25,
   "id": "3d567980",
   "metadata": {},
   "outputs": [
    {
     "name": "stdout",
     "output_type": "stream",
     "text": [
      "['Google', 'Microsoft', 'Amazon', 'Netflix', 'Ola', 'TCS', 'Infosys', 'TCS', 'Accenture']\n",
      "['Googe', 'Microsoft', 'Amazon', 'Netflix', 'Ola', 'TCS', 'Infosys', 'TCS', 'Accenture']\n"
     ]
    }
   ],
   "source": [
    "It_companies[0] = \"Googe\"\n",
    "print(Dup_companies,It_companies,sep=\"\\n\")"
   ]
  },
  {
   "cell_type": "code",
   "execution_count": 28,
   "id": "b3410a4a",
   "metadata": {},
   "outputs": [
    {
     "name": "stdout",
     "output_type": "stream",
     "text": [
      "[]\n"
     ]
    }
   ],
   "source": [
    "#clear() - removes all the elements\n",
    "Dup_companies.clear()\n",
    "\n",
    "print(Dup_companies)"
   ]
  },
  {
   "cell_type": "code",
   "execution_count": 29,
   "id": "d4cae7f4",
   "metadata": {},
   "outputs": [
    {
     "ename": "NameError",
     "evalue": "name 'dup2' is not defined",
     "output_type": "error",
     "traceback": [
      "\u001b[1;31m---------------------------------------------------------------------------\u001b[0m",
      "\u001b[1;31mNameError\u001b[0m                                 Traceback (most recent call last)",
      "\u001b[1;32m<ipython-input-29-9ddee3164265>\u001b[0m in \u001b[0;36m<module>\u001b[1;34m\u001b[0m\n\u001b[0;32m      3\u001b[0m \u001b[1;32mdel\u001b[0m \u001b[0mdup2\u001b[0m\u001b[1;33m\u001b[0m\u001b[1;33m\u001b[0m\u001b[0m\n\u001b[0;32m      4\u001b[0m \u001b[1;33m\u001b[0m\u001b[0m\n\u001b[1;32m----> 5\u001b[1;33m \u001b[0mprint\u001b[0m\u001b[1;33m(\u001b[0m\u001b[0mdup2\u001b[0m\u001b[1;33m)\u001b[0m\u001b[1;33m\u001b[0m\u001b[1;33m\u001b[0m\u001b[0m\n\u001b[0m",
      "\u001b[1;31mNameError\u001b[0m: name 'dup2' is not defined"
     ]
    }
   ],
   "source": [
    "dup2 = It_companies.copy()\n",
    "\n",
    "del dup2 \n",
    "\n",
    "print(dup2)"
   ]
  },
  {
   "cell_type": "code",
   "execution_count": 31,
   "id": "0e908ede",
   "metadata": {},
   "outputs": [
    {
     "name": "stdout",
     "output_type": "stream",
     "text": [
      "['__add__', '__class__', '__contains__', '__delattr__', '__delitem__', '__dir__', '__doc__', '__eq__', '__format__', '__ge__', '__getattribute__', '__getitem__', '__gt__', '__hash__', '__iadd__', '__imul__', '__init__', '__init_subclass__', '__iter__', '__le__', '__len__', '__lt__', '__mul__', '__ne__', '__new__', '__reduce__', '__reduce_ex__', '__repr__', '__reversed__', '__rmul__', '__setattr__', '__setitem__', '__sizeof__', '__str__', '__subclasshook__', 'append', 'clear', 'copy', 'count', 'extend', 'index', 'insert', 'pop', 'remove', 'reverse', 'sort']\n"
     ]
    }
   ],
   "source": [
    "print(dir([]))"
   ]
  },
  {
   "cell_type": "code",
   "execution_count": 32,
   "id": "037142c7",
   "metadata": {},
   "outputs": [
    {
     "data": {
      "text/plain": [
       "2"
      ]
     },
     "execution_count": 32,
     "metadata": {},
     "output_type": "execute_result"
    }
   ],
   "source": [
    "It_companies.count(\"TCS\")"
   ]
  },
  {
   "cell_type": "code",
   "execution_count": 34,
   "id": "58ad7af9",
   "metadata": {},
   "outputs": [
    {
     "data": {
      "text/plain": [
       "0"
      ]
     },
     "execution_count": 34,
     "metadata": {},
     "output_type": "execute_result"
    }
   ],
   "source": [
    "It_companies.count(\"NetflixY\")"
   ]
  },
  {
   "cell_type": "code",
   "execution_count": 36,
   "id": "d5710792",
   "metadata": {},
   "outputs": [
    {
     "ename": "ValueError",
     "evalue": "'ABC' is not in list",
     "output_type": "error",
     "traceback": [
      "\u001b[1;31m---------------------------------------------------------------------------\u001b[0m",
      "\u001b[1;31mValueError\u001b[0m                                Traceback (most recent call last)",
      "\u001b[1;32m<ipython-input-36-c572a29758a3>\u001b[0m in \u001b[0;36m<module>\u001b[1;34m\u001b[0m\n\u001b[1;32m----> 1\u001b[1;33m \u001b[0mIt_companies\u001b[0m\u001b[1;33m.\u001b[0m\u001b[0mindex\u001b[0m\u001b[1;33m(\u001b[0m\u001b[1;34m\"ABC\"\u001b[0m\u001b[1;33m)\u001b[0m\u001b[1;33m\u001b[0m\u001b[1;33m\u001b[0m\u001b[0m\n\u001b[0m",
      "\u001b[1;31mValueError\u001b[0m: 'ABC' is not in list"
     ]
    }
   ],
   "source": [
    "It_companies.index(\"ABC\")"
   ]
  },
  {
   "cell_type": "code",
   "execution_count": 38,
   "id": "370ee957",
   "metadata": {},
   "outputs": [
    {
     "name": "stdout",
     "output_type": "stream",
     "text": [
      "3135116321600 3135116321600\n",
      "['AK', 'Microsoft', 'Amazon', 'Netflix', 'Ola', 'TCS', 'Infosys', 'TCS', 'Accenture'] ['AK', 'Microsoft', 'Amazon', 'Netflix', 'Ola', 'TCS', 'Infosys', 'TCS', 'Accenture']\n"
     ]
    }
   ],
   "source": [
    "#copy() method will create a separate block of memory , so ID's will be different\n",
    "# Changes in one variable will not affect in another variable\n",
    "\n",
    "#alias = both will have memory locations , change in one variable will affect the other variable\n",
    "\n",
    "dup3 = It_companies\n",
    "\n",
    "print(id(dup3),id(It_companies))\n",
    "\n",
    "dup3[0] = \"AK\"\n",
    "\n",
    "print(dup3,It_companies)"
   ]
  },
  {
   "cell_type": "code",
   "execution_count": 40,
   "id": "a686703f",
   "metadata": {},
   "outputs": [
    {
     "data": {
      "text/plain": [
       "'TCS'"
      ]
     },
     "execution_count": 40,
     "metadata": {},
     "output_type": "execute_result"
    }
   ],
   "source": [
    "#pop(-1) # loc\n",
    "\n",
    "It_companies.pop() #-1 #Last"
   ]
  },
  {
   "cell_type": "code",
   "execution_count": 42,
   "id": "3324fa94",
   "metadata": {},
   "outputs": [
    {
     "name": "stdout",
     "output_type": "stream",
     "text": [
      "Infosys\n"
     ]
    }
   ],
   "source": [
    "popped_item = It_companies.pop(5)\n",
    "print(popped_item)"
   ]
  },
  {
   "cell_type": "code",
   "execution_count": 43,
   "id": "ec70ed00",
   "metadata": {},
   "outputs": [
    {
     "ename": "IndexError",
     "evalue": "pop index out of range",
     "output_type": "error",
     "traceback": [
      "\u001b[1;31m---------------------------------------------------------------------------\u001b[0m",
      "\u001b[1;31mIndexError\u001b[0m                                Traceback (most recent call last)",
      "\u001b[1;32m<ipython-input-43-85d9faf67235>\u001b[0m in \u001b[0;36m<module>\u001b[1;34m\u001b[0m\n\u001b[1;32m----> 1\u001b[1;33m \u001b[0mpopped_item\u001b[0m \u001b[1;33m=\u001b[0m \u001b[0mIt_companies\u001b[0m\u001b[1;33m.\u001b[0m\u001b[0mpop\u001b[0m\u001b[1;33m(\u001b[0m\u001b[1;36m15\u001b[0m\u001b[1;33m)\u001b[0m\u001b[1;33m\u001b[0m\u001b[1;33m\u001b[0m\u001b[0m\n\u001b[0m\u001b[0;32m      2\u001b[0m \u001b[0mprint\u001b[0m\u001b[1;33m(\u001b[0m\u001b[0mpopped_item\u001b[0m\u001b[1;33m)\u001b[0m\u001b[1;33m\u001b[0m\u001b[1;33m\u001b[0m\u001b[0m\n",
      "\u001b[1;31mIndexError\u001b[0m: pop index out of range"
     ]
    }
   ],
   "source": [
    "popped_item = It_companies.pop(15)\n",
    "print(popped_item)"
   ]
  },
  {
   "cell_type": "code",
   "execution_count": 45,
   "id": "badcceca",
   "metadata": {},
   "outputs": [],
   "source": [
    "#remove()\n",
    "\n",
    "It_companies.remove(\"Ola\")"
   ]
  },
  {
   "cell_type": "code",
   "execution_count": 46,
   "id": "d9f33486",
   "metadata": {},
   "outputs": [
    {
     "data": {
      "text/plain": [
       "['AK', 'Microsoft', 'Amazon', 'Netflix']"
      ]
     },
     "execution_count": 46,
     "metadata": {},
     "output_type": "execute_result"
    }
   ],
   "source": [
    "It_companies"
   ]
  },
  {
   "cell_type": "code",
   "execution_count": 47,
   "id": "fe5303e0",
   "metadata": {},
   "outputs": [
    {
     "name": "stdout",
     "output_type": "stream",
     "text": [
      "None\n"
     ]
    }
   ],
   "source": [
    "remove_item = It_companies.remove(\"Amazon\")\n",
    "\n",
    "print(remove_item)"
   ]
  },
  {
   "cell_type": "code",
   "execution_count": 48,
   "id": "9c28c54a",
   "metadata": {},
   "outputs": [
    {
     "data": {
      "text/plain": [
       "['AK', 'Microsoft', 'Netflix']"
      ]
     },
     "execution_count": 48,
     "metadata": {},
     "output_type": "execute_result"
    }
   ],
   "source": [
    "It_companies"
   ]
  },
  {
   "cell_type": "code",
   "execution_count": 49,
   "id": "5c1c595e",
   "metadata": {},
   "outputs": [],
   "source": [
    "It_companies.reverse()"
   ]
  },
  {
   "cell_type": "code",
   "execution_count": 50,
   "id": "c4a1d9d4",
   "metadata": {},
   "outputs": [
    {
     "data": {
      "text/plain": [
       "['Netflix', 'Microsoft', 'AK']"
      ]
     },
     "execution_count": 50,
     "metadata": {},
     "output_type": "execute_result"
    }
   ],
   "source": [
    "It_companies"
   ]
  },
  {
   "cell_type": "code",
   "execution_count": 51,
   "id": "ee1e24ae",
   "metadata": {},
   "outputs": [
    {
     "data": {
      "text/plain": [
       "['Netflix', 'Microsoft', 'AK', 'abc', 'Kia', 'coorg', 'absy']"
      ]
     },
     "execution_count": 51,
     "metadata": {},
     "output_type": "execute_result"
    }
   ],
   "source": [
    "It_companies.append(\"abc\")\n",
    "It_companies.extend([\"Kia\",\"coorg\",\"absy\"])\n",
    "\n",
    "It_companies"
   ]
  },
  {
   "cell_type": "code",
   "execution_count": 52,
   "id": "721f0abf",
   "metadata": {},
   "outputs": [
    {
     "name": "stdout",
     "output_type": "stream",
     "text": [
      "97 65\n"
     ]
    }
   ],
   "source": [
    "print(ord(\"a\"),ord(\"A\"))"
   ]
  },
  {
   "cell_type": "code",
   "execution_count": 53,
   "id": "a992a5ee",
   "metadata": {},
   "outputs": [],
   "source": [
    "It_companies.sort() #ascii"
   ]
  },
  {
   "cell_type": "code",
   "execution_count": 54,
   "id": "83553e73",
   "metadata": {},
   "outputs": [
    {
     "data": {
      "text/plain": [
       "['AK', 'Kia', 'Microsoft', 'Netflix', 'abc', 'absy', 'coorg']"
      ]
     },
     "execution_count": 54,
     "metadata": {},
     "output_type": "execute_result"
    }
   ],
   "source": [
    "It_companies"
   ]
  },
  {
   "cell_type": "code",
   "execution_count": 55,
   "id": "372f5a25",
   "metadata": {},
   "outputs": [
    {
     "data": {
      "text/plain": [
       "['coorg', 'absy', 'abc', 'Netflix', 'Microsoft', 'Kia', 'AK']"
      ]
     },
     "execution_count": 55,
     "metadata": {},
     "output_type": "execute_result"
    }
   ],
   "source": [
    "It_companies.sort(reverse=True)\n",
    "It_companies"
   ]
  },
  {
   "cell_type": "code",
   "execution_count": 56,
   "id": "ef68881d",
   "metadata": {},
   "outputs": [
    {
     "data": {
      "text/plain": [
       "['__add__',\n",
       " '__class__',\n",
       " '__contains__',\n",
       " '__delattr__',\n",
       " '__delitem__',\n",
       " '__dir__',\n",
       " '__doc__',\n",
       " '__eq__',\n",
       " '__format__',\n",
       " '__ge__',\n",
       " '__getattribute__',\n",
       " '__getitem__',\n",
       " '__gt__',\n",
       " '__hash__',\n",
       " '__iadd__',\n",
       " '__imul__',\n",
       " '__init__',\n",
       " '__init_subclass__',\n",
       " '__iter__',\n",
       " '__le__',\n",
       " '__len__',\n",
       " '__lt__',\n",
       " '__mul__',\n",
       " '__ne__',\n",
       " '__new__',\n",
       " '__reduce__',\n",
       " '__reduce_ex__',\n",
       " '__repr__',\n",
       " '__reversed__',\n",
       " '__rmul__',\n",
       " '__setattr__',\n",
       " '__setitem__',\n",
       " '__sizeof__',\n",
       " '__str__',\n",
       " '__subclasshook__',\n",
       " 'append',\n",
       " 'clear',\n",
       " 'copy',\n",
       " 'count',\n",
       " 'extend',\n",
       " 'index',\n",
       " 'insert',\n",
       " 'pop',\n",
       " 'remove',\n",
       " 'reverse',\n",
       " 'sort']"
      ]
     },
     "execution_count": 56,
     "metadata": {},
     "output_type": "execute_result"
    }
   ],
   "source": [
    "dir(It_companies)"
   ]
  },
  {
   "cell_type": "code",
   "execution_count": null,
   "id": "02e5a3bd",
   "metadata": {},
   "outputs": [],
   "source": [
    "# all list methods\n",
    "append() # only 1\n",
    "extend() # more than 1 or add list to the tail of the another tail\n",
    "count()\n",
    "index()\n",
    "sort()\n",
    "reverse()\n",
    "copy()\n",
    "\n",
    "\n",
    "\n",
    "#insertion of data\n",
    "append()\n",
    "extend()\n",
    "insert()\n",
    "\n",
    "#deletion\n",
    "\n",
    "remove() #based onvalues\n",
    "clear() #all\n",
    "pop() #based on loc  #default = -1\n",
    "\n",
    "#sorting\n",
    "sort() #revere=True (desc)  , False = ascen\n",
    "\n",
    "#copy\n",
    "copy()\n",
    "\n",
    "#index and counting\n",
    "\n",
    "index()\n",
    "count()\n"
   ]
  },
  {
   "cell_type": "markdown",
   "id": "5acd30b0",
   "metadata": {},
   "source": [
    "##### Tuple"
   ]
  },
  {
   "cell_type": "code",
   "execution_count": 57,
   "id": "689b8319",
   "metadata": {},
   "outputs": [
    {
     "name": "stdout",
     "output_type": "stream",
     "text": [
      "['__add__', '__class__', '__contains__', '__delattr__', '__dir__', '__doc__', '__eq__', '__format__', '__ge__', '__getattribute__', '__getitem__', '__getnewargs__', '__gt__', '__hash__', '__init__', '__init_subclass__', '__iter__', '__le__', '__len__', '__lt__', '__mul__', '__ne__', '__new__', '__reduce__', '__reduce_ex__', '__repr__', '__rmul__', '__setattr__', '__sizeof__', '__str__', '__subclasshook__', 'count', 'index']\n"
     ]
    }
   ],
   "source": [
    "print(dir(()))"
   ]
  },
  {
   "cell_type": "code",
   "execution_count": 65,
   "id": "ae5998e5",
   "metadata": {},
   "outputs": [
    {
     "name": "stdout",
     "output_type": "stream",
     "text": [
      "Iam M1\n",
      "Iam String version of object\n",
      "None\n",
      "[[1, 21]]\n"
     ]
    }
   ],
   "source": [
    "class A:\n",
    "    def __int__(self):\n",
    "        self.lst=[]\n",
    "    def m1(self):\n",
    "        print(\"Iam M1\")\n",
    "    def __str__(self):\n",
    "        return \"Iam String version of object\"\n",
    "    \n",
    "    def __add__(self,a):\n",
    "        self.lst=[]\n",
    "        return self.lst.append(a)\n",
    "       \n",
    "    \n",
    "a = A()\n",
    "\n",
    "a.m1()\n",
    "\n",
    "print(a)\n",
    "\n",
    "print(a+[1,21])\n",
    "print(a.lst)"
   ]
  },
  {
   "cell_type": "code",
   "execution_count": 66,
   "id": "a5595014",
   "metadata": {},
   "outputs": [
    {
     "name": "stdout",
     "output_type": "stream",
     "text": [
      "2\n",
      "2\n"
     ]
    }
   ],
   "source": [
    "thistuple = (1, 3, 7, 8, 7, 5, 4, 6, 8, 5)\n",
    "\n",
    "x = thistuple.count(5)\n",
    "\n",
    "print(x)\n",
    "print(thistuple.count(5))"
   ]
  },
  {
   "cell_type": "code",
   "execution_count": 68,
   "id": "83b5d20e",
   "metadata": {},
   "outputs": [
    {
     "data": {
      "text/plain": [
       "0"
      ]
     },
     "execution_count": 68,
     "metadata": {},
     "output_type": "execute_result"
    }
   ],
   "source": [
    "thistuple.count(50)"
   ]
  },
  {
   "cell_type": "code",
   "execution_count": 69,
   "id": "a5dcdc39",
   "metadata": {},
   "outputs": [
    {
     "ename": "ValueError",
     "evalue": "tuple.index(x): x not in tuple",
     "output_type": "error",
     "traceback": [
      "\u001b[1;31m---------------------------------------------------------------------------\u001b[0m",
      "\u001b[1;31mValueError\u001b[0m                                Traceback (most recent call last)",
      "\u001b[1;32m<ipython-input-69-a14ffffda310>\u001b[0m in \u001b[0;36m<module>\u001b[1;34m\u001b[0m\n\u001b[1;32m----> 1\u001b[1;33m \u001b[0mthistuple\u001b[0m\u001b[1;33m.\u001b[0m\u001b[0mindex\u001b[0m\u001b[1;33m(\u001b[0m\u001b[1;36m50\u001b[0m\u001b[1;33m)\u001b[0m\u001b[1;33m\u001b[0m\u001b[1;33m\u001b[0m\u001b[0m\n\u001b[0m",
      "\u001b[1;31mValueError\u001b[0m: tuple.index(x): x not in tuple"
     ]
    }
   ],
   "source": [
    "thistuple.index(50)"
   ]
  },
  {
   "cell_type": "markdown",
   "id": "392377f8",
   "metadata": {},
   "source": [
    "### set methods"
   ]
  },
  {
   "cell_type": "code",
   "execution_count": 70,
   "id": "5b531aea",
   "metadata": {},
   "outputs": [
    {
     "name": "stdout",
     "output_type": "stream",
     "text": [
      "['__and__', '__class__', '__contains__', '__delattr__', '__dir__', '__doc__', '__eq__', '__format__', '__ge__', '__getattribute__', '__gt__', '__hash__', '__iand__', '__init__', '__init_subclass__', '__ior__', '__isub__', '__iter__', '__ixor__', '__le__', '__len__', '__lt__', '__ne__', '__new__', '__or__', '__rand__', '__reduce__', '__reduce_ex__', '__repr__', '__ror__', '__rsub__', '__rxor__', '__setattr__', '__sizeof__', '__str__', '__sub__', '__subclasshook__', '__xor__', 'add', 'clear', 'copy', 'difference', 'difference_update', 'discard', 'intersection', 'intersection_update', 'isdisjoint', 'issubset', 'issuperset', 'pop', 'remove', 'symmetric_difference', 'symmetric_difference_update', 'union', 'update']\n"
     ]
    }
   ],
   "source": [
    "s = {'a',\"b\"}\n",
    "print(dir(s))"
   ]
  },
  {
   "cell_type": "code",
   "execution_count": 71,
   "id": "0d28f86f",
   "metadata": {},
   "outputs": [
    {
     "name": "stdout",
     "output_type": "stream",
     "text": [
      "{'cherry', 'apple', 'orange', 'banana'}\n"
     ]
    }
   ],
   "source": [
    "fruits = {\"apple\", \"banana\", \"cherry\"}\n",
    "\n",
    "fruits.add(\"orange\")\n",
    "\n",
    "print(fruits)"
   ]
  },
  {
   "cell_type": "code",
   "execution_count": 72,
   "id": "9faee5d0",
   "metadata": {},
   "outputs": [
    {
     "name": "stdout",
     "output_type": "stream",
     "text": [
      "{'orange1', 'cherry', 'apple', 'orange', 'banana'}\n",
      "{'orange1', 'cherry', 'apple', 'orange', 'banana'}\n"
     ]
    }
   ],
   "source": [
    "\n",
    "\n",
    "fruits.add(\"orange1\")\n",
    "\n",
    "print(fruits)\n",
    "\n",
    "fruits.add(\"orange\")\n",
    "print(fruits)"
   ]
  },
  {
   "cell_type": "code",
   "execution_count": 73,
   "id": "53e19320",
   "metadata": {},
   "outputs": [
    {
     "name": "stdout",
     "output_type": "stream",
     "text": [
      "3135122348064 3135128214656\n"
     ]
    }
   ],
   "source": [
    "dup_fruits = fruits.copy()\n",
    "\n",
    "print(id(dup_fruits),id(fruits))"
   ]
  },
  {
   "cell_type": "code",
   "execution_count": 74,
   "id": "365403bc",
   "metadata": {},
   "outputs": [
    {
     "name": "stdout",
     "output_type": "stream",
     "text": [
      "set()\n"
     ]
    }
   ],
   "source": [
    "#clear()\n",
    "dup_fruits.clear()\n",
    "\n",
    "print(dup_fruits)"
   ]
  },
  {
   "cell_type": "code",
   "execution_count": 75,
   "id": "afa9f405",
   "metadata": {},
   "outputs": [
    {
     "data": {
      "text/plain": [
       "{'apple', 'banana', 'cherry', 'orange', 'orange1'}"
      ]
     },
     "execution_count": 75,
     "metadata": {},
     "output_type": "execute_result"
    }
   ],
   "source": [
    "fruits"
   ]
  },
  {
   "cell_type": "code",
   "execution_count": 76,
   "id": "565e742a",
   "metadata": {},
   "outputs": [
    {
     "data": {
      "text/plain": [
       "'orange1'"
      ]
     },
     "execution_count": 76,
     "metadata": {},
     "output_type": "execute_result"
    }
   ],
   "source": [
    "#pop()\n",
    "fruits.pop()"
   ]
  },
  {
   "cell_type": "code",
   "execution_count": 77,
   "id": "a6210f3a",
   "metadata": {},
   "outputs": [
    {
     "ename": "KeyError",
     "evalue": "'pop from an empty set'",
     "output_type": "error",
     "traceback": [
      "\u001b[1;31m---------------------------------------------------------------------------\u001b[0m",
      "\u001b[1;31mKeyError\u001b[0m                                  Traceback (most recent call last)",
      "\u001b[1;32m<ipython-input-77-59d7ee684065>\u001b[0m in \u001b[0;36m<module>\u001b[1;34m\u001b[0m\n\u001b[1;32m----> 1\u001b[1;33m \u001b[0mdup_fruits\u001b[0m\u001b[1;33m.\u001b[0m\u001b[0mpop\u001b[0m\u001b[1;33m(\u001b[0m\u001b[1;33m)\u001b[0m\u001b[1;33m\u001b[0m\u001b[1;33m\u001b[0m\u001b[0m\n\u001b[0m",
      "\u001b[1;31mKeyError\u001b[0m: 'pop from an empty set'"
     ]
    }
   ],
   "source": [
    "dup_fruits.pop()"
   ]
  },
  {
   "cell_type": "code",
   "execution_count": 79,
   "id": "c87d0619",
   "metadata": {},
   "outputs": [
    {
     "name": "stdout",
     "output_type": "stream",
     "text": [
      "{'cherry', 'apple', 'orange', 'banana'}\n"
     ]
    },
    {
     "data": {
      "text/plain": [
       "{'banana', 'cherry', 'orange'}"
      ]
     },
     "execution_count": 79,
     "metadata": {},
     "output_type": "execute_result"
    }
   ],
   "source": [
    "#remove()\n",
    "\n",
    "print(fruits)\n",
    "\n",
    "fruits.remove(\"apple\")\n",
    "fruits"
   ]
  },
  {
   "cell_type": "code",
   "execution_count": 80,
   "id": "cc6263e5",
   "metadata": {},
   "outputs": [
    {
     "ename": "KeyError",
     "evalue": "'apple'",
     "output_type": "error",
     "traceback": [
      "\u001b[1;31m---------------------------------------------------------------------------\u001b[0m",
      "\u001b[1;31mKeyError\u001b[0m                                  Traceback (most recent call last)",
      "\u001b[1;32m<ipython-input-80-0765fae1ab20>\u001b[0m in \u001b[0;36m<module>\u001b[1;34m\u001b[0m\n\u001b[1;32m----> 1\u001b[1;33m \u001b[0mfruits\u001b[0m\u001b[1;33m.\u001b[0m\u001b[0mremove\u001b[0m\u001b[1;33m(\u001b[0m\u001b[1;34m\"apple\"\u001b[0m\u001b[1;33m)\u001b[0m\u001b[1;33m\u001b[0m\u001b[1;33m\u001b[0m\u001b[0m\n\u001b[0m",
      "\u001b[1;31mKeyError\u001b[0m: 'apple'"
     ]
    }
   ],
   "source": [
    "fruits.remove(\"apple\")"
   ]
  },
  {
   "cell_type": "code",
   "execution_count": 82,
   "id": "55806d4e",
   "metadata": {},
   "outputs": [
    {
     "ename": "KeyError",
     "evalue": "'Apple'",
     "output_type": "error",
     "traceback": [
      "\u001b[1;31m---------------------------------------------------------------------------\u001b[0m",
      "\u001b[1;31mKeyError\u001b[0m                                  Traceback (most recent call last)",
      "\u001b[1;32m<ipython-input-82-9046006b5858>\u001b[0m in \u001b[0;36m<module>\u001b[1;34m\u001b[0m\n\u001b[1;32m----> 1\u001b[1;33m \u001b[0mdup_fruits\u001b[0m\u001b[1;33m.\u001b[0m\u001b[0mremove\u001b[0m\u001b[1;33m(\u001b[0m\u001b[1;34m\"Apple\"\u001b[0m\u001b[1;33m)\u001b[0m\u001b[1;33m\u001b[0m\u001b[1;33m\u001b[0m\u001b[0m\n\u001b[0m",
      "\u001b[1;31mKeyError\u001b[0m: 'Apple'"
     ]
    }
   ],
   "source": [
    "dup_fruits.remove(\"Apple\")"
   ]
  },
  {
   "cell_type": "code",
   "execution_count": 83,
   "id": "dca81231",
   "metadata": {},
   "outputs": [
    {
     "name": "stdout",
     "output_type": "stream",
     "text": [
      "{'cherry', 'banana'}\n"
     ]
    }
   ],
   "source": [
    "#difference()\n",
    "# syntax \n",
    "# setA.difference(setB)\n",
    "\n",
    "x = {\"apple\", \"banana\", \"cherry\"}\n",
    "y = {\"google\", \"microsoft\", \"apple\"}\n",
    "\n",
    "z = x.difference(y) #x-y \n",
    "\n",
    "print(z)"
   ]
  },
  {
   "cell_type": "code",
   "execution_count": 84,
   "id": "6c850a90",
   "metadata": {},
   "outputs": [
    {
     "name": "stdout",
     "output_type": "stream",
     "text": [
      "{'apple', 'microsoft', 'google'}\n"
     ]
    }
   ],
   "source": [
    "z = y.difference(z) #x-y \n",
    "\n",
    "print(z)"
   ]
  },
  {
   "cell_type": "code",
   "execution_count": 86,
   "id": "5533c078",
   "metadata": {},
   "outputs": [
    {
     "name": "stdout",
     "output_type": "stream",
     "text": [
      "{'cherry', 'microsoft', 'banana', 'google'}\n"
     ]
    }
   ],
   "source": [
    "z = y.symmetric_difference(x) #y-z \n",
    "\n",
    "print(z)"
   ]
  },
  {
   "cell_type": "code",
   "execution_count": 87,
   "id": "2e1b6a7d",
   "metadata": {},
   "outputs": [
    {
     "data": {
      "text/plain": [
       "{'banana', 'cherry', 'google', 'microsoft'}"
      ]
     },
     "execution_count": 87,
     "metadata": {},
     "output_type": "execute_result"
    }
   ],
   "source": [
    "x.difference(y) | y.difference(x)"
   ]
  },
  {
   "cell_type": "code",
   "execution_count": 88,
   "id": "a6682dde",
   "metadata": {},
   "outputs": [
    {
     "name": "stdout",
     "output_type": "stream",
     "text": [
      "{'cherry', 11, 'apple', 'banana'}\n",
      "{'cherry', 11, 'apple'}\n"
     ]
    }
   ],
   "source": [
    "#discard() -> remove \n",
    "\n",
    "fruits = {\"apple\", \"banana\", \"cherry\",\"banana\",11,11,11,11}\n",
    "\n",
    "print(fruits)\n",
    "\n",
    "fruits.discard(\"banana\")\n",
    "# \n",
    "print(fruits)"
   ]
  },
  {
   "cell_type": "code",
   "execution_count": 89,
   "id": "26d309db",
   "metadata": {},
   "outputs": [],
   "source": [
    "fruits.discard(\"banana\")"
   ]
  },
  {
   "cell_type": "code",
   "execution_count": 90,
   "id": "38bf3c01",
   "metadata": {},
   "outputs": [
    {
     "name": "stdout",
     "output_type": "stream",
     "text": [
      "{'apple'}\n"
     ]
    }
   ],
   "source": [
    "#intersection = common elements\n",
    "\n",
    "x = {\"apple\", \"banana\", \"cherry\"}\n",
    "y = {\"google\", \"microsoft\", \"apple\"}\n",
    "\n",
    "z = x.intersection(y)\n",
    "print(z)\n"
   ]
  },
  {
   "cell_type": "code",
   "execution_count": 91,
   "id": "f51031b7",
   "metadata": {},
   "outputs": [
    {
     "name": "stdout",
     "output_type": "stream",
     "text": [
      "{'google', 'microsoft', 'cherry', 'apple', 'banana'}\n"
     ]
    }
   ],
   "source": [
    "print(x.union(y))"
   ]
  },
  {
   "cell_type": "code",
   "execution_count": 93,
   "id": "4e845aa8",
   "metadata": {},
   "outputs": [
    {
     "name": "stdout",
     "output_type": "stream",
     "text": [
      "True\n"
     ]
    }
   ],
   "source": [
    "#isdisjoint()\n",
    "x = {\"apple\", \"banana\", \"cherry\"}\n",
    "y = {\"google\", \"microsoft\", \"apple1\"}\n",
    "\n",
    "z = x.isdisjoint(y) #x not equal to y #true or false \n",
    "\n",
    "print(z)"
   ]
  },
  {
   "cell_type": "code",
   "execution_count": 94,
   "id": "80768c3d",
   "metadata": {},
   "outputs": [
    {
     "name": "stdout",
     "output_type": "stream",
     "text": [
      "{'I20', 'Kia', 'Mercedes', 'Tata', 'Swift', 'I10', 'MG'}\n"
     ]
    }
   ],
   "source": [
    "cars = {\"Swift\",\"Mercedes\",\"Tata\",\"I10\",\"I20\",\"Kia\",\"MG\"}\n",
    "\n",
    "print(cars)\n",
    "\n",
    "#remove()\n",
    "\n",
    "cars.remove(\"Tata\")\n",
    "\n",
    "cars.discard(\"Kia\")"
   ]
  },
  {
   "cell_type": "code",
   "execution_count": 95,
   "id": "d622714c",
   "metadata": {},
   "outputs": [
    {
     "ename": "KeyError",
     "evalue": "'Alto'",
     "output_type": "error",
     "traceback": [
      "\u001b[1;31m---------------------------------------------------------------------------\u001b[0m",
      "\u001b[1;31mKeyError\u001b[0m                                  Traceback (most recent call last)",
      "\u001b[1;32m<ipython-input-95-acb170e0a4b8>\u001b[0m in \u001b[0;36m<module>\u001b[1;34m\u001b[0m\n\u001b[1;32m----> 1\u001b[1;33m \u001b[0mcars\u001b[0m\u001b[1;33m.\u001b[0m\u001b[0mremove\u001b[0m\u001b[1;33m(\u001b[0m\u001b[1;34m\"Alto\"\u001b[0m\u001b[1;33m)\u001b[0m \u001b[1;31m#throw Error if not present\u001b[0m\u001b[1;33m\u001b[0m\u001b[1;33m\u001b[0m\u001b[0m\n\u001b[0m\u001b[0;32m      2\u001b[0m \u001b[0mcars\u001b[0m\u001b[1;33m.\u001b[0m\u001b[0mdiscard\u001b[0m\u001b[1;33m(\u001b[0m\u001b[1;34m\"Audi\"\u001b[0m\u001b[1;33m)\u001b[0m \u001b[1;31m#will not throw an Error , even if it is not present.\u001b[0m\u001b[1;33m\u001b[0m\u001b[1;33m\u001b[0m\u001b[0m\n",
      "\u001b[1;31mKeyError\u001b[0m: 'Alto'"
     ]
    }
   ],
   "source": [
    "cars.remove(\"Alto\") #throw Error if not present\n",
    "cars.discard(\"Audi\") #will not throw an Error , even if it is not present."
   ]
  },
  {
   "cell_type": "code",
   "execution_count": null,
   "id": "f47d134c",
   "metadata": {},
   "outputs": [],
   "source": [
    "# set methods\n",
    "union()\n",
    "add()\n",
    "intersection()\n",
    "difference()\n",
    "symmetric_difference()\n",
    "discard()\n",
    "pop()\n",
    "remove()"
   ]
  },
  {
   "cell_type": "markdown",
   "id": "92ff2012",
   "metadata": {},
   "source": [
    "##### Dictionary Methods"
   ]
  },
  {
   "cell_type": "code",
   "execution_count": 96,
   "id": "7d1ed45f",
   "metadata": {},
   "outputs": [
    {
     "name": "stdout",
     "output_type": "stream",
     "text": [
      "{'name': 'Google', 'type': 'MNC IT', 'year': 1992, 'ceo': 'Sundar P'}\n"
     ]
    }
   ],
   "source": [
    "comp = {\n",
    "  \"name\": \"Google\",\n",
    "  \"type\": \"MNC IT\",\n",
    "  \"year\": 1992,\n",
    "  \"ceo\":\"Sundar P\"\n",
    "}\n",
    "print(comp)"
   ]
  },
  {
   "cell_type": "code",
   "execution_count": 97,
   "id": "b65337bc",
   "metadata": {},
   "outputs": [
    {
     "name": "stdout",
     "output_type": "stream",
     "text": [
      "Google\n"
     ]
    }
   ],
   "source": [
    "print(comp[\"name\"])"
   ]
  },
  {
   "cell_type": "code",
   "execution_count": 100,
   "id": "da5f7723",
   "metadata": {},
   "outputs": [
    {
     "name": "stdout",
     "output_type": "stream",
     "text": [
      "Key not present\n"
     ]
    }
   ],
   "source": [
    "print(comp.get(\"name2\",\"Key not present\"))"
   ]
  },
  {
   "cell_type": "code",
   "execution_count": 101,
   "id": "c1b0aad3",
   "metadata": {},
   "outputs": [
    {
     "ename": "KeyError",
     "evalue": "'name2'",
     "output_type": "error",
     "traceback": [
      "\u001b[1;31m---------------------------------------------------------------------------\u001b[0m",
      "\u001b[1;31mKeyError\u001b[0m                                  Traceback (most recent call last)",
      "\u001b[1;32m<ipython-input-101-43d50eb1613e>\u001b[0m in \u001b[0;36m<module>\u001b[1;34m\u001b[0m\n\u001b[1;32m----> 1\u001b[1;33m \u001b[0mprint\u001b[0m\u001b[1;33m(\u001b[0m\u001b[0mcomp\u001b[0m\u001b[1;33m[\u001b[0m\u001b[1;34m\"name2\"\u001b[0m\u001b[1;33m]\u001b[0m\u001b[1;33m)\u001b[0m\u001b[1;33m\u001b[0m\u001b[1;33m\u001b[0m\u001b[0m\n\u001b[0m",
      "\u001b[1;31mKeyError\u001b[0m: 'name2'"
     ]
    }
   ],
   "source": [
    "print(comp[\"name2\"])"
   ]
  },
  {
   "cell_type": "code",
   "execution_count": 103,
   "id": "eaf1cebf",
   "metadata": {},
   "outputs": [
    {
     "data": {
      "text/plain": [
       "['__class__',\n",
       " '__contains__',\n",
       " '__delattr__',\n",
       " '__delitem__',\n",
       " '__dir__',\n",
       " '__doc__',\n",
       " '__eq__',\n",
       " '__format__',\n",
       " '__ge__',\n",
       " '__getattribute__',\n",
       " '__getitem__',\n",
       " '__gt__',\n",
       " '__hash__',\n",
       " '__init__',\n",
       " '__init_subclass__',\n",
       " '__iter__',\n",
       " '__le__',\n",
       " '__len__',\n",
       " '__lt__',\n",
       " '__ne__',\n",
       " '__new__',\n",
       " '__reduce__',\n",
       " '__reduce_ex__',\n",
       " '__repr__',\n",
       " '__reversed__',\n",
       " '__setattr__',\n",
       " '__setitem__',\n",
       " '__sizeof__',\n",
       " '__str__',\n",
       " '__subclasshook__',\n",
       " 'clear',\n",
       " 'copy',\n",
       " 'fromkeys',\n",
       " 'get',\n",
       " 'items',\n",
       " 'keys',\n",
       " 'pop',\n",
       " 'popitem',\n",
       " 'setdefault',\n",
       " 'update',\n",
       " 'values']"
      ]
     },
     "execution_count": 103,
     "metadata": {},
     "output_type": "execute_result"
    }
   ],
   "source": [
    "dir(comp)"
   ]
  },
  {
   "cell_type": "code",
   "execution_count": 106,
   "id": "f39ff4c3",
   "metadata": {},
   "outputs": [
    {
     "data": {
      "text/plain": [
       "{'name': 'Google', 'type': 'MNC IT', 'year': 1992, 'ceo': 'Sundar P'}"
      ]
     },
     "execution_count": 106,
     "metadata": {},
     "output_type": "execute_result"
    }
   ],
   "source": [
    "comp"
   ]
  },
  {
   "cell_type": "code",
   "execution_count": 104,
   "id": "37c548c0",
   "metadata": {},
   "outputs": [
    {
     "data": {
      "text/plain": [
       "dict_keys(['name', 'type', 'year', 'ceo'])"
      ]
     },
     "execution_count": 104,
     "metadata": {},
     "output_type": "execute_result"
    }
   ],
   "source": [
    "comp.keys()"
   ]
  },
  {
   "cell_type": "code",
   "execution_count": 105,
   "id": "3ac8d79d",
   "metadata": {},
   "outputs": [
    {
     "data": {
      "text/plain": [
       "dict_values(['Google', 'MNC IT', 1992, 'Sundar P'])"
      ]
     },
     "execution_count": 105,
     "metadata": {},
     "output_type": "execute_result"
    }
   ],
   "source": [
    "comp.values()"
   ]
  },
  {
   "cell_type": "code",
   "execution_count": 107,
   "id": "df1c2232",
   "metadata": {},
   "outputs": [
    {
     "data": {
      "text/plain": [
       "dict_items([('name', 'Google'), ('type', 'MNC IT'), ('year', 1992), ('ceo', 'Sundar P')])"
      ]
     },
     "execution_count": 107,
     "metadata": {},
     "output_type": "execute_result"
    }
   ],
   "source": [
    "comp.items() #[(),(),()]"
   ]
  },
  {
   "cell_type": "code",
   "execution_count": 109,
   "id": "a5f17be3",
   "metadata": {},
   "outputs": [
    {
     "data": {
      "text/plain": [
       "'MNC IT'"
      ]
     },
     "execution_count": 109,
     "metadata": {},
     "output_type": "execute_result"
    }
   ],
   "source": [
    "comp.pop(\"type\")"
   ]
  },
  {
   "cell_type": "code",
   "execution_count": 110,
   "id": "7228a421",
   "metadata": {},
   "outputs": [
    {
     "data": {
      "text/plain": [
       "{'name': 'Google', 'year': 1992, 'ceo': 'Sundar P'}"
      ]
     },
     "execution_count": 110,
     "metadata": {},
     "output_type": "execute_result"
    }
   ],
   "source": [
    "comp"
   ]
  },
  {
   "cell_type": "code",
   "execution_count": 111,
   "id": "748e06d5",
   "metadata": {},
   "outputs": [
    {
     "ename": "KeyError",
     "evalue": "'type'",
     "output_type": "error",
     "traceback": [
      "\u001b[1;31m---------------------------------------------------------------------------\u001b[0m",
      "\u001b[1;31mKeyError\u001b[0m                                  Traceback (most recent call last)",
      "\u001b[1;32m<ipython-input-111-e39ad8b52fcc>\u001b[0m in \u001b[0;36m<module>\u001b[1;34m\u001b[0m\n\u001b[1;32m----> 1\u001b[1;33m \u001b[0mcomp\u001b[0m\u001b[1;33m.\u001b[0m\u001b[0mpop\u001b[0m\u001b[1;33m(\u001b[0m\u001b[1;34m\"type\"\u001b[0m\u001b[1;33m)\u001b[0m\u001b[1;33m\u001b[0m\u001b[1;33m\u001b[0m\u001b[0m\n\u001b[0m",
      "\u001b[1;31mKeyError\u001b[0m: 'type'"
     ]
    }
   ],
   "source": [
    "comp.pop(\"type\")"
   ]
  },
  {
   "cell_type": "code",
   "execution_count": 112,
   "id": "6cc46966",
   "metadata": {},
   "outputs": [
    {
     "data": {
      "text/plain": [
       "{'name': 'Google', 'year': 1992, 'ceo': 'Sundar P'}"
      ]
     },
     "execution_count": 112,
     "metadata": {},
     "output_type": "execute_result"
    }
   ],
   "source": [
    "comp"
   ]
  },
  {
   "cell_type": "code",
   "execution_count": 113,
   "id": "ff9ecb05",
   "metadata": {},
   "outputs": [
    {
     "data": {
      "text/plain": [
       "('ceo', 'Sundar P')"
      ]
     },
     "execution_count": 113,
     "metadata": {},
     "output_type": "execute_result"
    }
   ],
   "source": [
    "comp.popitem()"
   ]
  },
  {
   "cell_type": "code",
   "execution_count": null,
   "id": "e229a30d",
   "metadata": {},
   "outputs": [],
   "source": [
    "# {}.popitem()\n",
    "# [].pop()"
   ]
  },
  {
   "cell_type": "code",
   "execution_count": 114,
   "id": "3ba49c8a",
   "metadata": {},
   "outputs": [
    {
     "data": {
      "text/plain": [
       "{'name': 'Google', 'year': 1992}"
      ]
     },
     "execution_count": 114,
     "metadata": {},
     "output_type": "execute_result"
    }
   ],
   "source": [
    "comp"
   ]
  },
  {
   "cell_type": "code",
   "execution_count": 115,
   "id": "123778f2",
   "metadata": {},
   "outputs": [],
   "source": [
    "comp.update({\"name\":\"Amazon\"})"
   ]
  },
  {
   "cell_type": "code",
   "execution_count": 116,
   "id": "5420a4bb",
   "metadata": {},
   "outputs": [
    {
     "data": {
      "text/plain": [
       "{'name': 'Amazon', 'year': 1992}"
      ]
     },
     "execution_count": 116,
     "metadata": {},
     "output_type": "execute_result"
    }
   ],
   "source": [
    "comp"
   ]
  },
  {
   "cell_type": "code",
   "execution_count": 117,
   "id": "09864399",
   "metadata": {},
   "outputs": [],
   "source": [
    "comp.update({\"name2\":\"Netflix\"})"
   ]
  },
  {
   "cell_type": "code",
   "execution_count": 118,
   "id": "321a42a8",
   "metadata": {},
   "outputs": [
    {
     "data": {
      "text/plain": [
       "{'name': 'Amazon', 'year': 1992, 'name2': 'Netflix'}"
      ]
     },
     "execution_count": 118,
     "metadata": {},
     "output_type": "execute_result"
    }
   ],
   "source": [
    "comp"
   ]
  },
  {
   "cell_type": "code",
   "execution_count": 119,
   "id": "96f18181",
   "metadata": {},
   "outputs": [
    {
     "name": "stdout",
     "output_type": "stream",
     "text": [
      "{'key1': ('a', 'b', 'c'), 'key2': ('a', 'b', 'c'), 'key3': ('a', 'b', 'c')}\n"
     ]
    }
   ],
   "source": [
    "x = ('key1', 'key2', 'key3')\n",
    "y = ('a','b','c')\n",
    "\n",
    "thisdict = dict.fromkeys(x, y)\n",
    "\n",
    "print(thisdict)"
   ]
  },
  {
   "cell_type": "code",
   "execution_count": null,
   "id": "cd4a9d9f",
   "metadata": {},
   "outputs": [],
   "source": [
    "#NOTE \n",
    "#accessing and removing with unknow key=>key error\n",
    "#for updating it will , adbd a new item (K , V)"
   ]
  },
  {
   "cell_type": "markdown",
   "id": "740a90d8",
   "metadata": {},
   "source": [
    "#### Indexing"
   ]
  },
  {
   "cell_type": "code",
   "execution_count": 120,
   "id": "5446d050",
   "metadata": {},
   "outputs": [],
   "source": [
    "list_1D = [\"Facebook\",0.0,\"USD\",2974676,3.5,True,10+2j]"
   ]
  },
  {
   "cell_type": "code",
   "execution_count": 121,
   "id": "8dc36601",
   "metadata": {},
   "outputs": [
    {
     "name": "stdout",
     "output_type": "stream",
     "text": [
      "7\n"
     ]
    }
   ],
   "source": [
    "print(len(list_1D))"
   ]
  },
  {
   "cell_type": "code",
   "execution_count": 122,
   "id": "425c0985",
   "metadata": {},
   "outputs": [
    {
     "name": "stdout",
     "output_type": "stream",
     "text": [
      "[[2, 4, 6, 8, 10], [3, 6, 9, 12, 15], [4, 8, 12, 16, 20]]\n"
     ]
    }
   ],
   "source": [
    "list_2D= [[2, 4, 6, 8, 10], [3, 6, 9, 12, 15], [4, 8, 12, 16, 20]]\n",
    "print(list_2D)"
   ]
  },
  {
   "cell_type": "code",
   "execution_count": 123,
   "id": "cce347ab",
   "metadata": {},
   "outputs": [
    {
     "name": "stdout",
     "output_type": "stream",
     "text": [
      "Info\n"
     ]
    }
   ],
   "source": [
    "list_2D= [[2, 4, 6, 8, 10,['Google','MS','Info']], [3, 6, 9, 12, 15,['a','dog','bird']], [4, 8, 12, 16, 20]]\n",
    "\n",
    "print(list_2D[0][5][2])"
   ]
  },
  {
   "cell_type": "code",
   "execution_count": 126,
   "id": "fd447c04",
   "metadata": {},
   "outputs": [
    {
     "name": "stdout",
     "output_type": "stream",
     "text": [
      "f\n"
     ]
    }
   ],
   "source": [
    "print(list_2D[-3][-1][-1][-2])"
   ]
  },
  {
   "cell_type": "code",
   "execution_count": 130,
   "id": "f55b938f",
   "metadata": {},
   "outputs": [
    {
     "name": "stdout",
     "output_type": "stream",
     "text": [
      "t\n"
     ]
    }
   ],
   "source": [
    "\n",
    "some_list = [1,2,['a','b',['cat','dog'],'c'],3]\n",
    "\n",
    "# write a statement to access 't' of 'cat'\n",
    "\n",
    "print(some_list[2][2][0][2])"
   ]
  },
  {
   "cell_type": "code",
   "execution_count": 136,
   "id": "6c3ea507",
   "metadata": {},
   "outputs": [
    {
     "name": "stdout",
     "output_type": "stream",
     "text": [
      "t\n"
     ]
    }
   ],
   "source": [
    "print(some_list[-2][-2][-2][-1])"
   ]
  },
  {
   "cell_type": "code",
   "execution_count": 137,
   "id": "1ff3888d",
   "metadata": {},
   "outputs": [
    {
     "data": {
      "text/plain": [
       "[0.0, 'USD', 2974676]"
      ]
     },
     "execution_count": 137,
     "metadata": {},
     "output_type": "execute_result"
    }
   ],
   "source": [
    "#slicing  [start:stop:step]\n",
    "# step =1 #default\n",
    "# stop = exclusive # default = len\n",
    "# start = 0 # default\n",
    "\n",
    "\n",
    "\n",
    "#if the step is -1\n",
    "#start -1\n",
    "#stop = -len+(-1)\n",
    "#step = -1 \n",
    "\n",
    "#result is reverse order.\n",
    "\n",
    "\n",
    "\n",
    "list_1D = [\"Facebook\",0.0,\"USD\",2974676,3.5,True,10+2j]\n",
    "\n",
    "\n",
    "# list_name[start:stop:step]\n",
    "list_1D[1:4:1]"
   ]
  },
  {
   "cell_type": "code",
   "execution_count": 138,
   "id": "aac29599",
   "metadata": {},
   "outputs": [
    {
     "data": {
      "text/plain": [
       "[0.0, 'USD', 2974676]"
      ]
     },
     "execution_count": 138,
     "metadata": {},
     "output_type": "execute_result"
    }
   ],
   "source": [
    "list_1D[1:4]"
   ]
  },
  {
   "cell_type": "code",
   "execution_count": 139,
   "id": "2febc024",
   "metadata": {},
   "outputs": [
    {
     "data": {
      "text/plain": [
       "['Facebook', 0.0, 'USD', 2974676, 3.5, True]"
      ]
     },
     "execution_count": 139,
     "metadata": {},
     "output_type": "execute_result"
    }
   ],
   "source": [
    "list_1D[:6]"
   ]
  },
  {
   "cell_type": "code",
   "execution_count": 140,
   "id": "ce660c1a",
   "metadata": {},
   "outputs": [
    {
     "data": {
      "text/plain": [
       "['Facebook', 0.0, 'USD', 2974676, 3.5, True, (10+2j)]"
      ]
     },
     "execution_count": 140,
     "metadata": {},
     "output_type": "execute_result"
    }
   ],
   "source": [
    "list_1D[:100]"
   ]
  },
  {
   "cell_type": "code",
   "execution_count": 144,
   "id": "095dede3",
   "metadata": {},
   "outputs": [
    {
     "data": {
      "text/plain": [
       "[(10+2j), True, 3.5, 2974676, 'USD', 0.0, 'Facebook']"
      ]
     },
     "execution_count": 144,
     "metadata": {},
     "output_type": "execute_result"
    }
   ],
   "source": [
    "list_1D[-1:-len(list_1D)-1:-1]"
   ]
  },
  {
   "cell_type": "code",
   "execution_count": 148,
   "id": "1aae0ffe",
   "metadata": {},
   "outputs": [
    {
     "data": {
      "text/plain": [
       "[['a', 'b', ['cat', 'dog'], 'c']]"
      ]
     },
     "execution_count": 148,
     "metadata": {},
     "output_type": "execute_result"
    }
   ],
   "source": [
    "some_list = [1,2,['a','b',['cat','dog'],'c'],3,7,39]\n",
    "some_list[2:3:1]"
   ]
  },
  {
   "cell_type": "code",
   "execution_count": 149,
   "id": "8a278435",
   "metadata": {},
   "outputs": [
    {
     "data": {
      "text/plain": [
       "[(10+2j), True, 3.5, 2974676, 'USD', 0.0, 'Facebook']"
      ]
     },
     "execution_count": 149,
     "metadata": {},
     "output_type": "execute_result"
    }
   ],
   "source": [
    "list_1D[::-1]"
   ]
  },
  {
   "cell_type": "code",
   "execution_count": 150,
   "id": "89a9169b",
   "metadata": {},
   "outputs": [
    {
     "data": {
      "text/plain": [
       "['Facebook', 0.0, 'USD', 2974676, 3.5, True, (10+2j)]"
      ]
     },
     "execution_count": 150,
     "metadata": {},
     "output_type": "execute_result"
    }
   ],
   "source": [
    "list_1D"
   ]
  },
  {
   "cell_type": "code",
   "execution_count": 151,
   "id": "f51b4e3f",
   "metadata": {},
   "outputs": [
    {
     "name": "stdout",
     "output_type": "stream",
     "text": [
      "i\n",
      "AKR\n",
      "Kaa\n",
      "ino\n",
      "AKRajamoni\n",
      "inomajaRKA\n",
      "inomajaRKA\n"
     ]
    }
   ],
   "source": [
    "name = \"AKRajamoni\"\n",
    "print(name[-1])\n",
    "print(name[:3])\n",
    "print(name[1:6:2])\n",
    "print(name[-1:-4:-1])\n",
    "print(name [:])\n",
    "print(name[::-1]) #reverse order\n",
    "print(\"\".join(reversed(name)))"
   ]
  },
  {
   "cell_type": "code",
   "execution_count": 152,
   "id": "b8e8aa9f",
   "metadata": {},
   "outputs": [
    {
     "data": {
      "text/plain": [
       "'AKRajamoni'"
      ]
     },
     "execution_count": 152,
     "metadata": {},
     "output_type": "execute_result"
    }
   ],
   "source": [
    "name[:]"
   ]
  },
  {
   "cell_type": "code",
   "execution_count": 153,
   "id": "cf148bca",
   "metadata": {},
   "outputs": [],
   "source": [
    "imdb = ((\"Instant Family\",7.2,(\"Hugo\",7.8)),[\"Intersellar\",8.0],{\"Tenet\",7.5},{\"Movie_Name\":\"Despicable Me\",\"Rating\":7.2})"
   ]
  },
  {
   "cell_type": "code",
   "execution_count": 154,
   "id": "9ca088b5",
   "metadata": {},
   "outputs": [
    {
     "data": {
      "text/plain": [
       "'Despicable Me'"
      ]
     },
     "execution_count": 154,
     "metadata": {},
     "output_type": "execute_result"
    }
   ],
   "source": [
    "imdb[-1].get(\"Movie_Name\")"
   ]
  },
  {
   "cell_type": "code",
   "execution_count": 155,
   "id": "b6a69c42",
   "metadata": {},
   "outputs": [
    {
     "name": "stdout",
     "output_type": "stream",
     "text": [
      "(('Instant Family', 7.2, ('Hugo', 7.8)), [\"Don't breathe\", 8.0], {7.5, 'Tenet'}, {'Movie_Name': 'Despicable Me', 'Rating': 7.2})\n"
     ]
    }
   ],
   "source": [
    "imdb[1][0]=\"Don't breathe\"\n",
    "print(imdb)"
   ]
  },
  {
   "cell_type": "code",
   "execution_count": 156,
   "id": "8c8d1f43",
   "metadata": {},
   "outputs": [
    {
     "data": {
      "text/plain": [
       "('AUS', 'ENG', 'NZ', 'PAK', 'IND')"
      ]
     },
     "execution_count": 156,
     "metadata": {},
     "output_type": "execute_result"
    }
   ],
   "source": [
    "\n",
    "teams=(\"IND\",\"PAK\",\"NZ\",\"ENG\",\"AUS\")\n",
    "teams[::-1] #reverse order"
   ]
  },
  {
   "cell_type": "markdown",
   "id": "3ff8eb03",
   "metadata": {},
   "source": [
    "#### set indexing "
   ]
  },
  {
   "cell_type": "code",
   "execution_count": 157,
   "id": "ab77c651",
   "metadata": {},
   "outputs": [
    {
     "ename": "TypeError",
     "evalue": "'set' object is not subscriptable",
     "output_type": "error",
     "traceback": [
      "\u001b[1;31m---------------------------------------------------------------------------\u001b[0m",
      "\u001b[1;31mTypeError\u001b[0m                                 Traceback (most recent call last)",
      "\u001b[1;32m<ipython-input-157-541c0b2ab810>\u001b[0m in \u001b[0;36m<module>\u001b[1;34m\u001b[0m\n\u001b[0;32m      1\u001b[0m \u001b[0mcrypto\u001b[0m \u001b[1;33m=\u001b[0m \u001b[1;33m{\u001b[0m\u001b[1;34m\"Bit coin\"\u001b[0m\u001b[1;33m,\u001b[0m\u001b[1;34m\"Dogecoin\"\u001b[0m\u001b[1;33m,\u001b[0m\u001b[1;34m\"Etherum\"\u001b[0m\u001b[1;33m}\u001b[0m\u001b[1;33m\u001b[0m\u001b[1;33m\u001b[0m\u001b[0m\n\u001b[0;32m      2\u001b[0m \u001b[1;33m\u001b[0m\u001b[0m\n\u001b[1;32m----> 3\u001b[1;33m \u001b[0mprint\u001b[0m\u001b[1;33m(\u001b[0m\u001b[0mcrypto\u001b[0m\u001b[1;33m[\u001b[0m\u001b[1;36m0\u001b[0m\u001b[1;33m]\u001b[0m\u001b[1;33m)\u001b[0m\u001b[1;33m\u001b[0m\u001b[1;33m\u001b[0m\u001b[0m\n\u001b[0m\u001b[0;32m      4\u001b[0m \u001b[1;33m\u001b[0m\u001b[0m\n\u001b[0;32m      5\u001b[0m \u001b[0mprint\u001b[0m\u001b[1;33m(\u001b[0m\u001b[0mcrypto\u001b[0m\u001b[1;33m)\u001b[0m\u001b[1;33m\u001b[0m\u001b[1;33m\u001b[0m\u001b[0m\n",
      "\u001b[1;31mTypeError\u001b[0m: 'set' object is not subscriptable"
     ]
    }
   ],
   "source": [
    "crypto = {\"Bit coin\",\"Dogecoin\",\"Etherum\"}\n",
    "\n",
    "print(crypto[0]) \n",
    "\n",
    "print(crypto) "
   ]
  },
  {
   "cell_type": "markdown",
   "id": "5f21b54a",
   "metadata": {},
   "source": [
    "#### dict indexing"
   ]
  },
  {
   "cell_type": "code",
   "execution_count": 158,
   "id": "b1c67e95",
   "metadata": {},
   "outputs": [
    {
     "name": "stdout",
     "output_type": "stream",
     "text": [
      "{'a': [1, {'a': 10}], 'x': {'x': 20}}\n",
      "[1, {'a': 10}]\n",
      "{'x': 20}\n",
      "20\n",
      "10\n"
     ]
    }
   ],
   "source": [
    "d={\"a\":[1,{\"a\":10}],\n",
    "    \"x\":{\"x\":20}}\n",
    "\n",
    "\n",
    "print(d)\n",
    "print(d['a'])\n",
    "print(d['x'])\n",
    "print(d['x']['x'])\n",
    "print(d['a'][1]['a'])"
   ]
  },
  {
   "cell_type": "markdown",
   "id": "34dc59bc",
   "metadata": {},
   "source": [
    "#### Operators"
   ]
  },
  {
   "cell_type": "code",
   "execution_count": 1,
   "id": "2fde76b7",
   "metadata": {},
   "outputs": [
    {
     "name": "stdout",
     "output_type": "stream",
     "text": [
      "30\n",
      "-10\n",
      "200\n",
      "0.5\n",
      "0\n",
      "10\n",
      "100000000000000000000\n"
     ]
    }
   ],
   "source": [
    "#arthm\n",
    "\n",
    "# + - * / // ** % \n",
    "\n",
    "a = 10\n",
    "b = 20\n",
    "print(a+b)\n",
    "print(a-b)\n",
    "print(a*b)\n",
    "print(a/b)\n",
    "print(a//b) #floor divison -> Integer part\n",
    "print(a%b) # Remainder \n",
    "print(a**b) #power"
   ]
  },
  {
   "cell_type": "code",
   "execution_count": 6,
   "id": "04dd7d6a",
   "metadata": {},
   "outputs": [
    {
     "name": "stdout",
     "output_type": "stream",
     "text": [
      "4\n",
      "6\n",
      "4\n",
      "2.0\n",
      "4.0\n"
     ]
    }
   ],
   "source": [
    "# Assignment \n",
    "# =\n",
    "# += ,-= , \n",
    "\n",
    "a = 3\n",
    "a= a+1 #a+=1\n",
    "\n",
    "print(a)\n",
    "a+=2\n",
    "print(a)\n",
    "\n",
    "a-=2\n",
    "print(a)\n",
    "\n",
    "a/=2\n",
    "\n",
    "print(a)\n",
    "\n",
    "a**=2\n",
    "\n",
    "print(a)"
   ]
  },
  {
   "cell_type": "code",
   "execution_count": 7,
   "id": "d7fbbc04",
   "metadata": {},
   "outputs": [],
   "source": [
    "#Realtional  operators"
   ]
  },
  {
   "cell_type": "code",
   "execution_count": 8,
   "id": "f491b099",
   "metadata": {},
   "outputs": [],
   "source": [
    "#logical \n",
    "# and  -> T and T -> True\n",
    "# or  -> alteast one should be True\n",
    "# not  -> reverese"
   ]
  },
  {
   "cell_type": "code",
   "execution_count": 9,
   "id": "8f396bff",
   "metadata": {},
   "outputs": [
    {
     "name": "stdout",
     "output_type": "stream",
     "text": [
      "<class 'str'> <class 'list'>\n",
      "False\n",
      "True\n",
      "False\n"
     ]
    }
   ],
   "source": [
    "name = \"fury\"\n",
    "passwd = 1234\n",
    "print(type(name),type(['fury'] ))\n",
    "\n",
    "\n",
    "print(name == ['fury'] and passwd == 1234) #both\n",
    "\n",
    "print(name ==\"fur\" or passwd == 1234) #atleast \n",
    "\n",
    "print(not (name ==\"fury\" and passwd==1234))"
   ]
  },
  {
   "cell_type": "code",
   "execution_count": 11,
   "id": "fc6cb396",
   "metadata": {},
   "outputs": [
    {
     "name": "stdout",
     "output_type": "stream",
     "text": [
      "Enter the name aknaka\n",
      "it is wrong value\n"
     ]
    }
   ],
   "source": [
    "name = input(\"Enter the name \")\n",
    "\n",
    "if (name == \"fury\"):\n",
    "    print(\"It is correct\")\n",
    "else:\n",
    "    print(\"it is wrong value\")"
   ]
  },
  {
   "cell_type": "code",
   "execution_count": 13,
   "id": "74891b60",
   "metadata": {},
   "outputs": [
    {
     "name": "stdout",
     "output_type": "stream",
     "text": [
      "Enter the username: divya1\n",
      "Enter the passsword: divya123\n",
      "Invalid username\n",
      "Invalid Creds\n"
     ]
    }
   ],
   "source": [
    "#login application \n",
    "\n",
    "database = {\"username\":\"divya\",\"passwd\":\"divya123\"}\n",
    "\n",
    "username = input(\"Enter the username: \")\n",
    "\n",
    "passwd = input(\"Enter the passsword: \")\n",
    "\n",
    "if username != database[\"username\"]:\n",
    "    print(\"Invalid username\")\n",
    "if passwd != database[\"passwd\"]:\n",
    "    print(\"Invalid passwd\")\n",
    "    \n",
    "if username == database[\"username\"] and passwd == database[\"passwd\"]:\n",
    "    print(\"Login Success\")\n",
    "\n",
    "else:\n",
    "    print(\"Invalid Creds\")"
   ]
  },
  {
   "cell_type": "code",
   "execution_count": 14,
   "id": "01dffc85",
   "metadata": {},
   "outputs": [
    {
     "name": "stdout",
     "output_type": "stream",
     "text": [
      "True\n",
      "20 295\n"
     ]
    }
   ],
   "source": [
    "a = 10\n",
    "b = 300\n",
    "\n",
    "if a>=10 and not b<100:\n",
    "    print(True)\n",
    "    a+=10\n",
    "    b-=5\n",
    "    if a>=15 or b>40:\n",
    "        print(a,b)\n",
    "    else:\n",
    "        print(b)\n",
    "else:\n",
    "    if a==10 or b>10:\n",
    "        a+=10\n",
    "        b+=30\n",
    "        if (a+b) >50:\n",
    "            print(a,b)\n",
    "        else:\n",
    "            print(b)\n",
    "    print(False)"
   ]
  },
  {
   "cell_type": "code",
   "execution_count": 15,
   "id": "b7fd1bd8",
   "metadata": {},
   "outputs": [
    {
     "name": "stdout",
     "output_type": "stream",
     "text": [
      "False\n",
      "False\n",
      "True\n",
      "True\n"
     ]
    }
   ],
   "source": [
    "a=20\n",
    "b=30\n",
    "c=20\n",
    "print(a==b) #values \n",
    "print(a is b) # memory addr\n",
    "print(a is c)\n",
    "print(a is not b)"
   ]
  },
  {
   "cell_type": "code",
   "execution_count": 16,
   "id": "7014d572",
   "metadata": {},
   "outputs": [
    {
     "name": "stdout",
     "output_type": "stream",
     "text": [
      "True\n",
      "140729922037840 140729922037840\n"
     ]
    }
   ],
   "source": [
    "a=10\n",
    "b=10\n",
    "print(a is b)\n",
    "\n",
    "print(id(a) ,id(b))"
   ]
  },
  {
   "cell_type": "code",
   "execution_count": 17,
   "id": "5d0c7312",
   "metadata": {},
   "outputs": [
    {
     "name": "stdout",
     "output_type": "stream",
     "text": [
      "2816808244096 2816808284352\n",
      "False\n",
      "True\n",
      "True\n"
     ]
    }
   ],
   "source": [
    "a=[10]\n",
    "b=[10]\n",
    "print(id(a),id(b))\n",
    "print(a is b) #address\n",
    "print(a==b) #values\n",
    "c=a #alias\n",
    "print(c is a)"
   ]
  },
  {
   "cell_type": "code",
   "execution_count": 19,
   "id": "6d55bc2c",
   "metadata": {},
   "outputs": [
    {
     "name": "stdout",
     "output_type": "stream",
     "text": [
      "1 3 5 7 9 "
     ]
    }
   ],
   "source": [
    "for data in range(1,10,2):\n",
    "    print(data , end =\" \")"
   ]
  },
  {
   "cell_type": "markdown",
   "id": "7dc68b8a",
   "metadata": {},
   "source": [
    "### copy"
   ]
  },
  {
   "cell_type": "code",
   "execution_count": 20,
   "id": "8d5f7f48",
   "metadata": {},
   "outputs": [],
   "source": [
    "# alias\n",
    "# copy()\n",
    "# shallow copy()\n",
    "# deep copy()\n",
    "\n"
   ]
  },
  {
   "cell_type": "code",
   "execution_count": 21,
   "id": "5b1f612f",
   "metadata": {},
   "outputs": [
    {
     "name": "stdout",
     "output_type": "stream",
     "text": [
      "2816808239040 2816808239040\n",
      "['Python', 203, 40] ['Python', 203, 40]\n"
     ]
    }
   ],
   "source": [
    "a = [10,203,40]\n",
    "\n",
    "c = a\n",
    "\n",
    "print(id(a) ,id(c))\n",
    "\n",
    "a[0] = \"Python\"\n",
    "\n",
    "print(a,c)\n"
   ]
  },
  {
   "cell_type": "code",
   "execution_count": 22,
   "id": "98dfc207",
   "metadata": {},
   "outputs": [
    {
     "name": "stdout",
     "output_type": "stream",
     "text": [
      "2816808243264 2816808555072\n",
      "[10, 203, 22, 22] ['java', 203, 22, 22]\n"
     ]
    }
   ],
   "source": [
    "d = [10,203,22,22]\n",
    "\n",
    "e = d.copy()\n",
    "\n",
    "print(id(d) ,id(e))\n",
    "\n",
    "e[0] = \"java\"\n",
    "\n",
    "print(d,e)"
   ]
  },
  {
   "cell_type": "code",
   "execution_count": null,
   "id": "6c420fa5",
   "metadata": {},
   "outputs": [],
   "source": [
    "import copy \n",
    "\n"
   ]
  }
 ],
 "metadata": {
  "kernelspec": {
   "display_name": "Python 3",
   "language": "python",
   "name": "python3"
  },
  "language_info": {
   "codemirror_mode": {
    "name": "ipython",
    "version": 3
   },
   "file_extension": ".py",
   "mimetype": "text/x-python",
   "name": "python",
   "nbconvert_exporter": "python",
   "pygments_lexer": "ipython3",
   "version": "3.8.8"
  }
 },
 "nbformat": 4,
 "nbformat_minor": 5
}
