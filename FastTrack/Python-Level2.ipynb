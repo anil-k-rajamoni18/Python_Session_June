{
 "cells": [
  {
   "cell_type": "code",
   "execution_count": 1,
   "id": "9277b9e8",
   "metadata": {},
   "outputs": [],
   "source": [
    "#  Fundamentals way to develop a program\n",
    "\n",
    "# Algorithm\n",
    "# Flowchart\n",
    "# pseduocode\n",
    "\n"
   ]
  },
  {
   "cell_type": "markdown",
   "id": "080982a4",
   "metadata": {},
   "source": [
    "### Conditional Statement"
   ]
  },
  {
   "cell_type": "markdown",
   "id": "8a0aecd5",
   "metadata": {},
   "source": [
    "### if "
   ]
  },
  {
   "cell_type": "code",
   "execution_count": null,
   "id": "69e4bb77",
   "metadata": {},
   "outputs": [],
   "source": []
  },
  {
   "cell_type": "code",
   "execution_count": null,
   "id": "4af3672f",
   "metadata": {},
   "outputs": [],
   "source": []
  },
  {
   "cell_type": "code",
   "execution_count": null,
   "id": "72341c47",
   "metadata": {},
   "outputs": [],
   "source": []
  },
  {
   "cell_type": "code",
   "execution_count": null,
   "id": "d172d418",
   "metadata": {},
   "outputs": [],
   "source": []
  },
  {
   "cell_type": "markdown",
   "id": "595cd654",
   "metadata": {},
   "source": [
    "### different ways to declaring conditions"
   ]
  },
  {
   "cell_type": "code",
   "execution_count": null,
   "id": "e5fede85",
   "metadata": {},
   "outputs": [],
   "source": []
  },
  {
   "cell_type": "code",
   "execution_count": null,
   "id": "2792f2fa",
   "metadata": {},
   "outputs": [],
   "source": []
  },
  {
   "cell_type": "code",
   "execution_count": null,
   "id": "8f56b956",
   "metadata": {},
   "outputs": [],
   "source": []
  },
  {
   "cell_type": "code",
   "execution_count": null,
   "id": "401b4b0b",
   "metadata": {},
   "outputs": [],
   "source": []
  },
  {
   "cell_type": "markdown",
   "id": "3253da64",
   "metadata": {},
   "source": [
    "### if else"
   ]
  },
  {
   "cell_type": "code",
   "execution_count": null,
   "id": "a9fe3376",
   "metadata": {},
   "outputs": [],
   "source": []
  },
  {
   "cell_type": "code",
   "execution_count": null,
   "id": "21e38d47",
   "metadata": {},
   "outputs": [],
   "source": []
  },
  {
   "cell_type": "code",
   "execution_count": null,
   "id": "c788e2a0",
   "metadata": {},
   "outputs": [],
   "source": []
  },
  {
   "cell_type": "code",
   "execution_count": null,
   "id": "5850c9b3",
   "metadata": {},
   "outputs": [],
   "source": []
  },
  {
   "cell_type": "markdown",
   "id": "e9853724",
   "metadata": {},
   "source": [
    "#### elif"
   ]
  },
  {
   "cell_type": "code",
   "execution_count": null,
   "id": "e412179a",
   "metadata": {},
   "outputs": [],
   "source": []
  },
  {
   "cell_type": "code",
   "execution_count": null,
   "id": "4dda7878",
   "metadata": {},
   "outputs": [],
   "source": []
  },
  {
   "cell_type": "code",
   "execution_count": null,
   "id": "3862a96a",
   "metadata": {},
   "outputs": [],
   "source": []
  },
  {
   "cell_type": "code",
   "execution_count": null,
   "id": "eeda402d",
   "metadata": {},
   "outputs": [],
   "source": []
  },
  {
   "cell_type": "code",
   "execution_count": null,
   "id": "81b42c20",
   "metadata": {},
   "outputs": [],
   "source": []
  },
  {
   "cell_type": "markdown",
   "id": "9d960703",
   "metadata": {},
   "source": [
    "### mutliple if's"
   ]
  },
  {
   "cell_type": "code",
   "execution_count": null,
   "id": "acdce1ca",
   "metadata": {},
   "outputs": [],
   "source": []
  },
  {
   "cell_type": "code",
   "execution_count": null,
   "id": "c55aee4b",
   "metadata": {},
   "outputs": [],
   "source": []
  },
  {
   "cell_type": "code",
   "execution_count": null,
   "id": "7e066cbf",
   "metadata": {},
   "outputs": [],
   "source": []
  },
  {
   "cell_type": "code",
   "execution_count": null,
   "id": "396f2ed0",
   "metadata": {},
   "outputs": [],
   "source": []
  },
  {
   "cell_type": "code",
   "execution_count": null,
   "id": "fd8bb3f4",
   "metadata": {},
   "outputs": [],
   "source": []
  },
  {
   "cell_type": "code",
   "execution_count": null,
   "id": "216f741a",
   "metadata": {},
   "outputs": [],
   "source": []
  },
  {
   "cell_type": "markdown",
   "id": "4a45a011",
   "metadata": {},
   "source": [
    "### Looping statement"
   ]
  },
  {
   "cell_type": "markdown",
   "id": "ec4d6e89",
   "metadata": {},
   "source": [
    "#### for loop"
   ]
  },
  {
   "cell_type": "code",
   "execution_count": 2,
   "id": "16176235",
   "metadata": {},
   "outputs": [
    {
     "data": {
      "text/plain": [
       "[0, 1, 2, 3, 4, 5, 6, 7, 8, 9]"
      ]
     },
     "execution_count": 2,
     "metadata": {},
     "output_type": "execute_result"
    }
   ],
   "source": [
    "list(range(10))"
   ]
  },
  {
   "cell_type": "code",
   "execution_count": 4,
   "id": "a280d52b",
   "metadata": {},
   "outputs": [
    {
     "name": "stdout",
     "output_type": "stream",
     "text": [
      "0 1 2 3 4 5 6 7 8 9 "
     ]
    }
   ],
   "source": [
    "for i in range(10):\n",
    "    print(i,end=\" \")"
   ]
  },
  {
   "cell_type": "code",
   "execution_count": 7,
   "id": "14046122",
   "metadata": {},
   "outputs": [
    {
     "name": "stdout",
     "output_type": "stream",
     "text": [
      "10 9 8 7 6 5 4 3 2 1 "
     ]
    }
   ],
   "source": [
    "for i in range(10,0,-1):\n",
    "    print(i , end=\" \")"
   ]
  },
  {
   "cell_type": "markdown",
   "id": "abbe06ac",
   "metadata": {},
   "source": [
    "### list"
   ]
  },
  {
   "cell_type": "code",
   "execution_count": 9,
   "id": "3d9fed2d",
   "metadata": {},
   "outputs": [],
   "source": [
    "cars= [\"Kia\",\"Alto\",\"BMW\",\"Swift\"]\n",
    "# print base for loop\n",
    "# range base for loop -> (list , tuple , str)\n",
    "\n",
    " "
   ]
  },
  {
   "cell_type": "code",
   "execution_count": 10,
   "id": "ff1d98cb",
   "metadata": {},
   "outputs": [
    {
     "name": "stdout",
     "output_type": "stream",
     "text": [
      "Kia <class 'str'>\n",
      "Alto <class 'str'>\n",
      "BMW <class 'str'>\n",
      "Swift <class 'str'>\n"
     ]
    }
   ],
   "source": [
    "for data in cars:\n",
    "    print(data , type(data))"
   ]
  },
  {
   "cell_type": "code",
   "execution_count": 12,
   "id": "c4247376",
   "metadata": {},
   "outputs": [
    {
     "name": "stdout",
     "output_type": "stream",
     "text": [
      "0 Kia\n",
      "1 Alto\n",
      "2 BMW\n",
      "3 Swift\n"
     ]
    }
   ],
   "source": [
    "for i in range(len(cars)):\n",
    "    print(i ,cars[i])"
   ]
  },
  {
   "cell_type": "code",
   "execution_count": 13,
   "id": "c5d1b0d8",
   "metadata": {},
   "outputs": [],
   "source": [
    "for i in range(len(cars)):\n",
    "    if (i==2):\n",
    "        cars[i]=\"Tata\""
   ]
  },
  {
   "cell_type": "code",
   "execution_count": 14,
   "id": "c3ae8db1",
   "metadata": {},
   "outputs": [
    {
     "name": "stdout",
     "output_type": "stream",
     "text": [
      "['Kia', 'Alto', 'Tata', 'Swift']\n"
     ]
    }
   ],
   "source": [
    "print(cars)"
   ]
  },
  {
   "cell_type": "code",
   "execution_count": 16,
   "id": "2bf78772",
   "metadata": {},
   "outputs": [
    {
     "name": "stdout",
     "output_type": "stream",
     "text": [
      "0123456789"
     ]
    }
   ],
   "source": [
    "for _ in range(10):\n",
    "    print(_ ,end=\"\")"
   ]
  },
  {
   "cell_type": "code",
   "execution_count": 17,
   "id": "360a55cd",
   "metadata": {},
   "outputs": [
    {
     "name": "stdout",
     "output_type": "stream",
     "text": [
      "0 0\n",
      "0 1\n",
      "0 2\n",
      "\n",
      "1 0\n",
      "1 1\n",
      "1 2\n",
      "\n"
     ]
    }
   ],
   "source": [
    "for i in range(2):\n",
    "    for j in range(3):\n",
    "        print(i,j)\n",
    "    print()"
   ]
  },
  {
   "cell_type": "code",
   "execution_count": 18,
   "id": "e2620536",
   "metadata": {},
   "outputs": [
    {
     "name": "stdout",
     "output_type": "stream",
     "text": [
      "0 0 0\n",
      "0 0 1\n",
      "\n",
      "0 1 0\n",
      "0 1 1\n",
      "\n",
      "0 2 0\n",
      "0 2 1\n",
      "\n",
      "0 3 0\n",
      "0 3 1\n",
      "\n",
      "\n",
      "1 0 0\n",
      "1 0 1\n",
      "\n",
      "1 1 0\n",
      "1 1 1\n",
      "\n",
      "1 2 0\n",
      "1 2 1\n",
      "\n",
      "1 3 0\n",
      "1 3 1\n",
      "\n",
      "\n",
      "2 0 0\n",
      "2 0 1\n",
      "\n",
      "2 1 0\n",
      "2 1 1\n",
      "\n",
      "2 2 0\n",
      "2 2 1\n",
      "\n",
      "2 3 0\n",
      "2 3 1\n",
      "\n",
      "\n",
      "3 0 0\n",
      "3 0 1\n",
      "\n",
      "3 1 0\n",
      "3 1 1\n",
      "\n",
      "3 2 0\n",
      "3 2 1\n",
      "\n",
      "3 3 0\n",
      "3 3 1\n",
      "\n",
      "\n",
      "count is 32\n"
     ]
    }
   ],
   "source": [
    "count=0\n",
    "for i in range(4):\n",
    "    for j in range(4):\n",
    "        for k in range(2):\n",
    "            print(i,j,k)\n",
    "            count+=1\n",
    "        print()\n",
    "    print()\n",
    "    \n",
    "print(f\"count is {count}\")"
   ]
  },
  {
   "cell_type": "code",
   "execution_count": 19,
   "id": "8e80d816",
   "metadata": {},
   "outputs": [
    {
     "name": "stdout",
     "output_type": "stream",
     "text": [
      "9\n",
      "9 * 1 = 9\n",
      "9 * 2 = 18\n",
      "9 * 3 = 27\n",
      "9 * 4 = 36\n",
      "9 * 5 = 45\n",
      "9 * 6 = 54\n",
      "9 * 7 = 63\n",
      "9 * 8 = 72\n",
      "9 * 9 = 81\n",
      "9 * 10 = 90\n"
     ]
    }
   ],
   "source": [
    "\n",
    "num = int(input())\n",
    "\n",
    "for i in range(1,11):\n",
    "    print(f'{num} * {i} = {num*i}')"
   ]
  },
  {
   "cell_type": "code",
   "execution_count": 20,
   "id": "40a48e5e",
   "metadata": {},
   "outputs": [
    {
     "name": "stdout",
     "output_type": "stream",
     "text": [
      "the length is 6\n",
      "Microsoft 1 , True 2 , 1729 3 , 100000000000.0 4 , (5+2j) 5 , "
     ]
    },
    {
     "ename": "IndexError",
     "evalue": "list index out of range",
     "output_type": "error",
     "traceback": [
      "\u001b[1;31m---------------------------------------------------------------------------\u001b[0m",
      "\u001b[1;31mIndexError\u001b[0m                                Traceback (most recent call last)",
      "\u001b[1;32m<ipython-input-20-2999e328c28f>\u001b[0m in \u001b[0;36m<module>\u001b[1;34m\u001b[0m\n\u001b[0;32m      8\u001b[0m \u001b[1;32mfor\u001b[0m \u001b[0mi\u001b[0m \u001b[1;32min\u001b[0m \u001b[0mrange\u001b[0m\u001b[1;33m(\u001b[0m\u001b[0mlen\u001b[0m\u001b[1;33m(\u001b[0m\u001b[0mcomp\u001b[0m\u001b[1;33m)\u001b[0m\u001b[1;33m)\u001b[0m\u001b[1;33m:\u001b[0m \u001b[1;31m#i->0 - n-1\u001b[0m\u001b[1;33m\u001b[0m\u001b[1;33m\u001b[0m\u001b[0m\n\u001b[0;32m      9\u001b[0m     \u001b[0mi\u001b[0m\u001b[1;33m+=\u001b[0m\u001b[1;36m1\u001b[0m\u001b[1;33m\u001b[0m\u001b[1;33m\u001b[0m\u001b[0m\n\u001b[1;32m---> 10\u001b[1;33m     \u001b[0mprint\u001b[0m\u001b[1;33m(\u001b[0m\u001b[0mcomp\u001b[0m\u001b[1;33m[\u001b[0m\u001b[0mi\u001b[0m\u001b[1;33m]\u001b[0m \u001b[1;33m,\u001b[0m\u001b[0mi\u001b[0m \u001b[1;33m,\u001b[0m \u001b[0mend\u001b[0m\u001b[1;33m=\u001b[0m\u001b[1;34m\" , \"\u001b[0m\u001b[1;33m)\u001b[0m\u001b[1;33m\u001b[0m\u001b[1;33m\u001b[0m\u001b[0m\n\u001b[0m\u001b[0;32m     11\u001b[0m \u001b[1;33m\u001b[0m\u001b[0m\n\u001b[0;32m     12\u001b[0m \u001b[0mprint\u001b[0m\u001b[1;33m(\u001b[0m\u001b[1;33m)\u001b[0m\u001b[1;33m\u001b[0m\u001b[1;33m\u001b[0m\u001b[0m\n",
      "\u001b[1;31mIndexError\u001b[0m: list index out of range"
     ]
    }
   ],
   "source": [
    "comp = [\"Google\",\"Microsoft\",True , 1729 , 10e10 , 5+2j] #0-5\n",
    "\n",
    "\n",
    "n = len(comp) #6\n",
    "\n",
    "print(f\"the length is {n}\")\n",
    "\n",
    "for i in range(len(comp)): #i->0 - n-1\n",
    "    i+=1\n",
    "    print(comp[i] ,i , end=\" , \")\n",
    "\n",
    "print()\n",
    "print(comp)\n"
   ]
  },
  {
   "cell_type": "code",
   "execution_count": 21,
   "id": "cb394f27",
   "metadata": {},
   "outputs": [
    {
     "name": "stdout",
     "output_type": "stream",
     "text": [
      "['Google', 'Microsoft', True, 1729, 100000000000.0, 'Ganesh']\n"
     ]
    }
   ],
   "source": [
    "comp = [\"Google\",\"Microsoft\",True , 1729 , 10e10 , 5+2j]\n",
    "\n",
    "for i in range(len(comp)): #0-5\n",
    "    if(i==len(comp)-1):\n",
    "        comp[i]=\"Ganesh\"\n",
    "        \n",
    "print(comp)"
   ]
  },
  {
   "cell_type": "code",
   "execution_count": 22,
   "id": "4d2742a5",
   "metadata": {},
   "outputs": [
    {
     "name": "stdout",
     "output_type": "stream",
     "text": [
      "3\n",
      "<class 'list'> ['SBI', 370]\n",
      "stock price is 370\n",
      "<class 'tuple'> ('TCS', 122)\n",
      "stock price is 122\n",
      "<class 'list'> ['INDO', 278]\n",
      "stock price is 278\n",
      "(['SBI', 432], ('TCS', 122), ['INDO', 278])\n"
     ]
    }
   ],
   "source": [
    "stock = ([\"SBI\",370],(\"TCS\",122) , [\"INDO\",278])\n",
    "\n",
    "n = len(stock)\n",
    "print(n)\n",
    "\n",
    "for i in range(n):#0-2\n",
    "    print(type(stock[i]),stock[i])\n",
    "    print(f'stock price is {stock[i][1]}')\n",
    "    if(stock[i][0]==\"SBI\"):\n",
    "        stock[i][1]=432\n",
    "    \n",
    "print(stock)"
   ]
  },
  {
   "cell_type": "code",
   "execution_count": 23,
   "id": "d3d195c1",
   "metadata": {},
   "outputs": [
    {
     "name": "stdout",
     "output_type": "stream",
     "text": [
      "A\n",
      "B\n",
      "C\n"
     ]
    },
    {
     "ename": "TypeError",
     "evalue": "'set' object is not subscriptable",
     "output_type": "error",
     "traceback": [
      "\u001b[1;31m---------------------------------------------------------------------------\u001b[0m",
      "\u001b[1;31mTypeError\u001b[0m                                 Traceback (most recent call last)",
      "\u001b[1;32m<ipython-input-23-f9f2b3ef25bb>\u001b[0m in \u001b[0;36m<module>\u001b[1;34m\u001b[0m\n\u001b[0;32m      6\u001b[0m \u001b[1;32mfor\u001b[0m \u001b[0mi\u001b[0m \u001b[1;32min\u001b[0m \u001b[0mfruits\u001b[0m\u001b[1;33m:\u001b[0m\u001b[1;33m\u001b[0m\u001b[1;33m\u001b[0m\u001b[0m\n\u001b[0;32m      7\u001b[0m     \u001b[0mprint\u001b[0m\u001b[1;33m(\u001b[0m\u001b[0mi\u001b[0m\u001b[1;33m)\u001b[0m\u001b[1;33m\u001b[0m\u001b[1;33m\u001b[0m\u001b[0m\n\u001b[1;32m----> 8\u001b[1;33m \u001b[0mprint\u001b[0m\u001b[1;33m(\u001b[0m\u001b[0mfruits\u001b[0m\u001b[1;33m[\u001b[0m\u001b[1;36m0\u001b[0m\u001b[1;33m]\u001b[0m\u001b[1;33m)\u001b[0m\u001b[1;33m\u001b[0m\u001b[1;33m\u001b[0m\u001b[0m\n\u001b[0m",
      "\u001b[1;31mTypeError\u001b[0m: 'set' object is not subscriptable"
     ]
    }
   ],
   "source": [
    "#set  unordered unindexed\n",
    "# set removes duplicates\n",
    "\n",
    "fruits = {\"A\",\"B\",\"C\",\"A\",\"B\"}\n",
    "\n",
    "for i in fruits:\n",
    "    print(i)\n",
    "print(fruits[0])"
   ]
  },
  {
   "cell_type": "code",
   "execution_count": 24,
   "id": "b76c8e8c",
   "metadata": {},
   "outputs": [
    {
     "name": "stdout",
     "output_type": "stream",
     "text": [
      "Name\n",
      "Address\n",
      "Salary\n",
      "Role\n"
     ]
    }
   ],
   "source": [
    "#dict \n",
    "#key = immutables \n",
    "#values =immu & mutable : both\n",
    "student = {\n",
    "    \"Name\": \"Ellie\",\n",
    "    \"Address\":\"USA\",\n",
    "    \"Salary\":4000,\n",
    "    \"Role\":\"SDE\"\n",
    "}\n",
    "\n",
    "\n",
    "for item in student: # print only the keys\n",
    "    print(item)"
   ]
  },
  {
   "cell_type": "code",
   "execution_count": 25,
   "id": "ff38590b",
   "metadata": {},
   "outputs": [
    {
     "name": "stdout",
     "output_type": "stream",
     "text": [
      "Name Ellie\n",
      "Address USA\n",
      "Salary 4000\n",
      "Role SDE\n"
     ]
    }
   ],
   "source": [
    "for item in student: # print only the keys\n",
    "    print(item , student[item])"
   ]
  },
  {
   "cell_type": "code",
   "execution_count": 27,
   "id": "a8ba627a",
   "metadata": {},
   "outputs": [
    {
     "name": "stdout",
     "output_type": "stream",
     "text": [
      "Name Ellie\n",
      "Address USA\n",
      "Salary 4000\n",
      "Role SDE\n"
     ]
    }
   ],
   "source": [
    "for k in student.keys(): \n",
    "    print(k,student[k])"
   ]
  },
  {
   "cell_type": "code",
   "execution_count": 29,
   "id": "35f8768c",
   "metadata": {},
   "outputs": [
    {
     "name": "stdout",
     "output_type": "stream",
     "text": [
      "Name Ellie\n",
      "Address USA\n",
      "Salary 4000\n",
      "Role SDE\n"
     ]
    }
   ],
   "source": [
    "for k in student.keys(): \n",
    "    print(k,student.get(k))"
   ]
  },
  {
   "cell_type": "code",
   "execution_count": 28,
   "id": "2f1530bc",
   "metadata": {},
   "outputs": [
    {
     "name": "stdout",
     "output_type": "stream",
     "text": [
      "Ellie\n",
      "USA\n",
      "4000\n",
      "SDE\n"
     ]
    }
   ],
   "source": [
    "for val in student.values():\n",
    "    print(val)"
   ]
  },
  {
   "cell_type": "code",
   "execution_count": 30,
   "id": "a9b46abd",
   "metadata": {},
   "outputs": [
    {
     "data": {
      "text/plain": [
       "dict_items([('Name', 'Ellie'), ('Address', 'USA'), ('Salary', 4000), ('Role', 'SDE')])"
      ]
     },
     "execution_count": 30,
     "metadata": {},
     "output_type": "execute_result"
    }
   ],
   "source": [
    "student.items()"
   ]
  },
  {
   "cell_type": "code",
   "execution_count": 31,
   "id": "2a64179d",
   "metadata": {},
   "outputs": [
    {
     "name": "stdout",
     "output_type": "stream",
     "text": [
      "('Name', 'Ellie')\n",
      "('Address', 'USA')\n",
      "('Salary', 4000)\n",
      "('Role', 'SDE')\n"
     ]
    }
   ],
   "source": [
    "for it in student.items():\n",
    "    print(it)"
   ]
  },
  {
   "cell_type": "code",
   "execution_count": 32,
   "id": "ff6df3e8",
   "metadata": {},
   "outputs": [
    {
     "name": "stdout",
     "output_type": "stream",
     "text": [
      "Name Ellie\n",
      "Address USA\n",
      "Salary 4000\n",
      "Role SDE\n"
     ]
    }
   ],
   "source": [
    "for k,v in student.items():\n",
    "    print(k,v)"
   ]
  },
  {
   "cell_type": "code",
   "execution_count": 33,
   "id": "3c05eb48",
   "metadata": {},
   "outputs": [
    {
     "name": "stdout",
     "output_type": "stream",
     "text": [
      "{'Name': 'Ellie', 'Address': 'USA', 'Salary': 4000, 'Role': 'ML Eng'}\n"
     ]
    }
   ],
   "source": [
    "for k in student.keys():\n",
    "    if student[k] ==\"SDE\":\n",
    "        student[k]=\"ML Eng\"\n",
    "        \n",
    "print(student)"
   ]
  },
  {
   "cell_type": "code",
   "execution_count": 34,
   "id": "633d615a",
   "metadata": {},
   "outputs": [
    {
     "name": "stdout",
     "output_type": "stream",
     "text": [
      "('sairam', 'python', 1000) sairam python 1000\n",
      "('Ak', 'Java', 700) Ak Java 700\n",
      "('Stu', 'Ruby', 600) Stu Ruby 600\n"
     ]
    }
   ],
   "source": [
    "a=[(\"sairam\",\"python\",1000),(\"Ak\",\"Java\",700),(\"Stu\",\"Ruby\",600)]\n",
    "\n",
    "for x in a:\n",
    "    print(x,x[0],x[1],x[2])"
   ]
  },
  {
   "cell_type": "code",
   "execution_count": 35,
   "id": "3bfa96aa",
   "metadata": {},
   "outputs": [
    {
     "name": "stdout",
     "output_type": "stream",
     "text": [
      "sairam python 1000\n",
      "Ak Java 700\n",
      "Stu Ruby 600\n"
     ]
    }
   ],
   "source": [
    "for x,y,z in a:\n",
    "    print(x,y,z)"
   ]
  },
  {
   "cell_type": "code",
   "execution_count": 36,
   "id": "270a23cf",
   "metadata": {},
   "outputs": [
    {
     "name": "stdout",
     "output_type": "stream",
     "text": [
      "A\n",
      "98\n",
      "True\n",
      "\n",
      "B\n",
      "99\n",
      "False\n",
      "\n"
     ]
    }
   ],
   "source": [
    "#nested for loop\n",
    "some_list = [(\"A\",98,True),(\"B\",\"99\",False)]\n",
    "for i in some_list:\n",
    "    for j in i:\n",
    "        print(j)\n",
    "    print()"
   ]
  },
  {
   "cell_type": "code",
   "execution_count": 44,
   "id": "2f571193",
   "metadata": {},
   "outputs": [
    {
     "name": "stdout",
     "output_type": "stream",
     "text": [
      "A\n",
      "98\n",
      "True\n",
      "B\n",
      "99\n",
      "False\n"
     ]
    }
   ],
   "source": [
    "for i in range(len(some_list)):\n",
    "    for j in range(len(some_list[i])):\n",
    "        print(some_list[i][j])"
   ]
  },
  {
   "cell_type": "markdown",
   "id": "c7da0c74",
   "metadata": {},
   "source": [
    "### Else with For"
   ]
  },
  {
   "cell_type": "code",
   "execution_count": 1,
   "id": "fc85ae2c",
   "metadata": {},
   "outputs": [
    {
     "name": "stdout",
     "output_type": "stream",
     "text": [
      "else block\n"
     ]
    }
   ],
   "source": [
    "a =10\n",
    "b= 20\n",
    "if a>b:\n",
    "    print(\"snjknld\")\n",
    "else: #False\n",
    "    print(\"else block\")"
   ]
  },
  {
   "cell_type": "code",
   "execution_count": 2,
   "id": "f688c98e",
   "metadata": {},
   "outputs": [
    {
     "name": "stdout",
     "output_type": "stream",
     "text": [
      "s w a t i  Printed Successfully\n"
     ]
    }
   ],
   "source": [
    "for i in \"swati\":\n",
    "    print(i ,end=\" \")\n",
    "else: #when for loop is excecuted fully\n",
    "    print(\" Printed Successfully\")"
   ]
  },
  {
   "cell_type": "code",
   "execution_count": 4,
   "id": "b33a9fef",
   "metadata": {},
   "outputs": [
    {
     "name": "stdout",
     "output_type": "stream",
     "text": [
      "Swa"
     ]
    }
   ],
   "source": [
    "#else block is executed when for loop is compeltely executed all iterations\n",
    "for i in \"Swati\":\n",
    "    print(i ,end=\"\")\n",
    "    if(i=='a'):\n",
    "        break\n",
    "else: #no break or when for loop runs fully\n",
    "    print(\" Printed Successfully\")"
   ]
  },
  {
   "cell_type": "code",
   "execution_count": null,
   "id": "09731fec",
   "metadata": {},
   "outputs": [],
   "source": []
  }
 ],
 "metadata": {
  "kernelspec": {
   "display_name": "Python 3",
   "language": "python",
   "name": "python3"
  },
  "language_info": {
   "codemirror_mode": {
    "name": "ipython",
    "version": 3
   },
   "file_extension": ".py",
   "mimetype": "text/x-python",
   "name": "python",
   "nbconvert_exporter": "python",
   "pygments_lexer": "ipython3",
   "version": "3.8.8"
  }
 },
 "nbformat": 4,
 "nbformat_minor": 5
}
