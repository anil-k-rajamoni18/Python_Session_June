{
 "cells": [
  {
   "cell_type": "code",
   "execution_count": null,
   "metadata": {},
   "outputs": [],
   "source": [
    "from IPython.core.interactiveshell import InteractiveShell\n",
    "InteractiveShell.ast_node_interactivity = \"all\""
   ]
  },
  {
   "cell_type": "markdown",
   "metadata": {},
   "source": [
    "### Types of Copy\n",
    "\n",
    "**In Python, we use = operator to create a copy of an object. You may think that this creates a new object; it doesn't. It only creates a new variable that shares the reference of the original object.**"
   ]
  },
  {
   "cell_type": "code",
   "execution_count": null,
   "metadata": {},
   "outputs": [],
   "source": [
    "a = {10,20}\n",
    "b = {10}\n",
    "print(id(a))\n",
    "print(id(b))\n",
    "print(a==b)\n",
    "c = a\n",
    "print(a==c)\n",
    "print(id(a) == id(c))\n",
    "print(a is c) # is operator is used to compare the mem addr"
   ]
  },
  {
   "cell_type": "code",
   "execution_count": null,
   "metadata": {},
   "outputs": [],
   "source": []
  },
  {
   "cell_type": "code",
   "execution_count": null,
   "metadata": {},
   "outputs": [],
   "source": [
    "old_list = [[1, 2, 3], [4, 5, 6], [7, 8, 'a']]\n",
    "new_list = old_list # reference\n",
    "\n",
    "new_list[2][2] = 9\n",
    "\n",
    "print('Old List:', old_list)\n",
    "print('ID of Old List:', id(old_list[0]))\n",
    "\n",
    "print('New List:', new_list)\n",
    "print('ID of New List:', id(new_list[0]))\n",
    "\n",
    "\n",
    "# As you can see from the output both variables old_list and new_list shares the \n",
    "# same id i.e 1400322300872"
   ]
  },
  {
   "cell_type": "markdown",
   "metadata": {},
   "source": [
    "Essentially, sometimes you may want to have the original values unchanged and only modify the new values or vice versa. In Python, there are two ways to create copies:\n",
    "\n",
    "- Shallow Copy\n",
    "- Deep Copy\n",
    "\n",
    "To make these copy work, we use the copy module."
   ]
  },
  {
   "cell_type": "markdown",
   "metadata": {},
   "source": [
    "### Shallow Copy\n",
    "\n",
    "A shallow copy creates a new object which stores the reference of the original elements.\n",
    "\n",
    "So, a shallow copy doesn't create a copy of nested objects, instead it just copies the reference of nested objects. This means, a copy process does not recurse or create copies of nested objects itself."
   ]
  },
  {
   "cell_type": "code",
   "execution_count": null,
   "metadata": {},
   "outputs": [],
   "source": [
    "import copy\n",
    "\n",
    "old_list = [[1, 2, 3], [4, 5, 6], [7, 8, 9]]\n",
    "\n",
    "new_list = copy.copy(old_list) #SHALLOW COPY\n",
    "\n",
    "print(\"Old list:\", old_list)\n",
    "print(\"New list:\", new_list)\n",
    "\n",
    "print(id(old_list) , id(new_list))\n",
    "\n",
    "# old_list.append([4, 4, 4]) # appending\n",
    "\n",
    "\n",
    "\n",
    "# print(\"Old list:\", old_list)\n",
    "# print(\"New list:\", new_list)\n",
    "# print(id(old_list[0]), id(new_list[0]))"
   ]
  },
  {
   "cell_type": "code",
   "execution_count": null,
   "metadata": {},
   "outputs": [],
   "source": [
    "import copy\n",
    "\n",
    "old_list = [[1, 1, 1], [2, 2, 2], [3, 3, 3]]\n",
    "new_list = copy.copy(old_list)\n",
    "\n",
    "print(id(old_list[2]),id(new_list[2]))\n",
    "old_list[1][1] = 'AA'\n",
    "new_list[2][0] = 'AK'\n",
    "\n",
    "print(\"Old list:\", old_list)\n",
    "print(\"New list:\", new_list)"
   ]
  },
  {
   "cell_type": "markdown",
   "metadata": {},
   "source": [
    "### Deep Copy\n",
    "A deep copy creates a new object and recursively adds the copies of nested objects present in the original elements."
   ]
  },
  {
   "cell_type": "code",
   "execution_count": null,
   "metadata": {},
   "outputs": [],
   "source": [
    "import copy\n",
    "\n",
    "old_list = [[1, 1, 1], [2, 2, 2], [3, 3, 3]]\n",
    "new_list = copy.deepcopy(old_list)\n",
    "\n",
    "old_list[1][0] = 'BB'\n",
    "\n",
    "print(\"Old list:\", old_list)\n",
    "print(\"New list:\", new_list)\n",
    "id(old_list[0]),id(new_list[0])"
   ]
  },
  {
   "cell_type": "code",
   "execution_count": null,
   "metadata": {},
   "outputs": [],
   "source": [
    "a = [[1,0],(2,0)]\n",
    "b = a.copy() # shallow\n",
    "\n",
    "print(id(a) , id(b))\n",
    "print(id(a[0]) , id(b[0]))"
   ]
  },
  {
   "cell_type": "code",
   "execution_count": null,
   "metadata": {},
   "outputs": [],
   "source": []
  },
  {
   "cell_type": "markdown",
   "metadata": {},
   "source": [
    "### Data Types Functions\n",
    "\n",
    "\n",
    "- Text Type:\tstr\n",
    "- Numeric Types:\tint, float, complex\n",
    "- Sequence Types:\tlist, tuple, range\n",
    "- Mapping Type:\tdict\n",
    "- Set Types:\tset, frozenset\n",
    "- Boolean Type:\tbool\n",
    "- Binary Types:\tbytes, bytearray, memoryview"
   ]
  },
  {
   "cell_type": "code",
   "execution_count": null,
   "metadata": {},
   "outputs": [],
   "source": [
    "x = \"Hello World\"\n",
    "type(x)\n",
    "\n",
    "x = 20\n",
    "type(x)\n",
    "\n",
    "x = 20.5\n",
    "type(x)\n",
    "\n",
    "\n",
    "x = 1j\n",
    "type(x)\n",
    "\n",
    "\n",
    "x = [\"apple\", \"banana\", \"cherry\"]\n",
    "type(x)\n",
    "\n",
    "\n",
    "x = (\"apple\", \"banana\", \"cherry\")\n",
    "type(x)\n",
    "\n",
    "\n",
    "x = range(6)\n",
    "type(x)\n",
    "\n",
    "\n",
    "x = {\"name\" : \"John\", \"age\" : 36}\n",
    "type(x)\n",
    "\n",
    "\n",
    "\n",
    "x = {\"apple\", \"banana\", \"cherry\"}\n",
    "type(x)\n",
    "\n",
    "\n",
    "x = frozenset({\"apple\", \"banana\", \"cherry\"})\n",
    "type(x)\n",
    "\n",
    "\n",
    "x = True\n",
    "type(x)\n",
    "\n",
    "\n",
    "x=b\"Hello\"\n",
    "type(x)\n",
    "\n",
    "\n",
    "x=bytearray(5)\n",
    "type(x)\n",
    "\n",
    "x=memoryview(bytes(5))\n",
    "\n",
    "type(x)"
   ]
  },
  {
   "cell_type": "markdown",
   "metadata": {},
   "source": [
    "### string methods"
   ]
  },
  {
   "cell_type": "code",
   "execution_count": null,
   "metadata": {},
   "outputs": [],
   "source": [
    "s = \"python is interpreted language\""
   ]
  },
  {
   "cell_type": "code",
   "execution_count": null,
   "metadata": {},
   "outputs": [],
   "source": [
    "chr(65)"
   ]
  },
  {
   "cell_type": "code",
   "execution_count": null,
   "metadata": {},
   "outputs": [],
   "source": [
    "ord(\"a\")"
   ]
  },
  {
   "cell_type": "code",
   "execution_count": null,
   "metadata": {},
   "outputs": [],
   "source": [
    "type(s)"
   ]
  },
  {
   "cell_type": "code",
   "execution_count": null,
   "metadata": {},
   "outputs": [],
   "source": [
    "dir(s)"
   ]
  },
  {
   "cell_type": "code",
   "execution_count": null,
   "metadata": {},
   "outputs": [],
   "source": [
    "#length of str  len(s)\n",
    "len(s) #0-29"
   ]
  },
  {
   "cell_type": "code",
   "execution_count": null,
   "metadata": {},
   "outputs": [],
   "source": [
    "s"
   ]
  },
  {
   "cell_type": "code",
   "execution_count": null,
   "metadata": {},
   "outputs": [],
   "source": [
    "# capitalize\n",
    "s.capitalize() #not inplace method , we have to store in same variable or other variable to reflect the changes."
   ]
  },
  {
   "cell_type": "code",
   "execution_count": null,
   "metadata": {},
   "outputs": [],
   "source": [
    "s"
   ]
  },
  {
   "cell_type": "code",
   "execution_count": null,
   "metadata": {},
   "outputs": [],
   "source": [
    "a=\"veMuriAAA sbmsbmAAAA\"\n",
    "a.casefold() #convert into the lower case."
   ]
  },
  {
   "cell_type": "code",
   "execution_count": null,
   "metadata": {},
   "outputs": [],
   "source": [
    "a"
   ]
  },
  {
   "cell_type": "code",
   "execution_count": null,
   "metadata": {},
   "outputs": [],
   "source": [
    "s.casefold()"
   ]
  },
  {
   "cell_type": "code",
   "execution_count": null,
   "metadata": {},
   "outputs": [],
   "source": [
    "s\n",
    "len(s)"
   ]
  },
  {
   "cell_type": "code",
   "execution_count": null,
   "metadata": {},
   "outputs": [],
   "source": [
    "s.center(37 , \" \")"
   ]
  },
  {
   "cell_type": "code",
   "execution_count": null,
   "metadata": {},
   "outputs": [],
   "source": [
    "s.center(35 , \"?\")"
   ]
  },
  {
   "cell_type": "code",
   "execution_count": null,
   "metadata": {},
   "outputs": [],
   "source": [
    "s.center(30 , \"?\")"
   ]
  },
  {
   "cell_type": "code",
   "execution_count": null,
   "metadata": {},
   "outputs": [],
   "source": [
    "s"
   ]
  },
  {
   "cell_type": "code",
   "execution_count": null,
   "metadata": {},
   "outputs": [],
   "source": [
    "s.count(\"i\") #to count the occurences"
   ]
  },
  {
   "cell_type": "code",
   "execution_count": null,
   "metadata": {},
   "outputs": [],
   "source": [
    "s.count(\"i\",0,10)"
   ]
  },
  {
   "cell_type": "code",
   "execution_count": null,
   "metadata": {},
   "outputs": [],
   "source": [
    "s.count(\"z\")"
   ]
  },
  {
   "cell_type": "code",
   "execution_count": null,
   "metadata": {},
   "outputs": [],
   "source": []
  },
  {
   "cell_type": "code",
   "execution_count": null,
   "metadata": {},
   "outputs": [],
   "source": [
    "s[0] =\" kls\" #error #immutables"
   ]
  },
  {
   "cell_type": "code",
   "execution_count": null,
   "metadata": {},
   "outputs": [],
   "source": [
    "s\n",
    "s[-1]\n",
    "#string supports indexing & slicing"
   ]
  },
  {
   "cell_type": "code",
   "execution_count": null,
   "metadata": {},
   "outputs": [],
   "source": [
    "s[0:4:1]"
   ]
  },
  {
   "cell_type": "code",
   "execution_count": null,
   "metadata": {},
   "outputs": [],
   "source": [
    "s[::-1]"
   ]
  },
  {
   "cell_type": "code",
   "execution_count": null,
   "metadata": {},
   "outputs": [],
   "source": [
    "s[len(s)-1]"
   ]
  },
  {
   "cell_type": "code",
   "execution_count": null,
   "metadata": {},
   "outputs": [],
   "source": [
    "s[len(s)-1]"
   ]
  },
  {
   "cell_type": "code",
   "execution_count": null,
   "metadata": {},
   "outputs": [],
   "source": [
    "s[-1:-(len(s)+1):-1]"
   ]
  },
  {
   "cell_type": "code",
   "execution_count": null,
   "metadata": {},
   "outputs": [],
   "source": [
    "s.count(\"e\")"
   ]
  },
  {
   "cell_type": "code",
   "execution_count": null,
   "metadata": {},
   "outputs": [],
   "source": [
    "s.count(\"e\",15,40)"
   ]
  },
  {
   "cell_type": "code",
   "execution_count": null,
   "metadata": {},
   "outputs": [],
   "source": []
  },
  {
   "cell_type": "code",
   "execution_count": null,
   "metadata": {},
   "outputs": [],
   "source": [
    "s.encode() #str->bytes\n",
    "\n",
    "type(s.encode()) "
   ]
  },
  {
   "cell_type": "code",
   "execution_count": null,
   "metadata": {},
   "outputs": [],
   "source": [
    "type(s)"
   ]
  },
  {
   "cell_type": "code",
   "execution_count": null,
   "metadata": {},
   "outputs": [],
   "source": [
    "s\n",
    "s.endswith(\"language\")"
   ]
  },
  {
   "cell_type": "code",
   "execution_count": null,
   "metadata": {},
   "outputs": [],
   "source": [
    "s = \"asbbabsbc\"\n",
    "print(s.endswith(\"c\"))"
   ]
  },
  {
   "cell_type": "code",
   "execution_count": null,
   "metadata": {},
   "outputs": [],
   "source": [
    "#\\n new line\n",
    "#\\t tab\n",
    "#espace sequences\n"
   ]
  },
  {
   "cell_type": "code",
   "execution_count": null,
   "metadata": {},
   "outputs": [],
   "source": [
    "txt = \"H \\n e \\t l \\t l\\t o\"\n",
    "print(txt)\n",
    "\n",
    "x =  txt.expandtabs(18)\n",
    "\n",
    "print(x)\n"
   ]
  },
  {
   "cell_type": "code",
   "execution_count": null,
   "metadata": {},
   "outputs": [],
   "source": [
    "s=\"AkRajamoni\"\n",
    "len(s)"
   ]
  },
  {
   "cell_type": "code",
   "execution_count": null,
   "metadata": {},
   "outputs": [],
   "source": [
    "s[22]"
   ]
  },
  {
   "cell_type": "code",
   "execution_count": null,
   "metadata": {},
   "outputs": [],
   "source": [
    "s[1:4:2]"
   ]
  },
  {
   "cell_type": "code",
   "execution_count": null,
   "metadata": {},
   "outputs": [],
   "source": [
    "s[::-1]\n",
    "s"
   ]
  },
  {
   "cell_type": "code",
   "execution_count": null,
   "metadata": {},
   "outputs": [],
   "source": [
    "dir(s)"
   ]
  },
  {
   "cell_type": "code",
   "execution_count": null,
   "metadata": {},
   "outputs": [],
   "source": [
    "s=s[::-1]"
   ]
  },
  {
   "cell_type": "code",
   "execution_count": null,
   "metadata": {},
   "outputs": [],
   "source": [
    "s"
   ]
  },
  {
   "cell_type": "code",
   "execution_count": null,
   "metadata": {},
   "outputs": [],
   "source": [
    "s.find(\"python\") #return index of char"
   ]
  },
  {
   "cell_type": "code",
   "execution_count": null,
   "metadata": {},
   "outputs": [],
   "source": [
    "s.find(\"Z\")"
   ]
  },
  {
   "cell_type": "code",
   "execution_count": null,
   "metadata": {},
   "outputs": [],
   "source": [
    "s.find(\"a\")\n",
    "s[4]"
   ]
  },
  {
   "cell_type": "code",
   "execution_count": null,
   "metadata": {},
   "outputs": [],
   "source": [
    "s\n",
    "s.index(\"a\")"
   ]
  },
  {
   "cell_type": "code",
   "execution_count": null,
   "metadata": {},
   "outputs": [],
   "source": [
    "s"
   ]
  },
  {
   "cell_type": "code",
   "execution_count": null,
   "metadata": {},
   "outputs": [],
   "source": [
    "s.index(\"python\")"
   ]
  },
  {
   "cell_type": "code",
   "execution_count": null,
   "metadata": {},
   "outputs": [],
   "source": [
    "\"snkjhsknsln2672802@%#&@))@)@@U)(\"\n",
    "\"10\"\n",
    "\"[10,230,12]\"\n",
    "\"\"\"{\"Name\":\"Ak\",\"course\":\"Python\"}\"\"\"\n"
   ]
  },
  {
   "cell_type": "code",
   "execution_count": null,
   "metadata": {},
   "outputs": [],
   "source": [
    "#captialize()\n",
    "# casefold()\n",
    "# count()\n",
    "# find()\n",
    "# index()\n",
    "# expandtabs()\n",
    "# center()\n"
   ]
  },
  {
   "cell_type": "code",
   "execution_count": null,
   "metadata": {},
   "outputs": [],
   "source": [
    "#checking types in string\n",
    "\n",
    "\n",
    "s = \"12\"\n",
    "s = \"12a\"\n",
    "s = \"python122\"\n",
    "s.isalnum() #alpha's+ numbers"
   ]
  },
  {
   "cell_type": "code",
   "execution_count": null,
   "metadata": {},
   "outputs": [],
   "source": [
    "s = \"Python12\"\n",
    "s.isalnum()"
   ]
  },
  {
   "cell_type": "code",
   "execution_count": null,
   "metadata": {},
   "outputs": [],
   "source": [
    "s = \"382\"\n",
    "s.isalnum()"
   ]
  },
  {
   "cell_type": "code",
   "execution_count": null,
   "metadata": {},
   "outputs": [],
   "source": [
    "s=\"klahklaKNJAL\"\n",
    "s.isalpha() #only alpha's \n",
    "s=\"296729NAknla\"\n",
    "s.isalpha()"
   ]
  },
  {
   "cell_type": "code",
   "execution_count": null,
   "metadata": {},
   "outputs": [],
   "source": [
    "s=\"HELLO\"\n",
    "\n",
    "s.isupper()"
   ]
  },
  {
   "cell_type": "code",
   "execution_count": null,
   "metadata": {},
   "outputs": [],
   "source": [
    "s=\"HELLo 12\"\n",
    "\n",
    "s.isupper()"
   ]
  },
  {
   "cell_type": "code",
   "execution_count": null,
   "metadata": {},
   "outputs": [],
   "source": [
    "s\n",
    "s.islower()"
   ]
  },
  {
   "cell_type": "code",
   "execution_count": null,
   "metadata": {},
   "outputs": [],
   "source": [
    "s= \"\\u0067\"  # decimal for 3\n",
    "s.isdecimal()\n",
    "print(s)\n",
    "s=\"19\"\n",
    "print(s.isdecimal())"
   ]
  },
  {
   "cell_type": "code",
   "execution_count": null,
   "metadata": {},
   "outputs": [],
   "source": [
    "s = \"   \"\n",
    "s.isspace()"
   ]
  },
  {
   "cell_type": "code",
   "execution_count": null,
   "metadata": {},
   "outputs": [],
   "source": [
    "s =\"0101\"\n",
    "s=\"0b1001\"\n",
    "print(s)\n",
    "s.isdigit() #only 0-9"
   ]
  },
  {
   "cell_type": "code",
   "execution_count": null,
   "metadata": {},
   "outputs": [],
   "source": [
    "# dir(s)\n",
    "s = \"pyThoN\"\n",
    "s.upper()\n",
    "s.lower()"
   ]
  },
  {
   "cell_type": "code",
   "execution_count": null,
   "metadata": {},
   "outputs": [],
   "source": [
    "s.lower()"
   ]
  },
  {
   "cell_type": "code",
   "execution_count": null,
   "metadata": {},
   "outputs": [],
   "source": [
    "s.upper()"
   ]
  },
  {
   "cell_type": "code",
   "execution_count": null,
   "metadata": {},
   "outputs": [],
   "source": [
    "txt = \"I like python \"\n",
    "\n",
    "x = txt.replace('python', \"scala\")\n",
    "x"
   ]
  },
  {
   "cell_type": "code",
   "execution_count": null,
   "metadata": {},
   "outputs": [],
   "source": [
    "txt = \"I could code along  all day\"\n",
    "\n",
    "x = txt.partition(\"o\")"
   ]
  },
  {
   "cell_type": "code",
   "execution_count": null,
   "metadata": {},
   "outputs": [],
   "source": [
    "x\n",
    "# type(x)\n"
   ]
  },
  {
   "cell_type": "code",
   "execution_count": null,
   "metadata": {},
   "outputs": [],
   "source": [
    "txt"
   ]
  },
  {
   "cell_type": "code",
   "execution_count": null,
   "metadata": {},
   "outputs": [],
   "source": [
    "txt.split() #returns a split of list\n",
    "txt"
   ]
  },
  {
   "cell_type": "code",
   "execution_count": null,
   "metadata": {},
   "outputs": [],
   "source": [
    "txt"
   ]
  },
  {
   "cell_type": "code",
   "execution_count": null,
   "metadata": {},
   "outputs": [],
   "source": [
    "txt2 = \"Hi#welcome$python\""
   ]
  },
  {
   "cell_type": "code",
   "execution_count": null,
   "metadata": {},
   "outputs": [],
   "source": [
    "txt2 = txt2.split(\"#\")\n",
    "txt2"
   ]
  },
  {
   "cell_type": "code",
   "execution_count": null,
   "metadata": {},
   "outputs": [],
   "source": [
    "txt3=\"python is python a language is a oops\"\n",
    "txt3.split(\"python\")\n",
    "\n",
    "txt4=\"Hello?Hi?welcome\"\n",
    "txt4.split(\"?\")"
   ]
  },
  {
   "cell_type": "code",
   "execution_count": null,
   "metadata": {},
   "outputs": [],
   "source": []
  },
  {
   "cell_type": "code",
   "execution_count": null,
   "metadata": {},
   "outputs": [],
   "source": [
    "type(txt2)\n",
    "txt2"
   ]
  },
  {
   "cell_type": "code",
   "execution_count": null,
   "metadata": {},
   "outputs": [],
   "source": [
    "name = input()\n",
    "print(name)"
   ]
  },
  {
   "cell_type": "code",
   "execution_count": null,
   "metadata": {},
   "outputs": [],
   "source": [
    "name"
   ]
  },
  {
   "cell_type": "code",
   "execution_count": null,
   "metadata": {},
   "outputs": [],
   "source": [
    "name = input().split(\",\")\n",
    "print(name)"
   ]
  },
  {
   "cell_type": "code",
   "execution_count": null,
   "metadata": {},
   "outputs": [],
   "source": [
    "print(name)"
   ]
  },
  {
   "cell_type": "code",
   "execution_count": null,
   "metadata": {},
   "outputs": [],
   "source": [
    "#join() list-str\n",
    "# split() str-> list\n",
    "\n",
    "txt2= input('Enter the string').split(\",\")\n",
    "print(txt2)\n",
    "\n"
   ]
  },
  {
   "cell_type": "code",
   "execution_count": null,
   "metadata": {},
   "outputs": [],
   "source": [
    "txt2= map(float,input('Enter the string').split(\",\"))\n",
    "print(txt2)\n",
    "txt2 = list(txt2)"
   ]
  },
  {
   "cell_type": "code",
   "execution_count": null,
   "metadata": {},
   "outputs": [],
   "source": [
    "print(txt2)"
   ]
  },
  {
   "cell_type": "code",
   "execution_count": null,
   "metadata": {},
   "outputs": [],
   "source": [
    "txt2 = [\"ab\",\"ak\",\"python\"]\n",
    "txt3 = \"\".join(txt2)\n",
    "print(txt3)"
   ]
  },
  {
   "cell_type": "code",
   "execution_count": null,
   "metadata": {},
   "outputs": [],
   "source": [
    "students_name = list(input(\"ENter the name\").split(\",\"))\n",
    "print(students_name)"
   ]
  },
  {
   "cell_type": "code",
   "execution_count": null,
   "metadata": {},
   "outputs": [],
   "source": [
    "# [] -list\n",
    "# () - tuple \n",
    "# {} - set\n",
    "# {} - dict\n",
    "type({})"
   ]
  },
  {
   "cell_type": "code",
   "execution_count": null,
   "metadata": {},
   "outputs": [],
   "source": [
    "txt = \"I could code along \\n all day I had fun in doing that  \\n Really we can learn a lot\"\n",
    "print(txt)\n",
    "txt.splitlines()"
   ]
  },
  {
   "cell_type": "code",
   "execution_count": null,
   "metadata": {},
   "outputs": [],
   "source": [
    "##captialize()\n",
    "# casefold()\n",
    "# count()\n",
    "# find()\n",
    "# index()\n",
    "# expandtabs()\n",
    "# center()\n",
    "\n",
    "#checking \n",
    "# -----------\n",
    "# isalnum()\n",
    "# isalpha()\n",
    "# isupper()\n",
    "# islower()\n",
    "# isspace()\n",
    "# isdigit()\n",
    "\n",
    "#popular method\n",
    "\n",
    "#  count()\n",
    "# index()\n",
    "# replace()\n",
    "# partition\n",
    "# split()\n",
    "# join()\n",
    "\n",
    "\n",
    "#pre defined ::\n",
    "dir(str_obj_name)\n",
    "len(str_obj_name)\n"
   ]
  },
  {
   "cell_type": "markdown",
   "metadata": {},
   "source": [
    "### fundamental  steps to develop a program \n",
    "\n",
    "- the fundamental phases to develop any program or app or problem statement are\n",
    "\n",
    "\n",
    "#### 1. Algorithm  : Step by Step process to solve any specific task or problem statement.\n",
    "        -written using a single statements in English \n",
    "        -Should Have Definite Start and End  , Should Have Definite Number of steps.\n",
    "        - one problem can have many different algorithms \n",
    "        \n",
    "           ex:Preparing a tea\n",
    "   \n",
    "  ex: Multiply two numbers\n",
    "  \n",
    "  STEP 1: START\n",
    "  \n",
    "  STEP 2:DECLARE num1, num2\n",
    "  \n",
    "  STEP 3: READ num1 ,num2\n",
    "  \n",
    "  STEP 4: SET product = num1*num2\n",
    "  \n",
    "  STEP 5: PRINT product\n",
    "  \n",
    "  STEP6:END\n",
    "  \n",
    "  \n",
    "#### 2. Flow charts : Pictorial Representation of steps  , using symbols\n",
    "\n",
    "\n",
    "\n",
    "\n",
    "#### 3. Pseudocode :  Its similar version of programming code written in plain english , independent of program Lang\n",
    "\n",
    "        - It doesnt require any strict programming languange syntax\n",
    "        - It is easily readable and modular form\n",
    "        - Its is Code like language \n",
    "        ex:\n",
    "        \n",
    "        BEGIN \n",
    "        \n",
    "            DECLARE num\n",
    "            READ num \n",
    "            \n",
    "            IF num MOD 2 is ZERO THEN\n",
    "                PRINT \"EVEN\"\n",
    "            ELSE THEN\n",
    "                PRINT \"ODD\"\n",
    "            ENDIF\n",
    "        END\n",
    "\n",
    "  "
   ]
  },
  {
   "cell_type": "code",
   "execution_count": null,
   "metadata": {},
   "outputs": [],
   "source": []
  },
  {
   "cell_type": "code",
   "execution_count": null,
   "metadata": {},
   "outputs": [],
   "source": [
    "\n"
   ]
  },
  {
   "cell_type": "code",
   "execution_count": null,
   "metadata": {},
   "outputs": [],
   "source": []
  },
  {
   "cell_type": "code",
   "execution_count": null,
   "metadata": {},
   "outputs": [],
   "source": [
    "num1=10\n",
    "num2=20\n",
    "print(\"Addition\")\n",
    "print(num1*num2)\n",
    "numan=10/0\n",
    "print(num1+num2)\n",
    "print(\"Hello Python\")"
   ]
  },
  {
   "cell_type": "markdown",
   "metadata": {},
   "source": [
    "### Statements\n",
    "\n",
    "**A program contains**\n",
    "\n",
    "- sequential statements  : Flow of execution is line by line \n",
    "- control statements    : Flow of execution depends on control expression\n",
    "- Iteratative Statements  : Flow of execution on Loops / Repeated Actions\n",
    "\n",
    "\n",
    "\n",
    "### Conditional Statements\n",
    "\n",
    "- if  else\n",
    "- elif\n",
    "- nested if else\n",
    "\n",
    "**decision making statements**\n",
    "\n",
    "That is where control structures come in. A control structure directs the order of execution of the statements in a program.\n",
    "\n",
    "\n",
    "\n",
    "if expr:\n",
    "\n",
    "    statement\n",
    "\n",
    "**Python relies on indentation (whitespace at the beginning of a line) to define scope in the code. Other programming languages often use curly-brackets for this purpose.**\n",
    "\n",
    "\n"
   ]
  },
  {
   "cell_type": "markdown",
   "metadata": {},
   "source": [
    "#### if else"
   ]
  },
  {
   "cell_type": "code",
   "execution_count": null,
   "metadata": {},
   "outputs": [],
   "source": [
    "#in java\n",
    "\n",
    "if(tomo==\"holiday\"){\n",
    "    print()\n",
    "    print()\n",
    "}\n",
    "else{\n",
    "    print(\"\")\n",
    "}\n",
    "\n"
   ]
  },
  {
   "cell_type": "code",
   "execution_count": null,
   "metadata": {},
   "outputs": [],
   "source": [
    "num1=10\n",
    "num2=10\n",
    "if num1==num2:\n",
    "    print(\"EQUAL\")\n",
    "    print(\"world\")\n",
    "    print(\"hello\")\n",
    "    \n",
    "else:\n",
    "    print(\"NOT EQUAL\")"
   ]
  },
  {
   "cell_type": "code",
   "execution_count": null,
   "metadata": {},
   "outputs": [],
   "source": [
    "num1 = 5\n",
    "num2 = 1\n",
    "\n",
    "if num1 < num2: # if True Go Inside Else GOTO to the statement after IF block\n",
    "    print(num2 ,\"Greater\")\n",
    "    print(\"A\")\n",
    "    print(\"B\")\n",
    "    \n",
    "print(\"next statements\")\n",
    "print(\"next next \")"
   ]
  },
  {
   "cell_type": "code",
   "execution_count": null,
   "metadata": {},
   "outputs": [],
   "source": [
    "num1 = 1\n",
    "num2 = 4\n",
    "if num1>num2:\n",
    "    print(num1 ,\"Greater\")\n",
    "else:\n",
    "#     print(num1 ,\"<\" ,num2)\n",
    "    print('{} is less than {}'.format(num1,num2))# string 2.x\n",
    "    print(f'{num1} is less  than {num2}') #3.x"
   ]
  },
  {
   "cell_type": "code",
   "execution_count": null,
   "metadata": {},
   "outputs": [],
   "source": [
    "name = \"sairam\"\n",
    "course = \"python\"\n",
    "fee = 100.2322322\n",
    "print(name)\n",
    "print(\"is a student of \")\n",
    "print(course)\n",
    "print(\"course\")"
   ]
  },
  {
   "cell_type": "code",
   "execution_count": null,
   "metadata": {},
   "outputs": [],
   "source": [
    "print(name +\" is a student of \"+course +\" course\" +\"With fee of \"+fee)"
   ]
  },
  {
   "cell_type": "code",
   "execution_count": null,
   "metadata": {},
   "outputs": [],
   "source": [
    "print(f'{name} is a student of {course} with fee of {fee}')"
   ]
  },
  {
   "cell_type": "code",
   "execution_count": null,
   "metadata": {},
   "outputs": [],
   "source": [
    "print(\"{0} is a studnet of {1} with fee of {2:.3f}\".format(name , course ,fee))"
   ]
  },
  {
   "cell_type": "code",
   "execution_count": null,
   "metadata": {},
   "outputs": [],
   "source": []
  },
  {
   "cell_type": "code",
   "execution_count": null,
   "metadata": {},
   "outputs": [],
   "source": [
    "'foo' in ['bar', 'baz', 'qux']"
   ]
  },
  {
   "cell_type": "code",
   "execution_count": null,
   "metadata": {},
   "outputs": [],
   "source": [
    "if 'bar' in ['bar', 'baz', 'qux']:\n",
    "    print('Expression was true')\n",
    "    print('Executing statement in suite')\n",
    "    print('...')\n",
    "    print('Done.')\n",
    "    \n",
    "print('After conditional')"
   ]
  },
  {
   "cell_type": "code",
   "execution_count": null,
   "metadata": {},
   "outputs": [],
   "source": [
    "type(10) is int"
   ]
  },
  {
   "cell_type": "code",
   "execution_count": null,
   "metadata": {},
   "outputs": [],
   "source": [
    "if type(\"Vemuri2322\") is str:\n",
    "    print(\"Hey\")"
   ]
  },
  {
   "cell_type": "code",
   "execution_count": null,
   "metadata": {},
   "outputs": [],
   "source": [
    "if 'zy' in 'python':                # Truthy\n",
    "    print('yes')\n",
    "else:\n",
    "    print(\"NO\")"
   ]
  },
  {
   "cell_type": "code",
   "execution_count": null,
   "metadata": {},
   "outputs": [],
   "source": [
    "tomorrow = \"No Holiday\"\n",
    "\n",
    "if tomorrow == \"Holiday\":\n",
    "    print(\"Plan a Movie !\")\n",
    "\n",
    "else:\n",
    "    print(\"Gotta go Office !\")"
   ]
  },
  {
   "cell_type": "code",
   "execution_count": null,
   "metadata": {},
   "outputs": [],
   "source": [
    "\n",
    "#even odd\n",
    "\n",
    "# modulus operator returns the remainder \n",
    "print(33%2)"
   ]
  },
  {
   "cell_type": "code",
   "execution_count": null,
   "metadata": {},
   "outputs": [],
   "source": [
    "num = int(input())\n",
    "\n",
    "if num % 2==0:\n",
    "    print(\"it is an  even\")\n",
    "\n",
    "else:\n",
    "    print(\"it is an odd\")\n",
    "    \n"
   ]
  },
  {
   "cell_type": "code",
   "execution_count": null,
   "metadata": {},
   "outputs": [],
   "source": [
    "num = int(input())\n",
    "\n",
    "if num % 2 == 1:\n",
    "    print(\"it is an odd number\")\n",
    "else:\n",
    "    print(\"it is an even number\")"
   ]
  },
  {
   "cell_type": "markdown",
   "metadata": {},
   "source": [
    "#### elif\n",
    "\n",
    "- Handling the mutliple conditions \n",
    "- The elif keyword in python a way of saying \"if the previous conditions were not true, then try this condition\"."
   ]
  },
  {
   "cell_type": "code",
   "execution_count": null,
   "metadata": {},
   "outputs": [],
   "source": [
    "a = 33\n",
    "b = 33\n",
    "if b> a:\n",
    "  print(\"b is greater than a\")\n",
    "elif a == b: \n",
    "  print(\"a and b are equal\")\n",
    "\n",
    "print(\"Hello \")"
   ]
  },
  {
   "cell_type": "code",
   "execution_count": null,
   "metadata": {},
   "outputs": [],
   "source": [
    "name = input(\"Enter the Name\")\n",
    "\n",
    "\n",
    "if name == 'Fred':\n",
    "    print('Hello Fred')\n",
    "elif name == 'Xander':\n",
    "    print('Hello Xander')\n",
    "elif name == 'Joe':\n",
    "    print('Hello Joe')\n",
    "elif name == \"Joe\":\n",
    "    print('Hello Arnold')\n",
    "else:\n",
    "    print(\"I don't know who you are!\")"
   ]
  },
  {
   "cell_type": "code",
   "execution_count": null,
   "metadata": {},
   "outputs": [],
   "source": [
    "#in multiple if , each and very condition is checked =>  even if the previous if is true or false.\n",
    "data = 10\n",
    "if data>=10:\n",
    "    print(\"HI\")\n",
    "    \n",
    "if type(data) is int:\n",
    "    print(\"Hey\")\n",
    "    \n",
    "if type(data) is str:\n",
    "    print(\"Hello\")\n",
    "    \n",
    "else:\n",
    "    print(\"Bye Bye\")\n",
    "print(\"Continue from if else\")"
   ]
  },
  {
   "cell_type": "code",
   "execution_count": null,
   "metadata": {},
   "outputs": [],
   "source": [
    "#grade example \n",
    "\n",
    "marks = [10,9,8,7,6]\n",
    "\n",
    "sum1 = sum(marks)\n",
    "print(\"sum is \",sum1)\n",
    "n = len(marks)\n",
    "avg = sum1/n\n",
    "\n",
    "print(\"the average is \",avg)\n",
    "\n",
    "# print(avg,sum1)\n",
    "\n",
    "if avg > 9:\n",
    "    print(\"A\")\n",
    "elif avg>8:\n",
    "    print(\"B\")\n",
    "elif avg>7:\n",
    "    print(\"C\")\n",
    "elif avg>6:\n",
    "    print(\"D\")\n",
    "else:\n",
    "    print(\"Fail\")"
   ]
  },
  {
   "cell_type": "code",
   "execution_count": null,
   "metadata": {},
   "outputs": [],
   "source": [
    "#grade example \n",
    "\n",
    "marks = [10,9,8,7,6]\n",
    "\n",
    "sum1 = sum(marks)\n",
    "print(\"sum is \",sum1)\n",
    "n = len(marks)\n",
    "avg = sum1/n\n",
    "\n",
    "print(\"the average is \",avg)\n",
    "\n",
    "# print(avg,sum1)\n",
    "\n",
    "if avg > 9:\n",
    "    print(\"A\")\n",
    "if avg>8:\n",
    "    print(\"B\")\n",
    "if avg>7:\n",
    "    print(\"C\")\n",
    "if avg>6:\n",
    "    print(\"D\")\n",
    "else:\n",
    "    print(\"Fail\")\n",
    "\n",
    "                "
   ]
  },
  {
   "cell_type": "code",
   "execution_count": null,
   "metadata": {},
   "outputs": [],
   "source": [
    "#if\n",
    "#if else\n",
    "#if elif else\n",
    "#if if if else\n",
    "\n",
    "\n"
   ]
  },
  {
   "cell_type": "code",
   "execution_count": null,
   "metadata": {},
   "outputs": [],
   "source": []
  },
  {
   "cell_type": "markdown",
   "metadata": {},
   "source": [
    "#### nested if"
   ]
  },
  {
   "cell_type": "code",
   "execution_count": null,
   "metadata": {},
   "outputs": [],
   "source": [
    "# voting example \n",
    "\n",
    "age = int(input(\"Enter the Age?: \"))\n",
    "\n",
    "\n",
    "if age>=18:\n",
    "    voter_id = input(\"Do you have Voter Id?: Y/N\")\n",
    "    if voter_id == \"Y\":\n",
    "        print(\"Eligible to vote \")\n",
    "    else:\n",
    "        print(\"Apply for the card\")\n",
    "else:\n",
    "    print(\"not eligible to vote\")\n",
    "    \n",
    "    \n",
    "    \n"
   ]
  },
  {
   "cell_type": "code",
   "execution_count": null,
   "metadata": {},
   "outputs": [],
   "source": [
    "# voting example \n",
    "\n",
    "age = int(input(\"Enter the Age?: \"))\n",
    "\n",
    "\n",
    "if age>=18:\n",
    "    voter_id = input(\"Do you have Voter Id?:Y/N\")\n",
    "    if voter_id == \"Y\":\n",
    "        print(\"Eligible to vote \")\n",
    "    else:\n",
    "        print(\"Apply for the card\")\n",
    "else:\n",
    "    print(\"not eligible to vote\")\n",
    "    if age>2 and age <13:\n",
    "        print(\"children\")\n",
    "    else:\n",
    "        print(\"teenager\")\n",
    "    \n",
    "    \n",
    "    \n"
   ]
  },
  {
   "cell_type": "code",
   "execution_count": null,
   "metadata": {},
   "outputs": [],
   "source": [
    "num =  int(input(\"Enter the NUM \"))\n",
    "if num<=10:\n",
    "    num-=1\n",
    "    if num<=9:\n",
    "        num-=2\n",
    "        if num<=5:\n",
    "            num+=2\n",
    "            if num<=0:\n",
    "                print(\"Hello\")\n",
    "            else:\n",
    "                print(\"Bye\")\n",
    "        else:\n",
    "            print(\"else-1\")\n",
    "    else:\n",
    "        print(\"else -2\")\n",
    "else:\n",
    "    print(\"else -3\")\n",
    "    "
   ]
  },
  {
   "cell_type": "code",
   "execution_count": null,
   "metadata": {},
   "outputs": [],
   "source": [
    "10 33 12"
   ]
  },
  {
   "cell_type": "code",
   "execution_count": null,
   "metadata": {},
   "outputs": [],
   "source": [
    "a=int(input(\"Enter num1=\"))\n",
    "b=int(input(\"Enter num2=\"))\n",
    "c=int(input(\"Enter num3=\"))\n",
    "\n",
    "if a>b:\n",
    "    if a>c:\n",
    "        print(a)\n",
    "    else:\n",
    "        print(c)\n",
    "else:\n",
    "    if(b>c):\n",
    "        print(b)\n",
    "    else:\n",
    "        print(c)\n",
    "    \n",
    "        \n",
    "        "
   ]
  },
  {
   "cell_type": "code",
   "execution_count": null,
   "metadata": {},
   "outputs": [],
   "source": [
    "a=int(input(\"Enter num1: \"))\n",
    "b=int(input(\"Enter num2: \"))\n",
    "c=int(input(\"Enter num3: \"))\n",
    "\n",
    "if (a>b and a>c):\n",
    "    print(a)\n",
    "elif (b>a and b>c):\n",
    "    print(b)\n",
    "else:\n",
    "    print(c)"
   ]
  },
  {
   "cell_type": "code",
   "execution_count": null,
   "metadata": {},
   "outputs": [],
   "source": [
    "a=int(input(\"Enter num1: \"))\n",
    "b=int(input(\"Enter num2: \"))\n",
    "c=int(input(\"Enter num3: \"))\n",
    "\n",
    "if (a<b and a<c):\n",
    "    print(a)\n",
    "elif (b<a and b<c):\n",
    "    print(b)\n",
    "else:\n",
    "    print(c)"
   ]
  },
  {
   "cell_type": "code",
   "execution_count": null,
   "metadata": {},
   "outputs": [],
   "source": [
    "num1=11\n",
    "\n",
    "if num1>=10:\n",
    "    print(\"Greater\")\n",
    "else:\n",
    "    print(\"lesser\")"
   ]
  },
  {
   "cell_type": "code",
   "execution_count": null,
   "metadata": {},
   "outputs": [],
   "source": [
    "# Short Hand If\n",
    "\n",
    "# If you have only one statement to execute, \n",
    "# you can put it on the same line as the if statement.\n",
    "\n",
    "a = True  #1\n",
    "\n",
    "b= False  #0\n",
    "\n",
    "if a>b: print(\"A is Greater\")\n",
    "print(a,b)"
   ]
  },
  {
   "cell_type": "code",
   "execution_count": null,
   "metadata": {},
   "outputs": [],
   "source": [
    "#short Hand if else\n",
    "\n",
    "print(\"True\") if a<b else print(\"False\")"
   ]
  },
  {
   "cell_type": "code",
   "execution_count": null,
   "metadata": {},
   "outputs": [],
   "source": [
    "a=10\n",
    "b=20\n",
    "\n",
    "if a<b:\n",
    "    print(\"True\")\n",
    "else:\n",
    "    print(\"False\")\n",
    "print(a,b)"
   ]
  },
  {
   "cell_type": "code",
   "execution_count": null,
   "metadata": {},
   "outputs": [],
   "source": [
    "print(a) if a>b else print(b)"
   ]
  },
  {
   "cell_type": "code",
   "execution_count": null,
   "metadata": {},
   "outputs": [],
   "source": [
    "# Read  username, pass from keyboard\n",
    "# if user is \"Deepa\" and password is 1234\n",
    "# print Login success\n",
    "# otherwise print Error"
   ]
  },
  {
   "cell_type": "code",
   "execution_count": null,
   "metadata": {},
   "outputs": [],
   "source": []
  },
  {
   "cell_type": "code",
   "execution_count": null,
   "metadata": {},
   "outputs": [],
   "source": [
    "bool([1,2,3])"
   ]
  },
  {
   "cell_type": "code",
   "execution_count": null,
   "metadata": {},
   "outputs": [],
   "source": [
    "print(len([]))\n",
    "print(bool([]))\n",
    "#bool(0)"
   ]
  },
  {
   "cell_type": "code",
   "execution_count": null,
   "metadata": {},
   "outputs": [],
   "source": [
    "bool(\"\")"
   ]
  },
  {
   "cell_type": "code",
   "execution_count": null,
   "metadata": {},
   "outputs": [],
   "source": [
    "bool(\" \")"
   ]
  },
  {
   "cell_type": "code",
   "execution_count": null,
   "metadata": {},
   "outputs": [],
   "source": [
    "if \"\":\n",
    "    print(\"hello\")\n",
    "    print(\"True\")\n",
    "    \n",
    "    \n",
    "# if <exp>:\n",
    "#     stmts"
   ]
  },
  {
   "cell_type": "code",
   "execution_count": null,
   "metadata": {},
   "outputs": [],
   "source": [
    "if []:\n",
    "    print(\"hello\")\n",
    "    print(\"True\")\n",
    "else:\n",
    "    print(\"Bye bye\")"
   ]
  },
  {
   "cell_type": "code",
   "execution_count": null,
   "metadata": {},
   "outputs": [],
   "source": [
    "bool(\" \")\n",
    "s= \" \"\n",
    "a=[1]\n",
    "len(s)"
   ]
  },
  {
   "cell_type": "code",
   "execution_count": null,
   "metadata": {},
   "outputs": [],
   "source": [
    "bool([1])\n",
    "\n",
    "# []\n",
    "# {}\n",
    "# ()\n",
    "# 0\n",
    "# 0.0\n",
    "# \"\"\n",
    "\n",
    "\n",
    "#false\n",
    "bool([])\n",
    "\n",
    "bool(())\n",
    "\n",
    "\n",
    "bool({})\n",
    "\n",
    "bool(\"\")\n",
    "\n",
    "\n",
    "bool(0)\n",
    "\n",
    "bool(0.0)\n",
    "\n",
    "#true\n",
    "\n",
    "bool(1)\n",
    "bool(1.1)\n"
   ]
  },
  {
   "cell_type": "code",
   "execution_count": null,
   "metadata": {},
   "outputs": [],
   "source": [
    "\n",
    "\n",
    "# if ->true else -> false\n",
    "# elif -> multiple conditionsa\n",
    "# nested if "
   ]
  },
  {
   "cell_type": "markdown",
   "metadata": {},
   "source": [
    "### Looping \n",
    "\n",
    "- Sometimes it may be neccessary to repeat the certain process until a certain condition is met.\n",
    "- It's a process of repeating a set of statments\n",
    "\n",
    "In python , there are 2 loops\n"
   ]
  },
  {
   "cell_type": "markdown",
   "metadata": {},
   "source": [
    "#### For loop\n",
    "\n",
    "- A for loop is used for iterating over a sequence (that is either a list, a tuple, a dictionary, a set, or a string).\n",
    "\n",
    "- With the for loop we can execute a set of statements, once for each item in a list, tuple, set etc.\n",
    "\n",
    "-  For loop is preferred when we know the no of iterations in advance. \n",
    "\n",
    "syntax:\n",
    "\n",
    "- for var in sequence:\n",
    "    \n",
    "    statements"
   ]
  },
  {
   "cell_type": "code",
   "execution_count": null,
   "metadata": {},
   "outputs": [],
   "source": [
    "# print(\"Hello \"*10)\n",
    "print(\"Hello\")\n",
    "print(\"Hello\")\n",
    "print(\"Hello\")\n",
    "print(\"Hello\")\n",
    "print(\"Hello\")\n",
    "print(\"Hello\")\n",
    "print(\"Hello\")\n",
    "print(\"Hello\")\n",
    "print(\"Hello\")\n"
   ]
  },
  {
   "cell_type": "code",
   "execution_count": null,
   "metadata": {},
   "outputs": [],
   "source": [
    "list(range(0,10,1)) # start . stop , step"
   ]
  },
  {
   "cell_type": "code",
   "execution_count": null,
   "metadata": {},
   "outputs": [],
   "source": [
    "for i in range(1,10,1):\n",
    "    print(i )"
   ]
  },
  {
   "cell_type": "code",
   "execution_count": null,
   "metadata": {},
   "outputs": [],
   "source": [
    "for i in range(11):#10 iterations\n",
    "    print(\"Hello\" , i)\n",
    "    print(i**2)\n",
    "\n",
    "print(i)"
   ]
  },
  {
   "cell_type": "code",
   "execution_count": null,
   "metadata": {},
   "outputs": [],
   "source": [
    "for ak in range(0,10):\n",
    "    print(ak)\n",
    "    print(\"HEllo\")\n",
    "    print(\"Hi\")\n",
    "\n",
    "print(ak)"
   ]
  },
  {
   "cell_type": "code",
   "execution_count": null,
   "metadata": {},
   "outputs": [],
   "source": [
    "for i in range(10,-1,-1):\n",
    "    print(i , end =\"\\t\") #default =\"\\n\"\n",
    "    print(end=\"\\t\")\n",
    "    "
   ]
  },
  {
   "cell_type": "code",
   "execution_count": null,
   "metadata": {},
   "outputs": [],
   "source": [
    "for i in range(10,-1,-1):\n",
    "    print(i , end=\"\")\n",
    "    print(end=\" \")"
   ]
  },
  {
   "cell_type": "code",
   "execution_count": null,
   "metadata": {},
   "outputs": [],
   "source": [
    "#f srring\n",
    "a=10\n",
    "b=20\n",
    "\n",
    "#3.x\n",
    "print(f\"sum of {a} and {b} = {a+b}\")\n",
    "\n",
    "#2.x\n",
    "print(\"sum of {} and  {} ={}\".format(a,b,(a+b)))\n",
    "print(\"sum of {1} and {0} is {2}\".format(a,b,(a+b)))"
   ]
  },
  {
   "cell_type": "code",
   "execution_count": null,
   "metadata": {},
   "outputs": [],
   "source": [
    "\n",
    "    \n",
    "num = 9\n",
    "i = 1\n",
    "print(f'{num} * {i} = {num*i}')\n",
    "i+=1\n",
    "print(f'{num} * {i} = {num*i}')\n",
    "\n",
    "i+=1\n",
    "print(f'{num} * {i} = {num*i}')\n",
    "i+=1\n",
    "print(f'{num} * {i} = {num*i}')\n",
    "i+=1\n",
    "print(f'{num} * {i} = {num*i}')\n",
    "i+=1\n",
    "print(f'{num} * {i} = {num*i}')\n",
    "i+=1\n",
    "print(f'{num} * {i} = {num*i}')\n",
    "i+=1\n",
    "print(f'{num} * {i} = {num*i}')\n",
    "i+=1\n",
    "print(f'{num} * {i} = {num*i}')\n",
    "i+=1\n",
    "print(f'{num} * {i} = {num*i}')"
   ]
  },
  {
   "cell_type": "code",
   "execution_count": null,
   "metadata": {},
   "outputs": [],
   "source": [
    "\n",
    "num = int(input())\n",
    "\n",
    "for i in range(1,11):\n",
    "    print(f'{num} * {i} = {num*i}')"
   ]
  },
  {
   "cell_type": "code",
   "execution_count": null,
   "metadata": {},
   "outputs": [],
   "source": [
    "num = int(input(\"Enter the number\"))\n",
    "\n",
    "for i in range(1,11):\n",
    "    print(f'{num} * {i} = {num*i}')"
   ]
  },
  {
   "cell_type": "code",
   "execution_count": null,
   "metadata": {},
   "outputs": [],
   "source": [
    "for data in range(-1,-5,-1):\n",
    "    print(data)"
   ]
  },
  {
   "cell_type": "code",
   "execution_count": null,
   "metadata": {},
   "outputs": [],
   "source": [
    "#print the list in forward and reverse order\n",
    "\n",
    "list_data = [\"Python\",\"Course\",\"Fee\",\"Dollars\",True,10.28989]\n",
    "for ind in range(0,len(list_data),1):\n",
    "    print(list_data[ind])"
   ]
  },
  {
   "cell_type": "code",
   "execution_count": null,
   "metadata": {},
   "outputs": [],
   "source": [
    "list_data = [\"Python\",\"Course\",\"Fee\",\"Dollars\",True,10.28989]\n",
    "for ind in range(-1,-len(list_data)-1,-1):\n",
    "    print(list_data[ind])"
   ]
  },
  {
   "cell_type": "code",
   "execution_count": null,
   "metadata": {},
   "outputs": [],
   "source": [
    "list(range(0,len(list_data)))"
   ]
  },
  {
   "cell_type": "code",
   "execution_count": null,
   "metadata": {},
   "outputs": [],
   "source": [
    "#for looop with sequences  datatypes\n",
    "# list\n",
    "# tuple \n",
    "# set\n",
    "# dictionary \n",
    "# string"
   ]
  },
  {
   "cell_type": "code",
   "execution_count": null,
   "metadata": {},
   "outputs": [],
   "source": [
    "comp = [\"Google\",\"Microsoft\",True , 1729 , 10e10 , 5+2j] #0-5\n",
    "\n",
    "\n",
    "n = len(comp) #6\n",
    "\n",
    "print(f\"the length is {n}\")\n",
    "\n",
    "for i in range(len(comp)): #i->0 - n-1\n",
    "    \n",
    "    print(comp[i] , end=\" , \")\n",
    "\n",
    "print()\n",
    "print(comp)\n",
    "\n",
    "\n",
    "    \n",
    "        "
   ]
  },
  {
   "cell_type": "code",
   "execution_count": null,
   "metadata": {},
   "outputs": [],
   "source": [
    "comp = [\"Google\",\"Microsoft\",True , 1729 , 10e10 , 5+2j] #0-5\n",
    "\n",
    "\n",
    "n = len(comp) #6\n",
    "\n",
    "print(f\"the length is {n}\")\n",
    "\n",
    "for i in range(n+1): #i->0 - n-1\n",
    "    \n",
    "    print(comp[i] , end=\" --> \")\n",
    "\n",
    "print()\n",
    "print(comp)\n"
   ]
  },
  {
   "cell_type": "code",
   "execution_count": null,
   "metadata": {},
   "outputs": [],
   "source": [
    "comp = [\"Google\",\"Microsoft\",True , 1729 , 10e10 , 5+2j] #0-5\n",
    "\n",
    "\n",
    "n = len(comp) #6\n",
    "\n",
    "print(f\"the length is {n}\")\n",
    "\n",
    "for i in range(n): #i->0 - n-1\n",
    "    \n",
    "    print(comp[i] ,i)\n",
    "    if i%2==0:\n",
    "        comp[i]=\"Condition Met\"\n",
    "    \n",
    "\n",
    "print()\n",
    "print(comp)\n"
   ]
  },
  {
   "cell_type": "code",
   "execution_count": null,
   "metadata": {},
   "outputs": [],
   "source": [
    "comp = [\"Google\",\"Microsoft\",True , 1729 , 10e10 , 5+2j] #0-5\n",
    "\n",
    "\n",
    "n = len(comp) #6\n",
    "\n",
    "print(f\"the length is {n}\")\n",
    "\n",
    "for i in range(n): #i->0 - n-1\n",
    "    \n",
    "    print(comp[i] ,i)\n",
    "    if i%2==0:\n",
    "        comp[i]=f\"Even Loc:{i}\"\n",
    "    else:\n",
    "        comp[i] = f\"Odd Loc:{i}\"\n",
    "    \n",
    "\n",
    "print()\n",
    "print(comp)"
   ]
  },
  {
   "cell_type": "code",
   "execution_count": null,
   "metadata": {},
   "outputs": [],
   "source": [
    "#print forloop\n",
    "for data in comp:\n",
    "    print(data)"
   ]
  },
  {
   "cell_type": "code",
   "execution_count": null,
   "metadata": {},
   "outputs": [],
   "source": [
    "for data in [10,30,\"True\",10.21,False]:\n",
    "    print(data)\n"
   ]
  },
  {
   "cell_type": "code",
   "execution_count": null,
   "metadata": {},
   "outputs": [],
   "source": [
    "type(comp)"
   ]
  },
  {
   "cell_type": "code",
   "execution_count": null,
   "metadata": {},
   "outputs": [],
   "source": [
    "for i in {1,2,3,4,3,4,2}:\n",
    "    print(i)"
   ]
  },
  {
   "cell_type": "code",
   "execution_count": null,
   "metadata": {},
   "outputs": [],
   "source": [
    "#printing purpose \n",
    "\n",
    "comp = [\"Google\",\"Microsoft\",True , 1729 , 10e10 , 5+2j] \n",
    "\n",
    "for  i in comp:\n",
    "    print(type(i), i)"
   ]
  },
  {
   "cell_type": "code",
   "execution_count": null,
   "metadata": {},
   "outputs": [],
   "source": [
    "#tuple \n",
    "\n",
    "stock = ((\"SBI\",370),[\"TCS\",122] , [\"INDO\",278])\n",
    "\n",
    "for item in stock:\n",
    "    print(type(item) , item)\n",
    "    print(item[0])\n",
    "#do the same with range (for i in ramge())"
   ]
  },
  {
   "cell_type": "code",
   "execution_count": null,
   "metadata": {},
   "outputs": [],
   "source": [
    "a=[10,20,30,40]\n",
    "\n",
    "for ind in range(len(a)): #i 0,1,2,3 : range(4) :->0 - 3\n",
    "    print(a[ind])"
   ]
  },
  {
   "cell_type": "code",
   "execution_count": null,
   "metadata": {},
   "outputs": [],
   "source": [
    "n= int(input()) #5\n",
    "\n",
    "for i in range(1,n,2):\n",
    "    print(i)\n",
    "\n",
    "    "
   ]
  },
  {
   "cell_type": "code",
   "execution_count": null,
   "metadata": {},
   "outputs": [],
   "source": [
    "n= int(input()) #5\n",
    "\n",
    "for i in range(0,n,2):\n",
    "    print(i)\n"
   ]
  },
  {
   "cell_type": "code",
   "execution_count": null,
   "metadata": {},
   "outputs": [],
   "source": [
    "n= int(input()) #5\n",
    "\n",
    "for i in range(n):\n",
    "    if i%2==0:\n",
    "        print(i ,end = \" \")\n"
   ]
  },
  {
   "cell_type": "code",
   "execution_count": null,
   "metadata": {},
   "outputs": [],
   "source": [
    "stock = ([\"SBI\",370],(\"TCS\",122) , [\"INDO\",278])\n",
    "\n",
    "n = len(stock)\n",
    "print(n)\n",
    "\n",
    "for i in range(n):#0-2\n",
    "    #print(type(stock[i]),stock[i])\n",
    "    #print(f'stock price is {stock[i][1]}')\n",
    "    if(stock[i][0]==\"SBI\"):\n",
    "        stock[i][1]=432\n",
    "    \n",
    "print(stock)"
   ]
  },
  {
   "cell_type": "code",
   "execution_count": null,
   "metadata": {},
   "outputs": [],
   "source": [
    "s= ('SBI', 370)\n",
    "print(s[1])"
   ]
  },
  {
   "cell_type": "code",
   "execution_count": null,
   "metadata": {},
   "outputs": [],
   "source": [
    "#set  unordered unindexed\n",
    "# set removes duplicates\n",
    "\n",
    "fruits = {\"A\",\"B\",\"C\",\"A\",\"B\"}\n",
    "\n",
    "for i in fruits:\n",
    "    print(i)\n",
    "print(fruits[0]) #error"
   ]
  },
  {
   "cell_type": "code",
   "execution_count": null,
   "metadata": {},
   "outputs": [],
   "source": [
    "tup = (10,20,40)\n",
    "print(tup[2])\n",
    "# tup[2] = \"changed\"\n",
    "\n",
    "string = \"Hari\"\n",
    "print(string[-1])\n",
    "string[0]=\"K\"\n",
    "print(string)"
   ]
  },
  {
   "cell_type": "code",
   "execution_count": null,
   "metadata": {},
   "outputs": [],
   "source": [
    "#dict \n",
    "#key = immutables \n",
    "#values =immu & mutable : both\n",
    "student = {\n",
    "    \"Name\": \"Ellie\",\n",
    "    \"Address\":\"USA\",\n",
    "    \"Salary\":4000,\n",
    "    \"Role\":\"SDE\"\n",
    "}\n",
    "\n",
    "\n",
    "for item in student: # print only the keys\n",
    "    print(item)\n",
    "    print(student[item])\n",
    "    print(student.get(\"Hari\",\"Invalid key\"))"
   ]
  },
  {
   "cell_type": "code",
   "execution_count": null,
   "metadata": {},
   "outputs": [],
   "source": [
    "student[\"Role\"] = 'Data Sci' \n",
    "student"
   ]
  },
  {
   "cell_type": "code",
   "execution_count": null,
   "metadata": {
    "scrolled": true
   },
   "outputs": [],
   "source": [
    "a=[1,3,3]\n",
    "a[0]"
   ]
  },
  {
   "cell_type": "code",
   "execution_count": null,
   "metadata": {},
   "outputs": [],
   "source": [
    "\"Name\"\n",
    "# student['Name2']\n",
    "student.get(\"Name2\",\"No Found\")"
   ]
  },
  {
   "cell_type": "code",
   "execution_count": null,
   "metadata": {},
   "outputs": [],
   "source": [
    "for item in student: # print only the keys\n",
    "    print(f\"{item} : {student[item]}\")"
   ]
  },
  {
   "cell_type": "code",
   "execution_count": null,
   "metadata": {},
   "outputs": [],
   "source": [
    "#dict methods\n",
    "#keys()\n",
    "#values()\n",
    "#items()\n",
    "#update()\n",
    "#get()\n",
    "#pop()\n",
    "#popitem()\n",
    "#clear()\n",
    "#sort()\n"
   ]
  },
  {
   "cell_type": "code",
   "execution_count": null,
   "metadata": {},
   "outputs": [],
   "source": [
    "student.items() #list of tuple which has k v paris"
   ]
  },
  {
   "cell_type": "code",
   "execution_count": null,
   "metadata": {},
   "outputs": [],
   "source": [
    "for data in student.items():\n",
    "    #type of item\n",
    "    print(data, type(data))\n",
    "    print(data[0],data[1])\n",
    "    "
   ]
  },
  {
   "cell_type": "code",
   "execution_count": null,
   "metadata": {},
   "outputs": [],
   "source": [
    "for key , value in student.items():\n",
    "    print(key , value)\n",
    "    "
   ]
  },
  {
   "cell_type": "code",
   "execution_count": null,
   "metadata": {},
   "outputs": [],
   "source": [
    "student.keys() #it will return only keys"
   ]
  },
  {
   "cell_type": "code",
   "execution_count": null,
   "metadata": {},
   "outputs": [],
   "source": [
    "for dt in student.keys():\n",
    "    print(dt , student[dt])"
   ]
  },
  {
   "cell_type": "code",
   "execution_count": null,
   "metadata": {},
   "outputs": [],
   "source": [
    "student.keys()"
   ]
  },
  {
   "cell_type": "code",
   "execution_count": null,
   "metadata": {},
   "outputs": [],
   "source": [
    "student.values()"
   ]
  },
  {
   "cell_type": "code",
   "execution_count": null,
   "metadata": {},
   "outputs": [],
   "source": [
    "for data in student.values():\n",
    "    print(data)\n",
    "    "
   ]
  },
  {
   "cell_type": "code",
   "execution_count": null,
   "metadata": {},
   "outputs": [],
   "source": [
    "student"
   ]
  },
  {
   "cell_type": "code",
   "execution_count": null,
   "metadata": {},
   "outputs": [],
   "source": [
    "\n",
    "for key in student.keys():\n",
    "    if(student[key]==\"Data Sci\"):\n",
    "        student[key]=\"DS\"\n",
    "print(student)"
   ]
  },
  {
   "cell_type": "code",
   "execution_count": null,
   "metadata": {},
   "outputs": [],
   "source": [
    "\n",
    "#unpacking\n",
    "\n",
    "for key , val in student.items():\n",
    "    print(key,val)"
   ]
  },
  {
   "cell_type": "code",
   "execution_count": null,
   "metadata": {},
   "outputs": [],
   "source": [
    "a=[(\"sairam\",\"python\",1000),(\"Ak\",\"Java\",700),(\"Stu\",\"Ruby\",600)]\n",
    "\n",
    "for x in a:\n",
    "    print(x,x[0],x[1],x[2])\n"
   ]
  },
  {
   "cell_type": "code",
   "execution_count": null,
   "metadata": {},
   "outputs": [],
   "source": [
    "a=[(\"sairam\",\"python\",1000),(\"Ak\",\"Java\",\"AH\"),(\"Stu\",\"Ruby\",600)]\n",
    "\n",
    "for x,y,z in a:\n",
    "    print(x,y,z)\n",
    "    "
   ]
  },
  {
   "cell_type": "code",
   "execution_count": null,
   "metadata": {},
   "outputs": [],
   "source": [
    "# ###dictionary\n",
    "### Summary\n",
    "\n",
    "# dict.items() -> key ,value in tuple format\n",
    "# dict.keys() ->keys , dict[key]\n",
    "# dict.values() -> values "
   ]
  },
  {
   "cell_type": "markdown",
   "metadata": {},
   "source": [
    "### for with strings"
   ]
  },
  {
   "cell_type": "code",
   "execution_count": null,
   "metadata": {},
   "outputs": [],
   "source": [
    "s = \"python is a Interpreted Language\"\n",
    "\n",
    "print(len(s))\n",
    "\n",
    "for ch in s:\n",
    "    print(ch , end=\"\" )"
   ]
  },
  {
   "cell_type": "code",
   "execution_count": null,
   "metadata": {},
   "outputs": [],
   "source": [
    "s = \"python is a Interpreted Language\"\n",
    "\n",
    "for ind in range(len(s)):\n",
    "    print(s[ind] , end=\"\")"
   ]
  },
  {
   "cell_type": "code",
   "execution_count": null,
   "metadata": {},
   "outputs": [],
   "source": [
    "s = \"python is a Interpreted Language\"\n",
    "\n",
    "for ind in range(0,len(s),2):\n",
    "    print(s[ind] , end=\"\")"
   ]
  },
  {
   "cell_type": "code",
   "execution_count": null,
   "metadata": {},
   "outputs": [],
   "source": [
    "s = \"python is a Interpreted Language\"\n",
    "print(len(s))\n",
    "\n",
    "for ind in range(len(s)-1,-1,-1):\n",
    "    print(s[ind] , end=\"\")"
   ]
  },
  {
   "cell_type": "code",
   "execution_count": null,
   "metadata": {},
   "outputs": [],
   "source": [
    "for i in \"swati\":\n",
    "    print(i , end=\" \")"
   ]
  },
  {
   "cell_type": "code",
   "execution_count": null,
   "metadata": {},
   "outputs": [],
   "source": [
    "for i in (10,30,40):\n",
    "    print(i , end=\" \")"
   ]
  },
  {
   "cell_type": "code",
   "execution_count": null,
   "metadata": {},
   "outputs": [],
   "source": [
    "for i in {10,10,30,40}:\n",
    "    print(i , end=\" \")"
   ]
  },
  {
   "cell_type": "code",
   "execution_count": null,
   "metadata": {},
   "outputs": [],
   "source": [
    "#nested for loop\n",
    "some_list = [(\"A\",98,True),(\"B\",\"99\",False)]\n",
    "for i in some_list:\n",
    "    for j in i:\n",
    "        print(j)\n",
    "    print()"
   ]
  },
  {
   "cell_type": "markdown",
   "metadata": {},
   "source": [
    "## find the dup element in the list."
   ]
  },
  {
   "cell_type": "code",
   "execution_count": null,
   "metadata": {},
   "outputs": [],
   "source": [
    "data = [1,2,34,4,2,5]\n",
    "\n",
    "cnt=0\n",
    "for i in range(len(data)):\n",
    "    cnt=0\n",
    "    for j in range(len(data)):#0-n-1\n",
    "        if(data[i]==data[j]):\n",
    "            cnt+=1\n",
    "    if(cnt==1):\n",
    "        print(data[i])\n",
    "\n",
    "            "
   ]
  },
  {
   "cell_type": "code",
   "execution_count": null,
   "metadata": {},
   "outputs": [],
   "source": [
    "data = [1,2,34,4,2,5]\n",
    "\n",
    "cnt=0\n",
    "flag =False\n",
    "for i in range(len(data)):\n",
    "    cnt=0\n",
    "    for j in range(i,len(data)):#0-n-1\n",
    "        if(data[i]==data[j]):\n",
    "            cnt+=1\n",
    "    if(cnt==2):\n",
    "        print(data[i])\n",
    "        "
   ]
  },
  {
   "cell_type": "markdown",
   "metadata": {},
   "source": [
    "### Find the  second index of the Element in the List\n",
    "\n",
    " - Suppose if the list is [1,8,9,1,2,8,32]\n",
    " - second index of ele = 8\n",
    " - output = 5\n",
    " \n",
    " \n",
    " Note : if the element is not present in list print -1\n",
    " "
   ]
  },
  {
   "cell_type": "markdown",
   "metadata": {},
   "source": [
    "### Reverse the String and List Using for Loop\n",
    "\n",
    "- Suppose s =\"Hello\" \n",
    "- output = \"olleH\"\n",
    "\n"
   ]
  },
  {
   "cell_type": "code",
   "execution_count": null,
   "metadata": {},
   "outputs": [],
   "source": []
  },
  {
   "cell_type": "code",
   "execution_count": null,
   "metadata": {},
   "outputs": [],
   "source": []
  },
  {
   "cell_type": "code",
   "execution_count": null,
   "metadata": {},
   "outputs": [],
   "source": []
  },
  {
   "cell_type": "code",
   "execution_count": null,
   "metadata": {},
   "outputs": [],
   "source": [
    "x,y,z=(\"A\",98,True)\n",
    "# type(x)\n",
    "print(x,y,z)"
   ]
  },
  {
   "cell_type": "code",
   "execution_count": null,
   "metadata": {},
   "outputs": [],
   "source": [
    "#unpacking \n",
    "some_list = [[\"A\",98,True],[\"B\",\"99\",False]]\n",
    "\n",
    "\n",
    "for data in some_list:\n",
    "    print(data)\n",
    "\n",
    "for a , b ,c in some_list:\n",
    "    print(a,b,c)"
   ]
  },
  {
   "cell_type": "code",
   "execution_count": null,
   "metadata": {},
   "outputs": [],
   "source": [
    "list(range(3))"
   ]
  },
  {
   "cell_type": "code",
   "execution_count": null,
   "metadata": {},
   "outputs": [],
   "source": [
    "\n",
    "for a , b ,c in [(10,0,0),(0,0),(40,0,0)]:\n",
    "    print(a,b,c)"
   ]
  },
  {
   "cell_type": "code",
   "execution_count": null,
   "metadata": {},
   "outputs": [],
   "source": [
    "a= list(range(3,6))\n",
    "a\n",
    "\n",
    "x,y,z = a\n",
    "print(x,y,z)"
   ]
  },
  {
   "cell_type": "code",
   "execution_count": null,
   "metadata": {},
   "outputs": [],
   "source": [
    "for a , b , c in (0,20,30):\n",
    "    print(a,b,c)"
   ]
  },
  {
   "cell_type": "code",
   "execution_count": null,
   "metadata": {},
   "outputs": [],
   "source": [
    "some_list = [(\"A\",98,True),(\"B\",\"99\",False)]\n",
    "\n",
    "for item in some_list:\n",
    "#     print(item)\n",
    "    print(item[0],item[1],item[2])"
   ]
  },
  {
   "cell_type": "code",
   "execution_count": null,
   "metadata": {},
   "outputs": [],
   "source": [
    "some_list = [(\"A\",98,True),(\"B\",\"99\",False)]\n",
    "\n",
    "for x,y,z in some_list:\n",
    "    print(x,y,z)\n"
   ]
  },
  {
   "cell_type": "markdown",
   "metadata": {},
   "source": [
    "#### Else with For\n",
    "\n",
    "The else keyword in a for loop specifies a block of code to be executed when the loop is finished:"
   ]
  },
  {
   "cell_type": "code",
   "execution_count": null,
   "metadata": {},
   "outputs": [],
   "source": [
    "a =10\n",
    "b= 20\n",
    "if a>b:\n",
    "    print(\"snjknld\")\n",
    "else:\n",
    "    print(\"else block\")"
   ]
  },
  {
   "cell_type": "code",
   "execution_count": null,
   "metadata": {},
   "outputs": [],
   "source": [
    "print(\"if block\") if (a<b) else print(\"else\")"
   ]
  },
  {
   "cell_type": "code",
   "execution_count": null,
   "metadata": {},
   "outputs": [],
   "source": [
    "print(\"if block\") if (a>b) else print(\"else\")"
   ]
  },
  {
   "cell_type": "code",
   "execution_count": null,
   "metadata": {},
   "outputs": [],
   "source": [
    "for i in \"swati\":\n",
    "    print(i ,end=\" \")\n",
    "else:\n",
    "    print(\" Printed Successfully\")"
   ]
  },
  {
   "cell_type": "code",
   "execution_count": null,
   "metadata": {},
   "outputs": [],
   "source": [
    "#else block is executed when for loop is compeltely executed all iterations\n",
    "for i in \"Swati\":\n",
    "    print(i ,end=\"\")\n",
    "    if(i=='a'):\n",
    "        break;\n",
    "else: #no break #when executed al the iterations\n",
    "    print(\" Printed Successfully\")"
   ]
  },
  {
   "cell_type": "code",
   "execution_count": null,
   "metadata": {},
   "outputs": [],
   "source": [
    "#else block is executed when for loop is compeltely executed all iterations\n",
    "for i in \"Swati\":\n",
    "    print(i ,end=\"\")\n",
    "    if(i=='a'):\n",
    "        break;\n",
    "\n",
    "print(\" Printed Successfully\")\n",
    "print(1+20)"
   ]
  },
  {
   "cell_type": "code",
   "execution_count": null,
   "metadata": {},
   "outputs": [],
   "source": [
    "#else block is executed when for loop is compeltely executed all iterations\n",
    "for i in \"Swati\":\n",
    "    print(i ,end=\"\")\n",
    "    if(i=='z'):\n",
    "        break;\n",
    "else: #no break\n",
    "    print(\" Printed Successfully\")"
   ]
  },
  {
   "cell_type": "markdown",
   "metadata": {},
   "source": [
    "#### Break\n",
    "\n",
    "- With the break statement we can stop the loop before it has looped through all the items:\n",
    "\n",
    "\n",
    "#### Continue \n",
    "\n",
    "- With the continue statement we can stop the current iteration of the loop, and continue with the next:\n",
    "\n",
    "- skips the current iteration\n",
    "\n",
    "#### pass\n",
    "for loops cannot be empty, but if you for some reason have a for loop with no content, put in the pass statement to avoid getting an error"
   ]
  },
  {
   "cell_type": "code",
   "execution_count": null,
   "metadata": {},
   "outputs": [],
   "source": [
    "for i in range(10):\n",
    "    pass\n"
   ]
  },
  {
   "cell_type": "code",
   "execution_count": null,
   "metadata": {},
   "outputs": [],
   "source": [
    "for i in range(1,10): \n",
    "   \n",
    "    if(i==3):\n",
    "        break\n",
    "    print(i)\n",
    "else: #no break and condition is not met\n",
    "    print(\"For loop executed all iterations\")"
   ]
  },
  {
   "cell_type": "code",
   "execution_count": 52,
   "metadata": {},
   "outputs": [
    {
     "name": "stdout",
     "output_type": "stream",
     "text": [
      "1\n",
      "hi\n",
      "Hello\n",
      "after for loop\n"
     ]
    }
   ],
   "source": [
    "for i in range(1,10):\n",
    "   \n",
    "    print(i) \n",
    "    print(\"hi\")\n",
    "    print(\"Hello\")\n",
    "    break\n",
    "else:\n",
    "    print(\"Hey Hi Iam Else Block\")\n",
    "   \n",
    "    \n",
    "print(\"after for loop\")"
   ]
  },
  {
   "cell_type": "code",
   "execution_count": 53,
   "metadata": {},
   "outputs": [
    {
     "name": "stdout",
     "output_type": "stream",
     "text": [
      "outside loop\n"
     ]
    }
   ],
   "source": [
    "for i in range(1,10):\n",
    "    break\n",
    "    print(i)\n",
    "    print(\"snjkns\")\n",
    "    print(\"snkndld\")\n",
    "print(\"outside loop\")"
   ]
  },
  {
   "cell_type": "code",
   "execution_count": null,
   "metadata": {},
   "outputs": [],
   "source": [
    "for i in range(1,10):\n",
    "    if i==5 or i==8:\n",
    "        continue\n",
    "    print(i, end=\" \")\n",
    "else:\n",
    "    print(\"For loop executed all iterations\")"
   ]
  },
  {
   "cell_type": "code",
   "execution_count": null,
   "metadata": {},
   "outputs": [],
   "source": [
    "for i in range(10):\n",
    "    print(i,end=\"\")\n",
    "    continue\n",
    "    print(\"hello\")\n",
    "    \n",
    "    "
   ]
  },
  {
   "cell_type": "code",
   "execution_count": null,
   "metadata": {},
   "outputs": [],
   "source": [
    "for i in range(10):\n",
    "    continue\n",
    "    print(i)"
   ]
  },
  {
   "cell_type": "code",
   "execution_count": null,
   "metadata": {},
   "outputs": [],
   "source": [
    "for i in range(10):\n",
    "    pass #empty body"
   ]
  },
  {
   "cell_type": "code",
   "execution_count": null,
   "metadata": {},
   "outputs": [],
   "source": [
    "for i in range(10):\n",
    "    print(i)"
   ]
  },
  {
   "cell_type": "code",
   "execution_count": null,
   "metadata": {},
   "outputs": [],
   "source": [
    "for i in range(100):\n",
    "    if (i%3==0):\n",
    "        continue\n",
    "    if (i%5==0):\n",
    "        continue\n",
    "    print(i)"
   ]
  },
  {
   "cell_type": "code",
   "execution_count": null,
   "metadata": {},
   "outputs": [],
   "source": [
    "for i in range(100):\n",
    "    \n",
    "    if i % 3 == 0 or i % 5 == 0:\n",
    "        continue\n",
    "    else:\n",
    "        print(i , end= \" \")\n"
   ]
  },
  {
   "cell_type": "code",
   "execution_count": null,
   "metadata": {},
   "outputs": [],
   "source": [
    "## range upto 100\n",
    "# skip only the multiples of 3 and \n",
    "\n",
    "\n"
   ]
  },
  {
   "cell_type": "code",
   "execution_count": null,
   "metadata": {},
   "outputs": [],
   "source": [
    "for b in range(101):\n",
    "    if b%3==0:\n",
    "         continue\n",
    "    print(b ,end = \" \")"
   ]
  },
  {
   "cell_type": "code",
   "execution_count": null,
   "metadata": {},
   "outputs": [],
   "source": [
    "for b in range(101):\n",
    "    if b%3==0 and  b%5==0:\n",
    "         continue\n",
    "    print(b ,end =\" \")"
   ]
  },
  {
   "cell_type": "code",
   "execution_count": null,
   "metadata": {},
   "outputs": [],
   "source": [
    "for ind in range(0 , 20 , 2):\n",
    "    print(ind)"
   ]
  },
  {
   "cell_type": "markdown",
   "metadata": {},
   "source": [
    "### While Loop\n",
    "\n",
    "- With the while loop we can execute a set of statements as long as a condition is true.\n",
    "- We prefer the while when dont know the no of iterations in advance\n",
    "- In While loop , its mandatory to initialise the index variable and increment it during iterations"
   ]
  },
  {
   "cell_type": "code",
   "execution_count": 54,
   "metadata": {},
   "outputs": [
    {
     "name": "stdout",
     "output_type": "stream",
     "text": [
      "['Google', 'Microsoft', True, 1729, 100000000000.0, (5+2j)]\n",
      "6\n"
     ]
    }
   ],
   "source": [
    "comp = ['Google', 'Microsoft', True, 1729, 100000000000.0, (5+2j)]\n",
    "print(comp)\n",
    "print(len(comp))"
   ]
  },
  {
   "cell_type": "code",
   "execution_count": 55,
   "metadata": {},
   "outputs": [
    {
     "name": "stdout",
     "output_type": "stream",
     "text": [
      "Google Microsoft True 1729 100000000000.0 (5+2j) "
     ]
    }
   ],
   "source": [
    "for data in comp:\n",
    "    print(data, end =\" \")"
   ]
  },
  {
   "cell_type": "code",
   "execution_count": 56,
   "metadata": {},
   "outputs": [
    {
     "name": "stdout",
     "output_type": "stream",
     "text": [
      "0 1 2 3 4 5 6 7 8 9 10 "
     ]
    }
   ],
   "source": [
    "i=0 #index variable\n",
    "\n",
    "n=10 #stop\n",
    "\n",
    "#if the condition is True , it enters the loops\n",
    "while i<=n: #0 1 2 3 4 5 6 7 8 9 \n",
    "    print(i ,end=\" \")\n",
    "    i+=1\n",
    "    "
   ]
  },
  {
   "cell_type": "code",
   "execution_count": 57,
   "metadata": {},
   "outputs": [
    {
     "name": "stdout",
     "output_type": "stream",
     "text": [
      "1\n",
      "3\n",
      "5\n",
      "7\n",
      "9\n"
     ]
    }
   ],
   "source": [
    "i=1 #index variable\n",
    "\n",
    "n=10 #stop\n",
    "\n",
    "#if the condition is True , it enters the loops\n",
    "while i<=n: #0 1 2 3 4 5 6 7 8 9 \n",
    "    print(i)\n",
    "    i=i+2\n",
    "    \n",
    "    "
   ]
  },
  {
   "cell_type": "code",
   "execution_count": null,
   "metadata": {},
   "outputs": [],
   "source": [
    "print(10/3)  #print while exact decimals points\n",
    "print(10//3) #floor division\n",
    "print(1//2) #"
   ]
  },
  {
   "cell_type": "code",
   "execution_count": null,
   "metadata": {
    "scrolled": true
   },
   "outputs": [],
   "source": [
    "#DRY \n",
    "\n",
    "\n",
    "n=10\n",
    "\n",
    "while n!=0: #when flase comes out of the loop\n",
    "    print(n%2 , end=\" \")\n",
    "    n=n//2\n",
    "\n",
    "#12 6 3 1"
   ]
  },
  {
   "cell_type": "code",
   "execution_count": null,
   "metadata": {},
   "outputs": [],
   "source": [
    "bin(18)"
   ]
  },
  {
   "cell_type": "code",
   "execution_count": null,
   "metadata": {},
   "outputs": [],
   "source": [
    "11//2"
   ]
  },
  {
   "cell_type": "code",
   "execution_count": null,
   "metadata": {},
   "outputs": [],
   "source": [
    "#infinite loop\n",
    "i=0\n",
    "while i<10:\n",
    "    print(i)\n",
    "    "
   ]
  },
  {
   "cell_type": "code",
   "execution_count": null,
   "metadata": {},
   "outputs": [],
   "source": [
    "comp = ['Google', 'Microsoft', True, 1729, 100000000000.0, (5+2j)]\n",
    "print(comp)"
   ]
  },
  {
   "cell_type": "code",
   "execution_count": null,
   "metadata": {},
   "outputs": [],
   "source": [
    "ind = 0\n",
    "\n",
    "n = len(comp)\n",
    "\n",
    "print(ind,n)\n",
    "\n",
    "while ind < n: #0 1 2 3 4 5 \n",
    "    print(comp[ind])\n",
    "    ind+=1"
   ]
  },
  {
   "cell_type": "code",
   "execution_count": null,
   "metadata": {},
   "outputs": [],
   "source": [
    "print(-1>-6)"
   ]
  },
  {
   "cell_type": "code",
   "execution_count": null,
   "metadata": {},
   "outputs": [],
   "source": [
    "start = -1\n",
    "\n",
    "n = -len(comp)\n",
    "\n",
    "print(start,n)\n",
    "\n",
    "while start>=n: #0 1 2 3 4 5 \n",
    "    print(comp[start])\n",
    "    start=start-1\n",
    "    \n",
    "    "
   ]
  },
  {
   "cell_type": "code",
   "execution_count": null,
   "metadata": {},
   "outputs": [],
   "source": [
    "ind = 0\n",
    "\n",
    "n = len(comp)\n",
    "\n",
    "new_list = ['a','b','c','d','e','f']\n",
    "\n",
    "while ind < n: #0 1 2 3 4 5 \n",
    "    comp[ind]=new_list[ind]\n",
    "    ind+=1\n",
    "comp"
   ]
  },
  {
   "cell_type": "code",
   "execution_count": null,
   "metadata": {},
   "outputs": [],
   "source": [
    "a=10\n",
    "b=30\n",
    "a,b = b , a\n",
    "print(a,b)"
   ]
  },
  {
   "cell_type": "code",
   "execution_count": null,
   "metadata": {},
   "outputs": [],
   "source": [
    "arr = [109,3,9,0,6]\n",
    "#output [6,0,9,3,109]\n",
    "\n",
    "i = len(arr)-1\n",
    "n = 0\n",
    "\n",
    "while i>=n:\n",
    "    print(arr[i] , end=\" \")\n",
    "    i=i-1"
   ]
  },
  {
   "cell_type": "code",
   "execution_count": null,
   "metadata": {},
   "outputs": [],
   "source": [
    "for i in range(len(arr)-1 , -1, -1):\n",
    "    print(arr[i], end=\" \")\n",
    "    \n",
    "# print(arr)"
   ]
  },
  {
   "cell_type": "code",
   "execution_count": null,
   "metadata": {},
   "outputs": [],
   "source": [
    "#method3\n",
    "\n",
    "arr.reverse()\n",
    "arr"
   ]
  },
  {
   "cell_type": "code",
   "execution_count": null,
   "metadata": {},
   "outputs": [],
   "source": [
    "arr = [109,3,9,0,6]\n",
    "#output [6,0,9,3,109]\n",
    "\n",
    "ind = 0 \n",
    "backind = len(arr)-1\n",
    "\n",
    "n = len(arr)\n",
    "\n",
    "while ind<(n//2):\n",
    "    arr[ind] ,arr[backind]  = arr[backind] , arr[ind]\n",
    "    ind+=1\n",
    "    backind= backind-1\n",
    "    print(f\"{ind} iteration:  {arr}\")\n",
    "\n",
    "print(arr)"
   ]
  },
  {
   "cell_type": "code",
   "execution_count": null,
   "metadata": {},
   "outputs": [],
   "source": [
    "arr = [109,3,9,0,6]\n",
    "\n",
    "#(a, b = b , a)\n",
    "n = len(arr)\n",
    "first = 0\n",
    "last = n-1\n",
    "while first <n:\n",
    "    print(first,last)\n",
    "    arr[first] ,arr[last] = arr[last] , arr[first]\n",
    "    first+=1\n",
    "    last-=1\n",
    "    print(arr)\n",
    "print(arr)\n"
   ]
  },
  {
   "cell_type": "code",
   "execution_count": null,
   "metadata": {},
   "outputs": [],
   "source": [
    "[1]*20"
   ]
  },
  {
   "cell_type": "code",
   "execution_count": null,
   "metadata": {},
   "outputs": [],
   "source": [
    "a=[10,20,30]\n",
    "b=[40,50,60]\n",
    "\n",
    "# [50,70,90]\n",
    "\n",
    "i=0\n",
    "\n",
    "c=[0]*len(a)\n",
    "\n",
    "print(c)\n",
    "\n",
    "while i<len(a): # 0 1 2  \n",
    "    c[i]=a[i]+b[i]\n",
    "    i+=1\n",
    "print(c)"
   ]
  },
  {
   "cell_type": "code",
   "execution_count": null,
   "metadata": {},
   "outputs": [],
   "source": [
    "# Note: remember to increment i, or else the loop will continue forever."
   ]
  },
  {
   "cell_type": "code",
   "execution_count": null,
   "metadata": {},
   "outputs": [],
   "source": [
    "#Try While loop with the TUple , set , Dict , String\n"
   ]
  },
  {
   "cell_type": "markdown",
   "metadata": {},
   "source": [
    "### Nested Loops\n",
    "\n",
    "A nested loop is a loop inside a loop.\n",
    "\n",
    "The \"inner loop\" will be executed one time for each iteration of the \"outer loop\":\n",
    "\n",
    "Useful for accessing the 2D Lists , Tuples\n"
   ]
  },
  {
   "cell_type": "code",
   "execution_count": 60,
   "metadata": {},
   "outputs": [
    {
     "name": "stdout",
     "output_type": "stream",
     "text": [
      "HI\n",
      "HI\n",
      "\n",
      "HI\n",
      "HI\n",
      "\n",
      "HI\n",
      "HI\n",
      "\n",
      "HI\n",
      "HI\n",
      "\n",
      "HI\n",
      "HI\n",
      "\n"
     ]
    }
   ],
   "source": [
    "for i in range(5):\n",
    "    for j in range(2):\n",
    "        print(\"HI\")\n",
    "    print()"
   ]
  },
  {
   "cell_type": "code",
   "execution_count": 62,
   "metadata": {
    "collapsed": true
   },
   "outputs": [
    {
     "name": "stdout",
     "output_type": "stream",
     "text": [
      "1 2 3 4 5 6 7 8 9 10 \n",
      "2 4 6 8 10 12 14 16 18 20 \n",
      "3 6 9 12 15 18 21 24 27 30 \n"
     ]
    }
   ],
   "source": [
    "for out in range(1,4):\n",
    "    for inner in range(1,11):\n",
    "        print(out*inner , end=\" \")\n",
    "    print()"
   ]
  },
  {
   "cell_type": "code",
   "execution_count": 64,
   "metadata": {},
   "outputs": [
    {
     "name": "stdout",
     "output_type": "stream",
     "text": [
      "1 2 3 4 5 6 7 8 9 10 \n",
      "2 4 6 8 10 12 14 16 18 20 \n",
      "3 6 9 12 15 18 21 24 27 30 \n"
     ]
    }
   ],
   "source": [
    "out = 1\n",
    "while out<4:\n",
    "    inner = 1\n",
    "    while inner<11:\n",
    "        print(out*inner, end=\" \")\n",
    "        inner+=1\n",
    "    out+=1\n",
    "    print()\n",
    "        "
   ]
  },
  {
   "cell_type": "code",
   "execution_count": null,
   "metadata": {},
   "outputs": [],
   "source": []
  },
  {
   "cell_type": "code",
   "execution_count": null,
   "metadata": {},
   "outputs": [],
   "source": []
  },
  {
   "cell_type": "code",
   "execution_count": 66,
   "metadata": {},
   "outputs": [],
   "source": [
    "arr_2D =[\n",
    "    \n",
    "        [1,2,3,10],\n",
    "        ['a','b','c'],\n",
    "        [10.2,True,10+2j]\n",
    "    \n",
    "        ]"
   ]
  },
  {
   "cell_type": "code",
   "execution_count": 68,
   "metadata": {},
   "outputs": [
    {
     "name": "stdout",
     "output_type": "stream",
     "text": [
      "1\n",
      "2\n",
      "3\n",
      "10\n",
      "a\n",
      "b\n",
      "c\n",
      "10.2\n",
      "True\n",
      "(10+2j)\n"
     ]
    }
   ],
   "source": [
    "for data in arr_2D:\n",
    "    for inner in data:\n",
    "        print(inner)"
   ]
  },
  {
   "cell_type": "code",
   "execution_count": null,
   "metadata": {},
   "outputs": [],
   "source": [
    "arr_2D[0][0]"
   ]
  },
  {
   "cell_type": "code",
   "execution_count": null,
   "metadata": {},
   "outputs": [],
   "source": [
    "for i in range(1,2):\n",
    "    print(\"sknlks\")"
   ]
  },
  {
   "cell_type": "code",
   "execution_count": 72,
   "metadata": {},
   "outputs": [
    {
     "name": "stdout",
     "output_type": "stream",
     "text": [
      "telsa\n",
      "0 0 apple\n",
      "0 1 ms\n",
      "0 2 telsa\n",
      "1 0 a\n",
      "1 1 b\n",
      "1 2 c\n",
      "2 0 10.2\n",
      "2 1 True\n",
      "2 2 (10+2j)\n"
     ]
    }
   ],
   "source": [
    "arr_2D =[ \n",
    "    [\"apple\",\"ms\",\"telsa\"],\n",
    "    ['a','b','c'],\n",
    "    [10.2,True,10+2j]\n",
    "    ]\n",
    "print(arr_2D[0][2])\n",
    "\n",
    "for i in range(3):\n",
    "    for j in range(3):\n",
    "        print(i,j , arr_2D[i][j])"
   ]
  },
  {
   "cell_type": "code",
   "execution_count": null,
   "metadata": {},
   "outputs": [],
   "source": [
    "for outer in arr_2D:\n",
    "    for inner in outer:\n",
    "        print(inner , end=\" \")\n",
    "    print()"
   ]
  },
  {
   "cell_type": "code",
   "execution_count": null,
   "metadata": {},
   "outputs": [],
   "source": [
    "arr_2D[0][0]"
   ]
  },
  {
   "cell_type": "code",
   "execution_count": null,
   "metadata": {},
   "outputs": [],
   "source": [
    "for i in range(3):\n",
    "    for j in range(3):\n",
    "        print(i,j)"
   ]
  },
  {
   "cell_type": "code",
   "execution_count": null,
   "metadata": {},
   "outputs": [],
   "source": [
    "# print(arr_2D)\n",
    "\n",
    "#It is 3x3 matrix\n",
    "\n",
    "print(len(arr_2D))\n",
    "\n",
    "row=3\n",
    "cols=3\n",
    "for i in range(row):\n",
    "    for j in range(cols):\n",
    "        print(f\"{arr_2D[i][j]} i :j {i , j}\") # 0 0 0 1 0 2"
   ]
  },
  {
   "cell_type": "code",
   "execution_count": null,
   "metadata": {},
   "outputs": [],
   "source": [
    "for i in range(2):\n",
    "    for j in range(2):\n",
    "        print(i,j)"
   ]
  },
  {
   "cell_type": "code",
   "execution_count": null,
   "metadata": {},
   "outputs": [],
   "source": [
    "for i in range(3):\n",
    "    for j in range(3):\n",
    "        print(i,j)\n",
    "        if(j==1):\n",
    "            break\n",
    "    if(i==1):\n",
    "        break"
   ]
  },
  {
   "cell_type": "code",
   "execution_count": null,
   "metadata": {},
   "outputs": [],
   "source": [
    "i=0\n",
    "while i<4: # 0 1 2 3\n",
    "    j=0\n",
    "    #inner loop\n",
    "    while j<3: # 0 1 2\n",
    "        print(i,j)\n",
    "        j+=1\n",
    "    i+=1\n",
    "    print()\n",
    "    \n",
    "        "
   ]
  },
  {
   "cell_type": "code",
   "execution_count": null,
   "metadata": {},
   "outputs": [],
   "source": [
    "arr_2D"
   ]
  },
  {
   "cell_type": "code",
   "execution_count": null,
   "metadata": {},
   "outputs": [],
   "source": [
    "for row in range(len(arr_2D)):\n",
    "    for col in range(len(arr_2D)) :\n",
    "        print(arr_2D[row][col],end=\" \")\n",
    "        arr_2D[row][1]=\"Python\"\n",
    "    print()\n",
    "    \n",
    "print(arr_2D)"
   ]
  },
  {
   "cell_type": "code",
   "execution_count": null,
   "metadata": {},
   "outputs": [],
   "source": [
    "print() #new line"
   ]
  },
  {
   "cell_type": "code",
   "execution_count": null,
   "metadata": {},
   "outputs": [],
   "source": [
    "arr_2D[0][0]"
   ]
  },
  {
   "cell_type": "code",
   "execution_count": null,
   "metadata": {},
   "outputs": [],
   "source": [
    "arr_2D[0][1]\n"
   ]
  },
  {
   "cell_type": "code",
   "execution_count": null,
   "metadata": {},
   "outputs": [],
   "source": [
    "arr_2D[0][2]"
   ]
  },
  {
   "cell_type": "code",
   "execution_count": null,
   "metadata": {},
   "outputs": [],
   "source": [
    "arr_2D[1][0]"
   ]
  },
  {
   "cell_type": "code",
   "execution_count": null,
   "metadata": {},
   "outputs": [],
   "source": [
    "arr_2D[1][1]\n"
   ]
  },
  {
   "cell_type": "code",
   "execution_count": null,
   "metadata": {},
   "outputs": [],
   "source": [
    "arr_2D[1][2]"
   ]
  },
  {
   "cell_type": "code",
   "execution_count": null,
   "metadata": {},
   "outputs": [],
   "source": [
    "some_list = [\"Google\",\"AmaZon\",\"IBM\"]\n",
    "\n",
    "com_type = [\"IT\",\"MNC\",\"GOBAL\"]\n",
    "\n",
    "#print the company with foundation year together\n",
    "\n",
    "for i in some_list:\n",
    "    for j in com_type:\n",
    "        \n",
    "        print(f\"{i} is {j}\" ,end =\" and \")\n",
    "    print()"
   ]
  },
  {
   "cell_type": "code",
   "execution_count": null,
   "metadata": {},
   "outputs": [],
   "source": [
    "for i in some_list:\n",
    "    print(i)"
   ]
  },
  {
   "cell_type": "code",
   "execution_count": null,
   "metadata": {},
   "outputs": [],
   "source": []
  },
  {
   "cell_type": "code",
   "execution_count": null,
   "metadata": {},
   "outputs": [],
   "source": [
    "n = int(input(\"enter the n values : \"))\n",
    "for i in range(n):\n",
    "    for j in range(i+1):\n",
    "        print(\"*\", end =\" \")\n",
    "    print()"
   ]
  },
  {
   "cell_type": "code",
   "execution_count": null,
   "metadata": {},
   "outputs": [],
   "source": [
    "n = int(input(\"enter the n values : \"))\n",
    "for i in range(n):\n",
    "    for j in range(n,i,-1):\n",
    "        print(\"*\", end =\" \")\n",
    "    print()\n",
    "for i in range(n):\n",
    "    for j in range(i+1):\n",
    "        print(\"*\", end =\" \")\n",
    "    print()"
   ]
  },
  {
   "cell_type": "markdown",
   "metadata": {},
   "source": [
    "### Comprehension\n",
    "\n",
    "- It shorten the sytax of list with for loops\n",
    "\n",
    "- List comprehension offers a shorter syntax when you want to create a new list based on the values of an existing list.\n",
    "\n"
   ]
  },
  {
   "cell_type": "code",
   "execution_count": null,
   "metadata": {},
   "outputs": [],
   "source": [
    "a=[]\n",
    "for i in range(20):\n",
    "    a.append(i)\n",
    "print(a)"
   ]
  },
  {
   "cell_type": "code",
   "execution_count": null,
   "metadata": {},
   "outputs": [],
   "source": [
    "#generate a even numbers for given specified range add it to the list\n",
    "\n",
    "even = []\n",
    "\n",
    "#range(0,20)\n",
    "for i in range(0,20):\n",
    "    if i%2==0:\n",
    "        even.append(i)\n",
    "print(even)"
   ]
  },
  {
   "cell_type": "code",
   "execution_count": null,
   "metadata": {},
   "outputs": [],
   "source": [
    "odd = []\n",
    "\n",
    "#range(0,20)\n",
    "for i in range(1,20):\n",
    "    if i%2==1:\n",
    "        odd.append(i)\n",
    "print(odd)"
   ]
  },
  {
   "cell_type": "code",
   "execution_count": null,
   "metadata": {},
   "outputs": [],
   "source": [
    "a=[i for i in range(20)]\n",
    "print(a)\n",
    "type(a)"
   ]
  },
  {
   "cell_type": "code",
   "execution_count": null,
   "metadata": {},
   "outputs": [],
   "source": [
    "a=[i+2 for i in range(20)]\n",
    "print(a)\n",
    "type(a)"
   ]
  },
  {
   "cell_type": "code",
   "execution_count": null,
   "metadata": {},
   "outputs": [],
   "source": [
    "[i*i*i for i in range(10)]"
   ]
  },
  {
   "cell_type": "code",
   "execution_count": null,
   "metadata": {},
   "outputs": [],
   "source": []
  },
  {
   "cell_type": "code",
   "execution_count": null,
   "metadata": {},
   "outputs": [],
   "source": [
    "even =[ i for i in range(20) if i%2==0]"
   ]
  },
  {
   "cell_type": "code",
   "execution_count": null,
   "metadata": {},
   "outputs": [],
   "source": [
    "even =(i for i in range(20) if i%2==0)\n",
    "print(type(even))"
   ]
  },
  {
   "cell_type": "code",
   "execution_count": null,
   "metadata": {},
   "outputs": [],
   "source": [
    "for data in even:\n",
    "    print(data)"
   ]
  },
  {
   "cell_type": "code",
   "execution_count": null,
   "metadata": {},
   "outputs": [],
   "source": [
    "[ i for i in range(20) if i%2==0 and i<16]"
   ]
  },
  {
   "cell_type": "code",
   "execution_count": null,
   "metadata": {},
   "outputs": [],
   "source": [
    "num=12\n",
    "[ f'{num} * {i} = {num*i}' for i in range(10)]"
   ]
  },
  {
   "cell_type": "code",
   "execution_count": null,
   "metadata": {},
   "outputs": [],
   "source": []
  },
  {
   "cell_type": "code",
   "execution_count": null,
   "metadata": {},
   "outputs": [],
   "source": [
    "print(print(\"njkd\"))"
   ]
  },
  {
   "cell_type": "code",
   "execution_count": null,
   "metadata": {},
   "outputs": [],
   "source": [
    "some_dict = { i:i**i for i in range(1,5)}"
   ]
  },
  {
   "cell_type": "code",
   "execution_count": null,
   "metadata": {},
   "outputs": [],
   "source": [
    "some_dict"
   ]
  },
  {
   "cell_type": "code",
   "execution_count": null,
   "metadata": {},
   "outputs": [],
   "source": [
    "name ={i:ord(i) for i in \"abCD\"}\n",
    "name"
   ]
  },
  {
   "cell_type": "code",
   "execution_count": null,
   "metadata": {},
   "outputs": [],
   "source": [
    "ord('a')\n",
    "print(ord('A'))"
   ]
  },
  {
   "cell_type": "code",
   "execution_count": null,
   "metadata": {},
   "outputs": [],
   "source": [
    "ord(\"\\t\")"
   ]
  },
  {
   "cell_type": "code",
   "execution_count": null,
   "metadata": {},
   "outputs": [],
   "source": [
    "name = {i:chr(int(i)) for i in \"961825\"}\n",
    "\n",
    "name"
   ]
  },
  {
   "cell_type": "code",
   "execution_count": null,
   "metadata": {},
   "outputs": [],
   "source": [
    "#usage case 2\n",
    "\n",
    "# create a array of values , or required dimensions"
   ]
  },
  {
   "cell_type": "code",
   "execution_count": null,
   "metadata": {
    "scrolled": true
   },
   "outputs": [],
   "source": [
    "arr = [0]*100\n",
    "print(arr)"
   ]
  },
  {
   "cell_type": "code",
   "execution_count": null,
   "metadata": {},
   "outputs": [],
   "source": [
    "arr = [\"Hi\"+str(i) for i in range(10)]\n",
    "arr"
   ]
  },
  {
   "cell_type": "code",
   "execution_count": null,
   "metadata": {},
   "outputs": [],
   "source": [
    "arr = [0 for i in range(10)]\n",
    "\n",
    "print(arr)\n",
    "\n",
    "arr = [0]*10\n",
    "print(arr)"
   ]
  },
  {
   "cell_type": "code",
   "execution_count": null,
   "metadata": {},
   "outputs": [],
   "source": [
    "for row in range(4):\n",
    "    for col in range(5):\n",
    "        print(row,col , end=\": \")\n",
    "    print()"
   ]
  },
  {
   "cell_type": "code",
   "execution_count": null,
   "metadata": {},
   "outputs": [],
   "source": [
    "# 2D\n",
    "\n",
    "arr2D = [ [ (row,col) for col in range(5)] for  row in range(4)]"
   ]
  },
  {
   "cell_type": "code",
   "execution_count": null,
   "metadata": {},
   "outputs": [],
   "source": [
    "arr2D"
   ]
  },
  {
   "cell_type": "code",
   "execution_count": null,
   "metadata": {},
   "outputs": [],
   "source": [
    "# 2-D List\n",
    "matrix = [[1, 2, 3], [4, 5], [6, 7, 8, 9]] \n",
    "\n",
    "# Nested List Comprehension to flatten a given 2-D matrix\n",
    "flatten_matrix = [val for sublist in matrix for val in sublist]\n",
    "\n",
    "print(flatten_matrix)\n"
   ]
  },
  {
   "cell_type": "code",
   "execution_count": null,
   "metadata": {},
   "outputs": [],
   "source": [
    "res=[]\n",
    "for i in range(len(matrix)):\n",
    "    for j in range(len(matrix[i])):\n",
    "        res.append(matrix[i][j])"
   ]
  },
  {
   "cell_type": "code",
   "execution_count": null,
   "metadata": {},
   "outputs": [],
   "source": [
    "print(res)"
   ]
  },
  {
   "cell_type": "code",
   "execution_count": null,
   "metadata": {},
   "outputs": [],
   "source": [
    "n=10\n",
    "#O(n)- Big- Oh (N) # worst case\n",
    "for i in range(n):\n",
    "    print(i)"
   ]
  },
  {
   "cell_type": "code",
   "execution_count": null,
   "metadata": {},
   "outputs": [],
   "source": []
  },
  {
   "cell_type": "code",
   "execution_count": null,
   "metadata": {},
   "outputs": [],
   "source": [
    "n1=10\n",
    "n2=5\n",
    "for i in range(n1):\n",
    "    for j in range(n2):\n",
    "        print(i,j)"
   ]
  },
  {
   "cell_type": "markdown",
   "metadata": {},
   "source": [
    "### Excercise "
   ]
  },
  {
   "cell_type": "markdown",
   "metadata": {},
   "source": [
    "#### Prime or not\n",
    "\n",
    "- A positive integer greater than 1 which has no other factors except 1 and the number itself is called a prime number. 2, 3, 5, 7 etc. are prime numbers as they do not have any other factors. But 6 is not prime (it is composite) since, 2 x 3 = 6."
   ]
  },
  {
   "cell_type": "markdown",
   "metadata": {},
   "source": [
    "##### Navie method\n",
    "\n",
    "- we check a num is divisible exactly two times in inclusive range 1-num\n",
    "- if  a num is divisible two times then it is prime number otherwise not prime.\n"
   ]
  },
  {
   "cell_type": "code",
   "execution_count": null,
   "metadata": {},
   "outputs": [],
   "source": [
    "## Checking whether number is prime or not  \n",
    "# o(n) \n",
    "\n",
    "num = int(input())\n",
    "div_count=0\n",
    "for i in range(1,num+1):\n",
    "    if num%i==0:\n",
    "        print((i , num//i))\n",
    "        div_count+=1\n",
    "        \n",
    "        \n",
    "if div_count==2:\n",
    "    print(num ,\"is Prime\")\n",
    "else:\n",
    "    print(\"Not Prime\")"
   ]
  },
  {
   "cell_type": "markdown",
   "metadata": {},
   "source": []
  },
  {
   "cell_type": "code",
   "execution_count": null,
   "metadata": {},
   "outputs": [],
   "source": [
    "11%1 #0\n",
    "11%11 #0"
   ]
  },
  {
   "cell_type": "markdown",
   "metadata": {},
   "source": [
    "##### using the flag variable\n",
    "\n",
    "- We check if num is exactly divisible by any number from 2 to num - 1. If we find a factor in that range, the number is not prime, so we set flag to True and break out of the loop."
   ]
  },
  {
   "cell_type": "code",
   "execution_count": null,
   "metadata": {},
   "outputs": [],
   "source": [
    "#another methods - Factor finding\n",
    "\n",
    "\n",
    "num = int(input())\n",
    "flag = False #0\n",
    "\n",
    "if num>1:\n",
    "    for i in range(2,num): #2-10\n",
    "        if num%i==0:\n",
    "            Flag = True\n",
    "            break\n",
    "    if flag==False: #True == False\n",
    "        print(\" Prime\")\n",
    "    else:\n",
    "        print(\"Not prime\")\n",
    "    "
   ]
  },
  {
   "cell_type": "markdown",
   "metadata": {},
   "source": [
    "##### using the else block"
   ]
  },
  {
   "cell_type": "code",
   "execution_count": null,
   "metadata": {},
   "outputs": [],
   "source": [
    "num = int(input())\n",
    "flag = False #0\n",
    "\n",
    "if num>1:\n",
    "    for i in range(2,num): #2-10\n",
    "        if num%i==0:\n",
    "            Flag = True\n",
    "            break\n",
    "    else:#no break\n",
    "        print(\"Prime\")"
   ]
  },
  {
   "cell_type": "markdown",
   "metadata": {},
   "source": [
    "### Linear Search\n",
    "\n",
    "arr= [1,4,56,89,23,78]\n",
    "- key = 56\n",
    "- OP:2\n",
    "\n",
    "- search for the key in the array elements , if key is found return the index\n",
    "otherwise return the -1\n"
   ]
  },
  {
   "cell_type": "code",
   "execution_count": null,
   "metadata": {},
   "outputs": [],
   "source": [
    "n = int(input())\n",
    "\n",
    "arr = list(map(int, input().split()))\n",
    "\n",
    "key = int(input())\n",
    "for i in range(n):\n",
    "    if (arr[i]==key):\n",
    "        print(i)\n",
    "        break\n",
    "else:\n",
    "    print(-1)\n",
    "    \n",
    "    \n",
    "    \n",
    "# worst case = O(n)\n",
    "# average case = 0(n//2)\n",
    "#best case = O(1)"
   ]
  },
  {
   "cell_type": "code",
   "execution_count": null,
   "metadata": {},
   "outputs": [],
   "source": [
    "n=int(input())\n",
    "\n",
    "for i in range(n//2):\n",
    "    print(i)\n",
    "    \n",
    "    \n",
    "#O(n//2)"
   ]
  },
  {
   "cell_type": "code",
   "execution_count": null,
   "metadata": {},
   "outputs": [],
   "source": [
    "from math import *\n",
    "math.sqrt(10)"
   ]
  },
  {
   "cell_type": "code",
   "execution_count": null,
   "metadata": {},
   "outputs": [],
   "source": [
    "sqrt(16)\n",
    "sqrt(10)\n",
    "ceil(3.4)\n",
    "floor(3.4)"
   ]
  },
  {
   "cell_type": "code",
   "execution_count": null,
   "metadata": {},
   "outputs": [],
   "source": [
    "n=int(input())\n",
    "n= ceil(sqrt(n))\n",
    "\n",
    "for i in range(n):\n",
    "    print(i)\n",
    "    \n",
    "    \n",
    "    #O(sqrt(n))"
   ]
  },
  {
   "cell_type": "markdown",
   "metadata": {},
   "source": [
    "# 11%2\n",
    "11%3\n",
    "11%4\n",
    "11%5\n",
    "11%6\n",
    "11%7\n",
    "11%8\n",
    "11%9\n",
    "11%10\n"
   ]
  },
  {
   "cell_type": "code",
   "execution_count": null,
   "metadata": {},
   "outputs": [],
   "source": [
    "1 \n",
    "#read a number from keyboard\n",
    "#range from 0 , 40\n",
    "#check every num whether it is odd or even \n",
    "#print \n",
    "\n",
    "\n",
    "2.\n",
    "# read a 10 integers from keyboard.\n",
    "# store it in list\n",
    "# loop through every value , calculate the sum of all values in the List\n",
    "# print the final sum\n",
    "\n",
    "\n",
    "# 3.Convert 2D to 1D using comprehesion\n",
    "\n",
    "# 4. Declare two 2D list\n",
    "# a=[[1,2],[10,20]]\n",
    "# b=[[40,50],[100,200]]\n",
    "# perfrom addition of every index values using for and while loops\n",
    "\n",
    "\n",
    "## Generate a factorial for n using for and while loop\n",
    "# ex : n = 2\n",
    "# output:2\n",
    "# # n = 5\n",
    "# # output = 120 \n",
    "# # 1*2*3*4*5 = 120"
   ]
  },
  {
   "cell_type": "code",
   "execution_count": null,
   "metadata": {},
   "outputs": [],
   "source": [
    " x,y,z,n = [int(input()) for i in range(4)]\n",
    "    \n",
    "print([[i,j,k] for i in range(x+1) for j in range(y+1) for k in range(z+1)])"
   ]
  },
  {
   "cell_type": "code",
   "execution_count": null,
   "metadata": {},
   "outputs": [],
   "source": []
  },
  {
   "cell_type": "code",
   "execution_count": null,
   "metadata": {},
   "outputs": [],
   "source": []
  }
 ],
 "metadata": {
  "kernelspec": {
   "display_name": "Python 3",
   "language": "python",
   "name": "python3"
  },
  "language_info": {
   "codemirror_mode": {
    "name": "ipython",
    "version": 3
   },
   "file_extension": ".py",
   "mimetype": "text/x-python",
   "name": "python",
   "nbconvert_exporter": "python",
   "pygments_lexer": "ipython3",
   "version": "3.8.8"
  }
 },
 "nbformat": 4,
 "nbformat_minor": 4
}
