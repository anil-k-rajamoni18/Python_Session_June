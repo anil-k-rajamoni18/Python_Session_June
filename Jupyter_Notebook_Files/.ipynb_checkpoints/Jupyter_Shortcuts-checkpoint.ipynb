{
 "cells": [
  {
   "cell_type": "code",
   "execution_count": null,
   "id": "b3bdb962",
   "metadata": {},
   "outputs": [],
   "source": []
  },
  {
   "cell_type": "code",
   "execution_count": 6,
   "id": "43703783",
   "metadata": {},
   "outputs": [
    {
     "name": "stdout",
     "output_type": "stream",
     "text": [
      "Hello \n",
      "World \n"
     ]
    }
   ],
   "source": [
    "print(\"Hello \")\n",
    "print(\"World \")"
   ]
  },
  {
   "cell_type": "code",
   "execution_count": null,
   "id": "36bf9d1a",
   "metadata": {},
   "outputs": [],
   "source": []
  },
  {
   "cell_type": "code",
   "execution_count": null,
   "id": "3a93aa85",
   "metadata": {},
   "outputs": [],
   "source": []
  },
  {
   "cell_type": "code",
   "execution_count": null,
   "id": "b0f76f31",
   "metadata": {},
   "outputs": [],
   "source": []
  },
  {
   "cell_type": "code",
   "execution_count": null,
   "id": "66027c46",
   "metadata": {},
   "outputs": [],
   "source": []
  },
  {
   "cell_type": "code",
   "execution_count": null,
   "id": "e7624394",
   "metadata": {},
   "outputs": [],
   "source": []
  },
  {
   "cell_type": "code",
   "execution_count": null,
   "id": "dc0c1501",
   "metadata": {},
   "outputs": [],
   "source": []
  },
  {
   "cell_type": "code",
   "execution_count": null,
   "id": "cc812ad8",
   "metadata": {},
   "outputs": [],
   "source": []
  },
  {
   "cell_type": "code",
   "execution_count": null,
   "id": "b4ac3a32",
   "metadata": {},
   "outputs": [],
   "source": []
  },
  {
   "cell_type": "code",
   "execution_count": null,
   "id": "74a199dc",
   "metadata": {},
   "outputs": [],
   "source": []
  },
  {
   "cell_type": "code",
   "execution_count": null,
   "id": "6db0bae6",
   "metadata": {},
   "outputs": [],
   "source": []
  },
  {
   "cell_type": "code",
   "execution_count": null,
   "id": "2f618d3b",
   "metadata": {},
   "outputs": [],
   "source": []
  },
  {
   "cell_type": "code",
   "execution_count": null,
   "id": "354268bb",
   "metadata": {},
   "outputs": [],
   "source": []
  },
  {
   "cell_type": "markdown",
   "id": "20165689",
   "metadata": {},
   "source": [
    "- This is the jupter notebook session\n",
    "- discussing reg shortcuts\n",
    "\n",
    "# Heading1\n",
    "## Heading2\n",
    "\n",
    "### Heading3\n",
    "#### Heading4"
   ]
  },
  {
   "cell_type": "code",
   "execution_count": null,
   "id": "94f52257",
   "metadata": {},
   "outputs": [],
   "source": []
  },
  {
   "cell_type": "code",
   "execution_count": null,
   "id": "7b3ede09",
   "metadata": {},
   "outputs": [],
   "source": []
  },
  {
   "cell_type": "code",
   "execution_count": null,
   "id": "e1bdefeb",
   "metadata": {},
   "outputs": [],
   "source": []
  },
  {
   "cell_type": "code",
   "execution_count": null,
   "id": "12539705",
   "metadata": {},
   "outputs": [],
   "source": []
  },
  {
   "cell_type": "code",
   "execution_count": null,
   "id": "ac548976",
   "metadata": {},
   "outputs": [],
   "source": []
  },
  {
   "cell_type": "markdown",
   "id": "79169d31",
   "metadata": {},
   "source": []
  },
  {
   "cell_type": "code",
   "execution_count": null,
   "id": "fe926395",
   "metadata": {},
   "outputs": [],
   "source": []
  },
  {
   "cell_type": "code",
   "execution_count": null,
   "id": "ba685a1a",
   "metadata": {},
   "outputs": [],
   "source": []
  },
  {
   "cell_type": "code",
   "execution_count": null,
   "id": "d7012cc6",
   "metadata": {},
   "outputs": [],
   "source": []
  },
  {
   "cell_type": "code",
   "execution_count": 7,
   "id": "c60a8ef2",
   "metadata": {},
   "outputs": [
    {
     "name": "stdout",
     "output_type": "stream",
     "text": [
      "0.3333333333333333\n"
     ]
    }
   ],
   "source": [
    "a=10\n",
    "b=30\n",
    "print(a/b)"
   ]
  },
  {
   "cell_type": "markdown",
   "id": "cba47106",
   "metadata": {},
   "source": [
    "### Jupyter shortcuts\n",
    "- Shift + Enter =  Running\n",
    "- Two Modes\n",
    "    - ESC/ Command Mode (Blue)\n",
    "    - Edit (Green)\n",
    " - Deletion = X\n",
    " - Addition of cells below = B\n",
    " \n",
    "#### Writing the notes\n",
    "- enter into the command mode(ESC)\n",
    "- press M (markdown)\n",
    "- You can write the notes only in markdown (mode)"
   ]
  },
  {
   "cell_type": "code",
   "execution_count": null,
   "id": "6594a65f",
   "metadata": {},
   "outputs": [],
   "source": []
  },
  {
   "cell_type": "markdown",
   "id": "04c27097",
   "metadata": {},
   "source": [
    "<img src = \"https://cdn-wordpress-info.futurelearn.com/info/wp-content/uploads/1.5-What-Is-Programming.gif\" width = \"800\" height = \"400\">"
   ]
  },
  {
   "cell_type": "markdown",
   "id": "1d860184",
   "metadata": {},
   "source": [
    "<img src =\"data:image/jpeg;base64,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\">"
   ]
  },
  {
   "cell_type": "code",
   "execution_count": null,
   "id": "2e5fb935",
   "metadata": {},
   "outputs": [],
   "source": []
  }
 ],
 "metadata": {
  "kernelspec": {
   "display_name": "Python 3",
   "language": "python",
   "name": "python3"
  },
  "language_info": {
   "codemirror_mode": {
    "name": "ipython",
    "version": 3
   },
   "file_extension": ".py",
   "mimetype": "text/x-python",
   "name": "python",
   "nbconvert_exporter": "python",
   "pygments_lexer": "ipython3",
   "version": "3.8.8"
  }
 },
 "nbformat": 4,
 "nbformat_minor": 5
}
