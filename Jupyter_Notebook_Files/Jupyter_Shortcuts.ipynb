{
 "cells": [
  {
   "cell_type": "code",
   "execution_count": null,
   "id": "b3bdb962",
   "metadata": {},
   "outputs": [],
   "source": []
  },
  {
   "cell_type": "code",
   "execution_count": null,
   "id": "8bfae1fa",
   "metadata": {},
   "outputs": [],
   "source": []
  },
  {
   "cell_type": "code",
   "execution_count": null,
   "id": "2cc32198",
   "metadata": {},
   "outputs": [],
   "source": []
  },
  {
   "cell_type": "code",
   "execution_count": null,
   "id": "446443f0",
   "metadata": {},
   "outputs": [],
   "source": []
  },
  {
   "cell_type": "code",
   "execution_count": null,
   "id": "2f618d3b",
   "metadata": {},
   "outputs": [],
   "source": []
  },
  {
   "cell_type": "code",
   "execution_count": 2,
   "id": "43703783",
   "metadata": {},
   "outputs": [
    {
     "name": "stdout",
     "output_type": "stream",
     "text": [
      "Hello \n",
      "World \n"
     ]
    }
   ],
   "source": [
    "print(\"Hello \")\n",
    "print(\"World \")"
   ]
  },
  {
   "cell_type": "code",
   "execution_count": 5,
   "id": "354268bb",
   "metadata": {},
   "outputs": [
    {
     "name": "stdout",
     "output_type": "stream",
     "text": [
      "40\n"
     ]
    }
   ],
   "source": [
    "a = 10\n",
    "b = 30\n",
    "print(a + b)"
   ]
  },
  {
   "cell_type": "code",
   "execution_count": null,
   "id": "55868a74",
   "metadata": {},
   "outputs": [],
   "source": []
  },
  {
   "cell_type": "markdown",
   "id": "20165689",
   "metadata": {},
   "source": [
    "- This is the jupter notebook session\n",
    "- discussing reg shortcuts\n",
    "\n",
    "# Heading1\n",
    "## Heading2\n",
    "\n",
    "### Heading3\n",
    "#### Heading4"
   ]
  },
  {
   "cell_type": "markdown",
   "id": "a24418cb",
   "metadata": {},
   "source": [
    " - jupyter shortcuts \n",
    " - discussing edit mode and esc mode\n",
    " # Python Learn\n",
    " ### Python learn\n",
    " ##### Python learn\n",
    " __python__"
   ]
  },
  {
   "cell_type": "code",
   "execution_count": null,
   "id": "94f52257",
   "metadata": {},
   "outputs": [],
   "source": []
  },
  {
   "cell_type": "code",
   "execution_count": null,
   "id": "7b3ede09",
   "metadata": {},
   "outputs": [],
   "source": []
  },
  {
   "cell_type": "code",
   "execution_count": null,
   "id": "e1bdefeb",
   "metadata": {},
   "outputs": [],
   "source": []
  },
  {
   "cell_type": "code",
   "execution_count": null,
   "id": "12539705",
   "metadata": {},
   "outputs": [],
   "source": []
  },
  {
   "cell_type": "code",
   "execution_count": null,
   "id": "ac548976",
   "metadata": {},
   "outputs": [],
   "source": []
  },
  {
   "cell_type": "markdown",
   "id": "79169d31",
   "metadata": {},
   "source": []
  },
  {
   "cell_type": "code",
   "execution_count": null,
   "id": "fe926395",
   "metadata": {},
   "outputs": [],
   "source": []
  },
  {
   "cell_type": "code",
   "execution_count": null,
   "id": "ba685a1a",
   "metadata": {},
   "outputs": [],
   "source": []
  },
  {
   "cell_type": "code",
   "execution_count": null,
   "id": "d7012cc6",
   "metadata": {},
   "outputs": [],
   "source": []
  },
  {
   "cell_type": "code",
   "execution_count": null,
   "id": "c60a8ef2",
   "metadata": {},
   "outputs": [],
   "source": [
    "a=10\n",
    "b=30\n",
    "print(a/b)"
   ]
  },
  {
   "cell_type": "markdown",
   "id": "cba47106",
   "metadata": {},
   "source": [
    "### Jupyter shortcuts\n",
    "- Shift + Enter =  Running\n",
    "- Two Modes\n",
    "    - ESC/ Command Mode (Blue)\n",
    "    - Edit (Green)\n",
    " - Deletion = X\n",
    " - Addition of cells below = B\n",
    " \n",
    "#### Writing the notes\n",
    "- enter into the command mode(ESC)\n",
    "- press M (markdown)\n",
    "- You can write the notes only in markdown (mode)"
   ]
  },
  {
   "cell_type": "code",
   "execution_count": null,
   "id": "6594a65f",
   "metadata": {},
   "outputs": [],
   "source": []
  },
  {
   "cell_type": "markdown",
   "id": "04c27097",
   "metadata": {},
   "source": [
    "<img src = \"https://cdn-wordpress-info.futurelearn.com/info/wp-content/uploads/1.5-What-Is-Programming.gif\" width = \"800\" height = \"400\">"
   ]
  },
  {
   "cell_type": "markdown",
   "id": "1d860184",
   "metadata": {},
   "source": [
    "<img src =\"data:image/jpeg;base64,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\">"
   ]
  },
  {
   "cell_type": "markdown",
   "id": "7bd35d7a",
   "metadata": {},
   "source": [
    "<img src =\"data:image/jpeg;base64,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 \">"
   ]
  }
 ],
 "metadata": {
  "kernelspec": {
   "display_name": "Python 3",
   "language": "python",
   "name": "python3"
  },
  "language_info": {
   "codemirror_mode": {
    "name": "ipython",
    "version": 3
   },
   "file_extension": ".py",
   "mimetype": "text/x-python",
   "name": "python",
   "nbconvert_exporter": "python",
   "pygments_lexer": "ipython3",
   "version": "3.8.8"
  }
 },
 "nbformat": 4,
 "nbformat_minor": 5
}
