{
 "cells": [
  {
   "cell_type": "code",
   "execution_count": 15,
   "id": "43703783",
   "metadata": {},
   "outputs": [
    {
     "name": "stdout",
     "output_type": "stream",
     "text": [
      "Hello Hello Hello Hello Hello Hello Hello Hello Hello Hello Hello Hello Hello Hello Hello Hello Hello Hello Hello Hello \n",
      "World World World World World World World World World World \n"
     ]
    }
   ],
   "source": [
    "print(\"Hello \"*20)\n",
    "print(\"World \"*10)"
   ]
  },
  {
   "cell_type": "code",
   "execution_count": null,
   "id": "a659d119",
   "metadata": {},
   "outputs": [],
   "source": []
  },
  {
   "cell_type": "code",
   "execution_count": 14,
   "id": "c60a8ef2",
   "metadata": {},
   "outputs": [
    {
     "name": "stdout",
     "output_type": "stream",
     "text": [
      "0.3333333333333333\n"
     ]
    }
   ],
   "source": [
    "a=10\n",
    "b=30\n",
    "print(a/b)"
   ]
  },
  {
   "cell_type": "markdown",
   "id": "cba47106",
   "metadata": {},
   "source": [
    "### Jupyter shortcuts\n",
    "- Cntrl + Enter =  Running\n",
    "- Two Modes\n",
    "    - ESC/ Command Mode (Blue)\n",
    "     - Edit (Green)\n",
    " - Deletion = X\n",
    " - Addition of cells below = B\n",
    " "
   ]
  },
  {
   "cell_type": "code",
   "execution_count": null,
   "id": "6594a65f",
   "metadata": {},
   "outputs": [],
   "source": []
  },
  {
   "cell_type": "markdown",
   "id": "04c27097",
   "metadata": {},
   "source": [
    "<img src = \"https://cdn-wordpress-info.futurelearn.com/info/wp-content/uploads/1.5-What-Is-Programming.gif\" width = \"800\" height = \"400\">"
   ]
  },
  {
   "cell_type": "code",
   "execution_count": null,
   "id": "bb1ef56d",
   "metadata": {},
   "outputs": [],
   "source": []
  }
 ],
 "metadata": {
  "kernelspec": {
   "display_name": "Python 3",
   "language": "python",
   "name": "python3"
  },
  "language_info": {
   "codemirror_mode": {
    "name": "ipython",
    "version": 3
   },
   "file_extension": ".py",
   "mimetype": "text/x-python",
   "name": "python",
   "nbconvert_exporter": "python",
   "pygments_lexer": "ipython3",
   "version": "3.8.8"
  }
 },
 "nbformat": 4,
 "nbformat_minor": 5
}
