{
 "cells": [
  {
   "cell_type": "code",
   "execution_count": null,
   "metadata": {},
   "outputs": [],
   "source": [
    "from IPython.core.interactiveshell import InteractiveShell\n",
    "InteractiveShell.ast_node_interactivity = \"all\"\n",
    "#getting output for all lines in the CELL"
   ]
  },
  {
   "cell_type": "code",
   "execution_count": null,
   "metadata": {},
   "outputs": [],
   "source": [
    "a= \"Ravi\"\n",
    "a #print(a)\n",
    "b = \"Python\"\n",
    "b"
   ]
  },
  {
   "cell_type": "code",
   "execution_count": null,
   "metadata": {},
   "outputs": [],
   "source": [
    "print(\"Hey Hi Hola !!\") #double \n",
    "print('Welcome') #single\n",
    "print(\"\"\"Python Session\"\"\") #thriple"
   ]
  },
  {
   "cell_type": "code",
   "execution_count": null,
   "metadata": {},
   "outputs": [],
   "source": [
    "print(\"Hello\")\n",
    "print(\"Hi\"*10)\n",
    "print(\"pythonepi\"*10)"
   ]
  },
  {
   "cell_type": "markdown",
   "metadata": {},
   "source": [
    "#### shortcuts for jupyter notebook\n",
    "\n",
    "- shift + enter = run cell\n",
    "\n",
    "- ESC -> command Mode\n",
    "- b - insert cell below\n",
    "- a - insert above\n",
    "- x = dell the cell\n",
    "- m - markdown (write any text)"
   ]
  },
  {
   "cell_type": "markdown",
   "metadata": {},
   "source": []
  },
  {
   "cell_type": "code",
   "execution_count": null,
   "metadata": {},
   "outputs": [],
   "source": [
    "print(10) #print() used to print any valid data on console."
   ]
  },
  {
   "cell_type": "code",
   "execution_count": null,
   "metadata": {},
   "outputs": [],
   "source": [
    "print(10.222)"
   ]
  },
  {
   "cell_type": "code",
   "execution_count": null,
   "metadata": {},
   "outputs": [],
   "source": [
    "print(True , False)"
   ]
  },
  {
   "cell_type": "markdown",
   "metadata": {},
   "source": [
    "### Python Intro"
   ]
  },
  {
   "cell_type": "markdown",
   "metadata": {},
   "source": [
    "<img src = \" https://files.realpython.com/media/Newbie_Watermarked.a9319218252a.jpg\" width = \"500\" height = \"800\">"
   ]
  },
  {
   "cell_type": "markdown",
   "metadata": {},
   "source": [
    "### Python 2 vs Python 3"
   ]
  },
  {
   "cell_type": "markdown",
   "metadata": {},
   "source": [
    "<img src = \"https://media.geeksforgeeks.org/wp-content/uploads/20190503154837/Python2_python3.jpg\"  width=\"500\" height=\"600\">"
   ]
  },
  {
   "cell_type": "code",
   "execution_count": null,
   "metadata": {},
   "outputs": [],
   "source": [
    "print(ord(\"R\") , ord(\"a\"))"
   ]
  },
  {
   "cell_type": "code",
   "execution_count": null,
   "metadata": {},
   "outputs": [],
   "source": [
    "print(chr(2313))"
   ]
  },
  {
   "cell_type": "code",
   "execution_count": null,
   "metadata": {},
   "outputs": [],
   "source": [
    "print(ord(\"उ\"))"
   ]
  },
  {
   "cell_type": "code",
   "execution_count": null,
   "metadata": {},
   "outputs": [],
   "source": [
    "print(ord(\" \"))"
   ]
  },
  {
   "cell_type": "code",
   "execution_count": null,
   "metadata": {},
   "outputs": [],
   "source": [
    "print(ord(\"^\"))"
   ]
  },
  {
   "cell_type": "code",
   "execution_count": null,
   "metadata": {},
   "outputs": [],
   "source": [
    "print(ord(\"A\"),ord(\"a\"))"
   ]
  },
  {
   "cell_type": "code",
   "execution_count": null,
   "metadata": {},
   "outputs": [],
   "source": [
    "2**8"
   ]
  },
  {
   "cell_type": "code",
   "execution_count": null,
   "metadata": {},
   "outputs": [],
   "source": [
    "2**16 #Expo"
   ]
  },
  {
   "cell_type": "code",
   "execution_count": null,
   "metadata": {},
   "outputs": [],
   "source": [
    "# print \"hellol\"\n",
    "print(\"hello\")"
   ]
  },
  {
   "cell_type": "markdown",
   "metadata": {},
   "source": [
    "### Print function \n",
    "\n",
    "- It is used to print the information or objects data to the console \n",
    "\n",
    "syntax:\n",
    "\n",
    "\n",
    "print(value, ..., sep=' ', end='\\n', file=sys.stdout, flush=False)\n",
    "\n",
    "- this is the syntax of the print functions"
   ]
  },
  {
   "cell_type": "code",
   "execution_count": null,
   "metadata": {},
   "outputs": [],
   "source": [
    "print('Hello python')\n",
    "print(10)\n"
   ]
  },
  {
   "cell_type": "code",
   "execution_count": null,
   "metadata": {},
   "outputs": [],
   "source": [
    "print(''' Hello python ''')"
   ]
  },
  {
   "cell_type": "code",
   "execution_count": null,
   "metadata": {},
   "outputs": [],
   "source": [
    "print(\"Hello World !...\")\n",
    "print(10)"
   ]
  },
  {
   "cell_type": "code",
   "execution_count": null,
   "metadata": {},
   "outputs": [],
   "source": [
    "studentname = \"DivyaSree\"\n",
    "print(studentname)"
   ]
  },
  {
   "cell_type": "code",
   "execution_count": null,
   "metadata": {},
   "outputs": [],
   "source": [
    "a = 10\n",
    "b = \" is Even \"\n",
    "c = \"and it is True\"\n",
    "\n",
    "#comment : it will not execute.\n",
    "print(a)\n",
    "print(b)\n",
    "print(c)"
   ]
  },
  {
   "cell_type": "code",
   "execution_count": null,
   "metadata": {},
   "outputs": [],
   "source": [
    "print(a,b,c)"
   ]
  },
  {
   "cell_type": "code",
   "execution_count": null,
   "metadata": {},
   "outputs": [],
   "source": [
    "\n",
    "\n",
    "print(a,b,c)\n",
    "print(a,b,c , sep=\" -> \")\n",
    "# # # sep the variables when we have more than one variable."
   ]
  },
  {
   "cell_type": "code",
   "execution_count": null,
   "metadata": {},
   "outputs": [],
   "source": [
    "\n",
    "print(a,b,c , sep=\"**\")\n",
    "\n",
    "print(a,b,c , sep=\"\\n\") #new line"
   ]
  },
  {
   "cell_type": "code",
   "execution_count": null,
   "metadata": {},
   "outputs": [],
   "source": [
    "sample = open('student.txt', 'a') # creating the write.\n",
    "  \n",
    "print('GeeksForGeeks Python Language July2nd',file=sample)\n",
    "sample.close()"
   ]
  },
  {
   "cell_type": "code",
   "execution_count": null,
   "metadata": {},
   "outputs": [],
   "source": []
  },
  {
   "cell_type": "markdown",
   "metadata": {},
   "source": [
    "### Comments \n",
    "\n",
    "- computer programming, a comment is a programmer-readable explanation or annotation in the source code of a computer program. \n",
    "- They are added with the purpose of making the source code easier for humans to understand, and are generally ignored by compilers and interpreters.\n",
    "- They are non executable statements (lines)\n",
    "\n",
    "- 2 types of comments in python \n",
    "    - single  #\n",
    "    - multiline ''' '''' \n",
    "    "
   ]
  },
  {
   "cell_type": "code",
   "execution_count": null,
   "metadata": {},
   "outputs": [],
   "source": [
    "# this is comment written sairam hjghjg768hkbuiy98y7gt87y99\n",
    "# cnt+/ = to comment the code\n",
    "# skjsn,\n",
    "\n",
    "'''\n",
    "this is program written on may12th\n",
    "\n",
    "multiline\n",
    "\n",
    "Python comments\n",
    "'''\n",
    "\n",
    "# Today im learning print method and comments and variables\n",
    "# Pthon 2\n",
    "# python 4"
   ]
  },
  {
   "cell_type": "markdown",
   "metadata": {},
   "source": [
    "## Variables\n",
    "\n",
    "**Think of a variable as a name attached to a particular object. In Python, variables need not be declared or defined in advance, as is the case in many other programming languages. To create a variable, you just assign it a value and then start using it. Assignment is done with a single equals sign (=):**\n",
    "\n",
    "- A Varible is nothing but giving a name to the memory location(s) to store the value , so that we can reuse that value whenever  needed.\n",
    "\n",
    "- It possess a Variablity property , it can change its value during the phase of execution \n",
    "\n",
    "#### Rules to define a variable  \n",
    "\n",
    "    A variable name must start with a letter or the underscore character.\n",
    "    A variable name cannot start with a number.\n",
    "    A variable name can only contain alpha-numeric characters and underscores (A-z, 0-9, and _ )\n",
    "    Variable names are case-sensitive (age, Age and AGE are three different variables)\n",
    "    No Variable canT have the same name as a reserved word.\n",
    "    "
   ]
  },
  {
   "cell_type": "code",
   "execution_count": null,
   "metadata": {
    "scrolled": true
   },
   "outputs": [],
   "source": [
    "# other languages (c, cpp , java)\n",
    "int age = 20  #4bytes \n",
    "String name = \"meet\"\n",
    "float f = = 1082.287 #4 bytes\n",
    "\n",
    "age = 10.3765672 #invalid\n",
    "\n",
    "\n",
    "#static , strickly "
   ]
  },
  {
   "cell_type": "code",
   "execution_count": null,
   "metadata": {},
   "outputs": [],
   "source": [
    "2**64-1"
   ]
  },
  {
   "cell_type": "code",
   "execution_count": null,
   "metadata": {},
   "outputs": [],
   "source": [
    "#Python dynamic lang = data type is decided based on the value\n",
    "# <variable_name > = <value>\n",
    "\n",
    "age = 2500000000000000000000000000000000000000000000000000000000000"
   ]
  },
  {
   "cell_type": "code",
   "execution_count": null,
   "metadata": {},
   "outputs": [],
   "source": [
    "print(age)\n",
    "print(type(age))\n",
    "#type(variable_name) : check the datatype of the Var"
   ]
  },
  {
   "cell_type": "code",
   "execution_count": null,
   "metadata": {},
   "outputs": [],
   "source": [
    "age = 25.5\n",
    "print(age , type(age))"
   ]
  },
  {
   "cell_type": "code",
   "execution_count": null,
   "metadata": {},
   "outputs": [],
   "source": [
    "age = \"a\"\n",
    "print(age , type(age))"
   ]
  },
  {
   "cell_type": "code",
   "execution_count": null,
   "metadata": {},
   "outputs": [],
   "source": [
    "age = True\n",
    "print(age , type(age))"
   ]
  },
  {
   "cell_type": "code",
   "execution_count": null,
   "metadata": {},
   "outputs": [],
   "source": [
    "2**63"
   ]
  },
  {
   "cell_type": "code",
   "execution_count": null,
   "metadata": {},
   "outputs": [],
   "source": [
    "2**32  # for int"
   ]
  },
  {
   "cell_type": "code",
   "execution_count": null,
   "metadata": {},
   "outputs": [],
   "source": [
    "student_name = \"Ak Rajamoni\"\n",
    "print(student_name)#snake case"
   ]
  },
  {
   "cell_type": "code",
   "execution_count": null,
   "metadata": {},
   "outputs": [],
   "source": [
    "#valid variable names\n",
    "\n",
    "name = \"Snowy\"\n",
    "Age = 8\n",
    "is_pet = True\n",
    "name = 10.21\n",
    "\n",
    "print(name , Age , is_pet , sep=\"\\t \\t\") #\\t = TAB \\n = new line"
   ]
  },
  {
   "cell_type": "code",
   "execution_count": null,
   "metadata": {},
   "outputs": [],
   "source": [
    "student_name = \"DEEPA \"\n",
    "\n",
    "print(type(student_name))"
   ]
  },
  {
   "cell_type": "code",
   "execution_count": null,
   "metadata": {},
   "outputs": [],
   "source": [
    "# invalid variable names\n",
    "\n",
    "98_age = 30 #ibt gives the error "
   ]
  },
  {
   "cell_type": "code",
   "execution_count": null,
   "metadata": {},
   "outputs": [],
   "source": [
    "age_98=30\n",
    "print(age_98)\n"
   ]
  },
  {
   "cell_type": "code",
   "execution_count": null,
   "metadata": {},
   "outputs": [],
   "source": [
    "_ = \"Hello\"\n",
    "print(_, type(_))"
   ]
  },
  {
   "cell_type": "code",
   "execution_count": null,
   "metadata": {},
   "outputs": [],
   "source": [
    "import keyword\n",
    "\n",
    "print(keyword.kwlist)"
   ]
  },
  {
   "cell_type": "code",
   "execution_count": null,
   "metadata": {},
   "outputs": [],
   "source": [
    "len(['False', 'None', 'True', 'and', 'as', 'assert', 'async', 'await', 'break', 'class', 'continue', 'def', 'del', 'elif', 'else', 'except', 'finally', 'for', 'from', 'global', 'if', 'import', 'in', 'is', 'lambda', 'nonlocal', 'not', 'or', 'pass', 'raise', 'return', 'try', 'while', 'with', 'yield'])"
   ]
  },
  {
   "cell_type": "code",
   "execution_count": null,
   "metadata": {},
   "outputs": [],
   "source": [
    "import = 10\n",
    "True = \"AK\"\n",
    "#invalid"
   ]
  },
  {
   "cell_type": "code",
   "execution_count": null,
   "metadata": {},
   "outputs": [],
   "source": [
    "True_ = 10\n",
    "print(True_)"
   ]
  },
  {
   "cell_type": "code",
   "execution_count": null,
   "metadata": {},
   "outputs": [],
   "source": [
    "True_True = True\n",
    "\n",
    "print(type(True_True))"
   ]
  },
  {
   "cell_type": "code",
   "execution_count": null,
   "metadata": {},
   "outputs": [],
   "source": [
    "print(\"False  true None and as Aseert\")"
   ]
  },
  {
   "cell_type": "code",
   "execution_count": null,
   "metadata": {},
   "outputs": [],
   "source": [
    "len(['False', 'None', 'True', 'and', 'as', 'assert', 'async', 'await', 'break', 'class', 'continue', 'def', 'del', 'elif', 'else', 'except', 'finally', 'for', 'from', 'global', 'if', 'import', 'in', 'is', 'lambda', 'nonlocal', 'not', 'or', 'pass', 'raise', 'return', 'try', 'while', 'with', 'yield'])"
   ]
  },
  {
   "cell_type": "code",
   "execution_count": null,
   "metadata": {},
   "outputs": [],
   "source": [
    "# Note that case is significant. Lowercase and uppercase letters are not the same. \n",
    "# Use of the underscore character is significant as well. Each of the following defines a different variable:\n",
    "\n",
    "age = 1\n",
    "Age = 2\n",
    "aGe = 3\n",
    "AGE = 4\n",
    "a_g_e = 5\n",
    "_age = 6\n",
    "age_ = 7\n",
    "_AGE_ = 8\n",
    "ega = 10"
   ]
  },
  {
   "cell_type": "code",
   "execution_count": null,
   "metadata": {},
   "outputs": [],
   "source": [
    "print(id(age) , id(ega))\n",
    "\n",
    "# id() -> memory address\n",
    "# type()-> to know to data type"
   ]
  },
  {
   "cell_type": "code",
   "execution_count": null,
   "metadata": {},
   "outputs": [],
   "source": [
    "id(Age)"
   ]
  },
  {
   "cell_type": "code",
   "execution_count": null,
   "metadata": {},
   "outputs": [],
   "source": [
    "a=10\n",
    "b=10\n",
    "c= 10\n",
    "print(id(a) , id(b) , id(c))\n",
    "\n",
    "b=b+2\n",
    "c=c-1\n",
    "\n",
    "print(id(a) , id(b) , id(c))\n"
   ]
  },
  {
   "cell_type": "markdown",
   "metadata": {},
   "source": [
    "#pre defined functions\n",
    "\n",
    "- type(obj) : to check the data type\n",
    "- id(obj) : to know the addr\n",
    "- len(obj) : to count the occurences ."
   ]
  },
  {
   "cell_type": "code",
   "execution_count": null,
   "metadata": {},
   "outputs": [],
   "source": [
    "a=10\n",
    "b=10\n",
    "c=10\n"
   ]
  },
  {
   "cell_type": "code",
   "execution_count": null,
   "metadata": {},
   "outputs": [],
   "source": [
    "#assign a single value to mutliple variables\n",
    "\n",
    "a = b = c =1729\n",
    "\n",
    "\n",
    "\n",
    "print(a,b,c)"
   ]
  },
  {
   "cell_type": "code",
   "execution_count": null,
   "metadata": {},
   "outputs": [],
   "source": [
    "#assign a different values to mutliple variables in one line\n",
    "a,b,c = 1729,10,12\n",
    "\n",
    "print(a,b,c,sep=\"\\n\") #\\n = new line"
   ]
  },
  {
   "cell_type": "markdown",
   "metadata": {},
   "source": [
    "### Naming styles\n",
    "\n",
    "\n",
    "    Camel Case:\n",
    "    Second and subsequent words are capitalized, to make word boundaries easier to see.\n",
    "        Example: numberOfCollegeGraduates\n",
    "        \n",
    "        for naming functions\n",
    "        \n",
    "    Pascal Case: \n",
    "    Identical to Camel Case, except the first word is also capitalized.\n",
    "        Example: NumberOfCollegeGraduates\n",
    "        \n",
    "        for naming Classes\n",
    "    \n",
    "    Snake Case: \n",
    "    Words are separated by underscores.\n",
    "        Example: number_of_college_graduates\n",
    "        for  naming variables\n"
   ]
  },
  {
   "cell_type": "code",
   "execution_count": null,
   "metadata": {},
   "outputs": [],
   "source": [
    "movie_actor = \"Tom Hanks\"\n",
    "print(movie_actor , type(movie_actor) , id(movie_actor))"
   ]
  },
  {
   "cell_type": "code",
   "execution_count": null,
   "metadata": {},
   "outputs": [],
   "source": [
    "price_apple = 50\n",
    "banana_price = 70\n",
    "print(price_apple,banana_price,sep=\"\\n\")"
   ]
  },
  {
   "cell_type": "code",
   "execution_count": null,
   "metadata": {},
   "outputs": [],
   "source": [
    "#int\n",
    "#float\n",
    "#str\n",
    "#boolean (True,False)\n",
    "#use type() - > data type, id() -> memory id\n",
    "int_var = 10\n",
    "print(int_var)\n",
    "print(type(int_var))\n",
    "print(id(int_var))"
   ]
  },
  {
   "cell_type": "code",
   "execution_count": null,
   "metadata": {},
   "outputs": [],
   "source": [
    "if = \"SaiRam\" #if is reversed word or keyword"
   ]
  },
  {
   "cell_type": "code",
   "execution_count": null,
   "metadata": {},
   "outputs": [],
   "source": [
    "python_session =\"June Session\"\n",
    "print(python_session)\n",
    "python_session"
   ]
  },
  {
   "cell_type": "code",
   "execution_count": null,
   "metadata": {},
   "outputs": [],
   "source": [
    "\"hello\" #print('hello')"
   ]
  },
  {
   "cell_type": "code",
   "execution_count": null,
   "metadata": {},
   "outputs": [],
   "source": [
    "10 #print(10)\n"
   ]
  },
  {
   "cell_type": "code",
   "execution_count": null,
   "metadata": {},
   "outputs": [],
   "source": [
    "a=10\n",
    "a #print(a)\n",
    "b=20\n",
    "b #print(b)"
   ]
  },
  {
   "cell_type": "code",
   "execution_count": null,
   "metadata": {},
   "outputs": [],
   "source": [
    "print(type(\"A\"))\n",
    "type(10)\n",
    "type(10.22)\n",
    "type(10+2j)"
   ]
  },
  {
   "cell_type": "code",
   "execution_count": null,
   "metadata": {},
   "outputs": [],
   "source": [
    "def printName():\n",
    "    print(\"Hi Welcome July Python\")\n",
    "    return \"CHARLIE\"\n",
    "\n",
    "print(printName())"
   ]
  },
  {
   "cell_type": "code",
   "execution_count": null,
   "metadata": {},
   "outputs": [],
   "source": [
    "print(print(\"Ganesh\"))"
   ]
  },
  {
   "cell_type": "code",
   "execution_count": null,
   "metadata": {},
   "outputs": [],
   "source": [
    "a = print(\"Hello\") #it will return None type \n",
    "print(a)"
   ]
  },
  {
   "cell_type": "code",
   "execution_count": null,
   "metadata": {},
   "outputs": [],
   "source": [
    "print(print(print(\"Yash\")))"
   ]
  },
  {
   "cell_type": "code",
   "execution_count": null,
   "metadata": {},
   "outputs": [],
   "source": [
    "_ = 10\n",
    "__ =30\n",
    "\n",
    "print(_)\n",
    "print()\n",
    "print()\n",
    "print()\n",
    "print()\n",
    "print()#empty print() > new line\n",
    "print(__)"
   ]
  },
  {
   "cell_type": "code",
   "execution_count": null,
   "metadata": {},
   "outputs": [],
   "source": [
    "print(print(print(print())))\n",
    "print() \n",
    "print()\n",
    "print() # new line\n",
    "print(\"Hi\")\n"
   ]
  },
  {
   "cell_type": "code",
   "execution_count": null,
   "metadata": {},
   "outputs": [],
   "source": [
    "a=10\n",
    "print(a)\n",
    "print()\n",
    "print()\n",
    "print()\n",
    "print(b)"
   ]
  },
  {
   "cell_type": "code",
   "execution_count": null,
   "metadata": {},
   "outputs": [],
   "source": [
    "# Print()\n",
    "# TYpe() #error "
   ]
  },
  {
   "cell_type": "code",
   "execution_count": null,
   "metadata": {},
   "outputs": [],
   "source": [
    "# Declaree 5 realtime variables and assign different values.\n",
    "#print them , with value , type , id.\n",
    "Score=5.6\n",
    "Name=\"Deepa\"\n",
    "Analyst=True\n",
    "Batch=5\n",
    "print(Score , type(Score)  , id(Score))\n",
    "\n",
    "\n",
    "Student_Name  = \" hari  \"\n",
    "Roll_num = 7\n",
    "marks_scored = 97.5\n",
    "first_class = True\n",
    "print ((Student_Name),type(Student_Name),id(Student_Name))\n",
    "print((Roll_num),type(Roll_num),id(Roll_num))\n",
    "print((marks_scored),type(marks_scored),id(marks_scored))\n",
    "print((first_class),type(first_class),id(first_class))\n"
   ]
  },
  {
   "cell_type": "markdown",
   "metadata": {},
   "source": [
    "### Data types"
   ]
  },
  {
   "cell_type": "markdown",
   "metadata": {},
   "source": [
    "In programming, data type is an important concept.\n",
    "\n",
    "It defines the type of Data we use. \n",
    "\n",
    "**Variables can store data of different types, and different types can do different things.**\n",
    "\n",
    "Python has the following data types built-in by default, in these categories:\n",
    "\n",
    "Text Type: \tstr\n",
    "\n",
    "Numeric Types: \tint, float, complex\n",
    "\n",
    "Sequence Types: \tlist, tuple, range\n",
    "\n",
    "Mapping Type: \tdict\n",
    "\n",
    "Set Types: \tset, frozenset\n",
    "\n",
    "Boolean Type: \tbool\n",
    "\n",
    "Binary Types: \tbytes, bytearray, memoryview"
   ]
  },
  {
   "cell_type": "markdown",
   "metadata": {},
   "source": [
    "### Int "
   ]
  },
  {
   "cell_type": "code",
   "execution_count": null,
   "metadata": {},
   "outputs": [],
   "source": [
    "# Python interprets a sequence of decimal digits without any prefix to be a decimal number(0-9)\n",
    "\n",
    "int_var = 5\n",
    "\n",
    "print(int_var)\n",
    "\n",
    "print(type(int_var))\n",
    "\n",
    "int_var = 10.2 #float \n",
    "\n",
    "print(type(int_var))"
   ]
  },
  {
   "cell_type": "code",
   "execution_count": null,
   "metadata": {},
   "outputs": [],
   "source": [
    "2**64-1 #Python2"
   ]
  },
  {
   "cell_type": "code",
   "execution_count": null,
   "metadata": {},
   "outputs": [],
   "source": [
    "# In Python 3, there is effectively no limit to how long an integer value can be. \n",
    "# Of course, it is constrained by the amount of memory your system has, as are all things, \n",
    "# but beyond that an integer can be as long as you need it to be:\n",
    "\n",
    "int_var2 = 12312188727979081720280990280981090928098208091802180982082108028028021082098028091\n",
    "#java long type 9,223,372,036,854,775,807\n",
    "\n",
    "print(int_var2)"
   ]
  },
  {
   "cell_type": "markdown",
   "metadata": {},
   "source": [
    "Prefix \tInterpretation \tBase\n",
    "\n",
    "0b (zero + lowercase letter 'b')\n",
    "\n",
    "0B (zero + uppercase letter 'B') \tBinary \t2\n",
    "\n",
    "0o (zero + lowercase letter 'o')\n",
    "\n",
    "0O (zero + uppercase letter 'O') \tOctal \t8\n",
    "\n",
    "0x (zero + lowercase letter 'x')\n",
    "\n",
    "0X (zero + uppercase letter 'X') \tHexadecimal \t16"
   ]
  },
  {
   "cell_type": "code",
   "execution_count": null,
   "metadata": {},
   "outputs": [],
   "source": [
    "8/2 = 0\n",
    "4/2 = 0\n",
    "2/2 = 0\n",
    "1/2 = 1\n",
    "Quo = 0\n",
    "# 1000 - 8"
   ]
  },
  {
   "cell_type": "code",
   "execution_count": null,
   "metadata": {},
   "outputs": [],
   "source": [
    "2**8"
   ]
  },
  {
   "cell_type": "code",
   "execution_count": null,
   "metadata": {},
   "outputs": [],
   "source": [
    "1+2+4+8+16+32+64+128"
   ]
  },
  {
   "cell_type": "code",
   "execution_count": null,
   "metadata": {},
   "outputs": [],
   "source": [
    "# (2**8)-1 = max values in 8 bit\n",
    "# decimal=10\n",
    "# binary of 10 ="
   ]
  },
  {
   "cell_type": "code",
   "execution_count": null,
   "metadata": {},
   "outputs": [],
   "source": [
    "#8 bit represtaion \n",
    "#  0 - (2**8)-1 : 255\n",
    "\n",
    "digits = 7   | 6  |  5 |  4 | 3 | 2 | 1 | 0 \n",
    "\n",
    "values = 128 : 64 : 32 : 16 : 8 : 4 : 2 : 1    2**digit\n",
    "           \n",
    "        0        0   1    0    0   0   1   1\n",
    "\n",
    "   \n",
    "#44 = 00101100"
   ]
  },
  {
   "cell_type": "code",
   "execution_count": null,
   "metadata": {},
   "outputs": [],
   "source": [
    "print(bin(35))"
   ]
  },
  {
   "cell_type": "code",
   "execution_count": null,
   "metadata": {},
   "outputs": [],
   "source": [
    "print(64+32+16+8+2)"
   ]
  },
  {
   "cell_type": "code",
   "execution_count": null,
   "metadata": {},
   "outputs": [],
   "source": [
    "print(bin(8))"
   ]
  },
  {
   "cell_type": "code",
   "execution_count": null,
   "metadata": {},
   "outputs": [],
   "source": [
    "print(bin(10))"
   ]
  },
  {
   "cell_type": "code",
   "execution_count": null,
   "metadata": {},
   "outputs": [],
   "source": [
    "print(bin(27) , bin(122) , bin(19))\n",
    "#27 = 11011\n",
    "#122 = 1111010\n",
    "#19 = 10011"
   ]
  },
  {
   "cell_type": "code",
   "execution_count": null,
   "metadata": {},
   "outputs": [],
   "source": [
    "# 32 , 122 , 65 "
   ]
  },
  {
   "cell_type": "code",
   "execution_count": null,
   "metadata": {},
   "outputs": [],
   "source": [
    "print(0b1000)\n",
    "print(0B10000)"
   ]
  },
  {
   "cell_type": "code",
   "execution_count": null,
   "metadata": {},
   "outputs": [],
   "source": [
    "print(0b11011) #27"
   ]
  },
  {
   "cell_type": "code",
   "execution_count": null,
   "metadata": {},
   "outputs": [],
   "source": [
    "a=0b1000+0b100 #8+4 = 12\n",
    "print(a)\n",
    "print(bin(a))"
   ]
  },
  {
   "cell_type": "code",
   "execution_count": null,
   "metadata": {},
   "outputs": [],
   "source": [
    "bin(127)"
   ]
  },
  {
   "cell_type": "code",
   "execution_count": null,
   "metadata": {},
   "outputs": [],
   "source": [
    "print(0o10)\n",
    "print(0O100)"
   ]
  },
  {
   "cell_type": "code",
   "execution_count": null,
   "metadata": {},
   "outputs": [],
   "source": [
    "print(0b101)\n",
    "\n",
    "# 4 bit 2^0 to 2^4 -1\n",
    "# 0 - 15\n",
    "# 2^0 2^1 2^2 \n",
    "#8 4 2 1\n"
   ]
  },
  {
   "cell_type": "code",
   "execution_count": null,
   "metadata": {},
   "outputs": [],
   "source": [
    "256 128 64 32 16 8 4 2 1\n",
    "\n"
   ]
  },
  {
   "cell_type": "code",
   "execution_count": null,
   "metadata": {},
   "outputs": [],
   "source": [
    "# https://byjus.com/maths/number-system/\n"
   ]
  },
  {
   "cell_type": "code",
   "execution_count": null,
   "metadata": {},
   "outputs": [],
   "source": [
    "print(0xF+0B0111)\n",
    "# 0-9 \n",
    "# A - F , A=10 B=11  C=12 D=13 E=14... F=15"
   ]
  },
  {
   "cell_type": "code",
   "execution_count": null,
   "metadata": {},
   "outputs": [],
   "source": [
    "print(0xA)"
   ]
  },
  {
   "cell_type": "code",
   "execution_count": null,
   "metadata": {},
   "outputs": [],
   "source": [
    "print(hex(15))"
   ]
  },
  {
   "cell_type": "code",
   "execution_count": null,
   "metadata": {},
   "outputs": [],
   "source": [
    "#Number System predefined methods are\n",
    "# .bin()\n",
    "# oct()\n",
    "# hex()"
   ]
  },
  {
   "cell_type": "code",
   "execution_count": null,
   "metadata": {},
   "outputs": [],
   "source": [
    "oct(64)"
   ]
  },
  {
   "cell_type": "code",
   "execution_count": null,
   "metadata": {},
   "outputs": [],
   "source": [
    "hex(235)"
   ]
  },
  {
   "cell_type": "code",
   "execution_count": null,
   "metadata": {},
   "outputs": [],
   "source": [
    "a = 0xeb+0b100+0o64\n",
    "print(a)\n",
    "print(235+4+52)"
   ]
  },
  {
   "cell_type": "code",
   "execution_count": null,
   "metadata": {},
   "outputs": [],
   "source": [
    "print(0xeb)\n",
    "print(hex(235))"
   ]
  },
  {
   "cell_type": "code",
   "execution_count": null,
   "metadata": {},
   "outputs": [],
   "source": [
    "#if we want check the type of the value stored in variable  , \n",
    "# use   built-in function \n",
    "# type(variable_name)\n",
    "#len()"
   ]
  },
  {
   "cell_type": "code",
   "execution_count": null,
   "metadata": {},
   "outputs": [],
   "source": [
    "a=0b101\n",
    "print(a)\n",
    "print(type(a))"
   ]
  },
  {
   "cell_type": "markdown",
   "metadata": {},
   "source": [
    "### Float"
   ]
  },
  {
   "cell_type": "code",
   "execution_count": null,
   "metadata": {},
   "outputs": [],
   "source": [
    "float_var =1.33283763\n",
    "\n",
    "print(float_var)\n",
    "print(type(float_var))\n"
   ]
  },
  {
   "cell_type": "code",
   "execution_count": null,
   "metadata": {},
   "outputs": [],
   "source": [
    "float_var = 123\n",
    "print(float_var)\n",
    "print(type(float_var))"
   ]
  },
  {
   "cell_type": "code",
   "execution_count": null,
   "metadata": {},
   "outputs": [],
   "source": [
    "float_var = \"123\"\n",
    "print(float_var)\n",
    "print(type(float_var))"
   ]
  },
  {
   "cell_type": "code",
   "execution_count": null,
   "metadata": {},
   "outputs": [],
   "source": [
    "float_var = True\n",
    "print(float_var)\n",
    "print(type(float_var))"
   ]
  },
  {
   "cell_type": "code",
   "execution_count": null,
   "metadata": {},
   "outputs": [],
   "source": [
    "float_var =121.0\n",
    "print(type(float_var))"
   ]
  },
  {
   "cell_type": "code",
   "execution_count": null,
   "metadata": {},
   "outputs": [],
   "source": [
    "# int a= 10\n",
    "# a =102.289 error  in c , cpp , java"
   ]
  },
  {
   "cell_type": "code",
   "execution_count": null,
   "metadata": {},
   "outputs": [],
   "source": [
    "print(3.4/10000000)"
   ]
  },
  {
   "cell_type": "code",
   "execution_count": null,
   "metadata": {},
   "outputs": [],
   "source": [
    "# 10^-4 0.0001 \n",
    "#3.4*10^-4\n",
    "# e-5 10^5\n",
    "#3.4/100000 = 3.4e-5\n",
    "\n",
    "float_var= 4.5e-5 # 4.5 * 10^-5\n",
    "\n",
    "print(float_var,type(float_var))"
   ]
  },
  {
   "cell_type": "code",
   "execution_count": null,
   "metadata": {},
   "outputs": [],
   "source": [
    "print(1*100000)"
   ]
  },
  {
   "cell_type": "code",
   "execution_count": null,
   "metadata": {},
   "outputs": [],
   "source": [
    "print(3.4/(10**5))"
   ]
  },
  {
   "cell_type": "code",
   "execution_count": null,
   "metadata": {},
   "outputs": [],
   "source": [
    "print(3.4e4)"
   ]
  },
  {
   "cell_type": "code",
   "execution_count": null,
   "metadata": {},
   "outputs": [],
   "source": [
    "3.4/10000"
   ]
  },
  {
   "cell_type": "code",
   "execution_count": null,
   "metadata": {},
   "outputs": [],
   "source": [
    "print(10/0) #undefined value will raise error."
   ]
  },
  {
   "cell_type": "code",
   "execution_count": null,
   "metadata": {},
   "outputs": [],
   "source": [
    "print(type(1/0.0))"
   ]
  },
  {
   "cell_type": "markdown",
   "metadata": {},
   "source": [
    "### Complex Numbers\n",
    "\n",
    "Complex numbers are specified as real part+imaginary part j."
   ]
  },
  {
   "cell_type": "code",
   "execution_count": null,
   "metadata": {},
   "outputs": [],
   "source": [
    "# x+iy\n",
    "#  x is integer y is imag \n",
    "\n",
    "com_var = 2+3j"
   ]
  },
  {
   "cell_type": "code",
   "execution_count": null,
   "metadata": {},
   "outputs": [],
   "source": [
    "print(type(com_var))"
   ]
  },
  {
   "cell_type": "code",
   "execution_count": null,
   "metadata": {},
   "outputs": [],
   "source": [
    "#len()\n",
    "#dir()\n",
    "#type()\n",
    "#bin() hex() oct()\n",
    "#id()\n",
    "#type()\n"
   ]
  },
  {
   "cell_type": "code",
   "execution_count": null,
   "metadata": {},
   "outputs": [],
   "source": [
    "print(dir(com_var))"
   ]
  },
  {
   "cell_type": "code",
   "execution_count": null,
   "metadata": {},
   "outputs": [],
   "source": [
    "int_var = 10\n",
    "print(dir(int_var))\n",
    "print(type(int_var))"
   ]
  },
  {
   "cell_type": "code",
   "execution_count": null,
   "metadata": {},
   "outputs": [],
   "source": [
    "int_var.bit_length()"
   ]
  },
  {
   "cell_type": "code",
   "execution_count": null,
   "metadata": {},
   "outputs": [],
   "source": [
    "int_var.numerator #attribute"
   ]
  },
  {
   "cell_type": "code",
   "execution_count": null,
   "metadata": {},
   "outputs": [],
   "source": []
  },
  {
   "cell_type": "code",
   "execution_count": null,
   "metadata": {},
   "outputs": [],
   "source": [
    "dir(com_var)"
   ]
  },
  {
   "cell_type": "code",
   "execution_count": null,
   "metadata": {},
   "outputs": [],
   "source": [
    "print(com_var)"
   ]
  },
  {
   "cell_type": "code",
   "execution_count": null,
   "metadata": {},
   "outputs": [],
   "source": [
    "com_var.real"
   ]
  },
  {
   "cell_type": "code",
   "execution_count": null,
   "metadata": {},
   "outputs": [],
   "source": [
    "com_var.imag"
   ]
  },
  {
   "cell_type": "code",
   "execution_count": null,
   "metadata": {},
   "outputs": [],
   "source": [
    "com_var = 2+3j"
   ]
  },
  {
   "cell_type": "code",
   "execution_count": null,
   "metadata": {},
   "outputs": [],
   "source": [
    "com_var.real * com_var.imag"
   ]
  },
  {
   "cell_type": "code",
   "execution_count": null,
   "metadata": {},
   "outputs": [],
   "source": [
    "# dir(com_var)\n",
    "com_var.imag"
   ]
  },
  {
   "cell_type": "code",
   "execution_count": null,
   "metadata": {},
   "outputs": [],
   "source": [
    "print(com_var)"
   ]
  },
  {
   "cell_type": "code",
   "execution_count": null,
   "metadata": {},
   "outputs": [],
   "source": [
    "com_var = com_var.conjugate()"
   ]
  },
  {
   "cell_type": "code",
   "execution_count": null,
   "metadata": {},
   "outputs": [],
   "source": [
    "(com_var.conjugate()).conjugate().conjugate()"
   ]
  },
  {
   "cell_type": "code",
   "execution_count": null,
   "metadata": {},
   "outputs": [],
   "source": [
    "#dir(object_name/variable name)\n",
    "dir(com_var)"
   ]
  },
  {
   "cell_type": "code",
   "execution_count": null,
   "metadata": {},
   "outputs": [],
   "source": [
    "a=2+3j #a+bj\n",
    "b=4+1j #c+dj\n",
    "\n",
    "print(a+b)\n",
    "print(a-b)\n",
    "# print(a*b)"
   ]
  },
  {
   "cell_type": "code",
   "execution_count": null,
   "metadata": {},
   "outputs": [],
   "source": [
    "print(a/b)\n",
    "print(a*b)"
   ]
  },
  {
   "cell_type": "code",
   "execution_count": null,
   "metadata": {},
   "outputs": [],
   "source": [
    "((2*4)+(3*1))/(16+1)"
   ]
  },
  {
   "cell_type": "code",
   "execution_count": null,
   "metadata": {},
   "outputs": [],
   "source": [
    "print(11/17)"
   ]
  },
  {
   "cell_type": "code",
   "execution_count": null,
   "metadata": {},
   "outputs": [],
   "source": [
    "com_var2 = complex(2)\n",
    "print(com_var2)"
   ]
  },
  {
   "cell_type": "code",
   "execution_count": null,
   "metadata": {},
   "outputs": [],
   "source": [
    "str_var = \"Divya\"\n",
    "print(dir(str_var))\n",
    "print(str_var.isupper())\n",
    "print(str_var.upper())"
   ]
  },
  {
   "cell_type": "code",
   "execution_count": null,
   "metadata": {},
   "outputs": [],
   "source": [
    "a = 1+2j\n",
    "b = complex(1,4)\n",
    "print(a,b)"
   ]
  },
  {
   "cell_type": "code",
   "execution_count": null,
   "metadata": {},
   "outputs": [],
   "source": [
    "# for every data type have thier builtin function\n",
    "int()\n",
    "float()\n",
    "str()\n",
    "complex()\n",
    "list()\n",
    "tuple()\n",
    "dict()\n",
    "set()\n",
    "bool()"
   ]
  },
  {
   "cell_type": "markdown",
   "metadata": {},
   "source": [
    "### Strings\n",
    "\n",
    "- Strings are sequences of character data. The string type in Python is called str.\n",
    "\n",
    "- String literals may be delimited using either single or double quotes. All the characters between the opening delimiter and matching closing delimiter are part of the string:"
   ]
  },
  {
   "cell_type": "code",
   "execution_count": null,
   "metadata": {},
   "outputs": [],
   "source": [
    "str_var = \"Iam a string \"\n",
    "\n",
    "print(str_var)\n",
    "\n",
    "print(type(str_var))"
   ]
  },
  {
   "cell_type": "code",
   "execution_count": null,
   "metadata": {},
   "outputs": [],
   "source": [
    "str_var = \"Iam a string^&T@*187782u929292u98.,sm \\\n",
    "lss8i8us98 10+2j\"\n",
    "\n",
    "print(str_var)\n",
    "\n",
    "print(type(str_var))"
   ]
  },
  {
   "cell_type": "code",
   "execution_count": null,
   "metadata": {},
   "outputs": [],
   "source": [
    "ord(\" \")"
   ]
  },
  {
   "cell_type": "code",
   "execution_count": null,
   "metadata": {},
   "outputs": [],
   "source": [
    "print(ord(\"A\"),ord(\"Z\"))"
   ]
  },
  {
   "cell_type": "code",
   "execution_count": null,
   "metadata": {},
   "outputs": [],
   "source": [
    "print(chr(90),chr(78))"
   ]
  },
  {
   "cell_type": "code",
   "execution_count": null,
   "metadata": {},
   "outputs": [],
   "source": [
    " type(\" \")"
   ]
  },
  {
   "cell_type": "code",
   "execution_count": null,
   "metadata": {},
   "outputs": [],
   "source": [
    "str_var2 =' '\n",
    "\n",
    "print(str_var2)\n",
    "\n",
    "print(type(str_var2))\n",
    "print(len(str_var2))\n"
   ]
  },
  {
   "cell_type": "code",
   "execution_count": null,
   "metadata": {},
   "outputs": [],
   "source": [
    "# \\n = print in next line\n",
    "# \\t = tab\n",
    "#for multiline strings us \\ at the end of theline"
   ]
  },
  {
   "cell_type": "code",
   "execution_count": null,
   "metadata": {},
   "outputs": [],
   "source": [
    "a  =  'Im learing \\\n",
    "september \\\n",
    "python \\\n",
    "datatypes'\n",
    "\n",
    "\n",
    "\n",
    "print(a)"
   ]
  },
  {
   "cell_type": "code",
   "execution_count": null,
   "metadata": {},
   "outputs": [],
   "source": [
    "print('a\\\n",
    "b\\\n",
    "c')\n",
    "\n"
   ]
  },
  {
   "cell_type": "code",
   "execution_count": null,
   "metadata": {},
   "outputs": [],
   "source": [
    "'''\n",
    "Hello\n",
    "World\n",
    "'''"
   ]
  },
  {
   "cell_type": "code",
   "execution_count": null,
   "metadata": {},
   "outputs": [],
   "source": [
    "print(\"hello \\\n",
    "        world\")\n",
    "\n",
    "print(\"hello \\\n",
    "        world\")"
   ]
  },
  {
   "cell_type": "code",
   "execution_count": null,
   "metadata": {},
   "outputs": [],
   "source": [
    "print(\"helo \\\n",
    "      jkeoens\")\n",
    "\n",
    "print(\"hello \\\n",
    "        world\")\n"
   ]
  },
  {
   "cell_type": "code",
   "execution_count": null,
   "metadata": {},
   "outputs": [],
   "source": [
    "# It's a book\n",
    "print('It's a book')"
   ]
  },
  {
   "cell_type": "code",
   "execution_count": null,
   "metadata": {},
   "outputs": [],
   "source": [
    "print(\"It's a book\")"
   ]
  },
  {
   "cell_type": "code",
   "execution_count": null,
   "metadata": {},
   "outputs": [],
   "source": [
    "print('It\\\"s a book')"
   ]
  },
  {
   "cell_type": "code",
   "execution_count": null,
   "metadata": {},
   "outputs": [],
   "source": []
  },
  {
   "cell_type": "code",
   "execution_count": null,
   "metadata": {},
   "outputs": [],
   "source": []
  },
  {
   "cell_type": "code",
   "execution_count": null,
   "metadata": {},
   "outputs": [],
   "source": [
    "# It's a book\n",
    "\n",
    "# print('Its's is book') # error.\n",
    "print(\"It's is book\") #method1\n",
    "print('It\\'s is a book') # method2"
   ]
  },
  {
   "cell_type": "code",
   "execution_count": null,
   "metadata": {},
   "outputs": [],
   "source": [
    "# Its \"is\" a book\n",
    "# print(\"Its \"is\" a book\") #invalid"
   ]
  },
  {
   "cell_type": "code",
   "execution_count": null,
   "metadata": {},
   "outputs": [],
   "source": [
    "# print(\"Its \"is\" a book\") \n",
    "print(\"Its \\\"is\\\" a book\")\n",
    "print(\"\"\"Its \"is\" a book \"\"\")"
   ]
  },
  {
   "cell_type": "code",
   "execution_count": null,
   "metadata": {},
   "outputs": [],
   "source": [
    "print('python is easy one of the easiest language\\\"s')"
   ]
  },
  {
   "cell_type": "code",
   "execution_count": null,
   "metadata": {},
   "outputs": [],
   "source": [
    "print(''' python is \"easy\" It's a easy Language''')"
   ]
  },
  {
   "cell_type": "code",
   "execution_count": null,
   "metadata": {},
   "outputs": [],
   "source": [
    "print('\\\" It\\'s \\\" is \\\" book \\\" ')"
   ]
  },
  {
   "cell_type": "code",
   "execution_count": null,
   "metadata": {},
   "outputs": [],
   "source": [
    "print('Book')"
   ]
  },
  {
   "cell_type": "code",
   "execution_count": null,
   "metadata": {},
   "outputs": [],
   "source": [
    "print()\n",
    "a= 10\n",
    "print(a , end=\"\\t\")\n",
    "print(end=\"\\t\")\n",
    "b=20\n",
    "print(end=\"\\t\")\n",
    "print(end='\\t')\n",
    "print(b)# empty print statement is new line "
   ]
  },
  {
   "cell_type": "code",
   "execution_count": null,
   "metadata": {},
   "outputs": [],
   "source": [
    "print('''This string has a single (') and a double (\") quote.''')"
   ]
  },
  {
   "cell_type": "markdown",
   "metadata": {},
   "source": [
    "### Boolean \n",
    "Python 3 provides a Boolean data type. Objects of Boolean type may have one of two values, True or False:"
   ]
  },
  {
   "cell_type": "code",
   "execution_count": null,
   "metadata": {},
   "outputs": [],
   "source": [
    "bol_var = True\n",
    "bol_var2 = False"
   ]
  },
  {
   "cell_type": "code",
   "execution_count": null,
   "metadata": {},
   "outputs": [],
   "source": [
    "bol_var = bool(1)\n",
    "bol_var2 = 0\n"
   ]
  },
  {
   "cell_type": "code",
   "execution_count": null,
   "metadata": {},
   "outputs": [],
   "source": [
    "print(bol_var,type(bol_var))\n"
   ]
  },
  {
   "cell_type": "code",
   "execution_count": null,
   "metadata": {},
   "outputs": [],
   "source": [
    "print(bol_var*bol_var2)"
   ]
  },
  {
   "cell_type": "code",
   "execution_count": null,
   "metadata": {},
   "outputs": [],
   "source": [
    "print(bol_var-10)"
   ]
  },
  {
   "cell_type": "markdown",
   "metadata": {},
   "source": [
    "#### Mapping\n",
    "\n",
    "int()\n",
    "\n",
    "str()\n",
    "\n",
    "float()\n",
    "\n",
    "complex()\n",
    "\n",
    "bool()"
   ]
  },
  {
   "cell_type": "markdown",
   "metadata": {},
   "source": [
    "### int - str "
   ]
  },
  {
   "cell_type": "code",
   "execution_count": null,
   "metadata": {},
   "outputs": [],
   "source": [
    "print(type(1000))\n",
    "print(type(\"1000\"))"
   ]
  },
  {
   "cell_type": "code",
   "execution_count": null,
   "metadata": {},
   "outputs": [],
   "source": [
    "inta= 109228782\n",
    "\n",
    "print(type(inta))\n",
    "print(inta[0])\n",
    "print(len(inta))"
   ]
  },
  {
   "cell_type": "code",
   "execution_count": null,
   "metadata": {},
   "outputs": [],
   "source": [
    "inta= 109228782\n",
    "\n",
    "print(type(inta))\n",
    "# print(len(inta) , inta[0]) #error\n",
    "\n",
    "stra = str(inta) #converting string \n",
    "\n",
    "print(stra)\n",
    "\n",
    "print(type(stra))\n",
    "print(stra[3])\n",
    "print(stra.count('2'))"
   ]
  },
  {
   "cell_type": "code",
   "execution_count": null,
   "metadata": {},
   "outputs": [],
   "source": [
    "a = 10101\n",
    "print(type(a))\n",
    "str(a)\n",
    "print(type(a))"
   ]
  },
  {
   "cell_type": "code",
   "execution_count": null,
   "metadata": {},
   "outputs": [],
   "source": [
    "a = 10101\n",
    "print(type(a))\n",
    "a = str(a)\n",
    "print(type(a))"
   ]
  },
  {
   "cell_type": "markdown",
   "metadata": {},
   "source": [
    "### float - str"
   ]
  },
  {
   "cell_type": "code",
   "execution_count": null,
   "metadata": {},
   "outputs": [],
   "source": [
    "floata= 109228.99292\n",
    "\n",
    "print(type(floata))\n",
    "\n",
    "#after converting\n",
    "stra = str(floata)\n",
    "\n",
    "print(stra)\n",
    "\n",
    "print(type(stra))\n",
    "print(stra[6])\n",
    "print(len(stra))"
   ]
  },
  {
   "cell_type": "code",
   "execution_count": null,
   "metadata": {},
   "outputs": [],
   "source": [
    "b = True\n",
    "\n",
    "print(type(b))\n",
    "\n",
    "stra = str(b)\n",
    "\n",
    "print(stra)\n",
    "\n",
    "print(type(stra))\n",
    "print(stra[2])"
   ]
  },
  {
   "cell_type": "code",
   "execution_count": null,
   "metadata": {},
   "outputs": [],
   "source": [
    "b = 10+2j\n",
    "\n",
    "print(type(b))\n",
    "\n",
    "stra = str(b)\n",
    "\n",
    "print(stra)\n",
    "\n",
    "print(type(stra))\n",
    "print(stra[3])"
   ]
  },
  {
   "cell_type": "code",
   "execution_count": null,
   "metadata": {},
   "outputs": [],
   "source": [
    "a = \"(10+2j)\"\n",
    "print(a[3])"
   ]
  },
  {
   "cell_type": "code",
   "execution_count": null,
   "metadata": {},
   "outputs": [],
   "source": [
    "inta = 120192028992920920"
   ]
  },
  {
   "cell_type": "code",
   "execution_count": null,
   "metadata": {},
   "outputs": [],
   "source": [
    "str_a = str(inta)\n",
    "print(len(str_a))\n",
    "print(str_a.count(\"0\"))"
   ]
  },
  {
   "cell_type": "code",
   "execution_count": null,
   "metadata": {},
   "outputs": [],
   "source": [
    "# a = 1020219079008 (integer)\n",
    "# count the occurences of Zero(0) without converting the data type.\n",
    "# print -1 if no occurences.\n",
    "\n"
   ]
  },
  {
   "cell_type": "code",
   "execution_count": null,
   "metadata": {},
   "outputs": [],
   "source": [
    "stra = \"ankaaljalnskhkaaljal\"\n",
    "\n",
    "stra.count(\"a\")"
   ]
  },
  {
   "cell_type": "code",
   "execution_count": null,
   "metadata": {},
   "outputs": [],
   "source": [
    "#NOTE:\n",
    "# int, float, boolean, str , complex -> str is possible str() : method"
   ]
  },
  {
   "cell_type": "code",
   "execution_count": null,
   "metadata": {},
   "outputs": [],
   "source": [
    "#int to float\n",
    "\n",
    "#use float method\n",
    "\n",
    "inta = 10\n",
    "\n",
    "floata = float(inta)\n",
    "\n",
    "print(type(floata))\n",
    "print(floata)\n",
    "\n"
   ]
  },
  {
   "cell_type": "code",
   "execution_count": null,
   "metadata": {},
   "outputs": [],
   "source": [
    "#float to int\n",
    "\n",
    "floata =102.6892\n",
    "\n",
    "inta = int(floata)\n",
    "\n",
    "print(type(inta))\n",
    "print(inta)"
   ]
  },
  {
   "cell_type": "code",
   "execution_count": null,
   "metadata": {},
   "outputs": [],
   "source": [
    "a = 10.2\n",
    "print(int(a))\n",
    "a=10\n",
    "print(float(a))"
   ]
  },
  {
   "cell_type": "code",
   "execution_count": null,
   "metadata": {},
   "outputs": [],
   "source": [
    "#str - int\n",
    "#only if the strig is in the form numeric \"0-9\"\n",
    "a = \"72828\"\n",
    "print(a,type(a))\n",
    "b = int(a)\n",
    "print(b,type(b))\n"
   ]
  },
  {
   "cell_type": "code",
   "execution_count": null,
   "metadata": {},
   "outputs": [],
   "source": [
    "a = \"766\"\n",
    "print(int(a))"
   ]
  },
  {
   "cell_type": "code",
   "execution_count": null,
   "metadata": {},
   "outputs": [],
   "source": [
    "#str - float\n",
    "#only if the strig is in the form decimals points(0-9)\n",
    "a = \"101.187891\"\n",
    "b = float(a)\n",
    "print(b,type(b))"
   ]
  },
  {
   "cell_type": "code",
   "execution_count": null,
   "metadata": {},
   "outputs": [],
   "source": [
    "print(bool(\"ganesh\"))\n",
    "\n",
    "#NOTE : bool(\"something\") : always True\n",
    "#  bool() : always False\n"
   ]
  },
  {
   "cell_type": "code",
   "execution_count": null,
   "metadata": {},
   "outputs": [],
   "source": [
    "print(bool())"
   ]
  },
  {
   "cell_type": "code",
   "execution_count": null,
   "metadata": {},
   "outputs": [],
   "source": [
    "bool(10202)\n",
    "bool(102.2)\n"
   ]
  },
  {
   "cell_type": "code",
   "execution_count": null,
   "metadata": {},
   "outputs": [],
   "source": [
    "a = \"\"\n",
    "print(len(a)) #length of empty string"
   ]
  },
  {
   "cell_type": "code",
   "execution_count": null,
   "metadata": {},
   "outputs": [],
   "source": [
    "bool(\"\") #False "
   ]
  },
  {
   "cell_type": "code",
   "execution_count": null,
   "metadata": {},
   "outputs": [],
   "source": [
    "bool(\" \") #True"
   ]
  },
  {
   "cell_type": "code",
   "execution_count": null,
   "metadata": {},
   "outputs": [],
   "source": [
    "bool(0)"
   ]
  },
  {
   "cell_type": "code",
   "execution_count": null,
   "metadata": {},
   "outputs": [],
   "source": [
    "bool(0.0)"
   ]
  },
  {
   "cell_type": "code",
   "execution_count": null,
   "metadata": {},
   "outputs": [],
   "source": [
    "boola = True\n",
    "\n",
    "floata = float(boola)\n",
    "print(floata)\n"
   ]
  },
  {
   "cell_type": "code",
   "execution_count": null,
   "metadata": {},
   "outputs": [],
   "source": [
    "print(len([]))"
   ]
  },
  {
   "cell_type": "code",
   "execution_count": null,
   "metadata": {},
   "outputs": [],
   "source": [
    "bool([]) #empty list\n",
    "bool(()) #empty tuple\n",
    "bool({}) #empty set or dictionary\n",
    "bool(0) #interger 0\n",
    "bool(0.0)\n",
    "bool(\"\") #empty string\n",
    "\n",
    "#above all gives Flase"
   ]
  },
  {
   "cell_type": "markdown",
   "metadata": {},
   "source": [
    "### built-in methods\n",
    "\n",
    "Math\n",
    "Function \tDescription\n",
    "\n",
    "abs() \tReturns absolute value of a number\n",
    "\n",
    "divmod() \tReturns quotient and remainder of integer division\n",
    "\n",
    "max() \tReturns the largest of the given arguments or items in an iterable\n",
    "\n",
    "min() \tReturns the smallest of the given arguments or items in an \n",
    "iterable\n",
    "\n",
    "pow() \tRaises a number to a power\n",
    "\n",
    "round() \tRounds a floating-point value\n",
    "\n",
    "sum() \tSums the items of an iterable\n",
    "\n",
    "dir()  to list all functions of object\n",
    "\n",
    "type() to check the data type of the object\n",
    "\n",
    "len() to count all objects "
   ]
  },
  {
   "cell_type": "code",
   "execution_count": null,
   "metadata": {},
   "outputs": [],
   "source": [
    "a = 100\n",
    "b = 300\n",
    "\n",
    "list_var = [10,20,40,5,28,90,220] #list , iterable(which has location)\n",
    "print(max(a,b))\n",
    "print(min(list_var))\n",
    "print(max(list_var))\n",
    "print(sum(list_var))"
   ]
  },
  {
   "cell_type": "code",
   "execution_count": null,
   "metadata": {},
   "outputs": [],
   "source": [
    "min(a,b)"
   ]
  },
  {
   "cell_type": "code",
   "execution_count": null,
   "metadata": {},
   "outputs": [],
   "source": [
    "a = 37.489372\n",
    "\n",
    "print(round(a))\n",
    "\n"
   ]
  },
  {
   "cell_type": "code",
   "execution_count": null,
   "metadata": {},
   "outputs": [],
   "source": [
    "a = 37.5000001\n",
    "\n",
    "print(round(a))\n"
   ]
  },
  {
   "cell_type": "code",
   "execution_count": null,
   "metadata": {},
   "outputs": [],
   "source": [
    "b = -1676372.2783\n",
    "\n",
    "abs(b)"
   ]
  },
  {
   "cell_type": "code",
   "execution_count": null,
   "metadata": {},
   "outputs": [],
   "source": [
    "print(pow(2,8))\n",
    "print(2**8) #power operator"
   ]
  },
  {
   "cell_type": "code",
   "execution_count": null,
   "metadata": {},
   "outputs": [],
   "source": []
  },
  {
   "cell_type": "code",
   "execution_count": null,
   "metadata": {},
   "outputs": [],
   "source": []
  },
  {
   "cell_type": "code",
   "execution_count": null,
   "metadata": {},
   "outputs": [],
   "source": [
    "24*60\n",
    "1440*48"
   ]
  },
  {
   "cell_type": "code",
   "execution_count": null,
   "metadata": {},
   "outputs": [],
   "source": [
    "\n",
    "\n",
    "min(a,b)\n",
    "type(a)\n",
    "\n",
    "a = 37.289372\n",
    "\n",
    "round(a,2)\n",
    "\n",
    "b = -1676372.2783\n",
    "\n",
    "abs(b)\n",
    "\n",
    "pow(2,4)\n",
    "\n",
    "arr = [10,20 ,30]\n",
    "print(\"Sum = \" , sum(arr))\n",
    "print(\"Length is \" , len(arr))\n",
    "avg = sum(arr)/len(arr)\n",
    "print(avg)"
   ]
  },
  {
   "cell_type": "markdown",
   "metadata": {},
   "source": [
    "### Input function\n",
    "\n",
    "- It is used to read the data from the input console or user .\n",
    "- To keep track or dynamic data \n",
    "\n",
    "syntax:\n",
    "\n",
    "variable_name = input(\"prompt\")"
   ]
  },
  {
   "cell_type": "code",
   "execution_count": null,
   "metadata": {},
   "outputs": [],
   "source": [
    "name = input(\"Enter the Name: \")"
   ]
  },
  {
   "cell_type": "code",
   "execution_count": null,
   "metadata": {},
   "outputs": [],
   "source": [
    "print(name)"
   ]
  },
  {
   "cell_type": "code",
   "execution_count": null,
   "metadata": {},
   "outputs": [],
   "source": [
    "print(type(name))\n",
    "print(len(name))"
   ]
  },
  {
   "cell_type": "code",
   "execution_count": null,
   "metadata": {},
   "outputs": [],
   "source": [
    "print(name)"
   ]
  },
  {
   "cell_type": "code",
   "execution_count": null,
   "metadata": {},
   "outputs": [],
   "source": [
    "name = input() #by default input method will read the data in String format"
   ]
  },
  {
   "cell_type": "code",
   "execution_count": null,
   "metadata": {},
   "outputs": [],
   "source": [
    "print(name)\n",
    "print(type(name))\n",
    "print(len(name))\n",
    "print(name[2])"
   ]
  },
  {
   "cell_type": "code",
   "execution_count": null,
   "metadata": {},
   "outputs": [],
   "source": [
    "print(type(\"10\")) #input\n",
    "print(type(10))"
   ]
  },
  {
   "cell_type": "code",
   "execution_count": null,
   "metadata": {},
   "outputs": [],
   "source": [
    "read_data = input()\n",
    "print(type(read_data),read_data)"
   ]
  },
  {
   "cell_type": "code",
   "execution_count": null,
   "metadata": {},
   "outputs": [],
   "source": [
    "print(type(name) ,name)"
   ]
  },
  {
   "cell_type": "code",
   "execution_count": null,
   "metadata": {},
   "outputs": [],
   "source": [
    "int_a = int(name)\n",
    "\n",
    "print(int_a,type(int_a))"
   ]
  },
  {
   "cell_type": "code",
   "execution_count": null,
   "metadata": {},
   "outputs": [],
   "source": [
    "\n",
    "sal = input(\"Enter the salary\")\n",
    "\n",
    "sal = float(sal) # map to the same variable\n",
    "\n",
    "sal2 = float(sal)\n",
    "\n",
    "print(sal,type(sal2),type(sal))\n",
    "\n"
   ]
  },
  {
   "cell_type": "code",
   "execution_count": null,
   "metadata": {},
   "outputs": [],
   "source": [
    "\n",
    "str_a = input(\"Enter num\")\n",
    "\n",
    "str_b = float(str_a) # map to the same variable\n",
    "\n",
    "str_c = float(str_b) # value error\n",
    "\n",
    "\n",
    "print(sal,type(str_a),type(str_b))\n"
   ]
  },
  {
   "cell_type": "code",
   "execution_count": null,
   "metadata": {},
   "outputs": [],
   "source": [
    "\n",
    "# int()\n",
    "# float()\n",
    "# complex()\n",
    "\n",
    "# bool()\n",
    "\n",
    "\n",
    "int_a = int(input(\"Enter Integer\"))\n",
    "\n",
    "\n",
    "float_a = float(input(\"Enter Float\"))\n",
    "\n",
    "\n",
    "str_a = input(\"Enter Name\")\n",
    "\n",
    "bool_a = bool(input(\"Enter Bool\"))\n",
    "              \n",
    "\n",
    "print(int_a,type(int_a))\n",
    "\n",
    "print(float_a,type(float_a))\n",
    "\n",
    "              \n",
    "print(str_a,type(str_a))\n",
    "\n",
    "print(bool_a,type(bool_a))\n"
   ]
  },
  {
   "cell_type": "code",
   "execution_count": null,
   "metadata": {},
   "outputs": [],
   "source": [
    "real = float(input(\"Enter real part\"))\n",
    "img = float(input(\"Enter imag part\"))\n",
    "\n",
    "com_var = complex(real,img)\n",
    "\n",
    "print(com_var)"
   ]
  },
  {
   "cell_type": "code",
   "execution_count": null,
   "metadata": {},
   "outputs": [],
   "source": [
    "str_b = \"                              \"\n",
    "print(len(\"Helo\"))\n",
    "\n",
    "print(len(str_b))"
   ]
  },
  {
   "cell_type": "code",
   "execution_count": null,
   "metadata": {},
   "outputs": [],
   "source": [
    "Claim_id=int(input(\"enter claim number:\"))\n",
    "Paid_Amount=float(input(\"enter Paid amount:\"))\n",
    "Patient_name= input(\"Enter patient name:\")\n",
    "print(Claim_id,type(Claim_id),Paid_Amount,type(Paid_Amount),Patient_name,type(Patient_name))\n"
   ]
  },
  {
   "cell_type": "code",
   "execution_count": null,
   "metadata": {},
   "outputs": [],
   "source": [
    "student_id= int(input(“Enter the student id”))\n",
    "student_rank= bool(input(“enter the student pass or fail”))\n",
    "student_marks= float(input(“enter the student marks”))\n",
    "student_name = input(“enter student name”)\n",
    "\n",
    "print(student_id,student_rank,studentmaeks,student_name)\n",
    "print(type(student_id),type(student_rank),type(student_marks),type(student_name))\n"
   ]
  },
  {
   "cell_type": "code",
   "execution_count": null,
   "metadata": {},
   "outputs": [],
   "source": []
  },
  {
   "cell_type": "code",
   "execution_count": null,
   "metadata": {},
   "outputs": [],
   "source": [
    "#ASCII\n",
    "# chr() #integer , to know the character\n",
    "# ord() # character  , to know the number.\n",
    "print(chr(97))"
   ]
  },
  {
   "cell_type": "code",
   "execution_count": null,
   "metadata": {},
   "outputs": [],
   "source": [
    "print(chr(65))"
   ]
  },
  {
   "cell_type": "code",
   "execution_count": null,
   "metadata": {},
   "outputs": [],
   "source": [
    "print(ord('A'))"
   ]
  },
  {
   "cell_type": "code",
   "execution_count": null,
   "metadata": {},
   "outputs": [],
   "source": [
    "print(ord('a'))"
   ]
  },
  {
   "cell_type": "code",
   "execution_count": null,
   "metadata": {},
   "outputs": [],
   "source": [
    "print(ord(\" \"))"
   ]
  },
  {
   "cell_type": "code",
   "execution_count": null,
   "metadata": {},
   "outputs": [],
   "source": [
    "number_of_matches = int(input(\"Enter the numberof matches\"))\n",
    "\n",
    "\n",
    "print(number_of_matches)\n",
    "\n",
    "is_vote = bool(input(\"Are you 18?\"))\n",
    "\n",
    "print(is_vote)\n"
   ]
  },
  {
   "cell_type": "code",
   "execution_count": null,
   "metadata": {},
   "outputs": [],
   "source": [
    "s = \"\"\n",
    "# s= \"\"+\"1\"\n",
    "# s = \"1\"+\"2\" ->\"12\"\n",
    "# s= \"12\"+\"3\" -> \"123\"\n",
    "#s = \"123\" + \"4\" -> \"1234\"\n",
    "\n",
    "for i in range(1,5):\n",
    "    s = s+str(i)\n",
    "    print(s,i)\n",
    "print(s)"
   ]
  },
  {
   "cell_type": "markdown",
   "metadata": {},
   "source": [
    "### sequence Data types\n",
    "\n",
    "#### List\n",
    "\n",
    "- Lists are used to store multiple items in a single variable. \n",
    "- indexing starts from 0 to n-1\n",
    "- stores heterogenous data \n",
    "- List is mutable , changes are allowed  at locations.\n",
    "- Declared with []"
   ]
  },
  {
   "cell_type": "code",
   "execution_count": null,
   "metadata": {},
   "outputs": [],
   "source": [
    "# \n",
    "\n",
    "friends = [\"f1\",\"f2\",\"f3\",\"f4\",\"f5\",\"f6\",\"f7\",\"f8\",\"f9\",\"f10\"] #Homegenous of String type\n",
    "\n",
    "\n",
    "\n",
    "print(friends)\n",
    "\n",
    "print(type(friends))\n",
    "\n",
    "n = len(friends)\n",
    "\n",
    "print(n)\n",
    "print(\"Friend1 \",friends[0])\n",
    "print(\"Friend2 \",friends[1])\n",
    "print(\"Friend3 \",friends[2])\n",
    "print(\"Friend10 \",friends[n-1])"
   ]
  },
  {
   "cell_type": "code",
   "execution_count": null,
   "metadata": {},
   "outputs": [],
   "source": [
    "companies  = [\"apple\", \"google yahoo\" , True , 1+2j , 1.23232,10]"
   ]
  },
  {
   "cell_type": "code",
   "execution_count": null,
   "metadata": {},
   "outputs": [],
   "source": [
    "print(companies)"
   ]
  },
  {
   "cell_type": "code",
   "execution_count": null,
   "metadata": {},
   "outputs": [],
   "source": [
    "print(len(companies))"
   ]
  },
  {
   "cell_type": "code",
   "execution_count": null,
   "metadata": {},
   "outputs": [],
   "source": [
    "print(companies[6])"
   ]
  },
  {
   "cell_type": "code",
   "execution_count": null,
   "metadata": {},
   "outputs": [],
   "source": []
  },
  {
   "cell_type": "code",
   "execution_count": null,
   "metadata": {},
   "outputs": [],
   "source": [
    "#mutability = changing the location's data\n",
    "companies[2] = 1082\n",
    "\n",
    "print(companies)"
   ]
  },
  {
   "cell_type": "code",
   "execution_count": null,
   "metadata": {},
   "outputs": [],
   "source": [
    "print(companies[0])"
   ]
  },
  {
   "cell_type": "code",
   "execution_count": null,
   "metadata": {},
   "outputs": [],
   "source": [
    "print(companies[len(companies)-1])"
   ]
  },
  {
   "cell_type": "code",
   "execution_count": null,
   "metadata": {},
   "outputs": [],
   "source": [
    "len(companies)"
   ]
  },
  {
   "cell_type": "code",
   "execution_count": null,
   "metadata": {},
   "outputs": [],
   "source": [
    "print(companies[-2]) #last second object\n"
   ]
  },
  {
   "cell_type": "code",
   "execution_count": null,
   "metadata": {},
   "outputs": [],
   "source": [
    "print(friends)"
   ]
  },
  {
   "cell_type": "code",
   "execution_count": null,
   "metadata": {},
   "outputs": [],
   "source": [
    "friends[-11] #last location negative indexing : -10"
   ]
  },
  {
   "cell_type": "code",
   "execution_count": null,
   "metadata": {},
   "outputs": [],
   "source": []
  },
  {
   "cell_type": "markdown",
   "metadata": {},
   "source": [
    "#### tuple\n",
    "\n",
    "    It is also used to store multiple items in a single variable.\n",
    "    indexing starts from 0 to n-1\n",
    "    stores heterogenous data\n",
    "    Tuple is immutable , changes are not at locations\n",
    "    Declares with ()\n"
   ]
  },
  {
   "cell_type": "code",
   "execution_count": null,
   "metadata": {},
   "outputs": [],
   "source": [
    "sample = 10\n",
    "print(type(sample))\n"
   ]
  },
  {
   "cell_type": "code",
   "execution_count": null,
   "metadata": {},
   "outputs": [],
   "source": [
    "sample1 = 20,20,40,30\n",
    "print(type(sample1))"
   ]
  },
  {
   "cell_type": "code",
   "execution_count": null,
   "metadata": {},
   "outputs": [],
   "source": []
  },
  {
   "cell_type": "code",
   "execution_count": null,
   "metadata": {},
   "outputs": [],
   "source": []
  },
  {
   "cell_type": "code",
   "execution_count": null,
   "metadata": {},
   "outputs": [],
   "source": [
    "stock_prices = (201.76, 302.32 , 35, 987.60)"
   ]
  },
  {
   "cell_type": "code",
   "execution_count": null,
   "metadata": {},
   "outputs": [],
   "source": [
    "print(stock_prices)\n",
    "print(type(stock_prices))"
   ]
  },
  {
   "cell_type": "code",
   "execution_count": null,
   "metadata": {},
   "outputs": [],
   "source": [
    "stock_prices[0]\n"
   ]
  },
  {
   "cell_type": "code",
   "execution_count": null,
   "metadata": {},
   "outputs": [],
   "source": [
    "stock_prices[-1]"
   ]
  },
  {
   "cell_type": "code",
   "execution_count": null,
   "metadata": {},
   "outputs": [],
   "source": [
    "stock_prices[2] = 304\n",
    "\n",
    "# TypeError: 'bbbtuple' object does not support item assignment"
   ]
  },
  {
   "cell_type": "code",
   "execution_count": null,
   "metadata": {},
   "outputs": [],
   "source": [
    "s = \"swati\"\n",
    "print(s[0])\n",
    "s[0]=\"n\"\n",
    "#str is immutable \n",
    "# 'str' object does not support item assignment"
   ]
  },
  {
   "cell_type": "code",
   "execution_count": null,
   "metadata": {},
   "outputs": [],
   "source": [
    "stock_prices = (float(input(\"Enter the stock price google \")),float(input(\"Mircsoft\")),float(input(\"AMZ\")))"
   ]
  },
  {
   "cell_type": "code",
   "execution_count": null,
   "metadata": {},
   "outputs": [],
   "source": [
    "print(stock_prices)"
   ]
  },
  {
   "cell_type": "code",
   "execution_count": null,
   "metadata": {},
   "outputs": [],
   "source": [
    "a=input(\"enter a\")\n",
    "a=float(a)\n",
    "print(a)\n",
    "print(type(a))\n"
   ]
  },
  {
   "cell_type": "code",
   "execution_count": null,
   "metadata": {},
   "outputs": [],
   "source": [
    "#methods\n",
    "a= float(input(\"enter a\"))\n",
    "print(type(a))\n"
   ]
  },
  {
   "cell_type": "markdown",
   "metadata": {},
   "source": [
    "####  range\n",
    "- It is also sequence data type to generate collection of data in specified range \n",
    "\n",
    "- mainly used for loops\n"
   ]
  },
  {
   "cell_type": "code",
   "execution_count": null,
   "metadata": {
    "scrolled": true
   },
   "outputs": [],
   "source": [
    "range(0,10,1)\n",
    "\n",
    "# range(start,stop,step)"
   ]
  },
  {
   "cell_type": "code",
   "execution_count": null,
   "metadata": {},
   "outputs": [],
   "source": [
    "#list()\n",
    "# tuple()\n",
    "#set()\n",
    "#dict()\n",
    "print(tuple(range(0,10,1)))"
   ]
  },
  {
   "cell_type": "code",
   "execution_count": null,
   "metadata": {},
   "outputs": [],
   "source": []
  },
  {
   "cell_type": "code",
   "execution_count": null,
   "metadata": {},
   "outputs": [],
   "source": [
    "list(range(0,10,2)) "
   ]
  },
  {
   "cell_type": "code",
   "execution_count": null,
   "metadata": {},
   "outputs": [],
   "source": [
    "list(range(10))  #(0,10,1) # start = 0 , step =1"
   ]
  },
  {
   "cell_type": "code",
   "execution_count": null,
   "metadata": {},
   "outputs": [],
   "source": [
    "tuple(range(1,20,2)) "
   ]
  },
  {
   "cell_type": "code",
   "execution_count": null,
   "metadata": {},
   "outputs": [],
   "source": [
    "list(range(0,20,2))"
   ]
  },
  {
   "cell_type": "code",
   "execution_count": null,
   "metadata": {},
   "outputs": [],
   "source": [
    "list(range(0,1,10)) \n",
    "#start + Step <= Stop\n",
    "# Stop is always 1 & -1 , (excluded)"
   ]
  },
  {
   "cell_type": "code",
   "execution_count": null,
   "metadata": {},
   "outputs": [],
   "source": [
    "list(range(10,0,-1))"
   ]
  },
  {
   "cell_type": "code",
   "execution_count": null,
   "metadata": {},
   "outputs": [],
   "source": []
  },
  {
   "cell_type": "code",
   "execution_count": null,
   "metadata": {},
   "outputs": [],
   "source": []
  },
  {
   "cell_type": "code",
   "execution_count": null,
   "metadata": {},
   "outputs": [],
   "source": [
    "list(range(0,20,2))\n"
   ]
  },
  {
   "cell_type": "code",
   "execution_count": null,
   "metadata": {},
   "outputs": [],
   "source": [
    "list(range(1,20,2))"
   ]
  },
  {
   "cell_type": "code",
   "execution_count": null,
   "metadata": {},
   "outputs": [],
   "source": [
    "list(range(1,-10,-2))"
   ]
  },
  {
   "cell_type": "code",
   "execution_count": null,
   "metadata": {},
   "outputs": [],
   "source": [
    "list(range(10,-1,-1))"
   ]
  },
  {
   "cell_type": "code",
   "execution_count": null,
   "metadata": {},
   "outputs": [],
   "source": [
    "list(range(10,0,-1))"
   ]
  },
  {
   "cell_type": "code",
   "execution_count": null,
   "metadata": {},
   "outputs": [],
   "source": [
    "list(range(-1,-20,-2))"
   ]
  },
  {
   "cell_type": "code",
   "execution_count": null,
   "metadata": {},
   "outputs": [],
   "source": [
    "list(range(10))# default start = 0  m step =1"
   ]
  },
  {
   "cell_type": "code",
   "execution_count": null,
   "metadata": {},
   "outputs": [],
   "source": [
    "list(range(0,-10,-1))"
   ]
  },
  {
   "cell_type": "code",
   "execution_count": null,
   "metadata": {},
   "outputs": [],
   "source": [
    "list(range(-1,10,-1))"
   ]
  },
  {
   "cell_type": "code",
   "execution_count": null,
   "metadata": {},
   "outputs": [],
   "source": [
    "l = [\"Hello\",\"Hello\"]\n",
    "print(l)"
   ]
  },
  {
   "cell_type": "code",
   "execution_count": null,
   "metadata": {},
   "outputs": [],
   "source": [
    "l=[0]*10\n",
    "print(l)"
   ]
  },
  {
   "cell_type": "code",
   "execution_count": null,
   "metadata": {},
   "outputs": [],
   "source": [
    "l=[\"Ganesh\"]*10\n",
    "print(l)"
   ]
  },
  {
   "cell_type": "code",
   "execution_count": null,
   "metadata": {},
   "outputs": [],
   "source": [
    "l=[0]*10\n",
    "print(l)\n",
    "print(\"Hello \"+ \"Add \") #concat\n",
    "print(\"Hello \"*10) #multiply"
   ]
  },
  {
   "cell_type": "code",
   "execution_count": null,
   "metadata": {},
   "outputs": [],
   "source": [
    "a=10\n",
    "print(type(a))\n",
    "\n",
    "a=10,\n",
    "print(type(a))"
   ]
  },
  {
   "cell_type": "code",
   "execution_count": null,
   "metadata": {},
   "outputs": [],
   "source": [
    "a=10,20,30,40\n",
    "print(type(a))"
   ]
  },
  {
   "cell_type": "code",
   "execution_count": null,
   "metadata": {},
   "outputs": [],
   "source": [
    "a = [1,23,3]\n",
    "b=[10.1,11.21,78.2]\n",
    "\n",
    "c=[0]*3\n",
    "print(c)\n",
    "\n",
    "c[0] = a[0]+b[0]\n",
    "c[2] = a[1]+b[1]\n",
    "c[1] = a[2]+b[2]\n",
    "# c[11]=a[1]+b[2]\n",
    "print(c)"
   ]
  },
  {
   "cell_type": "code",
   "execution_count": null,
   "metadata": {},
   "outputs": [],
   "source": [
    "a = [1,23,3]\n",
    "b=[10.1,11.21,78.2]\n",
    "\n",
    "c=[]\n",
    "print(c)\n",
    "\n",
    "c.append(a[0]+b[0]) #0\n",
    "c.append(a[1]+b[1]) #1\n",
    "c.append(a[2]+b[2]) #2\n",
    "print(c)"
   ]
  },
  {
   "cell_type": "code",
   "execution_count": null,
   "metadata": {},
   "outputs": [],
   "source": [
    "# list()\n",
    "# tuple()\n",
    "\n",
    "a= [\"abc\",'bcd']\n",
    "print(type(a))\n",
    "a=tuple(a)\n",
    "a[0] = \"AK\"\n",
    "print(type(a))\n"
   ]
  },
  {
   "cell_type": "code",
   "execution_count": null,
   "metadata": {},
   "outputs": [],
   "source": [
    "a=[10,4,5,6,7,8] #ordered and indexed\n",
    "print(a)\n",
    "print(a[-1])\n",
    "print(dir(a))\n"
   ]
  },
  {
   "cell_type": "code",
   "execution_count": null,
   "metadata": {},
   "outputs": [],
   "source": [
    "b=(10)\n",
    "print(dir(())) #tuple"
   ]
  },
  {
   "cell_type": "code",
   "execution_count": null,
   "metadata": {},
   "outputs": [],
   "source": []
  },
  {
   "cell_type": "code",
   "execution_count": null,
   "metadata": {},
   "outputs": [],
   "source": []
  },
  {
   "cell_type": "code",
   "execution_count": null,
   "metadata": {},
   "outputs": [],
   "source": [
    "car_names = [\"Swift\",\"MG\",\"Kia\",\"i10\"]\n",
    "print(car_names) #ordered & indexed\n",
    "print(car_names[0])"
   ]
  },
  {
   "cell_type": "markdown",
   "metadata": {},
   "source": [
    "### set\n",
    " Set is a collection which is unordered and unindexed. \n",
    " \n",
    " No duplicate members.\n",
    " \n",
    " Sets are written with curly brackets {}."
   ]
  },
  {
   "cell_type": "code",
   "execution_count": null,
   "metadata": {},
   "outputs": [],
   "source": [
    "a=\"abcaefahhhjaaaaaaaskbskiwknkw\"\n",
    "b = ['ace','ball','count','ace']\n",
    "print(set(a)) #string to set\n",
    "print(set(b))"
   ]
  },
  {
   "cell_type": "code",
   "execution_count": null,
   "metadata": {},
   "outputs": [],
   "source": [
    "fruits = {\"apple\",\"banana\",\"grapes\",\"orange\",\"apple\", 10}\n",
    "\n",
    "print(fruits)\n",
    "print(type(fruits))\n",
    "print(len(fruits))"
   ]
  },
  {
   "cell_type": "code",
   "execution_count": null,
   "metadata": {},
   "outputs": [],
   "source": [
    "alpha = {\"a\",\"b\",\"c\",\"d\",\"z\"}\n",
    "print(alpha)"
   ]
  },
  {
   "cell_type": "code",
   "execution_count": null,
   "metadata": {},
   "outputs": [],
   "source": [
    "print(alpha[0])\n",
    "#  'set' object is not subscriptable"
   ]
  },
  {
   "cell_type": "code",
   "execution_count": null,
   "metadata": {},
   "outputs": [],
   "source": [
    "\n",
    "nums1= [10,20,30,10,20,20,30]\n",
    "\n",
    "nums= {10,20, 30,10,20,20,30}\n",
    "\n",
    "print(len(nums),len(nums1))"
   ]
  },
  {
   "cell_type": "code",
   "execution_count": null,
   "metadata": {},
   "outputs": [],
   "source": [
    "print(set(nums1))"
   ]
  },
  {
   "cell_type": "markdown",
   "metadata": {},
   "source": [
    "### dictionary\n",
    "\n",
    "Dictionaries are used to store data values in key:value pairs.\n",
    "\n",
    "A dictionary is a collection which is ordered*, changeable and does not allow duplicates.\n",
    "\n",
    "Dictionaries are written with curly brackets, and have keys and values\n"
   ]
  },
  {
   "cell_type": "code",
   "execution_count": null,
   "metadata": {},
   "outputs": [],
   "source": [
    "NOTE:\n",
    "    KEY SHould be unique and immutable\n",
    "    #str\n",
    "    #tuple\n",
    "    #int\n",
    "    #float\n",
    "    #bool\n",
    "    #complex\n",
    "    \n",
    "    \n",
    "#not allowed\n",
    "# - list\n",
    "# - dict\n",
    "# - set\n",
    "    \n",
    "    "
   ]
  },
  {
   "cell_type": "code",
   "execution_count": null,
   "metadata": {},
   "outputs": [],
   "source": [
    "some_a = [\"Vemuri\",\"PYTHON\",[\"Swathi\",\"november python\"],(\"Python\",\"Ruby\"),{\"AA\",\"BB\",\"AA\"}]\n",
    "\n",
    "print(some_a[0])\n",
    "print(some_a[-1])\n",
    "print(some_a[-2][-2])\n",
    "print(some_a[2][1])"
   ]
  },
  {
   "cell_type": "code",
   "execution_count": null,
   "metadata": {},
   "outputs": [],
   "source": [
    "sample_dic = {\n",
    "            \"name\":\"Ganesh\",\n",
    "            \"Session\":\"Python\",\n",
    "            \"Price\":10028.2982,\n",
    "            \"IsStudent\":True,\n",
    "            \"name\":\"AKR\"\n",
    "            }\n",
    "print(sample_dic)\n",
    "#whene ever you have double keys  , it will consider the latest one\n"
   ]
  },
  {
   "cell_type": "code",
   "execution_count": null,
   "metadata": {},
   "outputs": [],
   "source": [
    "#list list[0] , list[1]..\n",
    "#tuple tuple[0].....\n",
    "\n",
    "#In Dictionary , keys are indexes\n",
    "print(sample_dic[\"name\"])\n",
    "print(sample_dic[\"Price\"])"
   ]
  },
  {
   "cell_type": "code",
   "execution_count": null,
   "metadata": {},
   "outputs": [],
   "source": [
    "    studentDetails = {\n",
    "    \n",
    "    \"name\":\"Fury\",\n",
    "    \"class\":\"High School\",\n",
    "    \"id\":201,\n",
    "    True:2345.99,\n",
    "    (\"class\",):\"lower school\",\n",
    "    \"country\":\"USA\",\n",
    "    \"course\":[\"Vemuri\",\"PYTHON\",[\"Swathi\",\"november python\"],(\"Python\",\"Ruby\"),{\"AA\",\"BB\",\"AA\"}]\n",
    "    \n",
    "}"
   ]
  },
  {
   "cell_type": "code",
   "execution_count": null,
   "metadata": {},
   "outputs": [],
   "source": [
    "print(studentDetails)"
   ]
  },
  {
   "cell_type": "code",
   "execution_count": null,
   "metadata": {},
   "outputs": [],
   "source": [
    "studentDetails[\"class\"] #[key_name]"
   ]
  },
  {
   "cell_type": "code",
   "execution_count": null,
   "metadata": {},
   "outputs": [],
   "source": [
    "studentDetails[\"class_seven\"]"
   ]
  },
  {
   "cell_type": "code",
   "execution_count": null,
   "metadata": {},
   "outputs": [],
   "source": [
    "studentDetails.get('id',\"Key is missing\") #default is None."
   ]
  },
  {
   "cell_type": "code",
   "execution_count": null,
   "metadata": {},
   "outputs": [],
   "source": [
    "print(studentDetails.get('id2',\"Key is not present\"))"
   ]
  },
  {
   "cell_type": "code",
   "execution_count": null,
   "metadata": {},
   "outputs": [],
   "source": [
    "studentDetails[\"course\"][-2]"
   ]
  },
  {
   "cell_type": "code",
   "execution_count": null,
   "metadata": {},
   "outputs": [],
   "source": []
  },
  {
   "cell_type": "code",
   "execution_count": null,
   "metadata": {},
   "outputs": [],
   "source": [
    "#small assignment\n",
    "\n",
    "1.Just take the inputs into different variables of  all data types like int , float ,str , bool, complex\n",
    "2.Store that variables in List\n",
    "3.print the value and type of each values of list\n",
    "\n",
    "\n",
    "#2\n",
    "\n",
    "1.Declare two list one with integer values another with  float values.\n",
    "2.And declare third list add both the interge list & float list  values in it.\n"
   ]
  },
  {
   "cell_type": "code",
   "execution_count": null,
   "metadata": {},
   "outputs": [],
   "source": [
    "complex(2,3)"
   ]
  },
  {
   "cell_type": "code",
   "execution_count": null,
   "metadata": {},
   "outputs": [],
   "source": []
  },
  {
   "cell_type": "markdown",
   "metadata": {},
   "source": []
  },
  {
   "cell_type": "code",
   "execution_count": null,
   "metadata": {},
   "outputs": [],
   "source": []
  },
  {
   "cell_type": "markdown",
   "metadata": {},
   "source": [
    "### Methods"
   ]
  },
  {
   "cell_type": "markdown",
   "metadata": {},
   "source": [
    "#### List\n",
    "\n",
    "Python has a set of built-in methods that you can use on lists/arrays.\n",
    "\n",
    "- append()\tAdds an element at the end of the list\n",
    "\n",
    "- clear()\tRemoves all the elements from the list\n",
    "\n",
    "- copy()\tReturns a copy of the list\n",
    "\n",
    "- count()\tReturns the number of elements with the specified value\n",
    "- extend()\tAdd the elements of a list (or any iterable), to the end of the current list\n",
    "- index()\tReturns the index of the first element with the specified value\n",
    "- insert()\tAdds an element at the specified position\n",
    "- pop()\tRemoves the element at the specified position\n",
    "- remove()\tRemoves the first item with the specified value\n",
    "- reverse()\tReverses the order of the list\n",
    "- sort()\tSorts the list"
   ]
  },
  {
   "cell_type": "code",
   "execution_count": null,
   "metadata": {},
   "outputs": [],
   "source": [
    "a = []\n",
    "print(dir([]))"
   ]
  },
  {
   "cell_type": "code",
   "execution_count": null,
   "metadata": {},
   "outputs": [],
   "source": [
    "companies_stock = [(\"TCS\",3052),(\"infosys\",1320),(\"Accen\",4321),(\"wipro\",498)]"
   ]
  },
  {
   "cell_type": "code",
   "execution_count": null,
   "metadata": {},
   "outputs": [],
   "source": [
    "print(companies_stock)\n",
    "print(type(companies_stock))"
   ]
  },
  {
   "cell_type": "code",
   "execution_count": null,
   "metadata": {},
   "outputs": [],
   "source": [
    "#check the length\n",
    "print(companies_stock[1])\n",
    "\n",
    "print(len(companies_stock[1]))\n",
    "\n",
    "print(len(companies_stock))\n",
    "print(type(companies_stock[0]))\n",
    "print(type(companies_stock[0][0]))"
   ]
  },
  {
   "cell_type": "code",
   "execution_count": null,
   "metadata": {},
   "outputs": [],
   "source": [
    "print(companies_stock[-1][0])"
   ]
  },
  {
   "cell_type": "code",
   "execution_count": null,
   "metadata": {},
   "outputs": [],
   "source": [
    "print(companies_stock[3][1])"
   ]
  },
  {
   "cell_type": "code",
   "execution_count": null,
   "metadata": {},
   "outputs": [],
   "source": [
    "#append () adding the data at end sequence\n",
    "\n",
    "companies_stock.append((\"sbi\",360))\n"
   ]
  },
  {
   "cell_type": "code",
   "execution_count": null,
   "metadata": {},
   "outputs": [],
   "source": [
    "print(companies_stock)"
   ]
  },
  {
   "cell_type": "code",
   "execution_count": null,
   "metadata": {},
   "outputs": [],
   "source": [
    "companies_stock.append([\"LVTM\",360])"
   ]
  },
  {
   "cell_type": "code",
   "execution_count": null,
   "metadata": {},
   "outputs": [],
   "source": [
    "print(companies_stock)"
   ]
  },
  {
   "cell_type": "code",
   "execution_count": null,
   "metadata": {},
   "outputs": [],
   "source": [
    "companies_stock.append(10,20) #error"
   ]
  },
  {
   "cell_type": "code",
   "execution_count": null,
   "metadata": {},
   "outputs": [],
   "source": [
    "print(companies_stock)"
   ]
  },
  {
   "cell_type": "code",
   "execution_count": null,
   "metadata": {},
   "outputs": [],
   "source": [
    "# Invalid\n",
    "# a=[]\n",
    "# a[0] = \"AK\"\n",
    "# a[1]= \"Python\"\n",
    "\n",
    "a =[0]*3\n",
    "a[0] = \"AK\"\n",
    "a[1]= \"Python\"\n",
    "print(a)"
   ]
  },
  {
   "cell_type": "code",
   "execution_count": null,
   "metadata": {},
   "outputs": [],
   "source": [
    "a = []\n",
    "# a[0]=20 # change data at the existing locations\n",
    "a.append(10) #doesn't depend on locations or index value\n",
    "a.append(20)\n",
    "print(a)\n",
    "a[0]=200\n",
    "print(a)"
   ]
  },
  {
   "cell_type": "code",
   "execution_count": null,
   "metadata": {},
   "outputs": [],
   "source": [
    "#insert(index , object )\n",
    "\n",
    "#adding at 0th index\n",
    "\n",
    "companies_stock.insert(0,(\"IRTC\",1750))"
   ]
  },
  {
   "cell_type": "code",
   "execution_count": null,
   "metadata": {},
   "outputs": [],
   "source": [
    "print(companies_stock)"
   ]
  },
  {
   "cell_type": "code",
   "execution_count": null,
   "metadata": {},
   "outputs": [],
   "source": [
    "companies_stock\n"
   ]
  },
  {
   "cell_type": "code",
   "execution_count": null,
   "metadata": {},
   "outputs": [],
   "source": [
    "companies_stock.insert(0,(\"ICIC\",1750))"
   ]
  },
  {
   "cell_type": "code",
   "execution_count": null,
   "metadata": {},
   "outputs": [],
   "source": [
    "companies_stock.insert(0,('HDFC',1750))"
   ]
  },
  {
   "cell_type": "code",
   "execution_count": null,
   "metadata": {},
   "outputs": [],
   "source": [
    "print(companies_stock,len(companies_stock))"
   ]
  },
  {
   "cell_type": "code",
   "execution_count": null,
   "metadata": {},
   "outputs": [],
   "source": [
    "companies_stock.insert(30,\"AKR\")"
   ]
  },
  {
   "cell_type": "code",
   "execution_count": null,
   "metadata": {},
   "outputs": [],
   "source": [
    "print(companies_stock)"
   ]
  },
  {
   "cell_type": "code",
   "execution_count": null,
   "metadata": {},
   "outputs": [],
   "source": [
    "#index () returns the position of item values \n",
    "# Return first index of value.\n",
    "\n",
    "It_companies = [\"Google\",\"Microsoft\",\"Amazon\",\"Netflix\",\"Ola\",\"TCS\",\"Infosys\",\"TCS\",\"Accenture\"]\n",
    "\n",
    "print(len(It_companies))\n",
    "\n",
    "print(It_companies.index(\"Accenture\"))\n",
    "\n",
    "\n",
    "\n",
    "\n",
    "        \n",
    "print(It_companies.index(\"TCS\"))"
   ]
  },
  {
   "cell_type": "code",
   "execution_count": null,
   "metadata": {},
   "outputs": [],
   "source": [
    "print(It_companies.index(\"GAnesh\")) #error if values is not in the list"
   ]
  },
  {
   "cell_type": "code",
   "execution_count": null,
   "metadata": {},
   "outputs": [],
   "source": [
    "It_companies.append(\"A\",\"B\") #Invalid ? Only append one data at a time"
   ]
  },
  {
   "cell_type": "code",
   "execution_count": null,
   "metadata": {},
   "outputs": [],
   "source": [
    "print(It_companies)"
   ]
  },
  {
   "cell_type": "code",
   "execution_count": null,
   "metadata": {},
   "outputs": [],
   "source": [
    "It_companies.append([\"Wipro\",\"optum\"])\n"
   ]
  },
  {
   "cell_type": "code",
   "execution_count": null,
   "metadata": {},
   "outputs": [],
   "source": [
    "print(It_companies)"
   ]
  },
  {
   "cell_type": "code",
   "execution_count": null,
   "metadata": {},
   "outputs": [],
   "source": [
    "\n",
    "print(['Google', 'Microsoft'] + [\"Wipro\",\"optum\"]) #list addition"
   ]
  },
  {
   "cell_type": "code",
   "execution_count": null,
   "metadata": {},
   "outputs": [],
   "source": [
    "#extend () ===>list addition \n",
    "\n",
    "It_companies.extend([\"Wipro\",\"optum\", \"netflix\"])\n",
    "\n",
    "print(It_companies)"
   ]
  },
  {
   "cell_type": "code",
   "execution_count": null,
   "metadata": {},
   "outputs": [],
   "source": [
    "It_companies.extend([\"Info\",\"JPMC\"])\n",
    "print(It_companies)"
   ]
  },
  {
   "cell_type": "code",
   "execution_count": null,
   "metadata": {},
   "outputs": [],
   "source": []
  },
  {
   "cell_type": "code",
   "execution_count": null,
   "metadata": {},
   "outputs": [],
   "source": [
    "#copy \n",
    "\n",
    "Duplicate_list = It_companies.copy()\n",
    "\n",
    "dup2 = It_companies.copy()\n",
    "\n",
    "\n",
    "print(It_companies)\n",
    "print(Duplicate_list)\n",
    "print(dup2)"
   ]
  },
  {
   "cell_type": "code",
   "execution_count": null,
   "metadata": {},
   "outputs": [],
   "source": [
    "id(dup2) # address of the object"
   ]
  },
  {
   "cell_type": "code",
   "execution_count": null,
   "metadata": {},
   "outputs": [],
   "source": [
    "print(id(dup2) , id(Duplicate_list) , id(It_companies))"
   ]
  },
  {
   "cell_type": "code",
   "execution_count": null,
   "metadata": {},
   "outputs": [],
   "source": [
    "a=10\n",
    "b=10\n",
    "print(id(a) ,id(b))\n"
   ]
  },
  {
   "cell_type": "code",
   "execution_count": null,
   "metadata": {},
   "outputs": [],
   "source": [
    "print(type(It_companies))"
   ]
  },
  {
   "cell_type": "code",
   "execution_count": null,
   "metadata": {},
   "outputs": [],
   "source": [
    "some_var = It_companies #alias\n",
    "\n",
    "print(It_companies)\n",
    "print(some_var)\n",
    "\n",
    "print(id(some_var) , id(It_companies))\n"
   ]
  },
  {
   "cell_type": "code",
   "execution_count": null,
   "metadata": {},
   "outputs": [],
   "source": [
    "\n",
    "some_var[0]=\"SWATI\"\n",
    "print(It_companies)\n",
    "print(some_var)"
   ]
  },
  {
   "cell_type": "code",
   "execution_count": null,
   "metadata": {},
   "outputs": [],
   "source": [
    "Duplicate_list"
   ]
  },
  {
   "cell_type": "code",
   "execution_count": null,
   "metadata": {},
   "outputs": [],
   "source": [
    "Duplicate_list[0]=\"Goog\"\n",
    "print(It_companies)\n",
    "print(Duplicate_list)"
   ]
  },
  {
   "cell_type": "code",
   "execution_count": null,
   "metadata": {},
   "outputs": [],
   "source": [
    "#copy() method will create a separate block of memory , so ID's will be different\n",
    "# Changes in one variable will not affect in another variable\n",
    "\n",
    "#alias = both will have memory locations , change in one variable will affect the other variable"
   ]
  },
  {
   "cell_type": "code",
   "execution_count": null,
   "metadata": {},
   "outputs": [],
   "source": [
    "#clear() - delete all the elements\n",
    "\n",
    "Duplicate_list.clear()\n",
    "\n",
    "print(Duplicate_list)\n"
   ]
  },
  {
   "cell_type": "code",
   "execution_count": null,
   "metadata": {},
   "outputs": [],
   "source": [
    "Duplicate_list = [10,20]\n",
    "print(Duplicate_list)\n",
    "\n",
    "#del - to delete  the object/var  from the memory perman\n",
    "del Duplicate_list\n",
    "\n",
    "print(Duplicate_list)"
   ]
  },
  {
   "cell_type": "code",
   "execution_count": null,
   "metadata": {},
   "outputs": [],
   "source": [
    "print(It_companies)"
   ]
  },
  {
   "cell_type": "code",
   "execution_count": null,
   "metadata": {},
   "outputs": [],
   "source": [
    "#reverse ()\n",
    "It_companies.reverse()\n",
    "\n",
    "print(It_companies)"
   ]
  },
  {
   "cell_type": "code",
   "execution_count": null,
   "metadata": {},
   "outputs": [],
   "source": [
    "#pop()  # default = -1 , return the popped elemet \n",
    "\n",
    "last_item = It_companies.pop() #default index = -1\n",
    "\n",
    "print(last_item)\n",
    "print(It_companies)"
   ]
  },
  {
   "cell_type": "code",
   "execution_count": null,
   "metadata": {},
   "outputs": [],
   "source": [
    "print(It_companies.pop(3))"
   ]
  },
  {
   "cell_type": "code",
   "execution_count": null,
   "metadata": {
    "scrolled": true
   },
   "outputs": [],
   "source": [
    "a=[]\n",
    "print(len(a))\n",
    "print(a.pop())\n",
    "\n"
   ]
  },
  {
   "cell_type": "code",
   "execution_count": null,
   "metadata": {},
   "outputs": [],
   "source": [
    "a = print(print(\"Ehllo\"))\n",
    "print(a)"
   ]
  },
  {
   "cell_type": "code",
   "execution_count": null,
   "metadata": {},
   "outputs": [],
   "source": [
    "#remove() based on value \n",
    "\n",
    "First_occur_item = It_companies.remove(\"TCS\")\n",
    "print(First_occur_item)\n",
    "print(It_companies)"
   ]
  },
  {
   "cell_type": "code",
   "execution_count": null,
   "metadata": {},
   "outputs": [],
   "source": [
    "It_companies.remove(\"GANESH\")"
   ]
  },
  {
   "cell_type": "code",
   "execution_count": null,
   "metadata": {
    "scrolled": true
   },
   "outputs": [],
   "source": [
    "#count()\n",
    "\n",
    "print(It_companies.count(\"Ola\"))"
   ]
  },
  {
   "cell_type": "code",
   "execution_count": null,
   "metadata": {},
   "outputs": [],
   "source": [
    "print(It_companies.count(\"Wipro\"))"
   ]
  },
  {
   "cell_type": "code",
   "execution_count": null,
   "metadata": {},
   "outputs": [],
   "source": [
    "print(It_companies.count(\"ACC\"))"
   ]
  },
  {
   "cell_type": "code",
   "execution_count": null,
   "metadata": {},
   "outputs": [],
   "source": []
  },
  {
   "cell_type": "code",
   "execution_count": null,
   "metadata": {},
   "outputs": [],
   "source": [
    "a = \" a b a  ab c a b a \".split()\n",
    "print(a,type(a))\n",
    "print(a.count('a'))"
   ]
  },
  {
   "cell_type": "code",
   "execution_count": null,
   "metadata": {},
   "outputs": [],
   "source": [
    "print(It_companies)\n",
    "It_companies.pop(4)"
   ]
  },
  {
   "cell_type": "code",
   "execution_count": null,
   "metadata": {},
   "outputs": [],
   "source": [
    "#sort \n",
    "#note : if its str , sort based on ascii value \n",
    "\n",
    "print(It_companies)\n",
    "\n",
    "It_companies.sort()\n",
    "\n",
    "print(It_companies) "
   ]
  },
  {
   "cell_type": "code",
   "execution_count": null,
   "metadata": {},
   "outputs": [],
   "source": [
    "print(ord(\"A\"))\n",
    "print(ord(\"a\"))"
   ]
  },
  {
   "cell_type": "code",
   "execution_count": null,
   "metadata": {},
   "outputs": [],
   "source": [
    "some_list = ['a','k','r','b','K','i','e','A']\n",
    "some_list.sort()\n",
    "\n",
    "print(some_list)"
   ]
  },
  {
   "cell_type": "code",
   "execution_count": null,
   "metadata": {},
   "outputs": [],
   "source": [
    "some_list = ['a','k','r','b','K','i','e','A']\n",
    "some_list.sort(reverse=True) #reverse = false -> ASD(increasing ) , =True (desc)\n",
    "\n",
    "print(some_list)"
   ]
  },
  {
   "cell_type": "code",
   "execution_count": null,
   "metadata": {},
   "outputs": [],
   "source": [
    "a=[10,203,20,0,5011,602]\n",
    "a.sort(reverse=True)\n",
    "print(a)"
   ]
  },
  {
   "cell_type": "code",
   "execution_count": null,
   "metadata": {},
   "outputs": [],
   "source": [
    "ord(\"A\"),ord(\"a\")"
   ]
  },
  {
   "cell_type": "code",
   "execution_count": null,
   "metadata": {},
   "outputs": [],
   "source": [
    "chr(65)"
   ]
  },
  {
   "cell_type": "code",
   "execution_count": null,
   "metadata": {},
   "outputs": [],
   "source": []
  },
  {
   "cell_type": "code",
   "execution_count": null,
   "metadata": {},
   "outputs": [],
   "source": [
    "ord(\"A\")\n",
    "ord(\"a\")\n",
    "\n",
    "lista=[10,1,99,19,0]\n",
    "lista.sort(reverse=True)\n",
    "\n",
    "print(lista)"
   ]
  },
  {
   "cell_type": "code",
   "execution_count": null,
   "metadata": {},
   "outputs": [],
   "source": []
  },
  {
   "cell_type": "code",
   "execution_count": null,
   "metadata": {},
   "outputs": [],
   "source": [
    "# chr()\n",
    "# ord()\n",
    "\n",
    "print(ord(\"A\"))\n",
    "print(ord(\"a\"))\n",
    "print(ord(\"g\"))\n",
    "print(chr(65))\n",
    "print(chr(67))\n",
    "\n",
    "\n"
   ]
  },
  {
   "cell_type": "code",
   "execution_count": null,
   "metadata": {},
   "outputs": [],
   "source": []
  },
  {
   "cell_type": "code",
   "execution_count": null,
   "metadata": {},
   "outputs": [],
   "source": [
    "print(type(It_companies))\n",
    "dir(It_companies)"
   ]
  },
  {
   "cell_type": "code",
   "execution_count": null,
   "metadata": {},
   "outputs": [],
   "source": [
    "a={} #diict\n",
    "dir(a)"
   ]
  },
  {
   "cell_type": "code",
   "execution_count": null,
   "metadata": {},
   "outputs": [],
   "source": [
    "# all list methods\n",
    "append() # only 1\n",
    "extend() # more than 1 or add list to the tail of the another tail\n",
    "count()\n",
    "index()\n",
    "sort()\n",
    "reverse()\n",
    "copy()\n",
    "\n",
    "\n",
    "\n",
    "#insertion of data\n",
    "append()\n",
    "extend()\n",
    "insert()\n",
    "\n",
    "#deletion\n",
    "\n",
    "remove() #based onvalues\n",
    "clear() #all\n",
    "pop() #based on loc  #default = -1\n",
    "\n",
    "#sorting\n",
    "sort() #revere=True (desc)  , False = ascen\n",
    "\n",
    "#copy\n",
    "copy()\n",
    "\n",
    "#index and counting\n",
    "\n",
    "index()\n",
    "count()\n"
   ]
  },
  {
   "cell_type": "markdown",
   "metadata": {},
   "source": [
    "#### tuple methods\n",
    "\n",
    "Python has two built-in methods that you can use on tuples.\n",
    "\n",
    "\n",
    "- count()\tReturns the number of times a specified value occurs in a tuple\n",
    "- index()\tSearches the tuple for a specified value and returns the position of where it was found"
   ]
  },
  {
   "cell_type": "code",
   "execution_count": null,
   "metadata": {},
   "outputs": [],
   "source": []
  },
  {
   "cell_type": "code",
   "execution_count": null,
   "metadata": {},
   "outputs": [],
   "source": []
  },
  {
   "cell_type": "code",
   "execution_count": null,
   "metadata": {},
   "outputs": [],
   "source": [
    "thistuple = (1, 3, 7, 8, 7, 5, 4, 6, 8, 5)\n",
    "\n",
    "x = thistuple.count(5)\n",
    "\n",
    "print(x)\n",
    "print(thistuple.count(5))"
   ]
  },
  {
   "cell_type": "code",
   "execution_count": null,
   "metadata": {},
   "outputs": [],
   "source": [
    "dir(thistuple)\n"
   ]
  },
  {
   "cell_type": "code",
   "execution_count": null,
   "metadata": {},
   "outputs": [],
   "source": [
    "thistuple = (1, 3, 7, 8, 7, 5, 4, 6, 8, 5)\n",
    "\n",
    "x = thistuple.index(4)\n",
    "\n",
    "print(x)"
   ]
  },
  {
   "cell_type": "code",
   "execution_count": null,
   "metadata": {},
   "outputs": [],
   "source": [
    "teams = (\"india\",\"NZ\",\"AUS\",\"Ban\",\"NZ\",\"Pak\",\"india\",\"nz\")\n",
    "\n",
    "print(teams.count('nZ'))"
   ]
  },
  {
   "cell_type": "code",
   "execution_count": null,
   "metadata": {},
   "outputs": [],
   "source": [
    "thistuple = (1, 3, 7, 8, 7, 5, 4, 6, 8, 5)\n",
    "\n",
    "x = thistuple.index(7) #returns the first occurence of item\n",
    "\n",
    "print(x)"
   ]
  },
  {
   "cell_type": "code",
   "execution_count": null,
   "metadata": {},
   "outputs": [],
   "source": [
    "copy_tuple = thistuple.copy()\n",
    "print(copy_tuple) #copy() . sort can't use on tuple"
   ]
  },
  {
   "cell_type": "markdown",
   "metadata": {},
   "source": [
    "#### set methods\n",
    "Python has a set of built-in methods that you can use on sets.\n",
    "\n",
    "- add()\tAdds an element to the set\n",
    "- clear()\tRemoves all the elements from the set\n",
    "- copy()\tReturns a copy of the set\n",
    "- difference()\tReturns a set containing the difference between two or more sets\n",
    "\n",
    "- intersection()\tReturns a set, that is the intersection of two other sets\n",
    "\n",
    "- symmetric_difference()\tReturns a set with the symmetric differences of two sets\n",
    "\n",
    "- union()\tReturn a set containing the union of sets\n",
    "\n",
    "other methods are\n",
    "\n",
    "- pop()\n",
    "- remove()\n",
    "- discard()\n",
    "- isdisjoint()\n",
    "- issubset()\n",
    "- issuperset()\n",
    "- update()\n"
   ]
  },
  {
   "cell_type": "code",
   "execution_count": null,
   "metadata": {},
   "outputs": [],
   "source": [
    "fruits = {\"apple\", \"banana\", \"cherry\"}\n",
    "\n",
    "fruits.add(\"orange\")\n",
    "\n",
    "print(fruits)"
   ]
  },
  {
   "cell_type": "code",
   "execution_count": null,
   "metadata": {},
   "outputs": [],
   "source": [
    "fruits = {\"apple\", \"banana\", \"cherry\"}\n",
    "\n",
    "fruits.add(\"orange1\")\n",
    "\n",
    "print(fruits)\n",
    "\n",
    "fruits.add(\"orange\")\n",
    "print(fruits)"
   ]
  },
  {
   "cell_type": "code",
   "execution_count": null,
   "metadata": {},
   "outputs": [],
   "source": [
    "#difference()\n",
    "# syntax \n",
    "# setA.difference(setB)\n",
    "\n",
    "x = {\"apple\", \"banana\", \"cherry\"}\n",
    "y = {\"google\", \"microsoft\", \"apple\"}\n",
    "\n",
    "z = x.difference(y) #x-y \n",
    "\n",
    "print(z)"
   ]
  },
  {
   "cell_type": "code",
   "execution_count": null,
   "metadata": {},
   "outputs": [],
   "source": []
  },
  {
   "cell_type": "code",
   "execution_count": null,
   "metadata": {},
   "outputs": [],
   "source": [
    "#difference()\n",
    "# syntax \n",
    "# setA.difference(setB)\n",
    "\n",
    "x = {\"apple\", \"banana\", \"cherry\"}\n",
    "y = {\"google\", \"microsoft\", \"apple\"}\n",
    "\n",
    "z = y.difference(x) #y-x\n",
    "\n",
    "print(z)"
   ]
  },
  {
   "cell_type": "code",
   "execution_count": null,
   "metadata": {},
   "outputs": [],
   "source": [
    "\n",
    "x = {\"apple\", \"banana\", \"cherry\"}\n",
    "y = {\"google\", \"microsoft\", \"apple\"}\n",
    "\n",
    "z = y.difference(x) | x.difference(y) #union = | (pipe symbol)\n",
    "\n",
    "print(z)"
   ]
  },
  {
   "cell_type": "code",
   "execution_count": null,
   "metadata": {},
   "outputs": [],
   "source": []
  },
  {
   "cell_type": "code",
   "execution_count": null,
   "metadata": {},
   "outputs": [],
   "source": [
    "#discarrd() -> remove \n",
    "\n",
    "fruits = {\"apple\", \"banana\", \"cherry\",\"banana\",11,11,11,11}\n",
    "\n",
    "print(fruits)\n",
    "\n",
    "fruits.discard(\"banana\")\n",
    "# \n",
    "print(fruits)"
   ]
  },
  {
   "cell_type": "code",
   "execution_count": null,
   "metadata": {},
   "outputs": [],
   "source": [
    "fruits.discard(\"banana\")\n",
    "\n",
    "print(fruits)\n",
    "\n",
    "# Remove an element from a set if it is a member.\n",
    "# If the element is not a member, do nothing"
   ]
  },
  {
   "cell_type": "code",
   "execution_count": null,
   "metadata": {},
   "outputs": [],
   "source": [
    "#intersection = common elements\n",
    "\n",
    "x = {\"apple\", \"banana\", \"cherry\"}\n",
    "y = {\"google\", \"microsoft\", \"apple\"}\n",
    "\n",
    "z = x.intersection(y)\n",
    "print(z)\n"
   ]
  },
  {
   "cell_type": "code",
   "execution_count": null,
   "metadata": {},
   "outputs": [],
   "source": [
    "#union \n",
    "# Return a set that contains all items from both sets, duplicates are excluded:\n",
    "\n",
    "x = {\"apple\", \"banana\", \"cherry\"}\n",
    "y = {\"google\", \"microsoft\", \"apple\"}\n",
    "\n",
    "z = x.union(y)\n",
    "\n",
    "print(z)"
   ]
  },
  {
   "cell_type": "code",
   "execution_count": null,
   "metadata": {},
   "outputs": [],
   "source": [
    "#symmnetric_difference()\n",
    "# syntax\n",
    "\n",
    "# set.symmentric.difference(set)\n",
    "\n",
    "x = {\"apple\", \"banana\", \"cherry\"}\n",
    "y = {\"google\", \"microsoft\", \"apple\"}\n",
    "\n",
    "z = y.symmetric_difference(x) \n",
    "\n",
    "print(z)"
   ]
  },
  {
   "cell_type": "code",
   "execution_count": null,
   "metadata": {},
   "outputs": [],
   "source": [
    "dir(x)"
   ]
  },
  {
   "cell_type": "code",
   "execution_count": null,
   "metadata": {},
   "outputs": [],
   "source": []
  },
  {
   "cell_type": "code",
   "execution_count": null,
   "metadata": {},
   "outputs": [],
   "source": [
    "#isdisjoint()\n",
    "x = {\"apple\", \"banana\", \"cherry\"}\n",
    "y = {\"google\", \"microsoft\", \"apple\"}\n",
    "\n",
    "z = x.isdisjoint(y) #x not equal to y #true or false \n",
    "\n",
    "print(z)"
   ]
  },
  {
   "cell_type": "code",
   "execution_count": null,
   "metadata": {},
   "outputs": [],
   "source": [
    "#isdisjoint()\n",
    "x = {\"apple\", \"banana\", \"cherry\"}\n",
    "y = {\"google\", \"microsoft\", \"mango\"}\n",
    "\n",
    "z = x.isdisjoint(y) #x not equal to y #true or false \n",
    "\n",
    "print(z)"
   ]
  },
  {
   "cell_type": "code",
   "execution_count": null,
   "metadata": {},
   "outputs": [],
   "source": [
    "#\n",
    "print(x)\n",
    "# x.pop()\n"
   ]
  },
  {
   "cell_type": "code",
   "execution_count": null,
   "metadata": {
    "scrolled": true
   },
   "outputs": [],
   "source": [
    "x.pop()"
   ]
  },
  {
   "cell_type": "code",
   "execution_count": null,
   "metadata": {},
   "outputs": [],
   "source": [
    "x"
   ]
  },
  {
   "cell_type": "code",
   "execution_count": null,
   "metadata": {},
   "outputs": [],
   "source": [
    "x.remove(\"banana\")"
   ]
  },
  {
   "cell_type": "code",
   "execution_count": null,
   "metadata": {},
   "outputs": [],
   "source": [
    "x"
   ]
  },
  {
   "cell_type": "code",
   "execution_count": null,
   "metadata": {},
   "outputs": [],
   "source": [
    "x.pop()"
   ]
  },
  {
   "cell_type": "code",
   "execution_count": null,
   "metadata": {},
   "outputs": [],
   "source": [
    "x.pop()"
   ]
  },
  {
   "cell_type": "code",
   "execution_count": null,
   "metadata": {},
   "outputs": [],
   "source": [
    "print(x)\n",
    "print(x.pop())"
   ]
  },
  {
   "cell_type": "code",
   "execution_count": null,
   "metadata": {},
   "outputs": [],
   "source": [
    "cars = {\"Swift\",\"Mercedes\",\"Tata\",\"I10\",\"I20\",\"Kia\",\"MG\"}\n",
    "\n",
    "print(cars)\n",
    "\n",
    "#remove()\n",
    "\n",
    "cars.remove(\"Tata\")\n",
    "\n",
    "cars.discard(\"Kia\")"
   ]
  },
  {
   "cell_type": "code",
   "execution_count": null,
   "metadata": {},
   "outputs": [],
   "source": [
    "print(cars)"
   ]
  },
  {
   "cell_type": "code",
   "execution_count": null,
   "metadata": {},
   "outputs": [],
   "source": [
    "cars.remove(\"Alto\") #throw Error if not present\n",
    "cars.discard(\"Audi\") #will not throw an Error , even if it is not present."
   ]
  },
  {
   "cell_type": "code",
   "execution_count": null,
   "metadata": {},
   "outputs": [],
   "source": [
    "# set methods\n",
    "union()\n",
    "add()\n",
    "intersection()\n",
    "difference()\n",
    "symmetric_difference()\n",
    "discard()\n",
    "pop()\n",
    "remove()\n",
    "\n"
   ]
  },
  {
   "cell_type": "markdown",
   "metadata": {},
   "source": [
    "### Dict Methods\n",
    "\n",
    "Python has a set of built-in methods that you can use on dictionaries.\n",
    "\n",
    "- clear()\tRemoves all the elements from the dictionary\n",
    "- copy()\tReturns a copy of the dictionary\n",
    "- fromkeys()\tReturns a dictionary with the specified keys and value\n",
    "- get()\tReturns the value of the specified key\n",
    "- items()\tReturns a list containing a tuple for each key value pair\n",
    "- keys()\tReturns a list containing the dictionary's keys\n",
    "- pop()\tRemoves the element with the specified key\n",
    "- popitem()\tRemoves the last inserted key-value pair\n",
    "- setdefault()\tReturns the value of the specified key. If the key does  not exist: insert the key, with the specified value\n",
    "- update()\tUpdates the dictionary with the specified key-value pairs\n",
    "- values()\tReturns a list of all the values in the dictionary\n"
   ]
  },
  {
   "cell_type": "code",
   "execution_count": null,
   "metadata": {},
   "outputs": [],
   "source": [
    "comp = {\n",
    "  \"name\": \"Google\",\n",
    "  \"type\": \"MNC IT\",\n",
    "  \"year\": 1992,\n",
    "  \"ceo\":\"Sundar P\"\n",
    "}\n",
    "print(comp)"
   ]
  },
  {
   "cell_type": "code",
   "execution_count": null,
   "metadata": {},
   "outputs": [],
   "source": [
    "# one way of accessing\n",
    "print(comp[\"name\"]) #give valida key only otherwise KeyError\n",
    "\n",
    "#second\n",
    "\n",
    "print(comp.get(\"type\")) #Even u can give invalid Key also , it will print predefined text "
   ]
  },
  {
   "cell_type": "code",
   "execution_count": null,
   "metadata": {},
   "outputs": [],
   "source": [
    "# one way of accessing\n",
    "# print(comp[\"name2\"])\n",
    "\n",
    "#second\n",
    "\n",
    "print(comp.get(\"type2\",\"Key is not there\"))"
   ]
  },
  {
   "cell_type": "code",
   "execution_count": null,
   "metadata": {},
   "outputs": [],
   "source": [
    "# print(comp[\"name1\"]) #KE\n",
    "\n",
    "\n",
    "\n",
    "print(comp.get(\"type\", \"Key not found\")) #None #No KE \n",
    "print(1+2)\n",
    "print(\"Jellp\")"
   ]
  },
  {
   "cell_type": "code",
   "execution_count": null,
   "metadata": {},
   "outputs": [],
   "source": [
    "print(comp[\"name1\"]) #KE\n",
    "print(2*3)\n",
    "print(\"HSbksks\")"
   ]
  },
  {
   "cell_type": "code",
   "execution_count": null,
   "metadata": {},
   "outputs": [],
   "source": [
    "comp[\"course\"]\n"
   ]
  },
  {
   "cell_type": "code",
   "execution_count": null,
   "metadata": {},
   "outputs": [],
   "source": [
    "comp.get('name1',\"No Value\")"
   ]
  },
  {
   "cell_type": "code",
   "execution_count": null,
   "metadata": {},
   "outputs": [],
   "source": [
    "print(comp.get(\"name1\",\"Invalid key\"))\n"
   ]
  },
  {
   "cell_type": "code",
   "execution_count": null,
   "metadata": {},
   "outputs": [],
   "source": [
    "\n",
    "\n",
    "x = comp.get(\"type1\",\"Invalid Key\")\n",
    "\n",
    "print(comp.get(\"type\"))\n",
    "print(x)"
   ]
  },
  {
   "cell_type": "code",
   "execution_count": null,
   "metadata": {},
   "outputs": [],
   "source": []
  },
  {
   "cell_type": "code",
   "execution_count": null,
   "metadata": {},
   "outputs": [],
   "source": []
  },
  {
   "cell_type": "code",
   "execution_count": null,
   "metadata": {},
   "outputs": [],
   "source": [
    "comp[\"name\"]\n",
    "comp[\"year\"]"
   ]
  },
  {
   "cell_type": "code",
   "execution_count": null,
   "metadata": {},
   "outputs": [],
   "source": [
    "comp[\"branch\"]"
   ]
  },
  {
   "cell_type": "code",
   "execution_count": null,
   "metadata": {},
   "outputs": [],
   "source": [
    "comp.get(\"year1\",\"year1 is not a key \")"
   ]
  },
  {
   "cell_type": "code",
   "execution_count": null,
   "metadata": {},
   "outputs": [],
   "source": [
    "comp"
   ]
  },
  {
   "cell_type": "code",
   "execution_count": null,
   "metadata": {},
   "outputs": [],
   "source": [
    "#keys() = Return the list of keys [k1,k2,k3]\n",
    "print(comp.keys())"
   ]
  },
  {
   "cell_type": "code",
   "execution_count": null,
   "metadata": {},
   "outputs": [],
   "source": [
    "#values() # Return the list of values [v1,v2,v3]\n",
    "\n",
    "print(comp.values())\n"
   ]
  },
  {
   "cell_type": "code",
   "execution_count": null,
   "metadata": {},
   "outputs": [],
   "source": [
    "#items() ->key+values List of typle [(K,v),(k1,v1),(k2,v2)]\n",
    "\n",
    "print(comp.items())"
   ]
  },
  {
   "cell_type": "code",
   "execution_count": null,
   "metadata": {},
   "outputs": [],
   "source": [
    "x = comp.items()\n",
    "print(type(x))\n"
   ]
  },
  {
   "cell_type": "code",
   "execution_count": null,
   "metadata": {},
   "outputs": [],
   "source": [
    "comp"
   ]
  },
  {
   "cell_type": "code",
   "execution_count": null,
   "metadata": {},
   "outputs": [],
   "source": [
    "#pop()\n",
    "\n",
    "popped = comp.pop(\"year\") #based year\n",
    "\n",
    "print(popped)\n",
    "print(comp)"
   ]
  },
  {
   "cell_type": "code",
   "execution_count": null,
   "metadata": {},
   "outputs": [],
   "source": [
    "comp.pop(\"year\")"
   ]
  },
  {
   "cell_type": "code",
   "execution_count": null,
   "metadata": {},
   "outputs": [],
   "source": [
    "comp.pop(\"year\",\"key not there\")"
   ]
  },
  {
   "cell_type": "code",
   "execution_count": null,
   "metadata": {},
   "outputs": [],
   "source": [
    "comp"
   ]
  },
  {
   "cell_type": "code",
   "execution_count": null,
   "metadata": {},
   "outputs": [],
   "source": [
    "# pop_item()\n",
    "popped_item = comp.popitem()\n",
    "print(popped_item)\n",
    "print(comp)"
   ]
  },
  {
   "cell_type": "code",
   "execution_count": null,
   "metadata": {},
   "outputs": [],
   "source": [
    "print(comp)"
   ]
  },
  {
   "cell_type": "code",
   "execution_count": null,
   "metadata": {},
   "outputs": [],
   "source": [
    "sample = {\n",
    "    \"name \":\"Divya\",\n",
    "    \"course\":\"Python\",\n",
    "    \"fee\":\"100USR\"\n",
    "}\n",
    "print(sample)\n",
    "print(sample.pop(\"fee\"))\n",
    "print(sample.popitem())\n",
    "print(sample.popitem())\n",
    "print(sample.popitem())"
   ]
  },
  {
   "cell_type": "code",
   "execution_count": null,
   "metadata": {},
   "outputs": [],
   "source": [
    "# {}.popitem()\n",
    "# [].pop()"
   ]
  },
  {
   "cell_type": "code",
   "execution_count": null,
   "metadata": {},
   "outputs": [],
   "source": [
    "print(comp)"
   ]
  },
  {
   "cell_type": "code",
   "execution_count": null,
   "metadata": {},
   "outputs": [],
   "source": [
    "comp.update({\"name2\":\"Amazon\"})"
   ]
  },
  {
   "cell_type": "code",
   "execution_count": null,
   "metadata": {},
   "outputs": [],
   "source": [
    "print(comp)"
   ]
  },
  {
   "cell_type": "code",
   "execution_count": null,
   "metadata": {},
   "outputs": [],
   "source": [
    "#update \n",
    "\n",
    "comp.update({\"year1\":2046})\n",
    "#if key is not there , it will create a new key"
   ]
  },
  {
   "cell_type": "code",
   "execution_count": null,
   "metadata": {},
   "outputs": [],
   "source": [
    "print(comp)"
   ]
  },
  {
   "cell_type": "code",
   "execution_count": null,
   "metadata": {},
   "outputs": [],
   "source": [
    "comp.update({\"name1\":\"Amazon\"})"
   ]
  },
  {
   "cell_type": "code",
   "execution_count": null,
   "metadata": {},
   "outputs": [],
   "source": [
    "print(comp)"
   ]
  },
  {
   "cell_type": "code",
   "execution_count": null,
   "metadata": {},
   "outputs": [],
   "source": [
    "student={\n",
    "    \"name\":input(\"Enter the name\"),\n",
    "    \"roll_no\":int(input(\"Enter the roll no\")),\n",
    "    \"course\":input(\"Enter the course\")\n",
    "}"
   ]
  },
  {
   "cell_type": "code",
   "execution_count": null,
   "metadata": {},
   "outputs": [],
   "source": [
    "print(student)"
   ]
  },
  {
   "cell_type": "code",
   "execution_count": null,
   "metadata": {},
   "outputs": [],
   "source": [
    "x = ('key1', 'key2', 'key3')\n",
    "y = ('a','b','c')\n",
    "\n",
    "thisdict = dict.fromkeys(x, y)\n",
    "\n",
    "print(thisdict)"
   ]
  },
  {
   "cell_type": "code",
   "execution_count": null,
   "metadata": {},
   "outputs": [],
   "source": [
    "#NOTE \n",
    "#accessing and removing with unknow key=>key error\n",
    "#for updating it will , add a new item (K , V)"
   ]
  },
  {
   "cell_type": "code",
   "execution_count": null,
   "metadata": {},
   "outputs": [],
   "source": [
    "#little exercise \n",
    "\n",
    "\n",
    "# Pyinsta is Python Community?\n",
    "\n",
    "\n",
    "\n",
    "1.\n",
    "# declare a list with different data types\n",
    "# print type of each item in the list\n",
    "\n",
    "# 2.declare two list with intergers or floats\n",
    "# add those two lists and print the result\n",
    "\n",
    "# 3.create a your own two dictionaries\n",
    "# try to merge them , store it in a new variable.\n",
    "\n",
    "# 4 . Declare a List with [\"Mi\",\"vivo\",\"realme\",\"Oneplus\",\"Mi\",\"Redmi\",\"realme\"]\n",
    "# add a new list to it [\"oppo\",\"iphone\"]\n",
    "# remove the duplicates in th list and print the mo`dified list"
   ]
  },
  {
   "cell_type": "code",
   "execution_count": null,
   "metadata": {},
   "outputs": [],
   "source": [
    "# {}+{}"
   ]
  },
  {
   "cell_type": "code",
   "execution_count": null,
   "metadata": {},
   "outputs": [],
   "source": [
    "{\"name\":\"AKR\"}+{\"rollno\":3096}"
   ]
  },
  {
   "cell_type": "code",
   "execution_count": null,
   "metadata": {},
   "outputs": [],
   "source": []
  },
  {
   "cell_type": "code",
   "execution_count": null,
   "metadata": {},
   "outputs": [],
   "source": []
  },
  {
   "cell_type": "code",
   "execution_count": null,
   "metadata": {},
   "outputs": [],
   "source": [
    "\n"
   ]
  },
  {
   "cell_type": "code",
   "execution_count": null,
   "metadata": {},
   "outputs": [],
   "source": []
  },
  {
   "cell_type": "markdown",
   "metadata": {},
   "source": [
    "### Indexing and slicing"
   ]
  },
  {
   "cell_type": "markdown",
   "metadata": {},
   "source": [
    "<img src = \"https://dq-blog-files.s3.amazonaws.com/list-tutorial/py1m2_positive_negative.svg\">"
   ]
  },
  {
   "cell_type": "markdown",
   "metadata": {},
   "source": [
    "#### list"
   ]
  },
  {
   "cell_type": "code",
   "execution_count": null,
   "metadata": {},
   "outputs": [],
   "source": [
    "#list \n",
    "\n",
    "list_1D = [\"Facebook\",0.0,\"USD\",2974676,3.5,True,10+2j]\n",
    "\n",
    "n = len(list_1D)\n",
    "\n",
    "#accesing the 2nd element \n",
    "\n",
    "print(list_1D[1])\n",
    "\n",
    "print(list_1D[-2])\n",
    "print(list_1D[-6])\n",
    "print(list_1D[-len(list_1D)])"
   ]
  },
  {
   "cell_type": "code",
   "execution_count": null,
   "metadata": {},
   "outputs": [],
   "source": [
    "#multidimensional list \n",
    "#There can be more than one additional dimension to lists in Python. \n",
    "#Keeping in mind that a list can hold other lists, that basic principle can be applied over and over. \n",
    "#Multi-dimensional lists are the lists within lists."
   ]
  },
  {
   "cell_type": "code",
   "execution_count": null,
   "metadata": {},
   "outputs": [],
   "source": [
    "list_2D= [[2, 4, 6, 8, 10], [3, 6, 9, 12, 15], [4, 8, 12, 16, 20]]\n",
    "print(list_2D)"
   ]
  },
  {
   "cell_type": "code",
   "execution_count": null,
   "metadata": {},
   "outputs": [],
   "source": [
    "print(len(list_2D))"
   ]
  },
  {
   "cell_type": "code",
   "execution_count": null,
   "metadata": {},
   "outputs": [],
   "source": [
    "list_2D[0]"
   ]
  },
  {
   "cell_type": "code",
   "execution_count": null,
   "metadata": {},
   "outputs": [],
   "source": [
    "list_2D[1]"
   ]
  },
  {
   "cell_type": "code",
   "execution_count": null,
   "metadata": {},
   "outputs": [],
   "source": [
    "list_2D[2]"
   ]
  },
  {
   "cell_type": "code",
   "execution_count": null,
   "metadata": {},
   "outputs": [],
   "source": [
    "list_2D[0][3]"
   ]
  },
  {
   "cell_type": "code",
   "execution_count": null,
   "metadata": {},
   "outputs": [],
   "source": [
    "list_2D[-3][-2]"
   ]
  },
  {
   "cell_type": "code",
   "execution_count": null,
   "metadata": {},
   "outputs": [],
   "source": [
    "list_2D[1][-1]"
   ]
  },
  {
   "cell_type": "code",
   "execution_count": null,
   "metadata": {},
   "outputs": [],
   "source": [
    "list_2D[1][-1]"
   ]
  },
  {
   "cell_type": "code",
   "execution_count": null,
   "metadata": {},
   "outputs": [],
   "source": [
    "list_2D[2][-2]"
   ]
  },
  {
   "cell_type": "code",
   "execution_count": null,
   "metadata": {},
   "outputs": [],
   "source": [
    "list_2D= [[2, 4, 6, 8, 10,['Google','MS','Info']], [3, 6, 9, 12, 15,['a','dog','bird']], [4, 8, 12, 16, 20]]\n",
    "\n",
    "print(list_2D[0][5][2])"
   ]
  },
  {
   "cell_type": "code",
   "execution_count": null,
   "metadata": {},
   "outputs": [],
   "source": [
    "list_2D[1][5][1]"
   ]
  },
  {
   "cell_type": "code",
   "execution_count": null,
   "metadata": {},
   "outputs": [],
   "source": [
    "list_2D[-3][-1][-1][-2]"
   ]
  },
  {
   "cell_type": "code",
   "execution_count": null,
   "metadata": {},
   "outputs": [],
   "source": [
    "list_2D[-3][-1][-2][-1]"
   ]
  },
  {
   "cell_type": "code",
   "execution_count": null,
   "metadata": {},
   "outputs": [],
   "source": [
    "list_2D[1][5][1][2]"
   ]
  },
  {
   "cell_type": "code",
   "execution_count": null,
   "metadata": {},
   "outputs": [],
   "source": [
    "list_2D[-2][-1][-2][-1]"
   ]
  },
  {
   "cell_type": "code",
   "execution_count": null,
   "metadata": {},
   "outputs": [],
   "source": [
    "#accesing the 8 data value\n",
    "print(list_2D[0][3])\n",
    "print(list_2D[-3][-3])\n",
    "print(list_2D[1][len(list_2D[1])-1])\n",
    "print(list_2D[1][4])"
   ]
  },
  {
   "cell_type": "code",
   "execution_count": null,
   "metadata": {},
   "outputs": [],
   "source": [
    "#excercise\n",
    "\n",
    "some_list = [1,2,['a','b',['cat','dog'],'c'],3]\n",
    "\n",
    "# write a statement to access 't' of 'cat'\n",
    "print(some_list[2][2][0][2])\n",
    "# print(some_list[])"
   ]
  },
  {
   "cell_type": "code",
   "execution_count": null,
   "metadata": {},
   "outputs": [],
   "source": [
    "print(some_list[2][2][1][2])"
   ]
  },
  {
   "cell_type": "code",
   "execution_count": null,
   "metadata": {},
   "outputs": [],
   "source": [
    "print(some_list[-2][-2][-2][-1])"
   ]
  },
  {
   "cell_type": "code",
   "execution_count": null,
   "metadata": {},
   "outputs": [],
   "source": [
    "print(some_list[2][2][0][2])\n",
    "print(some_list[-2][-2][-2][-1])"
   ]
  },
  {
   "cell_type": "code",
   "execution_count": null,
   "metadata": {},
   "outputs": [],
   "source": []
  },
  {
   "cell_type": "code",
   "execution_count": null,
   "metadata": {},
   "outputs": [],
   "source": []
  },
  {
   "cell_type": "code",
   "execution_count": null,
   "metadata": {},
   "outputs": [],
   "source": []
  },
  {
   "cell_type": "code",
   "execution_count": null,
   "metadata": {},
   "outputs": [],
   "source": [
    "a=[1,2,['a','b',['cat','dog'],'c'],3]\n",
    "a[2][2][0][2]\n",
    "a[-2][-2][-2][-1]\n"
   ]
  },
  {
   "cell_type": "code",
   "execution_count": null,
   "metadata": {},
   "outputs": [],
   "source": [
    "some_list[2][2][0][2]\n"
   ]
  },
  {
   "cell_type": "code",
   "execution_count": null,
   "metadata": {},
   "outputs": [],
   "source": [
    "list(range(10,-1,-1))"
   ]
  },
  {
   "cell_type": "code",
   "execution_count": null,
   "metadata": {},
   "outputs": [],
   "source": [
    "list(range(1,10,3))"
   ]
  },
  {
   "cell_type": "code",
   "execution_count": null,
   "metadata": {},
   "outputs": [],
   "source": [
    "#slicing  [start:stop:step]\n",
    "# step =1 #default\n",
    "# stop = exclusive # default = len\n",
    "# start = 0 # default\n",
    "\n",
    "\n",
    "\n",
    "#if the step is -1\n",
    "#start -1\n",
    "#stop = -len+(-1)\n",
    "#step = -1 \n",
    "\n",
    "#result is reverse order.\n",
    "\n",
    "\n",
    "\n",
    "list_1D = [\"Facebook\",0.0,\"USD\",2974676,3.5,True,10+2j]\n",
    "\n",
    "\n",
    "# list_name[start:stop:step]\n",
    "list_1D[1:4:1]"
   ]
  },
  {
   "cell_type": "code",
   "execution_count": null,
   "metadata": {},
   "outputs": [],
   "source": [
    "list_1D[1:4]"
   ]
  },
  {
   "cell_type": "code",
   "execution_count": null,
   "metadata": {},
   "outputs": [],
   "source": [
    "list_1D[-1:-8:-2]"
   ]
  },
  {
   "cell_type": "code",
   "execution_count": null,
   "metadata": {},
   "outputs": [],
   "source": [
    "list_1D[1:0:-1]"
   ]
  },
  {
   "cell_type": "code",
   "execution_count": null,
   "metadata": {},
   "outputs": [],
   "source": [
    "list_1D[3:0:1]"
   ]
  },
  {
   "cell_type": "code",
   "execution_count": null,
   "metadata": {},
   "outputs": [],
   "source": [
    "list_1D[:100]"
   ]
  },
  {
   "cell_type": "code",
   "execution_count": null,
   "metadata": {},
   "outputs": [],
   "source": [
    "list_1D[6]"
   ]
  },
  {
   "cell_type": "code",
   "execution_count": null,
   "metadata": {},
   "outputs": [],
   "source": [
    "list_1D[0:100:2]"
   ]
  },
  {
   "cell_type": "code",
   "execution_count": null,
   "metadata": {},
   "outputs": [],
   "source": [
    "some_list = [1,2,3,4,5,6,7,8,9,10,11,12]\n"
   ]
  },
  {
   "cell_type": "code",
   "execution_count": null,
   "metadata": {},
   "outputs": [],
   "source": [
    "some_list[1:13:2]"
   ]
  },
  {
   "cell_type": "code",
   "execution_count": null,
   "metadata": {},
   "outputs": [],
   "source": [
    "some_list[-1:-13:-2]\n",
    "\n",
    "#even with negative indexing"
   ]
  },
  {
   "cell_type": "code",
   "execution_count": null,
   "metadata": {},
   "outputs": [],
   "source": [
    "some_list = [1,2,['a','b',['cat','dog'],'c'],3]"
   ]
  },
  {
   "cell_type": "code",
   "execution_count": null,
   "metadata": {},
   "outputs": [],
   "source": [
    "some_list[0]"
   ]
  },
  {
   "cell_type": "code",
   "execution_count": null,
   "metadata": {},
   "outputs": [],
   "source": [
    "some_list[1]"
   ]
  },
  {
   "cell_type": "code",
   "execution_count": null,
   "metadata": {},
   "outputs": [],
   "source": [
    "some_list[2]"
   ]
  },
  {
   "cell_type": "code",
   "execution_count": null,
   "metadata": {},
   "outputs": [],
   "source": [
    "some_list[2:3:2]"
   ]
  },
  {
   "cell_type": "code",
   "execution_count": null,
   "metadata": {},
   "outputs": [],
   "source": [
    "some_list[2][2][0:1]"
   ]
  },
  {
   "cell_type": "code",
   "execution_count": null,
   "metadata": {},
   "outputs": [],
   "source": []
  },
  {
   "cell_type": "code",
   "execution_count": null,
   "metadata": {},
   "outputs": [],
   "source": [
    "list_2D"
   ]
  },
  {
   "cell_type": "code",
   "execution_count": null,
   "metadata": {},
   "outputs": [],
   "source": [
    "list_2D[1][2:]"
   ]
  },
  {
   "cell_type": "code",
   "execution_count": null,
   "metadata": {},
   "outputs": [],
   "source": [
    "print(list_1D)"
   ]
  },
  {
   "cell_type": "code",
   "execution_count": null,
   "metadata": {},
   "outputs": [],
   "source": [
    "list_1D[:]"
   ]
  },
  {
   "cell_type": "code",
   "execution_count": null,
   "metadata": {},
   "outputs": [],
   "source": [
    "list_1D[::-1] #reverse `a"
   ]
  },
  {
   "cell_type": "code",
   "execution_count": null,
   "metadata": {},
   "outputs": [],
   "source": [
    "n = len(list_1D)\n",
    "print(n)\n",
    "list_1D[-1:(-n)-1:-1]"
   ]
  },
  {
   "cell_type": "code",
   "execution_count": null,
   "metadata": {},
   "outputs": [],
   "source": [
    "list_1D[-1:-8:-1]"
   ]
  },
  {
   "cell_type": "code",
   "execution_count": null,
   "metadata": {},
   "outputs": [],
   "source": [
    "list_1D"
   ]
  },
  {
   "cell_type": "code",
   "execution_count": null,
   "metadata": {},
   "outputs": [],
   "source": [
    "list_1D.reverse()"
   ]
  },
  {
   "cell_type": "code",
   "execution_count": null,
   "metadata": {},
   "outputs": [],
   "source": [
    "list_1D"
   ]
  },
  {
   "cell_type": "code",
   "execution_count": null,
   "metadata": {},
   "outputs": [],
   "source": [
    "list_1D[::-1] #reverse `a"
   ]
  },
  {
   "cell_type": "code",
   "execution_count": null,
   "metadata": {},
   "outputs": [],
   "source": [
    "print(list_1D)"
   ]
  },
  {
   "cell_type": "code",
   "execution_count": null,
   "metadata": {},
   "outputs": [],
   "source": [
    "list_1D[-1:-8:-1] #-(len+1)= stop . start = -1 when step is -1"
   ]
  },
  {
   "cell_type": "code",
   "execution_count": null,
   "metadata": {},
   "outputs": [],
   "source": [
    "list_1D-"
   ]
  },
  {
   "cell_type": "code",
   "execution_count": null,
   "metadata": {},
   "outputs": [],
   "source": [
    "some_list"
   ]
  },
  {
   "cell_type": "code",
   "execution_count": null,
   "metadata": {},
   "outputs": [],
   "source": [
    "some_list.reverse()"
   ]
  },
  {
   "cell_type": "code",
   "execution_count": null,
   "metadata": {},
   "outputs": [],
   "source": [
    "s=\"swati\"\n",
    "s[::-1]"
   ]
  },
  {
   "cell_type": "code",
   "execution_count": null,
   "metadata": {},
   "outputs": [],
   "source": [
    "some_list"
   ]
  },
  {
   "cell_type": "code",
   "execution_count": null,
   "metadata": {},
   "outputs": [],
   "source": [
    "rev = some_list[::-1]"
   ]
  },
  {
   "cell_type": "code",
   "execution_count": null,
   "metadata": {},
   "outputs": [],
   "source": [
    "some_list[-1:-5:-1]"
   ]
  },
  {
   "cell_type": "code",
   "execution_count": null,
   "metadata": {},
   "outputs": [],
   "source": [
    "rev"
   ]
  },
  {
   "cell_type": "code",
   "execution_count": null,
   "metadata": {},
   "outputs": [],
   "source": [
    "list_1D"
   ]
  },
  {
   "cell_type": "code",
   "execution_count": null,
   "metadata": {},
   "outputs": [],
   "source": [
    "name = \"AKRajamoni\"\n",
    "print(name[:3])\n",
    "print(name[1:6:2])\n",
    "print(name[-1:-4:-1])\n",
    "print(name [:])\n",
    "print(name[::-1]) #reverse order\n",
    "print(\"\".join(reversed(name)))"
   ]
  },
  {
   "cell_type": "markdown",
   "metadata": {},
   "source": [
    "#### tuple"
   ]
  },
  {
   "cell_type": "code",
   "execution_count": null,
   "metadata": {},
   "outputs": [],
   "source": [
    "imdb = ((\"Instant Family\",7.2,(\"Hugo\",7.8)),[\"Intersellar\",8.0],{\"Tenet\",7.5},{\"Movie_Name\":\"Despicable Me\",\"Rating\":7.2})"
   ]
  },
  {
   "cell_type": "code",
   "execution_count": null,
   "metadata": {},
   "outputs": [],
   "source": [
    "#check the type of each item in tuple named imbd"
   ]
  },
  {
   "cell_type": "code",
   "execution_count": null,
   "metadata": {},
   "outputs": [],
   "source": [
    "print(imdb)\n"
   ]
  },
  {
   "cell_type": "code",
   "execution_count": null,
   "metadata": {},
   "outputs": [],
   "source": [
    "print(type(imdb))"
   ]
  },
  {
   "cell_type": "code",
   "execution_count": null,
   "metadata": {},
   "outputs": [],
   "source": [
    "print(type(imdb[0][0]))"
   ]
  },
  {
   "cell_type": "code",
   "execution_count": null,
   "metadata": {},
   "outputs": [],
   "source": [
    "imdb[1][0]=\"Don't breathe\"\n",
    "print(imdb)"
   ]
  },
  {
   "cell_type": "code",
   "execution_count": null,
   "metadata": {},
   "outputs": [],
   "source": [
    "print(imdb[0])"
   ]
  },
  {
   "cell_type": "code",
   "execution_count": null,
   "metadata": {},
   "outputs": [],
   "source": [
    "imdb[0][2][0]\n",
    "\n"
   ]
  },
  {
   "cell_type": "code",
   "execution_count": null,
   "metadata": {},
   "outputs": [],
   "source": []
  },
  {
   "cell_type": "code",
   "execution_count": null,
   "metadata": {},
   "outputs": [],
   "source": [
    "print(type(imdb[0]))"
   ]
  },
  {
   "cell_type": "code",
   "execution_count": null,
   "metadata": {},
   "outputs": [],
   "source": [
    "print(type(imdb[1]))"
   ]
  },
  {
   "cell_type": "code",
   "execution_count": null,
   "metadata": {},
   "outputs": [],
   "source": [
    "print(type(imdb[2]))"
   ]
  },
  {
   "cell_type": "code",
   "execution_count": null,
   "metadata": {},
   "outputs": [],
   "source": [
    "print(type(imdb[3]))"
   ]
  },
  {
   "cell_type": "code",
   "execution_count": null,
   "metadata": {},
   "outputs": [],
   "source": [
    "print(imdb[3])"
   ]
  },
  {
   "cell_type": "code",
   "execution_count": null,
   "metadata": {},
   "outputs": [],
   "source": [
    "imdb[3].get(\"Movie_Name11\",\"Check the key name again\")"
   ]
  },
  {
   "cell_type": "code",
   "execution_count": null,
   "metadata": {},
   "outputs": [],
   "source": [
    "imdb[3].get(\"Rating\")"
   ]
  },
  {
   "cell_type": "code",
   "execution_count": null,
   "metadata": {},
   "outputs": [],
   "source": [
    "#update()\n",
    "imdb[3].update({\"Movie_Name\":\"Iron Man III\"})\n",
    "print(imdb)"
   ]
  },
  {
   "cell_type": "code",
   "execution_count": null,
   "metadata": {},
   "outputs": [],
   "source": [
    "#access the movie Despicable \n",
    "\n",
    "print(imdb[3][\"Movie_Name\"])"
   ]
  },
  {
   "cell_type": "code",
   "execution_count": null,
   "metadata": {},
   "outputs": [],
   "source": [
    "print(imdb)"
   ]
  },
  {
   "cell_type": "code",
   "execution_count": null,
   "metadata": {},
   "outputs": [],
   "source": [
    "print(imdb[0][2][1])"
   ]
  },
  {
   "cell_type": "code",
   "execution_count": null,
   "metadata": {},
   "outputs": [],
   "source": []
  },
  {
   "cell_type": "code",
   "execution_count": null,
   "metadata": {},
   "outputs": [],
   "source": []
  },
  {
   "cell_type": "code",
   "execution_count": null,
   "metadata": {},
   "outputs": [],
   "source": [
    "\n",
    "\n",
    "teams=(\"IND\",\"PAK\",\"NZ\",\"ENG\",\"AUS\")"
   ]
  },
  {
   "cell_type": "code",
   "execution_count": null,
   "metadata": {},
   "outputs": [],
   "source": [
    "teams[1:3]"
   ]
  },
  {
   "cell_type": "code",
   "execution_count": null,
   "metadata": {},
   "outputs": [],
   "source": [
    "teams[::-1] #reverse order"
   ]
  },
  {
   "cell_type": "code",
   "execution_count": null,
   "metadata": {},
   "outputs": [],
   "source": [
    "print(teams[5])"
   ]
  },
  {
   "cell_type": "markdown",
   "metadata": {},
   "source": [
    "#### set"
   ]
  },
  {
   "cell_type": "code",
   "execution_count": null,
   "metadata": {},
   "outputs": [],
   "source": [
    "crypto = {\"Bit coin\",\"Dogecoin\",\"Etherum\"}\n",
    "\n",
    "print(crypto[0]) \n",
    "\n",
    "print(crypto) "
   ]
  },
  {
   "cell_type": "code",
   "execution_count": null,
   "metadata": {},
   "outputs": [],
   "source": [
    "crypto = {\"Bit coin\",\"Dogecoin\",\"Etherum\",{\"INR\"}}\n",
    "print(crypto)\n",
    "\n",
    "\n",
    "#issue is that sets can only contain hashable objects, and a set is not hashable.\n",
    "\n",
    "#use the frozenset type, which is hashable, for the elements of the outer set."
   ]
  },
  {
   "cell_type": "code",
   "execution_count": null,
   "metadata": {},
   "outputs": [],
   "source": [
    "# list()\n",
    "# tuple()\n",
    "# set()\n",
    "# dict()\n",
    "#int()\n",
    "# float()\n",
    "# str()\n",
    "# frozenset()\n"
   ]
  },
  {
   "cell_type": "code",
   "execution_count": null,
   "metadata": {
    "scrolled": true
   },
   "outputs": [],
   "source": []
  },
  {
   "cell_type": "code",
   "execution_count": null,
   "metadata": {},
   "outputs": [],
   "source": [
    "s"
   ]
  },
  {
   "cell_type": "code",
   "execution_count": null,
   "metadata": {},
   "outputs": [],
   "source": []
  },
  {
   "cell_type": "code",
   "execution_count": null,
   "metadata": {},
   "outputs": [],
   "source": [
    "dir(x)"
   ]
  },
  {
   "cell_type": "code",
   "execution_count": null,
   "metadata": {},
   "outputs": [],
   "source": [
    "d={\"a\":[1,{\"a\":10}],\n",
    "    \"x\":{\"x\":20}}\n",
    "\n",
    "\n",
    "print(d)"
   ]
  },
  {
   "cell_type": "code",
   "execution_count": null,
   "metadata": {},
   "outputs": [],
   "source": [
    "print(d['a'])\n",
    "print(d['x'])\n",
    "print(d['x']['x'])\n",
    "print(d['a'][1]['a'])"
   ]
  },
  {
   "cell_type": "code",
   "execution_count": null,
   "metadata": {},
   "outputs": [],
   "source": [
    "d[\"a\"][1][\"a\"]\n",
    "d[\"x\"][\"x\"]"
   ]
  },
  {
   "cell_type": "code",
   "execution_count": null,
   "metadata": {},
   "outputs": [],
   "source": [
    "#set mutable\n",
    "#frozenset is immutable"
   ]
  },
  {
   "cell_type": "code",
   "execution_count": null,
   "metadata": {},
   "outputs": [],
   "source": [
    "#mutable -> change the data at inner location \n",
    "\n",
    "# list , set , dict \n",
    "\n",
    "#immutable -> you cannot change the data.\n",
    "\n",
    "# tuple , str , int , float , bool , complex , frozenset"
   ]
  },
  {
   "cell_type": "markdown",
   "metadata": {},
   "source": [
    "### Operators\n",
    "\n",
    "Operators are used to perform operations on variables and values.\n",
    "\n",
    "They are used to perform the many arthimetical and mathematical operations on data .\n",
    "\n",
    "Operators are special symbols in Python that carry out arithmetic or logical computation. The value that the operator operates on is called the operand.\n",
    "\n",
    "Python divides the operators in the following groups:\n",
    "\n",
    "    Arithmetic operators\n",
    "    Assignment operators\n",
    "    Comparison operators\n",
    "    Logical operators\n",
    "    Identity operators\n",
    "    Membership operators\n",
    "    Bitwise operators\n"
   ]
  },
  {
   "cell_type": "markdown",
   "metadata": {},
   "source": [
    "##### Arithmetic operators\n",
    "\n",
    "- They are used to perform the basic math operations .\n",
    "\n"
   ]
  },
  {
   "cell_type": "markdown",
   "metadata": {},
   "source": [
    "+  ADDITION \n",
    "-  SUB\n",
    "*  MUTLIPICATION\n",
    "/   DIVISION\n",
    "//  (FLOOR DIV)  \n",
    "%  (MODULUS)  \n",
    "**  (EXPO)"
   ]
  },
  {
   "cell_type": "code",
   "execution_count": null,
   "metadata": {},
   "outputs": [],
   "source": [
    "a=25\n",
    "b=4\n",
    "print(a+b)\n",
    "print(a-b)\n",
    "print(a*b)\n",
    "print(a/b) #float value\n",
    "print(a//b) #integer value\n",
    "print(a%b) #will remainder\n",
    "print(a**b) #n^n\n",
    "\n",
    "print(25*25*25*25)"
   ]
  },
  {
   "cell_type": "code",
   "execution_count": null,
   "metadata": {},
   "outputs": [],
   "source": [
    "num1 = 22\n",
    "\n",
    "num2 = 44\n",
    "\n",
    "\n",
    "print(\"Addition is :\",(num1+num2))\n",
    "\n",
    "print(\"Subtraction is :\",(num1-num2))\n",
    "\n",
    "print(\"Multliplication is :\",(num1*num2))\n",
    "\n",
    "# 4\n",
    "\n",
    "print(\"Division is  It gives Folating Quotient:\",(num1/num2)) #float quotient\n",
    "\n",
    "print(\"Floor Division is  It gives a Integer Quotient:\",(num1//num2)) #integer quotient\n",
    "\n",
    "#remainder\n",
    "\n",
    "print(\"Modulus (Remainder) is :\",(num1%num2)) #remainder\n",
    "\n",
    "\n",
    "print(\"Power or Expo n^n is :\",(num1**num2)) #2^3 # 2*2*2 #num1^num2"
   ]
  },
  {
   "cell_type": "code",
   "execution_count": null,
   "metadata": {},
   "outputs": [],
   "source": [
    "a=10\n",
    "b=20\n",
    "a+b\n",
    "a-b\n"
   ]
  },
  {
   "cell_type": "code",
   "execution_count": null,
   "metadata": {},
   "outputs": [],
   "source": [
    "a=10\n",
    "b=3\n",
    "a//b #floor divisior = integer quotient\n",
    "a%b"
   ]
  },
  {
   "cell_type": "code",
   "execution_count": null,
   "metadata": {},
   "outputs": [],
   "source": [
    "a=31\n",
    "b=7.2\n",
    "print(\"modulus\",(a%b))\n"
   ]
  },
  {
   "cell_type": "code",
   "execution_count": null,
   "metadata": {},
   "outputs": [],
   "source": [
    "print(5//2) #// = floor division :integer \n",
    "print(5%3)\n",
    "print(1%6)\n",
    "print(2//3)\n",
    "\n",
    "# NOTE : when Numerator < Denominator = Numerator \n",
    "#  When Both are equal = 0\n"
   ]
  },
  {
   "cell_type": "code",
   "execution_count": null,
   "metadata": {},
   "outputs": [],
   "source": [
    "print(50%100)"
   ]
  },
  {
   "cell_type": "code",
   "execution_count": null,
   "metadata": {},
   "outputs": [],
   "source": [
    "print(-5%3)\n",
    "print(5%3)\n",
    "\n",
    "#Negative modulus"
   ]
  },
  {
   "cell_type": "code",
   "execution_count": null,
   "metadata": {},
   "outputs": [],
   "source": [
    "# Note :\n",
    "\n",
    "# 1. addition with the float object , the result is float type\n",
    "\n",
    "\n",
    "# 2. Division with the float object , the result is float type\n",
    "\n",
    "#3 .Python modulo operator (%) is used to get the remainder of a division. The modulo operation is supported for integers and floating point numbers.\n",
    "\n",
    "#4.a/b = q with remainder r preserves the relationships b*q + r = a and 0 <= r < b.\n"
   ]
  },
  {
   "cell_type": "code",
   "execution_count": null,
   "metadata": {},
   "outputs": [],
   "source": [
    "print(-5%3)\n",
    "\n",
    "# 5/3 = 2\n",
    "\n",
    "# (1-3*2)%3 \n",
    "#5/3 = 2\n",
    "#-5 = 6\n",
    "#6-5 =1 "
   ]
  },
  {
   "cell_type": "code",
   "execution_count": null,
   "metadata": {},
   "outputs": [],
   "source": [
    "print(-10%4)\n",
    "#10/4 = 2\n",
    "# 10 =8\n",
    "# 2\n"
   ]
  },
  {
   "cell_type": "markdown",
   "metadata": {},
   "source": [
    "#### assignment opertors \n",
    "\n",
    "Assignment operators are used to assign values to variables"
   ]
  },
  {
   "cell_type": "code",
   "execution_count": null,
   "metadata": {},
   "outputs": [],
   "source": [
    "num1 = 5\n",
    "\n",
    "\n",
    "print(num1)\n",
    "\n",
    "# num1 = num1+3\n",
    "# num1 = num1+6\n",
    "\n",
    "num1 +=3 #num1= num1+3\n",
    "\n",
    "print(num1)\n",
    "\n",
    "num1-=2#num1= num1-2\n",
    "\n",
    "print(num1)\n",
    "\n",
    "num1*=6 #num1 = num1*6\n",
    "\n",
    "print(num1)\n",
    "\n",
    "num1/=3\n",
    "\n",
    "print(num1)\n",
    "\n",
    "num1//=5\n",
    "\n",
    "print(num1)\n",
    "\n",
    "num1**=2\n",
    "print(num1)"
   ]
  },
  {
   "cell_type": "code",
   "execution_count": null,
   "metadata": {},
   "outputs": [],
   "source": [
    "n=4\n",
    "n+=3\n",
    "n-=6\n",
    "n*=7\n",
    "n/=3\n",
    "print(n)\n",
    "print(7/3)"
   ]
  },
  {
   "cell_type": "markdown",
   "metadata": {},
   "source": [
    "#### Comparision Operator \n",
    "It is used to compare two values / objects .\n",
    "\n",
    "It return the boolean type either True or False\n",
    "\n",
    "== \tEqual \tx == y \t\n",
    "\n",
    "!= \tNot equal \tx != y \t\n",
    "\n",
    "\">\" Greater than \tx > y \t\n",
    "<  Less than \tx < y \t\n",
    "\">=\"  Greater than or equal to \tx >= y \t\n",
    "\"<=\"  Less than or equal to \tx <= y"
   ]
  },
  {
   "cell_type": "code",
   "execution_count": null,
   "metadata": {},
   "outputs": [],
   "source": [
    "x = 10\n",
    "y = 5\n",
    "print(x==y)\n",
    "\n",
    "print(x!=y)\n",
    "\n",
    "print(x>y)\n",
    "\n",
    "print(x<y)\n",
    "\n",
    "print(x<=y)\n",
    "\n",
    "print(x>=y)\n",
    "\n",
    "print(10>=10)\n",
    "print(10!=10)"
   ]
  },
  {
   "cell_type": "markdown",
   "metadata": {},
   "source": [
    "#### Logical Operators \n",
    "\n",
    "- It is used to combine to two conditional statements\n",
    "\n",
    "\n",
    "- and  \tReturns True if both statements are true \tx < 5 and  x < 10 \t\n",
    "- or \tReturns True if one of the statements is true \tx < 5 or x < 4 \t\n",
    "- not \tReverse the result, returns False if the result is true \tnot(x < 5 and x < 10)"
   ]
  },
  {
   "cell_type": "code",
   "execution_count": null,
   "metadata": {},
   "outputs": [],
   "source": []
  },
  {
   "cell_type": "code",
   "execution_count": null,
   "metadata": {},
   "outputs": [],
   "source": []
  },
  {
   "cell_type": "code",
   "execution_count": null,
   "metadata": {},
   "outputs": [],
   "source": [
    "name = \"fury\"\n",
    "passwd = 1234\n",
    "print(type(name),type(['fury'] ))\n",
    "\n",
    "\n",
    "print(name == ['fury'] and passwd == 1234) #both\n",
    "\n",
    "print(name ==\"fur\" or passwd == 1234) #atleast \n",
    "\n",
    "print(not (name ==\"fury\" and passwd==1234))"
   ]
  },
  {
   "cell_type": "code",
   "execution_count": null,
   "metadata": {},
   "outputs": [],
   "source": [
    "name = input(\"Enter the name \")\n",
    "if (name == \"fury\"):\n",
    "    print(\"It is correct\")\n",
    "else:\n",
    "    print(\"it is wrong value\")"
   ]
  },
  {
   "cell_type": "code",
   "execution_count": null,
   "metadata": {},
   "outputs": [],
   "source": [
    "#login application \n",
    "\n",
    "database = {\"username\":\"divya\",\"passwd\":\"divya123\"}\n",
    "\n",
    "username = input(\"Enter the username: \")\n",
    "\n",
    "passwd = input(\"Enter the passsword: \")\n",
    "\n",
    "if username != database[\"username\"]:\n",
    "    print(\"Invalid username\")\n",
    "if passwd != database[\"passwd\"]:\n",
    "    print(\"Invalid passwd\")\n",
    "    \n",
    "if username == database[\"username\"] and passwd == database[\"passwd\"]:\n",
    "    print(\"Login Success\")\n",
    "\n",
    "else:\n",
    "    print(\"Invalid Creds\")"
   ]
  },
  {
   "cell_type": "code",
   "execution_count": null,
   "metadata": {},
   "outputs": [],
   "source": [
    "a = 10\n",
    "b = 300\n",
    "\n",
    "if a>=10 and not b<100:\n",
    "    print(True)\n",
    "    a+=10\n",
    "    b-=5\n",
    "    if a>=15 or b>40:\n",
    "        print(a,b)\n",
    "    else:\n",
    "        print(b)\n",
    "else:\n",
    "    if a==10 or b>10:\n",
    "        a+=10\n",
    "        b+=30\n",
    "        if (a+b) >50:\n",
    "            print(a,b)\n",
    "        else:\n",
    "            print(b)\n",
    "    print(False)"
   ]
  },
  {
   "cell_type": "markdown",
   "metadata": {},
   "source": [
    "#### identity operators\n",
    "\n",
    "Identity operators are used to compare the objects, not if they are equal, but if they are actually the same object, with the same memory location.\n",
    "\n",
    "- (is  \t     )     Returns True if both variables are the same object \tx is y \t\n",
    "- (is not \t )       Returns True if both variables are not the same object \tx is not y"
   ]
  },
  {
   "cell_type": "code",
   "execution_count": null,
   "metadata": {},
   "outputs": [],
   "source": [
    "a=20\n",
    "b=30\n",
    "c=20\n",
    "print(a==b)\n",
    "print(a is b)\n",
    "print(a is c)\n",
    "print(a is not b)"
   ]
  },
  {
   "cell_type": "code",
   "execution_count": null,
   "metadata": {},
   "outputs": [],
   "source": [
    "a = 10\n",
    "\n",
    "print(type(a))\n",
    "print(id(a))\n",
    "\n",
    "\n",
    "b = 11\n",
    "\n",
    "print(id(b))\n",
    "\n",
    "\n",
    "print(a is b)\n",
    "\n",
    "print(a is not b)"
   ]
  },
  {
   "cell_type": "code",
   "execution_count": null,
   "metadata": {},
   "outputs": [],
   "source": [
    "a = 10\n",
    "\n",
    "print(id(a))\n",
    "\n",
    "\n",
    "b = 10\n",
    "\n",
    "print(id(b))\n",
    "\n",
    "#both refer to the same object memory location\n",
    "\n",
    "print(a is b)\n",
    "print(a is not b)\n",
    "\n",
    "x= 100\n",
    "\n",
    "y=200\n",
    "print( x is y)\n",
    "print(id(x),id(y))\n",
    "print(x is not y)"
   ]
  },
  {
   "cell_type": "code",
   "execution_count": null,
   "metadata": {},
   "outputs": [],
   "source": [
    "a=[10]\n",
    "b=[10]\n",
    "print(id(a),id(b))\n",
    "print(a is b) #address\n",
    "print(a==b) #values\n",
    "c=a #alias\n",
    "print(c is a)\n",
    "\n",
    "#NOTE : for sequence , even if you have same data type , it will not point to same memory location because methods functionality.\n"
   ]
  },
  {
   "cell_type": "code",
   "execution_count": null,
   "metadata": {},
   "outputs": [],
   "source": [
    "d = a.copy()\n",
    "print(id(a) , id(d))\n",
    "print(d is a)\n"
   ]
  },
  {
   "cell_type": "code",
   "execution_count": null,
   "metadata": {},
   "outputs": [],
   "source": [
    "a=[10]\n",
    "b=[10]\n",
    "print(id(a[0]),id(b[0]))\n",
    "print(a[0] is b[0])"
   ]
  },
  {
   "cell_type": "markdown",
   "metadata": {},
   "source": [
    "### Negative modules\n",
    "\n",
    "Python’s modulo operator (%) always return a number having the same sign as the denominator. What happens behind the scene is that Python applies the distribute law of Modulo operator which is – \n",
    "\n",
    "(a+b)mod n = [(a mod n)+(b mod n)]mod n\n",
    "\n"
   ]
  },
  {
   "cell_type": "code",
   "execution_count": null,
   "metadata": {},
   "outputs": [],
   "source": [
    "10%3"
   ]
  },
  {
   "cell_type": "code",
   "execution_count": null,
   "metadata": {},
   "outputs": [],
   "source": [
    "10%-3 "
   ]
  },
  {
   "cell_type": "code",
   "execution_count": null,
   "metadata": {},
   "outputs": [],
   "source": [
    "10%-3 #remainder\n",
    "-3*-4-2"
   ]
  },
  {
   "cell_type": "code",
   "execution_count": null,
   "metadata": {},
   "outputs": [],
   "source": [
    "print(-5%4)\n",
    "\n",
    "#-5%4 = (-2*4 + 3) % 4 = 3\n",
    "# -3 % 7 = ( -1*7 + 4 ) % 7 = 4 \n",
    "# -5 % 2 = (-3*2 + 1) % 2 = 1"
   ]
  },
  {
   "cell_type": "code",
   "execution_count": null,
   "metadata": {},
   "outputs": [],
   "source": []
  },
  {
   "cell_type": "markdown",
   "metadata": {},
   "source": [
    "#### Member ship operator \n",
    "\n",
    "Membership operators are used to test if a sequence is presented in an object:\n",
    "\n",
    "(in  )\tReturns True if a sequence with the specified value is present in the object \tx in y \t\n",
    "(not in) \tReturns True if a sequence with the specified value is not present in the object \tx not in y"
   ]
  },
  {
   "cell_type": "code",
   "execution_count": null,
   "metadata": {},
   "outputs": [],
   "source": [
    "array = [1,2,3,4,5]\n",
    "\n",
    "print( 1 in array)\n",
    "print(10 in array)\n",
    "print(2 not in array)\n",
    "\n",
    "\n",
    "print(8 not in array)\n",
    "\n",
    "print(\"cpp\" in \"python hub\")\n",
    "print(\"cpp\" in \"cpp programming\")\n",
    "print(8 not in list(range(1,4))) #[1,2,3]"
   ]
  },
  {
   "cell_type": "code",
   "execution_count": null,
   "metadata": {},
   "outputs": [],
   "source": [
    "for data in range(1,10,2):\n",
    "    print(data , end = \"  \")\n",
    "    print(\"Ganesh\" , end = \" \")"
   ]
  },
  {
   "cell_type": "code",
   "execution_count": null,
   "metadata": {},
   "outputs": [],
   "source": [
    "for data in range(1,10,2):\n",
    "    print(data)"
   ]
  },
  {
   "cell_type": "code",
   "execution_count": null,
   "metadata": {},
   "outputs": [],
   "source": []
  },
  {
   "cell_type": "markdown",
   "metadata": {},
   "source": [
    "# Bitwise \n",
    "\n",
    "Bitwise operator is used to compare the Binary bits \n",
    "\n",
    "Operator \tName \tDescription\n",
    "\n",
    "(& ) \tAND \tSets each bit to 1 if both bits are 1\n",
    "\n",
    "(|) \tOR \tSets each bit to 1 if one of two bits is 1\n",
    "\n",
    " (^)\tXOR \tSets each bit to 1 if both bits are different , otherwise 0\n",
    " \n",
    "(~ ) \tNOT \tInverts all the bits (only for not operand)\n",
    "\n",
    "A  B     AND  OR  NOT XOR\n",
    "0 0     0    0     1    0\n",
    "0 1     0    1     1    1\n",
    "1 0     0    1     0    1\n",
    "1 1     1    1     0    0"
   ]
  },
  {
   "cell_type": "code",
   "execution_count": null,
   "metadata": {},
   "outputs": [],
   "source": [
    "#representing\n",
    "# 32 vs 64\n",
    "# 1e64\n",
    "# 8 bit \n",
    "\n",
    "7   |6  | 5 |4 | 3 | 2 | 1 |0 #2 powers locations 00000110\n",
    "\n",
    "128 |64 |32 |16| 8 | 4 |2  |1    min =0 max = 255\n",
    "\n"
   ]
  },
  {
   "cell_type": "code",
   "execution_count": null,
   "metadata": {},
   "outputs": [],
   "source": [
    "print(bin(20))\n",
    "print(bin(37))\n",
    "print(bin(57))\n",
    "print(bin(222))"
   ]
  },
  {
   "cell_type": "code",
   "execution_count": null,
   "metadata": {},
   "outputs": [],
   "source": [
    "a = 3\n",
    "b = 4\n",
    "\n",
    "# 3 - 0 1  1\n",
    "# 4 - 1 0  0\n",
    "# -----------------\n",
    "#     0  0   0\n",
    "# \n",
    "###### AND 000\n",
    "\n",
    "###### OR 111\n",
    "\n",
    "###### EXOR 111\n",
    "\n",
    "#####NOT 100\n",
    "\n",
    "print(a & b)\n",
    "\n",
    "#0 is -ve\n",
    "#1 +ve"
   ]
  },
  {
   "cell_type": "code",
   "execution_count": null,
   "metadata": {},
   "outputs": [],
   "source": [
    "print(a | b)"
   ]
  },
  {
   "cell_type": "code",
   "execution_count": null,
   "metadata": {},
   "outputs": [],
   "source": [
    "print(a ^ b)"
   ]
  },
  {
   "cell_type": "code",
   "execution_count": null,
   "metadata": {},
   "outputs": [],
   "source": [
    "a = 3 #011\n",
    "print(bin(a))\n",
    "    \n",
    "print(~a) #a=3 #100\n",
    "\n",
    "# 3 011\n",
    "#\n",
    "# invert\n",
    "# - (011+1) #doing the 1's compliment\n",
    "#- 100 = -4\n"
   ]
  },
  {
   "cell_type": "code",
   "execution_count": null,
   "metadata": {},
   "outputs": [],
   "source": [
    "a = 10 #= 1010 (Binary)\n",
    "\n",
    "# ~a = ~1010\n",
    "#    = -(1010 + 1)\n",
    "#    = -(1011)\n",
    "#    = -11 (Decimal)\n",
    "print(~a)"
   ]
  },
  {
   "cell_type": "code",
   "execution_count": null,
   "metadata": {},
   "outputs": [],
   "source": [
    "a = 15\n",
    "print(bin(15))\n",
    "\n",
    "print(~a)"
   ]
  },
  {
   "cell_type": "code",
   "execution_count": null,
   "metadata": {},
   "outputs": [],
   "source": [
    "print(~-10)"
   ]
  },
  {
   "cell_type": "code",
   "execution_count": null,
   "metadata": {},
   "outputs": [],
   "source": [
    "print(bin(10))\n",
    "\n",
    "# -(-1010+1)"
   ]
  },
  {
   "cell_type": "code",
   "execution_count": null,
   "metadata": {},
   "outputs": [],
   "source": [
    "print(bin(-10))"
   ]
  },
  {
   "cell_type": "code",
   "execution_count": null,
   "metadata": {},
   "outputs": [],
   "source": [
    "bin(3)"
   ]
  },
  {
   "cell_type": "code",
   "execution_count": null,
   "metadata": {},
   "outputs": [],
   "source": [
    "bin(4)"
   ]
  },
  {
   "cell_type": "code",
   "execution_count": null,
   "metadata": {},
   "outputs": [],
   "source": [
    "print('''Python \n",
    "Programming ''')"
   ]
  },
  {
   "cell_type": "code",
   "execution_count": null,
   "metadata": {},
   "outputs": [],
   "source": [
    "print(10//2)"
   ]
  },
  {
   "cell_type": "code",
   "execution_count": null,
   "metadata": {},
   "outputs": [],
   "source": [
    "# Right Shift \n",
    "\n",
    "# Bitwise right shift: Shifts the bits of the number to the right and fills 0 on voids left as a result. \n",
    "# Similar effect as of dividing the number with some power of two.\n",
    "# n//2^bits\n",
    "\n",
    "a = 10\n",
    "print(a>>1)\n",
    "\n",
    "#00001010 =>10\n",
    "# after shifting 2bits to the Right\n",
    "\n",
    "#00000010 =>2\n",
    "\n",
    "# 00000010\n"
   ]
  },
  {
   "cell_type": "code",
   "execution_count": null,
   "metadata": {},
   "outputs": [],
   "source": [
    "10 // 2**1\n",
    "\n",
    "# n//2^bits"
   ]
  },
  {
   "cell_type": "code",
   "execution_count": null,
   "metadata": {},
   "outputs": [],
   "source": [
    "#left shift\n",
    "\n",
    "# Bitwise left shift: Shifts the bits of the number to the left and fills 0 on voids right as a result. \n",
    "# Similar effect as of multiplying the number with some power of two.\n",
    "\n",
    "# n*2^bits\n",
    "# 10*2**2\n",
    "\n",
    "a = 10\n",
    "print(a<<2)\n",
    "\n",
    "# 8bit\n",
    "#00001010 =>10\n",
    "#00010100\n",
    "\n",
    "# after shifting 1 bit to the left\n",
    "\n",
    "#00010100 =>20"
   ]
  },
  {
   "cell_type": "code",
   "execution_count": null,
   "metadata": {},
   "outputs": [],
   "source": [
    "# n*2^bits\n",
    "10*(2^1)"
   ]
  },
  {
   "cell_type": "code",
   "execution_count": null,
   "metadata": {},
   "outputs": [],
   "source": [
    "bin(10)"
   ]
  },
  {
   "cell_type": "code",
   "execution_count": null,
   "metadata": {},
   "outputs": [],
   "source": [
    "x = 0b10100\n",
    "print(x)"
   ]
  },
  {
   "cell_type": "code",
   "execution_count": null,
   "metadata": {},
   "outputs": [],
   "source": [
    "10*2**1"
   ]
  },
  {
   "cell_type": "code",
   "execution_count": null,
   "metadata": {},
   "outputs": [],
   "source": [
    "2**4"
   ]
  },
  {
   "cell_type": "markdown",
   "metadata": {},
   "source": [
    "### Operator Precedence\n",
    "\n",
    "- When dealing with operators in Python we have to know about the concept of Python operator precedence and associativity \n",
    "- as these determine the priorities of the operator otherwise, we’ll see unexpected outputs.\n",
    "\n",
    "#### Operator Precedence:\n",
    "This is used in an expression with more than one operator with different precedence to determine which operation to perform first"
   ]
  },
  {
   "cell_type": "markdown",
   "metadata": {},
   "source": [
    "<img src = \"data:image/png;base64,iVBORw0KGgoAAAANSUhEUgAAAOgAAADZCAMAAAAdUYxCAAACRlBMVEX///+Tk5MfTnjo6Ojr6+u4uLjJycnZ2dmmpqa1tbX39/ebm5ujo6OWoa8LRnT6+vpKVGAYTHn///f///v6///1//////FeXl6enp7///Xw//8eTHUUMUz///Ds9v///+z//+TSsZCt2OUAPYPh9f/i///T9P/+9/H/8N2Ki4zj7fmmyvGz2PPh+P///97Xr5EAQXMaTn99nakAUIfz7OF4kKLk/PDe0cjbxrXp7OXw586yy+nV6f+64v+MfIDawKiRlabC1eV0dHSOcG2Vs9vjyqSxo6KmjnJxg7L/6czIsYP/37vu4NdydoCBgYG+wLO7loRiZpNOITWr2P2BnMeRgY6EjZZ5cn8AJkVmj6+grb1VjL/g59AqPW+CwOE1YYs/dZxjf51DU3F/pLfP8e53qM9pcIVcdJmgk50+T3JWn9FLX5ZkW31RZn9OdKpKeJoAbK6vvs9PVocjI2TIr6LIz9oAQ41mrNajg3sZZJxglMWRmbh9fpiOttFneYxYc4kuNDxgOC/Fomfi2KfDmnCFY1NgXGq7lHtIcXmge1qDZV2dlYWHqN2Vj27G2dSkeT348L6meWypi1dyUllROzQ7LDDNvoWbwPHUz7l7T0hBNmuPZUyQeG1QJlJLPF1sUmR4QQC6inm2tZhLACCVx9mNbkxyIQD/06vOtrJvSzBOMytZOU9lRUqYu7yhpYtoV05pQhN7f2wLAByNWS+Fe0mVVw+OeV/CiGdRP0pZkanBlVMAAF87ADHgrIeQUEHK9t9FAABpOTeQgHMlAAAfZElEQVR4nO19jUMa17bvpnyKEhIGTKQVhCPfKjk5IAgIjDAogsZUhAfNqSUKem41veTCK41gehuUo7Q2Jr2JrTa5ybVX0zbJOa/vJe17L6fv/Wdv71ETEzVhRsT6ml+iwjCz1vyYmb3XXmvttQFbUG3UVl0jUgoEp49VGf+l2gpJpUBw7K2yAQ/Ysan8ozfx9ju01Z04valz53m8Du9QIXo6Ghs/feLEMXQKb7194tjbx0788cyf0ZsTJ06ULaVsoqd/iQnehupOvAVVkv/fO//nE6TO963HSK3HylZLhejp963DuO+DuODC6ajgwnD8zHAs+Z5k/A8jgr98EA+XrbJson8YHUpYjn0QSx6LjsM/k/EzY+E/To8gnR+Ekdbh+EiyXLUUiL79J73z9D9Z37d+bL1sec9y2TRpHuv4sH3i/XTCmghOHgTRyJ/0uY7hhYvajz7sGItKa987f7EjzjzXPvGxK3E2AU8hdP7PZQqjSvRj6/sD/xw0BFPshPV0PtNxqf1fOj3/HEykT5cphSrRkCmVmbR3vBc89l87LkCi5//gyLX/y8fpwSzUuvQJ9y9lCqNy6x5LWKK48/2gIX15KX7lsvVP+qn2S+qhhDXvS6TLf9IpEK3Lr3/Snpv+xO3IdUxFSaIdU+f/rB762PVPljz78tInzIMg+taxuHny9Pvr8b+cjpunhyePfRS/8vYH5tNR8+nhybKFlE/0jx+Zp98+9oEZapg+Nmx+K/7W8JWL5+OTcNPwJDyFY8NX3oq/XaYwRPRE2YBN3emE7zT5ArZ48A9q+I5RkIDwDgV15O8tPfDXxbOn0aYTW7rLVwrqjlcbn1ZdI1IKWKDa4FVdI0QdYFZbpbCu2hoRaukS1eI2nN6RkKiQL96xGavZuQ2YMrsJEG6+aGBLytZKm6iiRZujdyQk+q+8iAqg0xWCzZMmQqKIjNzw7AfxUdifHfVcgAXf2jLgKFsrbaIevcjZTOtISDQJPlP6SqGrP6eW3B514aOZluJk87J5VuYKe9TFM7g/mVUqzqTEIOvw930Xvf7XBU/dbHtEWhydM88ri3Z4xCBh/t5OeMvWSpeoPCmDZ0HrUEj0fu2E2FqKX/284bszX0QVnYFEwIvlJMaFGcEXid647Evzw2Ei6QCNzmYib7Rf77z2C+htGZIaR7Ot10JGewEeURhdbA5Ola2VLtHGyH6IzgIQiGunr34uWlEBgE47EMLgBVtwwreg7cOCGv4RzcoaINFkDFzvbBsGc+qIeGZ0sQUxR0cUGTiwhsrWSvvWXdTLybOiDki0Bv5Jn0qdt4N6hg63NmtxOQNnS+ALRlif1jmwrA536eCjOIBb+2tHlhxgSZcCtiG2tFsgEFv0VocWH6h1tvSulq21lm4/SuT95d83L4JCP+r3utxnt1+2bOuzVzUl3CkrW9IpwKmpNrrYFHZm8+r22L2OR0EOuwtwWVUGs7baGhEYbyyj3SDi6Hfdv4GKkDKJcgFX+Pq9ygY1ooqYrC2+2wcUWgVEdIYR275lHAR3mpM3xPN6Cqf2OlAiavvKLDYaQHqlhehPufqnuSWBdOOT3pbypUCiEwC47NqYjeHMN5QYsX/LW+1yp1MJ36eglr4pG8MMiXoOjWjDkBh23hiXiN78XB6uz12Nbl1IV/m2GGkZMVLELf+ULVSfIxIYKwKM3oJSnluC78UN8ypWkDmjOkyiJmjGX+/0T7uiN281nQwrga1fzwLoH0Wi0DJSIKJe+RCRB/w78PiiujG3BN+LGzxS4RPl14dKlEgAYDTUdzGmbhoasqfgrZfruFT/DXab6q0bgcO8SClq89aPy50lx1ze5W2LOHGbt3FcDIikIH3mjsojzh4WUWwA0vFHN94Ec9g2W3e+dY9jdsGhdS/8MiG0xiTwN0dIvsPWT+HY1keNmXKFIJwSUtm7MoBE2bwqo66r2hoRTv5enGOn3piAL2I5r9nyU30tfbZVw950aC2qN7f4v1KD1wASddU2u0Kk4+uZhINGGUSDjsYUtPE0GQ3HBwf1vIjUVIfXZzAOP4NlGtC2JZ6n1eRLYRyxRdL9eqK8a5/UZ6wh+M2djck2JFh5sUoatrugDKLy5IoDEg32+C+wkm1jTd9is+JudbE/r4mZJppuN9+Rj8lvSJ0yRYuifwqUQbQOLI9IXCF/iEiYOFCC7E5bPFC+U4QeyiDa8O8JZLUHc7ZQAzJkFtuOn2I4/D9DRpBoD/Bci4K750/WMvCmrzrLIwr8cSsk+lQJNEkkoe1C1v66w/aJ1xOtXxmdkCKiY/5QQ6RpNv2O2MnJaJxLcVOyAxH9umH27HGVj83hZxeS5RDl+afSCUi0J5A8m0ES5uWRukpaQbvh9URFesASgxloHWB82BdpmHz4wxRCC1fIwuC/zW0iJpPPAnzto3KuKJMp1vCFfNDBBCwole+a0swecKNUrnNMU2Z3KyqjEd/ZjzaO1x70rXsKsBnVBnycX0Zt7c5tFUXtG8vo4PDbtoyew5qTsjYbDuuWp0fbTyE6AYlqmKQE2/YHU0jeWrBp0vApnlFZoEYUNpBw5A3WJUIWH2AsYwtgwZYWaMTUBt5NF+55MSEmJEJ8MeCzxBqWmM8yZTAhSxxMii16JBXjsyraDlMiqolYpiWQ6B3s/sisrFvwqMXlziqfrs63UiMq/0GNXCk52/G6aVuYLZ+99+A/HiyFiL/6zEuzuNFO5LKriivZPHU6e4PaFX16GvlSwB1RDhQXwmIjjqJ+4D8NVF0ppu48cUs7ZfOClYWu/FoCNH0IrCHiFubU58CAfVnVeE5hoB3b2RWUiPrDK+pNopLiglM6p8xC84AIX6BGlKd1NI25vMSYbazBKQXdCxfrlz4ErhARr490REDRXmwJhHoN/l09yHRBhaiILQ3iiCgby4gtMtv4gr7Bx8DXJVaKty7wMVoxX03GdHZc7WfEgDXcngImnDCPt2LWVBBKdcMxk2a3/AXaoB42DLp3ZkjIa6lE+ffqR4lbFE+FCqBlVEcNPN5uGykIOHVyj713lVwh8E4CprDK4J8C1VYpFNIP7dPHUbGMtkHDpXPUDqLBPUJxlkq2RnSIugxkmLCBvbTl/4hQORwR/ZsB+GMgjUbbFn2hc+MD7Ysdp3ZauvNg2iif6IADWnzAGF7B70/f+zTl0rF5RF/JHrC3TRHvpKy6vnJDpJBoIBwHxeOp++alLsFZvGBe6SQG/bGB43arc6gVtN0wtzudaiN8qxtq7+7HBxgCbCU8LU73e5fQDgdLVPsVNMlsY+An1aIUGi0zDu1U0d520WhYSwQSjT8vRCgQnVMttkIZA46rPdAQKgy2XUSGkHZKNI/3JsC1D8H1/NKYdqr+UaY3393pH+beV02IF89PAxO5w8ESVZxs0ejXEtpvRJdA7y15n4RYXVER+TnVl4O9hsAVbtkxb2Fd/bu133k3iF6GhlDB0NajMASi2qkGzwKUA4nOKbl6/5S8K8MVPXYEPuJyG86Bu+enxdquhfIV0SNKeLVTxKo2UhsC87grbhOA9EK/zgwU4X6VK46VGGXnegp5AS9oymm77IR5yQvSuEvnVDdFSnn5in1Jx9CDth6gHWLgWmgy6cIdJQfmY7ihdT2gSvenyB0OlGjlIDwkDwOXWW0wWFVXyWTpAIddZdR0VVsjQtcb59iB4UiZgNj6SqpjXEcrq54cjwr2lJzZTCVfF5tSdMTvAbpE049iHSuzNInCThFYm216S41AXO9ziy3scCtIu1Um9rja9Skcect1qeD3U8wMSIfV9ZxxmrMUXgDt7oUjBiZ6JyCsE/1Qi/tPJsUznYrVrCOQKCTWEgpDW25pzJRryAGj3QKWVVmxNUTk653nJyR36J3iCziUYRq6ouDLBHBKr015pG09ZIr8mdoUSqgiiRrP/KjyiK1TT5UguxACngpY94dCVHS7JmVcXVTPmT1qRS6LFwYDIVuuBic+l0caZnCj4cmDd1VzI9Ye26zPDe2kI0sUkJk/mMjp4AP4GggBJkTbMDQNRsgXAsASIp892ggwIahE1J92Tv0+8KwfpTARad841LDhAYcKt+NN2PAAcaQsI40eo30nQKJcOHpmilmbjYxp5whTQ290/QrQJFqqPZvni+mdDuxevrVMSNb5iymWUMMX6YO4iKsHQa4YNsFMphh+DcAYrTRTmkSZGEeqiNGbnIb60Y5ZsYc5k1K0PP04kDAaCg/0Nnd6BGBzIysOl2BgtRCvdDrOPvpR7fcUIkvbgIhyVtQe2YDeZvbVpR1GAzHt+MxcmpZg2da1lEfadHGNQup6eaBPtDH7kJ4/DhL9Rny9c15WxBuW84VhYPQKm8657EJoJGSbn64WcSKxFq102hF9ojaHiEPrbGBjtM5LwVGBLSazNGtxENRbeXq4LQMAVxLU1/tioN5Hb8rm3jhUy6ia+I0kVB043lhGB4gjZRntB0eFqGi/UUtyblrf1lja4jDage8V4zVNbqvwwr5AnWj9ORAIrY1s9iwKw1OqeU/k3LTPBtO6iGpAh6czy5P6SCBRn+xwOkm3X3F6vlMbcSr94Ucpa/+U69OUy35DrIAHhPfhaaBMNFh6xy35KU7yDLL1or9Rthog0R85Eds0IFKlFBiwE3bwQ/25QKg3ujSLmBQ71xLXR+6NKdR31cGzEWkOQBux0yM/znm8j6Re6le08UMQ+HsU9u18oOFKFH+nQ/QOU9aURPVBiM+LdqMB/ACKXWpFnsUScjeIFpQsfm84Jnd2RNrRpMu2R6GmJHM/2YHUiWIsuVvsawbkpEf/FBiiqh0SHYd/XDqBpqRzpB3+PscQ8MehNcRI2eIApB0Bu9zJwNOMcfjjlnTnrXYw1wmsDPc+hjT0q9/QdqO/Kmxo3Wb5ZTPpCpr2p+Dor9rQlbebpS5WQaX9gFN19FdfJVRafRPwsCLelJ/RzUzwjVgXbAg1FFujFywj/nPn9CszzDEa+ecvHEK5MWrwdW00Q2TxqMCQGTgpduOQaNYBtGGyCb1rDzqAj/yq5vXrWzmivh2FGQLRjS92nczBeqWlpKl5eQokAnWi2ZOkRhFZY8KYGi++durSSxDWie5HgeLkKKrrM5BZvqLnYWcZMeCRrctsOjv8b/23WBDHfOFWbc1GCFar604Ecfix3aK36nCLQ5QdUtlqdKiNxqy1ONwGRTzwxcTwaE2qvgbaWC5GV6uNEcPStTgtoihSi7AxPbDBd8/NoOgMQNE0T/tQdnSo1dgy0AJN3dvYt9KC2iPzcLtUXC6Yl0aAy6toaUoujWnIwmZz6rWEK/TZYKEly11RAaN9rrMtToT86EPRdy3aMbCs+lbyD8eTUa480jHRdFt8o2kM3GiPSBTKmY0EPNr9aHHj9pG7FaNj1IkSQ97i6JB0i6joHLg56JFluRExKNbdkaLCDE/U2BBZmAEesqwKQKJaXViSdci/8Brty6r6MZfBb0ZEHzsCkzye9BzISp4sZE8l27dNgeTVta800yfqCgE5HH4s4gDLtj79K8VuHRK9JP9vqrtqhfNRS9FOTOpvY/fNScm8zKPv7hN0n/lW9VPeGPJPOFMojiiaAODm2H8PQaX/4zKyIkpeo+HqhAfvveWPm8YQ0XpnnbvhHLz3nyhXGBcg0Yvga8l86bhqgCFoX3HQJwrvHiIEtG56pucu49H6c3vvrniVJV8sewD323COYZVMy9gdvxHn2IG7y944xw4QR8VntG8gohZkbaDWrGFcwgXc3SKHZEo7wLadnkYPaCbrAtpEXftwakCiTX/zAoxrzYGgJSJhm37GocVn4Ug0TA5JRMPRm2QaPeHlyKyzehNXH+RIMA7XldRbZCJOBpi4HMrZD/SIBrtD9G8ESNSojIiJqd4xW27pkmhC87Pe6CXcVvPSJJucjzan1Pca/FHiytmwJdkxN3I+pUj05s+mc7KsvpQaWC1EiwaqWmkTRTNBrLSSASHRn/DvOp+otW6FUjQkmQDI4nsyKnpmCAX67b2D/inilsjJzIFuh6j0RWJRhfw2Wa5T0hZCVU2paqV56xIG4KMbqhXy/MMcRZTIK8auRom/QMvn62Z4RUes7iVkCLnh2M/2IRHqhVfU4jZFpHOOtV+IaG+es5STZPXduMJe6FyrFlFA2oD0IOTBpgfLYBwOEz6YTIwLghm4hZOSaPQirm0ENlVsPXwk9RouW4pZ8KAMWBb08NnELPqgrJGdAUH4AFPVStsyoq7qGV7Zj5oOKMnqN2IZHTjeWEYHiN+VZfQKWDYe/nSFBzR0iGrxDRsOldHSUu9JhXWi/ygNg3XpwGZ79qKvqxsOlIN4IAqyFc2pok5U64wBq5M8N9tKDLgoGw2Q6CVwQ+rhfm0ewJ8mrl02GoxnUtqIcxWIusN44cqjTqO3cKHmK7O1P1axNpg60bt5oO3a9IdpPUpgjVB2d2LvMvqkKKHKn0gLFC1GQ29U9pn53qS0oTsmHnCs5Y1efwJeUSJeuSQcGrduMOzA0lOsDMDuCaTaEuVnCSVUgf856JHddchn8sUrEqMXtJ0rKklX9tVQkSQKb93FZlSnnqr0vUDnGUVec6FrhPxL1U0PNhzYDIHYJ3OZZWllwAusuEtnF/kYKaAphfXWZj9utWtTwCWw6mKvF1cmaFtG67SbisOKvRxCYKv6KlE0rYIxyDJRZny0suj//UyUpUkUY9L9ho6YCagYWVTSOxL2ox5GDFpGW+3Zdsso7QXYYwcYx7L7Ss3YCdpEiViJarxwE2Q/ekPqC943r+utyjavFffrUphvCMprXOmTaB5NghvYBFiLVzI5mTZR1/erVrqzDbF3S2NgHlpGRL6YIOxGw5edoJC3JSUALeYiyikMHmxC3Jis5CWlS7QtKXl8nO5SRdDWRZbRgB7azQM6ldGL3espnGFnxGBu+vF7ohx2pw9e0bbpSjob6BLFuvt0JXppQJDou4zZVo+sEJfMvf/0IjAaXKWQLQItI20SPqHqJAj8L+xHHZUSfK/Hb288ekD4bYQNq4A3zrEDxNGyjOjjiFlGdOfsb0zwqcEBR7JVgiv4zBeu4SInlKUmBUzsmkrWp9oHUaz7Cs0zQZZRwx0pp2MmxpWZmhszQYeGnQEWthQKtXc7iMv8gqHX66poRct9WEYhgmYRUTQJ7+wEmNdnccXq00QgbzQ8UfJdXptZDLT3E+CxCrRdVEQr7O+kTVQjoTtVFhFlznWSlpG7pq6kNhr8/faCudYtAdpHU+CxGhH1LtI0pffA4dRh+Jb7nWNeVkyJlvNPPwFGb/B8jyvG1YOGFXXR7jJzu1tQttTh1detDNDUZ3JZMlNGTAYATbIgRwYscJuGiaJ0QQ7ahlX2xN5YRgeIN5bRQYK+ZUS7gMlRs4wUNF1GG6s+b/+ihNu+M/TJCxsqhUMhKvrfvAtgXbpV3WBb/nzgCm8WDsjn6dUDeBUOh+glcEPi4c6YB1qefvwsbJjNg3pnMwjkC51rlV/m5lCIYu/WdrWSYcOptEDRaTTcHGv+zPxwUirvl4JrPYXp2zRFvwKHc0VR2HBedtfRuJwvfCQ2eoH8UhHdrdhcCyisFgap50u9FofTGGWRA1tmc8usar8dWBwobO7TQSteVIKvrA55ZUcuCPQtI9pED6sfpVu7s6aG7oGHVLvzd1ON9U3Y8KCwXxOQ+UJIhrlj1Lp7Oalnre7OiqCaGGzvfVtynn3+0jzAraTzreW1nn1vmq1XL+eBklXNh3aN22jKcZ90bw9VYNnm7XFHNF/xeb0EbQpucL00k8kU0zJ05C6uM068PutcSH+aAphbxNCNkPxi2o01nq12K+wIsFI4LLU5h9qXJ8kpf5aNGtjBUsrE5ZLMsCXBBkPNwweyrY0bROUTYo3MqnNL06fCvP5mV51TrWWYG7LhhZgJKknrYlhJZwZpMlfLdIrxYHwEuBgCLF0b5oVbi2anutE5pCZ0qbRO3W0Ot1pxKILk45O5wistWueQCrJQF4/jPu79uA9vmnpONNhj68Ei6Pr13vKHFMr6SEcOnuRE/SUwIyU/JxKkrW30fgYvosjTXFxwqgKJNfKKFskvA7jCyFPA2eSk9Wy6fayRhWcbyWLfvwCAyhOsZtUFw1q+YGgbMzEXf73TGswFouJAFMyNTkgWz/eRh9jOYT+Cf7RfYM0pPapiy9PV4uC1aMF+deymV97nANlOo92ICqOTUwE9TKfUqJyzE5d7bwVC/imw4jA6AiHCu41ozh9qcEpgr9o7iIiS6eyI6DmwqIJDimAc2Pr0fEQULPWIRUNS44JT6g8ZDagn1qTder4QXlgdnmYwcD55ReFFRi9E92r1LgYjtTVBV1jXNgww/zQgVrPNxpa1VVSnvvhg/teILJgDtn7rCCioz4G7atMXBo0QoO8f/OPXSQ5HOiQdcECindd65h5w9DdvAdNDOxSBiA62nUPKPNw+iVH5GH5aGAxEURK+vugQrfSrthGdQms0YtDKVAz6p5oizlTjfB5okvU9YFF6QwY/9zNyrAm0VJGLMQUQUZyIDDUHJvU/kDeofmNaHwf9+gHeGWhdmiD6mrfyIrcWWkezJODdp9DlpL5mIw6JXvGojeHZX4dkpBLJCmMKVWvv8PU7sjiwhSDRZVWa4W5HRI3K4l+daluEgd80NPr6cV8z0QKJQhEuOBLI6hV9f8dtQwwcsdCexLN6Ylr29JMdJiCx63yWwNbjTew2fApshEm1gpe3wO9s2/7Pllja0epurSWxE1r3Xp/sIiK759oLRvuheAH5LxO17L803itFYCjnthZwq2ynsHZYRqz9n8GrRcBPD8UyOmI+I9o4WkTl9HNjjgTRtEARI41C0dD/z0St/fqN9HJElOVjhFFbBw0ETi2VfLYjQBQaorKGdBj1VxibD0fsiJ2FzebCl+UnPx0BopBqTRqOD26IgTwiQ+02tBI7UI/B3Dla2hNHgigJfxQV5EKvaAW9j05C1fMJAxpaOt+EDQ8Qb8KGB4ij0xhtgu7izJAoi/n84JfTm1mkZBZTrIGteeXyNWgQFaIVLVh8cBdHp0S9GBjKSjl7QYxEAPhTtAM+i3wl5KOpUf8nD+6AwtS9MVP6eIze8n67gUZJy+9jF0CW51mYEciAIl9YpaoShQ2xOxIoYjTtXlEO2IncwOpSzax02RzRA1OfRxpp+xCNpZv6KpiCTZ2o/BxYtEUBYRhwwO703ylXfiAzsGucFjMgYv1if8ho/9L88ANt7Q1UsUoJTLlAz9A12FP3GppoFwbYBfSItifFhZYiDrDiwyhllRthQyWqB+ZsJvJFOyrP9pNqeYsomDuB/dAqv9PalDxUog0psC6xMVLAJpDZ7GCdcntBrrIFD4c/TYwYsOgxHwM3MWJSjsSiRz41eQzIGYxWUE+vPPzu+D0lVPGqjLquamtEOAmY/GrjlLDqKvlvfEZlYtfKUq/BS0SD+/fqloN9El2jMSAV1mE3GOZnb4svBQcav3YA1x9BwEskSxVMTqFF1MbISUrhPqmr7zEtomQdBlSN3eocUg3YtU6nGonsDqOVowlGAhhn85CoFxQql0FGi6iJuzjqbEXRNCO9K/pubVKLyrc7pYGE0T6XJy5uisSBaKX1hsRon7ciolc/py5+D9Ai+kQ5M7oRNqRcjR9szTZMbRL1QqJKrmxTJA5sP9febzEaAl8hosVDvqIuXWR0XOpSu/pKNCa/kM9oTnpP55YsRdzStB1F+TZF4ijy5Q+57KDgJfoYNOdh7IbfUffCZVUZzNpqa0RgAE5NtdHFrrrKmjerPh8gjqQJSAdoPLqt2tPLlpFWx4AjVHoLSr8CdIlq4bDZUkdr+hjpYfhRiiSgJdIG7MDnlshr4RDcFxMD7ay06TbcYaZyfjESNInKk5KCcoZexi7yGT0cbkQSkCvFaC90XusJgrujX3cWcTKcc1397sMeWrL3Bk2ifjM8I5rlo0jL6DP2c+fY3JnalPHMpnPs6mUA5lSXtHFasvcG3QXLHwucW4XRqQJNB6mZVz+uc7Z2u53qop1w1+iLD36ERJ8qgWhO0B1q+AZ8uWfyET3QLjjB4tN11aNVn1kyUgL6EQoBC/4h5QlJyaSvHqvwJJ/fk3Os6iG8N2HDg8Qby2h3aNzPX9s2TJpXLde3KyDR7To3J/OkX2MgcPfptadKdAKYuGJNBxPjSogQUwZMTI/ERO0k0OogqLaETNjBFTNl2h4oRsNcbNWgIvSolBkLaMR8uJHFhKIlSCH8vy7RcFloVWhq/J6BMtFGXtGr+KX7im/EdrxmWp5c+qaBp6DkrUPrvYD6mnSImH54kpdr+jk1K42cvd1ek47CCxsbUCoezGL/mpr/9f+OnB8667aZObZpjuQO5mSvjC6PeGhWOaJ+RdNfRHsHA6Gm6fOfg1J6FXgk6RKlkBpJFKRL8SWvNifytPeA65xfwN1WV+mKRD4TLiVE/zlYfw7cVCYlvVdKfR39sfp+Abjjj0JjbLzVSNONRJkoWUrdEAhpp8+PdQydH7PdDvwSoEr0kjAQt8WXPtfm6j3tt5vnm85pf7ZN25ISUbZZCIhTF7Af1N3tSSkyfDFRdye43nlDHpEVR53NRsqB5w1QJIplQPpBJqg3ZTSZDguvGVhjXJBmU1qSlFz1GbfWZEx6TQbjiCw8HCwJFiRwixg0+Hh6jtjS3ufDMY4YWHkpbR36DzjABvdDq0JTI7iF36hlJHrFkj70AC2j2mrj5KnX78OrsM5TJ/8fHevOpz+vGiIAAAAASUVORK5CYII=\">"
   ]
  },
  {
   "cell_type": "code",
   "execution_count": 12,
   "metadata": {},
   "outputs": [
    {
     "data": {
      "text/plain": [
       "70.0"
      ]
     },
     "execution_count": 12,
     "metadata": {},
     "output_type": "execute_result"
    }
   ],
   "source": [
    "10+20*30/10"
   ]
  },
  {
   "cell_type": "code",
   "execution_count": null,
   "metadata": {},
   "outputs": [],
   "source": [
    "10 + (20 * 30) / 10"
   ]
  },
  {
   "cell_type": "code",
   "execution_count": 13,
   "metadata": {},
   "outputs": [
    {
     "data": {
      "text/plain": [
       "90.0"
      ]
     },
     "execution_count": 13,
     "metadata": {},
     "output_type": "execute_result"
    }
   ],
   "source": [
    "(10+20) * 30/10"
   ]
  },
  {
   "cell_type": "code",
   "execution_count": 19,
   "metadata": {},
   "outputs": [
    {
     "name": "stdout",
     "output_type": "stream",
     "text": [
      "0\n",
      "0\n",
      "99\n",
      "0\n",
      "1\n",
      "3.3333333333333335\n",
      "3\n"
     ]
    }
   ],
   "source": [
    "print(10000%2)\n",
    "print(0//1)\n",
    "print(99%100)\n",
    "print(10%10)\n",
    "print(10%3)\n",
    "print(10/3)\n",
    "print(10//3)"
   ]
  },
  {
   "cell_type": "code",
   "execution_count": 20,
   "metadata": {},
   "outputs": [],
   "source": [
    "a = 2+3*8/2-10**4%2//1"
   ]
  },
  {
   "cell_type": "code",
   "execution_count": 21,
   "metadata": {},
   "outputs": [
    {
     "name": "stdout",
     "output_type": "stream",
     "text": [
      "14.0\n"
     ]
    }
   ],
   "source": [
    "print(a)"
   ]
  },
  {
   "cell_type": "code",
   "execution_count": null,
   "metadata": {},
   "outputs": [],
   "source": [
    "# 10 + 20 * 30 is calculated as 10 + (20 * 30)\n",
    "# and not as (10 + 20) * 30 "
   ]
  },
  {
   "cell_type": "code",
   "execution_count": 23,
   "metadata": {},
   "outputs": [
    {
     "name": "stdout",
     "output_type": "stream",
     "text": [
      "Hello! Welcome.\n"
     ]
    }
   ],
   "source": [
    "name = \"Ak\"\n",
    "age = 0\n",
    "  \n",
    "if name == \"Ak\" or name == \"John\" and age >= 2 : \n",
    "  print(\"Hello! Welcome.\")\n",
    "else :\n",
    "  print(\"Good Bye!!\")"
   ]
  },
  {
   "cell_type": "code",
   "execution_count": 24,
   "metadata": {},
   "outputs": [
    {
     "name": "stdout",
     "output_type": "stream",
     "text": [
      "Good Bye!!\n"
     ]
    }
   ],
   "source": [
    "name = \"Ak\"\n",
    "age = 0\n",
    "  \n",
    "if ( name == \"Ak\" or name == \"John\" ) and age >= 2 :\n",
    "  print(\"Hello! Welcome.\")\n",
    "else :\n",
    "  print(\"Good Bye!!\")"
   ]
  },
  {
   "cell_type": "code",
   "execution_count": 25,
   "metadata": {},
   "outputs": [
    {
     "name": "stdout",
     "output_type": "stream",
     "text": [
      "Lunch being delivered\n"
     ]
    }
   ],
   "source": [
    "# Precedence of or & and\n",
    "meal = \"fruit\"\n",
    "\n",
    "money = 0\n",
    "\n",
    "if meal == \"fruit\" or meal == \"sandwich\" and money >= 2:\n",
    "    print(\"Lunch being delivered\")\n",
    "else:\n",
    "    print(\"Can't deliver lunch\")"
   ]
  },
  {
   "cell_type": "markdown",
   "metadata": {},
   "source": [
    "##### Operator Associativity: \n",
    "    If an expression contains two or more operators with the same precedence then Operator Associativity is used to determine. \n",
    "It can either be Left to Right or from Right to Left."
   ]
  },
  {
   "cell_type": "code",
   "execution_count": 26,
   "metadata": {},
   "outputs": [
    {
     "name": "stdout",
     "output_type": "stream",
     "text": [
      "200.0\n"
     ]
    }
   ],
   "source": [
    "print(200 / 10 * 10)"
   ]
  },
  {
   "cell_type": "code",
   "execution_count": 27,
   "metadata": {},
   "outputs": [
    {
     "name": "stdout",
     "output_type": "stream",
     "text": [
      "6\n"
     ]
    }
   ],
   "source": [
    "print(5 - 2 + 3)"
   ]
  },
  {
   "cell_type": "code",
   "execution_count": 28,
   "metadata": {},
   "outputs": [
    {
     "name": "stdout",
     "output_type": "stream",
     "text": [
      "512\n"
     ]
    }
   ],
   "source": [
    "#right to left\n",
    "print(2 ** 3 ** 2)"
   ]
  },
  {
   "cell_type": "code",
   "execution_count": null,
   "metadata": {},
   "outputs": [],
   "source": [
    "#Solve\n",
    "\n",
    "100 % 200 / 10 // 3 * 10"
   ]
  },
  {
   "cell_type": "code",
   "execution_count": null,
   "metadata": {},
   "outputs": [],
   "source": [
    "#py2 vs py3\n",
    "#print()\n",
    "# input()\n",
    "# variables & rules\n",
    "# naming styles \n",
    "#data type\n",
    "# sequence data types\n",
    "#operators\n"
   ]
  },
  {
   "cell_type": "code",
   "execution_count": null,
   "metadata": {},
   "outputs": [],
   "source": [
    "Operators\tMeaning\n",
    "()\tParentheses\n",
    "**\tExponent\n",
    "+x, -x, ~x\tUnary plus, Unary minus, Bitwise NOT\n",
    "*, /, //, %\tMultiplication, Division, Floor division, Modulus\n",
    "+, -\tAddition, Subtraction\n",
    "<<, >>\tBitwise shift operators\n",
    "&\tBitwise AND\n",
    "^\tBitwise XOR\n",
    "|\tBitwise OR\n",
    "==, !=, >, >=, <, <=, is, is not, in, not in\tComparisons, Identity, Membership operators\n",
    "not\tLogical NOT\n",
    "and\tLogical AND\n",
    "or"
   ]
  },
  {
   "cell_type": "code",
   "execution_count": null,
   "metadata": {},
   "outputs": [],
   "source": [
    "a={\"name\":\"ak\",\"course\":\"Python\"}\n",
    "b={\"type\":\"IT\", \"price\":10000}\n",
    "\n",
    "c= {**a,**b}"
   ]
  },
  {
   "cell_type": "code",
   "execution_count": null,
   "metadata": {},
   "outputs": [],
   "source": [
    "c"
   ]
  },
  {
   "cell_type": "code",
   "execution_count": null,
   "metadata": {},
   "outputs": [],
   "source": [
    "print(*a)"
   ]
  },
  {
   "cell_type": "code",
   "execution_count": null,
   "metadata": {},
   "outputs": [],
   "source": [
    "print()"
   ]
  }
 ],
 "metadata": {
  "kernelspec": {
   "display_name": "Python 3",
   "language": "python",
   "name": "python3"
  },
  "language_info": {
   "codemirror_mode": {
    "name": "ipython",
    "version": 3
   },
   "file_extension": ".py",
   "mimetype": "text/x-python",
   "name": "python",
   "nbconvert_exporter": "python",
   "pygments_lexer": "ipython3",
   "version": "3.8.8"
  }
 },
 "nbformat": 4,
 "nbformat_minor": 4
}
